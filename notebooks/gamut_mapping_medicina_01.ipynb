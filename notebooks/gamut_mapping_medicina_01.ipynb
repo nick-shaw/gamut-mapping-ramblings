{
 "cells": [
  {
   "cell_type": "markdown",
   "metadata": {
    "colab_type": "text",
    "id": "pRS6nhpu1R6y"
   },
   "source": [
    "# Gamut Mapping - Medicina 01"
   ]
  },
  {
   "cell_type": "markdown",
   "metadata": {},
   "source": [
    "## Introduction"
   ]
  },
  {
   "cell_type": "markdown",
   "metadata": {},
   "source": [
    "This notebook implements an interactive widget used to investigate various gamut models in the context for the [ACES VWG on Gamut Mapping](https://community.acescentral.com/c/aces-development-acesnext/vwg-aces-gamut-mapping-working-group/).\n",
    "\n",
    "It is assumed that the reader has some knowledge about image processing and colour management pipelines in the Media and Entertainment Industry. An introductory publication on the topic is [Cinematic Color: From Your Monitor to the Big Screen](https://cinematiccolor.org/) by Selan (2012).\n",
    "\n",
    "Because the imagery represents scene-referred exposure values, the gamut mapped images should ideally be exported and viewed with an appropriate *View Transform*, typically an *ACES RRT + sRGB ODT* transforms combination.\n",
    "\n",
    "\n",
    "Images courtesy of:\n",
    "\n",
    "- [Justin Holt](https://www.dropbox.com/sh/u6z2a0jboo4vno8/AAB-10qcflhpr0C5LWhs7Kq4a?dl=0)\n",
    "- [Thomas Mansencal](https://community.acescentral.com/t/spectral-images-generation-and-processing/)\n",
    "- [Fabian Matas](https://www.dropbox.com/sh/u6z2a0jboo4vno8/AAB-10qcflhpr0C5LWhs7Kq4a?dl=0)\n",
    "- [Carol Payne](https://www.dropbox.com/sh/u6z2a0jboo4vno8/AAB-10qcflhpr0C5LWhs7Kq4a?dl=0)\n",
    "- [Martin Smekal](https://community.acescentral.com/t/vfx-work-in-acescg-with-out-of-gamut-devices/2385)"
   ]
  },
  {
   "cell_type": "markdown",
   "metadata": {},
   "source": [
    "## Imports & Overall Settings"
   ]
  },
  {
   "cell_type": "code",
   "execution_count": 61,
   "metadata": {},
   "outputs": [],
   "source": [
    "%matplotlib widget"
   ]
  },
  {
   "cell_type": "code",
   "execution_count": 62,
   "metadata": {
    "colab": {
     "base_uri": "https://localhost:8080/",
     "height": 340
    },
    "colab_type": "code",
    "id": "OydMmtZRxd3c",
    "outputId": "297a43b9-f566-405d-e8bc-cfae56b50959"
   },
   "outputs": [
    {
     "name": "stdout",
     "output_type": "stream",
     "text": [
      "===============================================================================\n",
      "*                                                                             *\n",
      "*   Interpreter :                                                             *\n",
      "*       python : 3.7.7 (default, May 16 2020, 07:16:36)                       *\n",
      "*                [GCC 8.3.0]                                                  *\n",
      "*                                                                             *\n",
      "*   colour-science.org :                                                      *\n",
      "*       colour : v0.3.15-132-g8ed24e8e                                        *\n",
      "*                                                                             *\n",
      "*   Runtime :                                                                 *\n",
      "*       imageio : 2.8.0                                                       *\n",
      "*       matplotlib : 3.0.3                                                    *\n",
      "*       numpy : 1.18.4                                                        *\n",
      "*       scipy : 1.4.1                                                         *\n",
      "*       six : 1.14.0                                                          *\n",
      "*                                                                             *\n",
      "===============================================================================\n"
     ]
    }
   ],
   "source": [
    "from __future__ import division, unicode_literals\n",
    "\n",
    "import colour\n",
    "import ipympl.backend_nbagg\n",
    "import ipywidgets\n",
    "import matplotlib.gridspec as gridspec\n",
    "import matplotlib.patches as patches\n",
    "import matplotlib.pyplot as plt\n",
    "import numpy as np\n",
    "import os\n",
    "import scipy.interpolate\n",
    "from matplotlib.collections import PathCollection\n",
    "from matplotlib._layoutbox import plot_children\n",
    "\n",
    "DEFAULT_BOX_DECORATION_WIDTH = 4\n",
    "MPL_BOX_DECORATION_WIDTH = 28\n",
    "\n",
    "COLOUR_STYLE = colour.plotting.colour_style()\n",
    "COLOUR_STYLE.update({\n",
    "    'legend.framealpha':\n",
    "    colour.plotting.COLOUR_STYLE_CONSTANTS.opacity.low\n",
    "})\n",
    "\n",
    "plt.style.use(COLOUR_STYLE)\n",
    "\n",
    "plt.style.use('dark_background')\n",
    "\n",
    "colour.utilities.describe_environment()\n",
    "\n",
    "colour.utilities.filter_warnings(*[True] * 4);"
   ]
  },
  {
   "cell_type": "markdown",
   "metadata": {},
   "source": [
    "## Widgets Styling"
   ]
  },
  {
   "cell_type": "markdown",
   "metadata": {},
   "source": [
    "CSS style for various widgets to improve overall presentation."
   ]
  },
  {
   "cell_type": "code",
   "execution_count": 63,
   "metadata": {},
   "outputs": [
    {
     "data": {
      "text/html": [
       "<style>\n",
       ".widget-button {\n",
       "    margin-left: 10px;\n",
       "    margin-right: 10px;\n",
       "}\n",
       "</style>\n"
      ],
      "text/plain": [
       "<IPython.core.display.HTML object>"
      ]
     },
     "metadata": {},
     "output_type": "display_data"
    }
   ],
   "source": [
    "%%html\n",
    "<style>\n",
    ".widget-button {\n",
    "    margin-left: 10px;\n",
    "    margin-right: 10px;\n",
    "}\n",
    "</style>"
   ]
  },
  {
   "cell_type": "markdown",
   "metadata": {
    "colab_type": "text",
    "id": "5yCeFpnnp_wh"
   },
   "source": [
    "## Colour Wheel Generation"
   ]
  },
  {
   "cell_type": "markdown",
   "metadata": {},
   "source": [
    "Utility function responsible to produce a scene-referred colour wheel."
   ]
  },
  {
   "cell_type": "code",
   "execution_count": 64,
   "metadata": {
    "colab": {},
    "colab_type": "code",
    "id": "RshonIbOI4Ij"
   },
   "outputs": [],
   "source": [
    "def colour_wheel(samples=1024, clip_circle=False, method='Colour'):\n",
    "    xx, yy = np.meshgrid(\n",
    "        np.linspace(-1, 1, samples), np.linspace(-1, 1, samples))\n",
    "\n",
    "    S = np.sqrt(xx ** 2 + yy ** 2)    \n",
    "    H = (np.arctan2(xx, yy) + np.pi) / (np.pi * 2)\n",
    "\n",
    "    HSV = colour.utilities.tstack([H, S, np.ones(H.shape)])\n",
    "    RGB = colour.HSV_to_RGB(HSV)\n",
    "\n",
    "    if clip_circle == True:\n",
    "        RGB[S > 1] = 0\n",
    "        A = np.where(S > 1, 0, 1)\n",
    "    else:\n",
    "        A = np.ones(S.shape)\n",
    "\n",
    "    if method.lower()== 'matplotlib':\n",
    "        RGB = colour.utilities.orient(RGB, '90 CW')\n",
    "    elif method.lower()== 'nuke':\n",
    "        RGB = colour.utilities.orient(RGB, 'Flip')\n",
    "        RGB = colour.utilities.orient(RGB, '90 CW')\n",
    "\n",
    "    R, G, B = colour.utilities.tsplit(RGB)\n",
    "    \n",
    "    return colour.utilities.tstack([R, G, B, A])"
   ]
  },
  {
   "cell_type": "markdown",
   "metadata": {},
   "source": [
    "## Utility Functions & Objects"
   ]
  },
  {
   "cell_type": "markdown",
   "metadata": {},
   "source": [
    "Various random utility functions and objects."
   ]
  },
  {
   "cell_type": "code",
   "execution_count": 65,
   "metadata": {},
   "outputs": [],
   "source": [
    "def batch(sequence, count):\n",
    "    for i in range(0, len(sequence), count):\n",
    "        yield sequence[i:i + count]\n",
    "        \n",
    "\n",
    "def border_layout():\n",
    "    return ipywidgets.widgets.Layout(\n",
    "        border='solid {0}px #222'.format(4),\n",
    "        margin='{0}px'.format(DEFAULT_BOX_DECORATION_WIDTH),\n",
    "        padding='0')\n",
    "\n",
    "\n",
    "def adjust_exposure(a, EV):\n",
    "    a = colour.utilities.as_float_array(a)\n",
    "\n",
    "    return a * pow(2, EV)"
   ]
  },
  {
   "cell_type": "markdown",
   "metadata": {},
   "source": [
    "## Gamut Medicina Base Widget"
   ]
  },
  {
   "cell_type": "markdown",
   "metadata": {},
   "source": [
    "The `GamutMedicinaBaseWidget` base widget class is inherited by the concrete sub-classes implementing the various gamut mapping study models.\n",
    "\n",
    "At its core it is itself an `ipywidgets.widgets.Box` sub-class which outputs a [Matplotlib](http://matplotlib.org/) figure composed of three sub-plots:\n",
    "\n",
    "- **Reference Image**: Required, 1 cartesian `Axes`\n",
    "- **Colour Wheel**: Optional, 1 cartesian `Axes` and 1 polar `Axes`\n",
    "- **Chromaticity Diagram**: Optional, 1 cartesian `Axes`\n",
    "\n",
    "Trivial layout heuristic is implemented to support optionally enabling or disabling the **Colour Wheel** and **Chromaticity Diagram** sub-plots."
   ]
  },
  {
   "cell_type": "markdown",
   "metadata": {},
   "source": [
    "### Reference Image"
   ]
  },
  {
   "cell_type": "markdown",
   "metadata": {},
   "source": [
    "The **Reference Image** sub-plot is responsible for displaying the gamut mapped scene-referred imagery.\n",
    "\n",
    "*Note*\n",
    "\n",
    "> To improve the performance of the notebook, the *View Transform*, i.e. a S-Curve, converting the scene-referred imagery to output-referred values is omitted."
   ]
  },
  {
   "cell_type": "markdown",
   "metadata": {},
   "source": [
    "### Colour Wheel"
   ]
  },
  {
   "cell_type": "markdown",
   "metadata": {},
   "source": [
    "The **Colour Wheel** sub-plot is used to represent the controls for the gamut mapping study models adopting a cylindrical or conic working space.\n",
    "\n",
    "The colour wheel is drawn on a cartesian `Axes` on top of which is overlayed a polar `Axes` used to draw the control regions."
   ]
  },
  {
   "cell_type": "markdown",
   "metadata": {},
   "source": [
    "### Chromaticity Diagram"
   ]
  },
  {
   "cell_type": "markdown",
   "metadata": {},
   "source": [
    "The **Chromaticity Diagram** sub-plot is also used to represent the controls for the gamut mapping study models into the *Chromaticity Diagram 1976 UCS* based on the [CIE L\\*u\\*v\\*](https://fr.wikipedia.org/wiki/L*u*v*_CIE_1976) colourspace.\n",
    "\n",
    "It also features the following elements:\n",
    "\n",
    "- *RGB Working Space* gamut, i.e. *ACEScg/AP1*, large triangle\n",
    "- *RGB Display Space* gamut, i.e. *sRGB*, small triangle\n",
    "- Scatter of the decimated **Reference Image** data\n",
    "- Scatter of the ColorChecker Classic data, white scatter points\n"
   ]
  },
  {
   "cell_type": "code",
   "execution_count": 66,
   "metadata": {},
   "outputs": [
    {
     "data": {
      "application/vnd.jupyter.widget-view+json": {
       "model_id": "d3f9b4c7db5b4ac5932fdecb1418efc8",
       "version_major": 2,
       "version_minor": 0
      },
      "text/plain": [
       "GamutMedicinaBaseWidget(children=(Output(layout=Layout(border='solid 4px #222', margin='4px', padding='0')), T…"
      ]
     },
     "metadata": {},
     "output_type": "display_data"
    }
   ],
   "source": [
    "class GamutMedicinaBaseWidget(ipywidgets.widgets.Box):\n",
    "    def __init__(self,\n",
    "                 reference_image_path=None,\n",
    "                 working_space=colour.models.ACES_CG_COLOURSPACE,\n",
    "                 reference_space=colour.models.ACES_2065_1_COLOURSPACE,\n",
    "                 display_space=colour.models.sRGB_COLOURSPACE,\n",
    "                 colour_wheel_samples=256,\n",
    "                 image_decimation=10,\n",
    "                 reference_image_exposure=0,\n",
    "                 figure_size=(11, None),\n",
    "                 padding=0.005,\n",
    "                 spacing=0.005,\n",
    "                 show_labels=False,\n",
    "                 enable_colour_wheel=True,\n",
    "                 enable_chromaticity_diagram=True,\n",
    "                 LUT=None,\n",
    "                 debug_layout=False):\n",
    "        super().__init__()\n",
    "\n",
    "        self._reference_image_path = reference_image_path\n",
    "        self._working_space = working_space\n",
    "        self._reference_space = reference_space\n",
    "        self._display_space = display_space\n",
    "        self._colour_wheel_samples = colour_wheel_samples\n",
    "        self._image_decimation = image_decimation\n",
    "        self._reference_image_exposure = reference_image_exposure\n",
    "        self._figure_size = figure_size\n",
    "        self._padding = padding\n",
    "        self._spacing = spacing\n",
    "        self._show_labels = show_labels\n",
    "        self._enable_colour_wheel = enable_colour_wheel\n",
    "        self._enable_chromaticity_diagram = enable_chromaticity_diagram\n",
    "        #self.LUT = colour.read_LUT('../resources/luts/ACES2065-1_sRGB_OT.csp')\n",
    "        self.LUT = colour.read_LUT('../resources/luts/ACES2065-1_sRGB_OT_64.csp')\n",
    "\n",
    "        self._enable = True\n",
    "\n",
    "        self._reference_image = None\n",
    "        self._reference_image_pre_working = None\n",
    "        self._reference_image_working = None\n",
    "        self._reference_image_mapped = None\n",
    "        self._reference_image_display = None\n",
    "\n",
    "        if self._enable_colour_wheel:\n",
    "            self._colour_wheel = None\n",
    "\n",
    "        if self._enable_chromaticity_diagram:\n",
    "            self._decimated_image_pre_working = None\n",
    "            self._decimated_image_working = None\n",
    "            self._decimated_image_display = None\n",
    "\n",
    "        self._colour_checker = None\n",
    "        self._colour_checker_uv = None\n",
    "\n",
    "        self._output = None\n",
    "        self._figure = None\n",
    "        self._grid_spec = None\n",
    "        self._reference_image_axes = None\n",
    "        self._reference_image_imshow = None\n",
    "\n",
    "        if self._enable_colour_wheel:\n",
    "            self._colour_wheel_cartersian_axes = None\n",
    "            self._colour_wheel_imshow = None\n",
    "            self._colour_wheel_polar_axes = None\n",
    "\n",
    "        if self._enable_chromaticity_diagram:\n",
    "            self._chromaticity_diagram_axes = None\n",
    "            self._scatter_offsets_i = None\n",
    "            self._scatter_facecolor_i = None\n",
    "\n",
    "        self._disable_medidicina_CheckBox = None\n",
    "        self._disable_odt_CheckBox = None\n",
    "        self._global_controls_HBox = None\n",
    "        self._controls_Tab = None\n",
    "\n",
    "        self.initialize_data()\n",
    "        self.initialize_axes()\n",
    "        self.initialise_widgets()\n",
    "        self.attach_callbacks()\n",
    "\n",
    "        if debug_layout:\n",
    "            plot_children(self._figure, self._figure._layoutbox, printit=False)\n",
    "\n",
    "    def initialize_data(self):\n",
    "        # *** Reference Image ***\n",
    "        self._reference_image = (colour.read_image(self._reference_image_path)\n",
    "                                 if self._reference_image_path is not None else\n",
    "                                 np.random.rand(540, 960, 3))\n",
    "        self._reference_image_path = (self._reference_image_path\n",
    "                                      if self._reference_image_path is not None\n",
    "                                      else 'Random.exr')\n",
    "        self._reference_image_pre_working = self.reference_space_to_working_space(\n",
    "            self._reference_image)\n",
    "        self._reference_image_working = self._reference_image_pre_working\n",
    "        self._reference_image_mapped =self._reference_image_pre_working\n",
    "        self._reference_image_display = self.working_space_to_display_space(\n",
    "            self._reference_image_working)\n",
    "\n",
    "        # *** Colour Wheel ***\n",
    "        if self._enable_colour_wheel:\n",
    "            self._colour_wheel = colour_wheel(\n",
    "                self._colour_wheel_samples,\n",
    "                method='Matplotlib')\n",
    "\n",
    "        # *** Decimated Image, i.e. Scatter ***\n",
    "        if self._enable_chromaticity_diagram:\n",
    "            self._decimated_image_pre_working = (\n",
    "                self._reference_image_working[::self._image_decimation, ::\n",
    "                                              self._image_decimation, :]).reshape(-1, 3)\n",
    "            self._decimated_image_working = self._decimated_image_pre_working\n",
    "            self._decimated_image_display = (\n",
    "                self.working_space_to_display_space(\n",
    "                    self._decimated_image_working))\n",
    "\n",
    "        # *** Colour Checker\n",
    "        colour_checker = colour.COLOURCHECKERS[\n",
    "            'ColorChecker24 - After November 2014']\n",
    "        colour_checker_data = colour.utilities.as_float_array(\n",
    "            list(colour_checker.data.values()))\n",
    "        self._colour_checker_uv = colour.xy_to_Luv_uv(\n",
    "            colour_checker_data[:, 0:2])\n",
    "\n",
    "    def initialize_axes(self):\n",
    "        self._output = ipywidgets.widgets.Output()\n",
    "\n",
    "        image_height, image_width, channels = self._reference_image.shape\n",
    "        if self._figure_size[-1] is None:\n",
    "            if self._enable_colour_wheel and self._enable_chromaticity_diagram:\n",
    "                width = image_height / 2 + image_width\n",
    "                height = image_height - self._padding * 100 - self._spacing * 100\n",
    "                # Unresolved fudge factor to ensure plots line up.\n",
    "                height -= int(height * 0.05)\n",
    "            elif self._enable_colour_wheel or self._enable_chromaticity_diagram:\n",
    "                width = image_height + image_width\n",
    "                height = image_height\n",
    "            else:\n",
    "                width = image_width\n",
    "                height = image_height\n",
    "            ratio = self._figure_size[0] * 100 / width\n",
    "            figure_size = (width / 100 * ratio, height / 100 * ratio)\n",
    "        else:\n",
    "            figure_size = self._figure_size\n",
    "\n",
    "        with self._output:\n",
    "            self._figure = plt.figure(\n",
    "                figsize=figure_size,\n",
    "                constrained_layout=True,\n",
    "                facecolor=[2 / 3 / 10] * 3)\n",
    "            self._figure.canvas.toolbar_visible = False\n",
    "            self._figure.canvas.header_visible = False\n",
    "            self._figure.canvas.footer_visible = True\n",
    "            self._figure.canvas.resizable = False\n",
    "            self._figure.tight_layout()\n",
    "\n",
    "        if self._enable_colour_wheel and self._enable_chromaticity_diagram:\n",
    "            rows = columns = 2\n",
    "            colour_wheel_indices = 0, 0\n",
    "            chromaticity_diagram_indices = 1, 0\n",
    "            reference_image_indices = slice(0, None, None), slice(\n",
    "                1, None, None)\n",
    "            width_ratios = [1, 2 * image_width / image_height]\n",
    "        elif not self._enable_colour_wheel and not self._enable_chromaticity_diagram:\n",
    "            rows = columns = 1\n",
    "            colour_wheel_indices = chromaticity_diagram_indices = None\n",
    "            reference_image_indices = 0, 0\n",
    "            width_ratios = [1]\n",
    "        else:\n",
    "            rows = 1\n",
    "            columns = 2\n",
    "            colour_wheel_indices = chromaticity_diagram_indices = 0, 0\n",
    "            reference_image_indices = 0, 1\n",
    "            width_ratios = [1, image_width / image_height]\n",
    "\n",
    "        self._grid_spec = gridspec.GridSpec(\n",
    "            ncols=columns,\n",
    "            nrows=rows,\n",
    "            figure=self._figure,\n",
    "            width_ratios=width_ratios,\n",
    "            wspace=self._spacing,\n",
    "            hspace=self._spacing)\n",
    "        self._figure.set_constrained_layout_pads(\n",
    "            w_pad=self._padding,\n",
    "            h_pad=self._padding)\n",
    "\n",
    "        # Colour Wheel Axes\n",
    "        if self._enable_colour_wheel:\n",
    "            self._colour_wheel_cartersian_axes = self._figure.add_subplot(\n",
    "                self._grid_spec[colour_wheel_indices[0], colour_wheel_indices[\n",
    "                    1]],\n",
    "                label='Cartesian Axes')\n",
    "            self._colour_wheel_cartersian_axes.axis('off')\n",
    "            circle = patches.Circle(\n",
    "                [0.5, 0.5], radius=0.5, transform=self._colour_wheel_cartersian_axes.transData)\n",
    "            self._colour_wheel_imshow = self._colour_wheel_cartersian_axes.imshow(\n",
    "                np.clip(self._colour_wheel, 0, 1), extent=[0, 1, 0, 1], clip_path=None)\n",
    "            self._colour_wheel_imshow.set_clip_path(circle)\n",
    "\n",
    "            self._colour_wheel_polar_axes = self._figure.add_subplot(\n",
    "                self._grid_spec[colour_wheel_indices[0], colour_wheel_indices[\n",
    "                    1]],\n",
    "                projection='polar',\n",
    "                label='Polar Axes')\n",
    "            self._colour_wheel_polar_axes.set_xlim(0, np.pi * 2)\n",
    "            self._colour_wheel_polar_axes.set_ylim(0, 1)\n",
    "            self._colour_wheel_polar_axes.patch.set_alpha(0)\n",
    "            self._colour_wheel_polar_axes.grid(alpha=0.15)\n",
    "            if not self._show_labels:\n",
    "                self._colour_wheel_polar_axes.set_xticklabels([])\n",
    "            self._colour_wheel_polar_axes.set_yticklabels([])\n",
    "\n",
    "        # Chromaticity Diagram Axes\n",
    "        if self._enable_chromaticity_diagram:\n",
    "            self._chromaticity_diagram_axes = self._figure.add_subplot(\n",
    "                self._grid_spec[chromaticity_diagram_indices[0],\n",
    "                                chromaticity_diagram_indices[1]])\n",
    "            self._chromaticity_diagram_axes.patch.set_alpha(0)\n",
    "            (colour.plotting.\n",
    "             plot_RGB_chromaticities_in_chromaticity_diagram_CIE1976UCS(\n",
    "                 self._decimated_image_working,\n",
    "                 colourspace=self._working_space,\n",
    "                 colourspaces=['sRGB'],\n",
    "                 axes=self._chromaticity_diagram_axes,\n",
    "                 standalone=False,\n",
    "                 transparent_background=False,\n",
    "                 spectral_locus_colours='RGB',\n",
    "                 spectral_locus_labels=[],\n",
    "                 diagram_opacity=0,\n",
    "                 scatter_kwargs={'s': 1},\n",
    "                 title=str(),\n",
    "                 x_label=str(),\n",
    "                 y_label=str(),\n",
    "                 legend=False))\n",
    "            self._chromaticity_diagram_axes.tick_params(\n",
    "                axis='y', which='both', direction='in')\n",
    "            self._chromaticity_diagram_axes.tick_params(\n",
    "                axis='x', which='both', direction='in')\n",
    "            self._chromaticity_diagram_axes.minorticks_off()\n",
    "            self._chromaticity_diagram_axes.grid(alpha=0.15)\n",
    "            for collection in self._chromaticity_diagram_axes.collections:\n",
    "                if isinstance(collection, PathCollection):\n",
    "                    self._scatter_path_collection = collection\n",
    "                    break\n",
    "            \n",
    "            if not self._show_labels:\n",
    "                self._chromaticity_diagram_axes.set_xticklabels([])\n",
    "                self._chromaticity_diagram_axes.set_yticklabels([])\n",
    "\n",
    "            self._scatter_offsets_i = self._scatter_path_collection.get_offsets(\n",
    "            )\n",
    "            self._scatter_facecolor_i = self._scatter_path_collection.get_facecolor(\n",
    "            )\n",
    "            self._chromaticity_diagram_axes.scatter(\n",
    "                self._colour_checker_uv[:, 0],\n",
    "                self._colour_checker_uv[:, 1],\n",
    "                c='white',\n",
    "                marker='D',\n",
    "                s=5)\n",
    "\n",
    "        # Reference Image Axes\n",
    "        self._reference_image_axes = self._figure.add_subplot(self._grid_spec[\n",
    "            reference_image_indices[0], reference_image_indices[1]])\n",
    "        self._reference_image_axes.set_xticks([])\n",
    "        self._reference_image_axes.set_yticks([])\n",
    "        self._reference_image_imshow = self._reference_image_axes.imshow(\n",
    "            self.working_space_to_display_space(self._reference_image_working))\n",
    "\n",
    "    def initialise_widgets(self):\n",
    "        # *** Widgets ***\n",
    "        self._disable_medidicina_CheckBox = (\n",
    "            ipywidgets.widgets.Checkbox(description='Disable Medicina'))\n",
    "        self._disable_odt_CheckBox = (\n",
    "            ipywidgets.widgets.Checkbox(description='Disable ODT'))\n",
    "        self._export_reference_image_Button = (\n",
    "            ipywidgets.widgets.Button(description=\"Export Image\"))\n",
    "        self._save_figure_image_Button = (\n",
    "            ipywidgets.widgets.Button(description=\"Save Figure\"))\n",
    "        self._reset_exposure_Button = (\n",
    "            ipywidgets.widgets.Button(description=\"Reset Exposure\"))\n",
    "        self._exposure_FloatSlider = (\n",
    "            ipywidgets.widgets.FloatSlider(\n",
    "                min=-8.0,\n",
    "                max=8.0,\n",
    "                step=0.1,\n",
    "                value=self._reference_image_exposure,\n",
    "                description='Exposure'))\n",
    "        \n",
    "        # *** Layout ***\n",
    "        self.layout.display = 'flex'\n",
    "        self.layout.flex_flow = 'column'\n",
    "        self.layout.align_items = 'stretch'\n",
    "        self.layout.width = '{0}px'.format(self._figure_size[0] * 100 +\n",
    "                                           MPL_BOX_DECORATION_WIDTH)\n",
    "\n",
    "        self._global_controls_HBox = ipywidgets.widgets.HBox([\n",
    "            self._disable_medidicina_CheckBox,\n",
    "            self._disable_odt_CheckBox,\n",
    "            self._export_reference_image_Button,\n",
    "            self._save_figure_image_Button,\n",
    "            self._reset_exposure_Button,\n",
    "            self._exposure_FloatSlider,\n",
    "        ])\n",
    "\n",
    "        self._controls_Tab = ipywidgets.widgets.Tab(children=[\n",
    "            self._global_controls_HBox,\n",
    "        ])\n",
    "        self._controls_Tab.set_title(0, 'Global Controls')\n",
    "\n",
    "        self._controls_Tab.layout = border_layout()\n",
    "\n",
    "        self._output.layout = border_layout()\n",
    "        self.children = [self._output, self._controls_Tab]\n",
    "\n",
    "    def attach_callbacks(self):\n",
    "        self._disable_medidicina_CheckBox.observe(self.toggle_medidicina)\n",
    "        self._disable_odt_CheckBox.observe(self.toggle_odt)\n",
    "        self._export_reference_image_Button.on_click(\n",
    "            self.export_reference_image)\n",
    "        self._save_figure_image_Button.on_click(self.save_figure)\n",
    "        self._reset_exposure_Button.on_click(self.reset_exposure)\n",
    "        self._exposure_FloatSlider.observe(\n",
    "            self.set_exposure, 'value')\n",
    "\n",
    "    def reference_space_to_working_space(self, RGB):\n",
    "        return colour.RGB_to_RGB(RGB, self._reference_space,\n",
    "                                 self._working_space)\n",
    "\n",
    "    def working_space_to_reference_space(self, RGB):\n",
    "        return colour.RGB_to_RGB(RGB, self._working_space,\n",
    "                                 self._reference_space)\n",
    "\n",
    "    def working_space_to_display_space(self,\n",
    "                                       RGB,\n",
    "                                       apply_encoding_cctf=True,\n",
    "                                       clip=True):\n",
    "        odt = self._disable_odt_CheckBox\n",
    "        if (odt and odt.value == False):\n",
    "            RGB = colour.RGB_to_RGB(\n",
    "                RGB,\n",
    "                self._working_space,\n",
    "                colour.models.ACES_2065_1_COLOURSPACE)\n",
    "            RGB = self.LUT.apply(np.clip(RGB, 0.002, 16.29))\n",
    "        else:\n",
    "            RGB = colour.RGB_to_RGB(\n",
    "                RGB,\n",
    "                self._working_space,\n",
    "                self._display_space,\n",
    "                apply_encoding_cctf=apply_encoding_cctf)\n",
    "\n",
    "        if clip:\n",
    "            return np.clip(RGB, 0, 1)\n",
    "        else:\n",
    "            return RGB\n",
    "\n",
    "    def update_scatter_plot(self, RGB):\n",
    "        if self._enable_chromaticity_diagram:\n",
    "            RGB = RGB[RGB[:, 1].argsort()]\n",
    "            XYZ = colour.RGB_to_XYZ(RGB, self._working_space.whitepoint,\n",
    "                                    self._working_space.whitepoint,\n",
    "                                    self._working_space.RGB_to_XYZ_matrix)\n",
    "            uv = colour.Luv_to_uv(\n",
    "                colour.XYZ_to_Luv(XYZ, self._working_space.whitepoint),\n",
    "                self._working_space.whitepoint)\n",
    "            self._scatter_path_collection.set_offsets(uv)\n",
    "            self._scatter_path_collection.set_facecolor(\n",
    "                self.working_space_to_display_space(RGB))\n",
    "\n",
    "    def toggle_medidicina(self, change):\n",
    "        if not change:\n",
    "            return\n",
    "\n",
    "        if change['name'] == 'value':\n",
    "            self._enable = not change['new']\n",
    "\n",
    "            self.update_widget(None)\n",
    "\n",
    "    def toggle_odt(self, change):\n",
    "        if not change:\n",
    "            return\n",
    "\n",
    "        if change['name'] == 'value':\n",
    "            self._enable = not change['new']\n",
    "\n",
    "            self.update_widget(None)\n",
    "\n",
    "    def export_reference_image(self, change):\n",
    "        path = os.path.splitext(self._reference_image_path)[0]\n",
    "\n",
    "        colour.write_image(\n",
    "            self.working_space_to_reference_space(\n",
    "                self._reference_image_mapped), '{0}_{1}.exr'.format(\n",
    "                    path, self.__class__.__name__))\n",
    "\n",
    "    def save_figure(self, change):\n",
    "        path = os.path.splitext(self._reference_image_path)[0]\n",
    "        plt.savefig('{0}_{1}.png'.format(path, self.__class__.__name__),\n",
    "                   facecolor=[2 / 3 / 10] * 3, transparent=False, bbox_inches='tight')\n",
    "\n",
    "    def reset_exposure(self, change):\n",
    "        self._exposure_FloatSlider.value = 0\n",
    "        \n",
    "        self.set_exposure(0)\n",
    "\n",
    "    def set_exposure(self, change):\n",
    "        if not change:\n",
    "            return\n",
    "\n",
    "        if change['name'] == 'value':\n",
    "            EV = self._exposure_FloatSlider.value\n",
    "            self._reference_image_working = adjust_exposure(\n",
    "                self._reference_image_pre_working, EV)\n",
    "\n",
    "            if self._enable_chromaticity_diagram:\n",
    "                self._decimated_image_working = adjust_exposure(\n",
    "                self._decimated_image_pre_working, EV)\n",
    "            \n",
    "            self.update_widget(None)\n",
    "\n",
    "    def update_widget(self, change):\n",
    "        if not self._enable:\n",
    "            self._reference_image_imshow.set_data(self.working_space_to_display_space(\n",
    "                self._reference_image_working))\n",
    "        \n",
    "            if self._enable_chromaticity_diagram:\n",
    "                self.update_scatter_plot(self._decimated_image_working)\n",
    "\n",
    "            self._figure.canvas.draw_idle()\n",
    "\n",
    "\n",
    "GamutMedicinaBaseWidget()"
   ]
  },
  {
   "cell_type": "code",
   "execution_count": 67,
   "metadata": {},
   "outputs": [
    {
     "data": {
      "application/vnd.jupyter.widget-view+json": {
       "model_id": "89c5364f27dc4c6986e79d59ecec879f",
       "version_major": 2,
       "version_minor": 0
      },
      "text/plain": [
       "GamutMedicinaBaseWidget(children=(Output(layout=Layout(border='solid 4px #222', margin='4px', padding='0')), T…"
      ]
     },
     "metadata": {},
     "output_type": "display_data"
    }
   ],
   "source": [
    "GamutMedicinaBaseWidget(enable_colour_wheel=False)"
   ]
  },
  {
   "cell_type": "code",
   "execution_count": 68,
   "metadata": {},
   "outputs": [
    {
     "data": {
      "application/vnd.jupyter.widget-view+json": {
       "model_id": "663e1de4619d40f3bc9a9dcfb5ce0a7d",
       "version_major": 2,
       "version_minor": 0
      },
      "text/plain": [
       "GamutMedicinaBaseWidget(children=(Output(layout=Layout(border='solid 4px #222', margin='4px', padding='0')), T…"
      ]
     },
     "metadata": {},
     "output_type": "display_data"
    }
   ],
   "source": [
    "GamutMedicinaBaseWidget(enable_chromaticity_diagram=False)"
   ]
  },
  {
   "cell_type": "code",
   "execution_count": 69,
   "metadata": {},
   "outputs": [
    {
     "data": {
      "application/vnd.jupyter.widget-view+json": {
       "model_id": "0b2b23e778bb46fcb5fae71a2aae6bdf",
       "version_major": 2,
       "version_minor": 0
      },
      "text/plain": [
       "GamutMedicinaBaseWidget(children=(Output(layout=Layout(border='solid 4px #222', margin='4px', padding='0')), T…"
      ]
     },
     "metadata": {},
     "output_type": "display_data"
    }
   ],
   "source": [
    "GamutMedicinaBaseWidget(\n",
    "    enable_colour_wheel=False, enable_chromaticity_diagram=False)"
   ]
  },
  {
   "cell_type": "markdown",
   "metadata": {},
   "source": [
    "## Compression & Blending Functions"
   ]
  },
  {
   "cell_type": "markdown",
   "metadata": {},
   "source": [
    "Gamut mapping commonly involves compressing data from a larger space to a smaller space.\n",
    "\n",
    "Three sigmoid compression functions are defined:\n",
    "\n",
    "- **tanh**, a function based on the *Hyperbolic Tangent*:\n",
    "$$a + b \\cdot tanh\\bigg(\\cfrac{x - a}{b}\\bigg)$$ where $a$ is the compression threshold, i.e. the point at which the function starts compressing the value $x$ and $b$ is the compression limit, i.e. the point at which the compression reaches the limit.\n",
    "- **atan**, a function based on the *Arc Tangent*:\n",
    "$$a + b \\cdot\\cfrac{2}{\\pi}\\cdot atan\\Bigg(\\cfrac{\\cfrac{\\pi}{2}\\cdot\\big(x - a\\big)}{b}\\Bigg)$$\n",
    "- **Simple**, a simple compression function:\n",
    "$$a + \\Bigg(\\cfrac{-1}{\\bigg(\\cfrac{x - a}{b} + 1\\bigg)} + 1 \\Bigg) \\cdot b$$"
   ]
  },
  {
   "cell_type": "code",
   "execution_count": 70,
   "metadata": {},
   "outputs": [],
   "source": [
    "def tanh_compression_function(x, a=0.8, b=1 - 0.8):\n",
    "    x = colour.utilities.as_float_array(x)\n",
    "\n",
    "    return np.where(x > a, a + b * np.tanh((x - a) / b), x)\n",
    "\n",
    "\n",
    "def atan_compression_function(x, a=0.8, b=1 - 0.8):\n",
    "    x = colour.utilities.as_float_array(x)\n",
    "\n",
    "    return np.where(x > a, a + b * 2 / np.pi * np.arctan(((np.pi / 2) * (x - a)) / b), x)\n",
    "\n",
    "\n",
    "def simple_compression_function(x, a=0.8, b=1 - 0.8):\n",
    "    x = colour.utilities.as_float_array(x)\n",
    "\n",
    "    return np.where(x > a, a + (-1 / ((x - a) / b + 1) + 1) * b, x)\n",
    "\n",
    "\n",
    "COMPRESSION_FUNCTIONS = {\n",
    "    'tanh' : tanh_compression_function,\n",
    "    'atan' : atan_compression_function,\n",
    "    'simple' : simple_compression_function,\n",
    "}\n",
    "\n",
    "\n",
    "def smoothstep(x, a=0, b=1):\n",
    "    i = np.clip((x - a) / (b - a), 0, 1)\n",
    "\n",
    "    return i**2 * (3 - 2 * i)\n",
    "\n",
    "\n",
    "def derivative(x, func, d=1e-7):\n",
    "    return (func(x + d) - func(x - d)) / (2 * d)"
   ]
  },
  {
   "cell_type": "code",
   "execution_count": 71,
   "metadata": {},
   "outputs": [
    {
     "data": {
      "application/vnd.jupyter.widget-view+json": {
       "model_id": "0b4234d895ab40858488ba3235bb4544",
       "version_major": 2,
       "version_minor": 0
      },
      "text/plain": [
       "Canvas(toolbar=Toolbar(toolitems=[('Home', 'Reset original view', 'home', 'home'), ('Back', 'Back to previous …"
      ]
     },
     "metadata": {},
     "output_type": "display_data"
    }
   ],
   "source": [
    "colour.plotting.plot_multi_functions(\n",
    "    {\n",
    "        'tanh': tanh_compression_function,\n",
    "        'd/dx(tanh)': lambda x: derivative(x, tanh_compression_function),\n",
    "        'atan': atan_compression_function,\n",
    "        'd/dx(atan)': lambda x: derivative(x, atan_compression_function),\n",
    "        'simple': simple_compression_function,\n",
    "        'd/dx(simple)': lambda x: derivative(x, simple_compression_function),\n",
    "    },\n",
    "    **{\n",
    "        'figure.figsize': (11, 11),\n",
    "        'bounding_box': (0.5, 1.75, 0, 1.25),\n",
    "        'samples':\n",
    "        np.linspace(0, 2, 1000),\n",
    "        'plot_kwargs': [\n",
    "            {\n",
    "                'c': 'r',\n",
    "                'linestyle': 'dashdot'\n",
    "            },\n",
    "            {\n",
    "                'c': 'r'\n",
    "            },\n",
    "            {\n",
    "                'c': 'g',\n",
    "                'linestyle': 'dashdot'\n",
    "            },\n",
    "            {\n",
    "                'c': 'g'\n",
    "            },\n",
    "            {\n",
    "                'c': 'b',\n",
    "                'linestyle': 'dashdot'\n",
    "            },\n",
    "            {\n",
    "                'c': 'b'\n",
    "            },\n",
    "        ]\n",
    "    },\n",
    ");"
   ]
  },
  {
   "cell_type": "markdown",
   "metadata": {},
   "source": [
    "## Mansencal and Scharfenberg (2020) - HSV Control Based Study Model"
   ]
  },
  {
   "cell_type": "markdown",
   "metadata": {},
   "source": [
    "*Mansencal and Scharfenberg (2020)* gamut mapping study model is built on top of the [HSV colourspace](https://en.wikipedia.org/wiki/HSL_and_HSV):\n",
    "\n",
    "- Scene-referred RGB exposure values are converted to HSV.\n",
    "- The saturation component $S$ is compressed with a cherry-picked compression function, e.g. $tanh$.\n",
    "- The hue component $H$ is warped according to user defined control values.\n",
    "- The HSV values are converted back to scene-referred RGB exposure values and then blended with the original scene-referred RGB exposure values function through a smoothstep function.\n",
    "\n",
    "The model offers good controls but might tend to exhibit excessive saturation of secondary colours, i.e. cyan, yellow and especially magenta.\n",
    "This can be tuned with the hue controls.\n",
    "\n",
    "More information is available on [ACEScentral](https://community.acescentral.com/t/gamut-mapping-in-cylindrical-and-conic-spaces/)."
   ]
  },
  {
   "cell_type": "code",
   "execution_count": 72,
   "metadata": {},
   "outputs": [
    {
     "data": {
      "application/vnd.jupyter.widget-view+json": {
       "model_id": "113f2336d9fb4500bdbc4eacbd40b4aa",
       "version_major": 2,
       "version_minor": 0
      },
      "text/plain": [
       "GamutMedicinaHSVControlWidget(children=(Output(layout=Layout(border='solid 4px #222', margin='4px', padding='0…"
      ]
     },
     "metadata": {},
     "output_type": "display_data"
    }
   ],
   "source": [
    "def medicina_HSV_control(RGB, H, S, V, H_x, H_y, S_c, S_m, C_f, HSV_to_RGB):\n",
    "    S_m = S_m[..., np.newaxis]\n",
    "\n",
    "    interpolator = scipy.interpolate.interp1d(H_x, H_y)\n",
    "\n",
    "    HSV_c = colour.utilities.tstack(\n",
    "        [interpolator(H) % 1, C_f(S, S_c, 1 - S_c), V])\n",
    "\n",
    "    return HSV_to_RGB(HSV_c) * S_m + RGB * (1 - S_m)\n",
    "\n",
    "\n",
    "class GamutMedicinaHSVControlWidget(GamutMedicinaBaseWidget):\n",
    "    def __init__(self,\n",
    "                 reference_image=None,\n",
    "                 hue_wedge=45,\n",
    "                 protected_area_threshold=0.7,\n",
    "                 compression_threshold=0.8,\n",
    "                 compression_function='tanh',\n",
    "                 RGB_to_HSV=colour.RGB_to_HSV,\n",
    "                 HSV_to_RGB=colour.HSV_to_RGB,\n",
    "                 *args,\n",
    "                 **kwargs):\n",
    "\n",
    "        self._hue_wedge = hue_wedge\n",
    "        self._protected_area_threshold = protected_area_threshold\n",
    "        self._compression_threshold = compression_threshold\n",
    "        self._compression_function = compression_function\n",
    "\n",
    "        self.RGB_to_HSV = RGB_to_HSV\n",
    "        self.HSV_to_RGB = HSV_to_RGB\n",
    "\n",
    "        super().__init__(reference_image, *args, **kwargs)\n",
    "\n",
    "        self._RGB_r = None\n",
    "        self._H_r = self._S_r = self._V_r = None\n",
    "        self._S_r_m = None\n",
    "\n",
    "        if self._enable_colour_wheel:\n",
    "            self._RGB_w = None\n",
    "            self._H_w = self._S_w = self._V_w = None\n",
    "            self._S_w_m = None\n",
    "\n",
    "        if self._enable_chromaticity_diagram:\n",
    "            self._RGB_d = None\n",
    "            self._H_d = self._S_d = self._V_d = None\n",
    "            self._S_d_m = None\n",
    "\n",
    "        self._angles = None\n",
    "        self._x_i = self._y_i = self._y_i = None\n",
    "\n",
    "        if self._enable_colour_wheel:\n",
    "            self._protected_area_threshold_colour_wheel_plot = None\n",
    "            self._compression_threshold_colour_wheel_plot = None\n",
    "            self._hue_controls_plot = None\n",
    "\n",
    "        if self._enable_chromaticity_diagram:\n",
    "            self._protected_area_threshold_chromaticity_diagram_plot = None\n",
    "            self._compression_threshold_chromaticity_diagram_plot = None\n",
    "\n",
    "        self._reset_protected_area_controls_Button = None\n",
    "        self._protected_area_threshold_FloatSlider = None\n",
    "        self._reset_compression_controls_Button = None\n",
    "        self._compression_threshold_FloatSlider = None\n",
    "        self._reset_hue_controls_Button = None\n",
    "        self._wedge_controls = None\n",
    "        self._protected_area_controls_HBox = None\n",
    "        self._saturation_controls_HBox = None\n",
    "        self._hue_controls_HBox = None\n",
    "\n",
    "        self.initialize_data()\n",
    "        self.initialize_axes()\n",
    "        self.initialise_widgets()\n",
    "        self.attach_callbacks()\n",
    "\n",
    "        self.update_widget(None)\n",
    "\n",
    "    def initialize_data(self):\n",
    "        super().initialize_data()\n",
    "\n",
    "        # *** Reference Image ***\n",
    "        self._RGB_r = self._reference_image_working\n",
    "        self._H_r, self._S_r, self._V_r = colour.utilities.tsplit(\n",
    "            self.RGB_to_HSV(self._reference_image_working))\n",
    "        self._S_r_m = smoothstep(self._S_r, self._protected_area_threshold,\n",
    "                                 self._compression_threshold)\n",
    "\n",
    "        # *** Colour Wheel ***\n",
    "        if self._enable_colour_wheel:\n",
    "            self._RGB_w = self._colour_wheel[..., 0:3]\n",
    "            self._H_w, self._S_w, self._V_w = colour.utilities.tsplit(\n",
    "                self.RGB_to_HSV(self._RGB_w))\n",
    "            self._S_w_m = smoothstep(self._S_w, self._protected_area_threshold,\n",
    "                                     self._compression_threshold)\n",
    "\n",
    "        # *** Decimated Image, i.e. Scatter ***\n",
    "        if self._enable_chromaticity_diagram:\n",
    "            self._RGB_d = self._decimated_image_working\n",
    "            self._H_d, self._S_d, self._V_d = colour.utilities.tsplit(\n",
    "                self.RGB_to_HSV(self._decimated_image_working))\n",
    "            self._S_d_m = smoothstep(self._S_d, self._protected_area_threshold,\n",
    "                                     self._compression_threshold)\n",
    "\n",
    "        # *** Angles ***\n",
    "        self._angles = np.arange(0, 360, self._hue_wedge) / 360\n",
    "\n",
    "        # *** Initial State ***\n",
    "        self._x_i = np.hstack([self._angles, 1])\n",
    "        self._y_i = self._angles\n",
    "        self._y_i = np.hstack([self._y_i, self._y_i[0] + 1])\n",
    "\n",
    "    def initialize_axes(self):\n",
    "        super().initialize_axes()\n",
    "\n",
    "        circumference = np.linspace(0, np.pi * 2, self._colour_wheel_samples)\n",
    "        # Colour Wheel Axes\n",
    "        if self._enable_colour_wheel:\n",
    "            self._protected_area_threshold_colour_wheel_plot = (\n",
    "                self._colour_wheel_polar_axes.plot(\n",
    "                    circumference,\n",
    "                    np.full(self._colour_wheel_samples,\n",
    "                            self._protected_area_threshold),\n",
    "                    linestyle='dotted',\n",
    "                    color='yellow')[0])\n",
    "            self._compression_threshold_colour_wheel_plot = (\n",
    "                self._colour_wheel_polar_axes.plot(\n",
    "                    circumference,\n",
    "                    np.full(self._colour_wheel_samples,\n",
    "                            self._compression_threshold),\n",
    "                    linestyle='dashdot',\n",
    "                    color='cyan')[0])\n",
    "\n",
    "            self._hue_controls_plot = (self._colour_wheel_polar_axes.plot(\n",
    "                self._y_i * np.pi * 2,\n",
    "                np.ones(self._y_i.shape),\n",
    "                'o-',\n",
    "                color='white')[0])\n",
    "\n",
    "        # Chromaticity Diagram Axes\n",
    "        if self._enable_chromaticity_diagram:\n",
    "            self._protected_area_threshold_chromaticity_diagram_plot = (\n",
    "                self._chromaticity_diagram_axes.plot(\n",
    "                    circumference,\n",
    "                    circumference,\n",
    "                    linestyle='dotted',\n",
    "                    color='yellow')[0])\n",
    "            self._compression_threshold_chromaticity_diagram_plot = (\n",
    "                self._chromaticity_diagram_axes.plot(\n",
    "                    circumference,\n",
    "                    circumference,\n",
    "                    linestyle='dashdot',\n",
    "                    color='cyan')[0])\n",
    "\n",
    "    def initialise_widgets(self):\n",
    "        super().initialise_widgets()\n",
    "\n",
    "        # *** Widgets ***\n",
    "        self._reset_protected_area_controls_Button = (\n",
    "            ipywidgets.widgets.Button(description=\"Reset Protected Area\"))\n",
    "        self._protected_area_threshold_FloatSlider = (\n",
    "            ipywidgets.widgets.FloatSlider(\n",
    "                min=0.0,\n",
    "                max=1.0,\n",
    "                step=0.01,\n",
    "                value=self._protected_area_threshold,\n",
    "                description='Protected Area Threshold'))\n",
    "\n",
    "        self._reset_compression_controls_Button = (\n",
    "            ipywidgets.widgets.Button(description=\"Reset Saturation Controls\"))\n",
    "        compression_functions = list(COMPRESSION_FUNCTIONS.keys())\n",
    "        self._compression_function_DropDown = ipywidgets.widgets.Dropdown(\n",
    "            options=compression_functions,\n",
    "            value=self._compression_function,\n",
    "            description='Compression Function:',\n",
    "        )\n",
    "        self._compression_threshold_FloatSlider = (\n",
    "            ipywidgets.widgets.FloatSlider(\n",
    "                min=0.0,\n",
    "                max=1.0,\n",
    "                step=0.01,\n",
    "                value=self._compression_threshold,\n",
    "                description='Compression Threshold'))\n",
    "\n",
    "        self._reset_hue_controls_Button = ipywidgets.widgets.Button(\n",
    "            description=\"Reset Hue Controls\")\n",
    "        self._wedge_controls = [\n",
    "            ipywidgets.widgets.FloatSlider(\n",
    "                min=-1,\n",
    "                max=1,\n",
    "                step=0.01,\n",
    "                value=0,\n",
    "                description='{0}°'.format(int(angle * 360)))\n",
    "            for angle in self._angles\n",
    "        ]\n",
    "\n",
    "        # *** Layout ***\n",
    "        self._protected_area_controls_HBox = ipywidgets.widgets.HBox([\n",
    "            self._reset_protected_area_controls_Button,\n",
    "            self._protected_area_threshold_FloatSlider,\n",
    "        ])\n",
    "\n",
    "        self._saturation_controls_HBox = ipywidgets.widgets.HBox([\n",
    "            self._reset_compression_controls_Button,\n",
    "            self._compression_function_DropDown,\n",
    "            self._compression_threshold_FloatSlider\n",
    "        ])\n",
    "\n",
    "        wedge_controls_batches = batch(self._wedge_controls, 3)\n",
    "        self._hue_controls_HBox = ipywidgets.widgets.HBox(\n",
    "            [ipywidgets.widgets.VBox([self._reset_hue_controls_Button])] + [\n",
    "                ipywidgets.widgets.VBox(wedge_controls)\n",
    "                for wedge_controls in wedge_controls_batches\n",
    "            ])\n",
    "\n",
    "        self._controls_Tab.children += (\n",
    "            self._protected_area_controls_HBox,\n",
    "            self._saturation_controls_HBox,\n",
    "            self._hue_controls_HBox,\n",
    "        )\n",
    "\n",
    "        self._controls_Tab.set_title(1, 'Protected Area Controls')\n",
    "        self._controls_Tab.set_title(2, 'Saturation Controls')\n",
    "        self._controls_Tab.set_title(3, 'Hue Controls')\n",
    "\n",
    "    def attach_callbacks(self):\n",
    "        super().attach_callbacks()\n",
    "\n",
    "        self._reset_protected_area_controls_Button.on_click(\n",
    "            self.reset_protected_area_controls)\n",
    "        self._protected_area_threshold_FloatSlider.observe(\n",
    "            self.update_protected_area_mask, 'value')\n",
    "\n",
    "        self._reset_compression_controls_Button.on_click(\n",
    "            self.reset_compression_controls)\n",
    "        self._compression_function_DropDown.observe(self.update_widget,\n",
    "                                                    'value')\n",
    "        self._compression_threshold_FloatSlider.observe(\n",
    "            self.update_widget, 'value')\n",
    "\n",
    "        self._reset_hue_controls_Button.on_click(self.reset_hue_controls)\n",
    "        for slider in self._wedge_controls:\n",
    "            slider.observe(self.update_widget, 'value')\n",
    "\n",
    "    def set_exposure(self, change):\n",
    "        if not change:\n",
    "            return\n",
    "\n",
    "        if change['name'] == 'value':\n",
    "            EV = self._exposure_FloatSlider.value\n",
    "\n",
    "            self._RGB_r = adjust_exposure(self._reference_image_pre_working,\n",
    "                                          EV)\n",
    "            self._H_r, self._S_r, self._V_r = colour.utilities.tsplit(\n",
    "                self.RGB_to_HSV(self._RGB_r))\n",
    "\n",
    "            if self._enable_chromaticity_diagram:\n",
    "                self._RGB_d = adjust_exposure(\n",
    "                    self._decimated_image_pre_working, EV)\n",
    "                self._H_d, self._S_d, self._V_d = colour.utilities.tsplit(\n",
    "                    self.RGB_to_HSV(self._RGB_d))\n",
    "\n",
    "            self.update_protected_area_mask({'name': 'value'})\n",
    "\n",
    "    def update_region_colour_wheel_plot(self, V_r, region_colour_wheel_plot):\n",
    "        if self._enable_colour_wheel:\n",
    "            region_colour_wheel_plot.set_ydata(\n",
    "                np.full(self._colour_wheel_samples, V_r))\n",
    "\n",
    "    def update_protected_area_threshold_colour_wheel_plot(self, U_r):\n",
    "        if self._enable_colour_wheel:\n",
    "            self.update_region_colour_wheel_plot(\n",
    "                U_r, self._protected_area_threshold_colour_wheel_plot)\n",
    "\n",
    "    def update_compression_threshold_colour_wheel_plot(self, S_c):\n",
    "        if self._enable_colour_wheel:\n",
    "            self.update_region_colour_wheel_plot(\n",
    "                S_c, self._compression_threshold_colour_wheel_plot)\n",
    "\n",
    "    def update_region_chromaticity_diagram_plot(\n",
    "            self, V_r, region_chromaticity_diagram_plot):\n",
    "        if self._enable_chromaticity_diagram:\n",
    "            HSV = colour.utilities.tstack([\n",
    "                np.linspace(0, 1, self._colour_wheel_samples),\n",
    "                np.full(self._colour_wheel_samples, V_r),\n",
    "                np.ones(self._colour_wheel_samples)\n",
    "            ])\n",
    "            uv = colour.Luv_to_uv(\n",
    "                colour.XYZ_to_Luv(\n",
    "                    colour.RGB_to_XYZ(\n",
    "                        self.HSV_to_RGB(HSV), self._working_space.whitepoint,\n",
    "                        self._working_space.whitepoint,\n",
    "                        self._working_space.RGB_to_XYZ_matrix),\n",
    "                    self._working_space.whitepoint))\n",
    "\n",
    "            region_chromaticity_diagram_plot.set_data(uv[:, 0], uv[:, 1])\n",
    "\n",
    "    def update_protected_area_threshold_chromaticity_diagram_plot(self, U_r):\n",
    "        if self._enable_chromaticity_diagram:\n",
    "            self.update_region_chromaticity_diagram_plot(\n",
    "                U_r, self._protected_area_threshold_chromaticity_diagram_plot)\n",
    "\n",
    "    def update_compression_threshold_chromaticity_diagram_plot(self, S_c):\n",
    "        if self._enable_chromaticity_diagram:\n",
    "            self.update_region_chromaticity_diagram_plot(\n",
    "                S_c, self._compression_threshold_chromaticity_diagram_plot)\n",
    "\n",
    "    def update_protected_area_mask(self, change):\n",
    "        if not change:\n",
    "            return\n",
    "\n",
    "        if change['name'] == 'value':\n",
    "            U_r = self._protected_area_threshold_FloatSlider.value\n",
    "            S_c = self._compression_threshold_FloatSlider.value\n",
    "\n",
    "            self._S_d_m = smoothstep(self._S_d, U_r, S_c)\n",
    "\n",
    "            if self._enable_colour_wheel:\n",
    "                self._S_w_m = smoothstep(self._S_w, U_r, S_c)\n",
    "\n",
    "            if self._enable_chromaticity_diagram:\n",
    "                self._S_r_m = smoothstep(self._S_r, U_r, S_c)\n",
    "\n",
    "        self.update_widget(None)\n",
    "\n",
    "    def wedge_control_to_hue_offset(self, value):\n",
    "        slider = self._wedge_controls[0]\n",
    "\n",
    "        return colour.utilities.linear_conversion(\n",
    "            value, [slider.min, slider.max],\n",
    "            [-self._hue_wedge / 360, self._hue_wedge / 360])\n",
    "\n",
    "    def reset_protected_area_controls(self, change):\n",
    "        self._protected_area_threshold_FloatSlider.value = (\n",
    "            self._protected_area_threshold)\n",
    "\n",
    "        self.update_protected_area_mask(None)\n",
    "\n",
    "    def reset_compression_controls(self, change):\n",
    "        self._compression_threshold_FloatSlider.value = (\n",
    "            self._compression_threshold)\n",
    "\n",
    "        self.update_widget(None)\n",
    "\n",
    "    def reset_hue_controls(self, change):\n",
    "        for slider in self._wedge_controls:\n",
    "            slider.value = 0\n",
    "\n",
    "        self.update_widget(None)\n",
    "\n",
    "    def update_reference_image_axes(self, S_c, H_y, C_f):\n",
    "        RGB_r = medicina_HSV_control(self._RGB_r, self._H_r, self._S_r,\n",
    "                                     self._V_r, self._x_i, H_y, S_c,\n",
    "                                     self._S_r_m, C_f, self.HSV_to_RGB)\n",
    "        self._reference_image_mapped = RGB_r\n",
    "        self._reference_image_imshow.set_data(\n",
    "            self.working_space_to_display_space(RGB_r))\n",
    "\n",
    "    def update_colour_wheel_axes(self, U_r, S_c, H_y, H_o, C_f):\n",
    "        if self._enable_colour_wheel:\n",
    "            R_w, G_w, B_w = colour.utilities.tsplit(\n",
    "                medicina_HSV_control(self._RGB_w, self._H_w, self._S_w,\n",
    "                                     self._V_w, self._x_i, H_y, S_c,\n",
    "                                     self._S_w_m, C_f, self.HSV_to_RGB))\n",
    "            self._colour_wheel_imshow.set_data(\n",
    "                np.clip(\n",
    "                    colour.tstack([R_w, G_w, B_w,\n",
    "                                   self._colour_wheel[..., -1]]), 0, 1))\n",
    "            self.update_protected_area_threshold_colour_wheel_plot(U_r)\n",
    "            self.update_compression_threshold_colour_wheel_plot(S_c)\n",
    "\n",
    "            H_x = H_o + self._angles\n",
    "            H_x = np.hstack([H_x, H_x[0]])\n",
    "            self._hue_controls_plot.set_xdata(H_x * np.pi * 2)\n",
    "\n",
    "    def update_chromaticity_diagram_axes(self, U_r, S_c, H_y, C_f):\n",
    "        if self._enable_chromaticity_diagram:\n",
    "            RGB_r_s = medicina_HSV_control(self._RGB_d, self._H_d, self._S_d,\n",
    "                                           self._V_d, self._x_i, H_y, S_c,\n",
    "                                           self._S_d_m, C_f, self.HSV_to_RGB)\n",
    "            self.update_scatter_plot(RGB_r_s)\n",
    "            self.update_protected_area_threshold_chromaticity_diagram_plot(U_r)\n",
    "            self.update_compression_threshold_chromaticity_diagram_plot(S_c)\n",
    "\n",
    "    def update_widget(self, change):\n",
    "        super().update_widget(change)\n",
    "\n",
    "        if self._enable:\n",
    "            U_r = self._protected_area_threshold_FloatSlider.value\n",
    "            S_c = self._compression_threshold_FloatSlider.value\n",
    "            C_f = COMPRESSION_FUNCTIONS[\n",
    "                self._compression_function_DropDown.value]\n",
    "\n",
    "            hue_offsets = np.array([\n",
    "                self.wedge_control_to_hue_offset(slider.value)\n",
    "                for slider in self._wedge_controls\n",
    "            ])\n",
    "\n",
    "            H_y = -hue_offsets + self._angles\n",
    "            H_y = np.hstack([H_y, H_y[0] + 1])\n",
    "\n",
    "            self.update_reference_image_axes(S_c, H_y, C_f)\n",
    "\n",
    "            if self._enable_colour_wheel:\n",
    "                self.update_colour_wheel_axes(U_r, S_c, H_y, hue_offsets, C_f)\n",
    "\n",
    "            if self._enable_chromaticity_diagram:\n",
    "                self.update_chromaticity_diagram_axes(U_r, S_c, H_y, C_f)\n",
    "\n",
    "            self._figure.canvas.draw_idle()\n",
    "\n",
    "\n",
    "GamutMedicinaHSVControlWidget(\n",
    "    '../resources/images/A009C002_190210_R0EI_Alexa_LogCWideGamut.exr')"
   ]
  },
  {
   "cell_type": "code",
   "execution_count": 73,
   "metadata": {},
   "outputs": [
    {
     "data": {
      "application/vnd.jupyter.widget-view+json": {
       "model_id": "ebc6daf8c9f24d3ab2f25dd8b5e311c3",
       "version_major": 2,
       "version_minor": 0
      },
      "text/plain": [
       "GamutMedicinaHSVControlWidget(children=(Output(layout=Layout(border='solid 4px #222', margin='4px', padding='0…"
      ]
     },
     "metadata": {},
     "output_type": "display_data"
    }
   ],
   "source": [
    "GamutMedicinaHSVControlWidget('../resources/images/A002_C029_06025K.exr')"
   ]
  },
  {
   "cell_type": "code",
   "execution_count": 74,
   "metadata": {},
   "outputs": [
    {
     "data": {
      "application/vnd.jupyter.widget-view+json": {
       "model_id": "e0a9eefb37ff4c968ba8ed86bb845a6d",
       "version_major": 2,
       "version_minor": 0
      },
      "text/plain": [
       "GamutMedicinaHSVControlWidget(children=(Output(layout=Layout(border='solid 4px #222', margin='4px', padding='0…"
      ]
     },
     "metadata": {},
     "output_type": "display_data"
    }
   ],
   "source": [
    "GamutMedicinaHSVControlWidget(\n",
    "    '../resources/images/Cornell_Box_Rigid_Spheres_190_Patch_Roughplastic_Point_Grey_Grasshopper_50S5C_RGB_W_A.exr')"
   ]
  },
  {
   "cell_type": "code",
   "execution_count": 75,
   "metadata": {},
   "outputs": [
    {
     "data": {
      "application/vnd.jupyter.widget-view+json": {
       "model_id": "6c694c08ca5d47c48569dd8d7a01ebe3",
       "version_major": 2,
       "version_minor": 0
      },
      "text/plain": [
       "GamutMedicinaHSVControlWidget(children=(Output(layout=Layout(border='solid 4px #222', margin='4px', padding='0…"
      ]
     },
     "metadata": {},
     "output_type": "display_data"
    }
   ],
   "source": [
    "GamutMedicinaHSVControlWidget(\n",
    "    '../resources/images/5DMarkII_Spac-o-ween_001.exr',\n",
    "    enable_colour_wheel=False)"
   ]
  },
  {
   "cell_type": "code",
   "execution_count": 76,
   "metadata": {},
   "outputs": [
    {
     "data": {
      "application/vnd.jupyter.widget-view+json": {
       "model_id": "69249cf244e64ffc9de9dc8e4ad9fd87",
       "version_major": 2,
       "version_minor": 0
      },
      "text/plain": [
       "GamutMedicinaHSVControlWidget(children=(Output(layout=Layout(border='solid 4px #222', margin='4px', padding='0…"
      ]
     },
     "metadata": {},
     "output_type": "display_data"
    }
   ],
   "source": [
    "GamutMedicinaHSVControlWidget(\n",
    "    '../resources/images/Collage_01.exr',\n",
    "    enable_colour_wheel=False)"
   ]
  },
  {
   "cell_type": "markdown",
   "metadata": {},
   "source": [
    "## Smith (2020) - RGB Saturation Study Model"
   ]
  },
  {
   "cell_type": "markdown",
   "metadata": {},
   "source": [
    "*Smith (2020)* gamut mapping study model is directly operating in the RGB colourspace:\n",
    "\n",
    "- Like with the HSV colourspace, an achromatic axis is computed for the scene-referred RGB exposure values.\n",
    "- The pseudo-distance between the individual $R$, $G$ and $B$ components and the achromatic axis is compressed with a cherry-picked compression function, e.g. $tanh$.\n",
    "\n",
    "The model is extremely simple and elegant while offering good computational speed.\n",
    "\n",
    "More information is available on [ACEScentral](https://community.acescentral.com/t/rgb-saturation-gamut-mapping-approach-and-a-comp-vfx-perspective/)."
   ]
  },
  {
   "cell_type": "code",
   "execution_count": 77,
   "metadata": {},
   "outputs": [
    {
     "data": {
      "application/vnd.jupyter.widget-view+json": {
       "model_id": "cd672aec60954b5d86453682d529b4be",
       "version_major": 2,
       "version_minor": 0
      },
      "text/plain": [
       "GamutMedicinaRGBSaturationWidget(children=(Output(layout=Layout(border='solid 4px #222', margin='4px', padding…"
      ]
     },
     "metadata": {},
     "output_type": "display_data"
    }
   ],
   "source": [
    "def medicina_RGB_saturation(RGB, C_t, C_f):\n",
    "    C_t = 1 - C_t\n",
    "\n",
    "    L = np.max(RGB, axis=-1)[..., np.newaxis]\n",
    "\n",
    "    D = np.abs(RGB - L) / L\n",
    "\n",
    "    D_c = C_f(D, C_t, 1 - C_t)\n",
    "\n",
    "    RGB_c = L - D_c * L\n",
    "\n",
    "    return RGB_c\n",
    "\n",
    "\n",
    "class GamutMedicinaRGBSaturationWidget(GamutMedicinaBaseWidget):\n",
    "    def __init__(self,\n",
    "                 reference_image=None,\n",
    "                 compression_threshold=0.8,\n",
    "                 compression_function='tanh',\n",
    "                 *args,\n",
    "                 **kwargs):\n",
    "        self._compression_threshold = compression_threshold\n",
    "        self._compression_function = compression_function\n",
    "\n",
    "        kwargs['enable_colour_wheel'] = False\n",
    "\n",
    "        super().__init__(reference_image, *args, **kwargs)\n",
    "\n",
    "        self._RGB_w = None\n",
    "        self._RGB_r = None\n",
    "        self._RGB_d = None\n",
    "\n",
    "        self._compression_threshold_chromaticity_diagram_plot = None\n",
    "\n",
    "        self._reset_compression_controls_Button = None\n",
    "        self._compression_threshold_FloatSlider = None\n",
    "\n",
    "        self.initialize_data()\n",
    "        self.initialize_axes()\n",
    "        self.initialise_widgets()\n",
    "        self.attach_callbacks()\n",
    "\n",
    "        self.update_widget(None)\n",
    "\n",
    "    def initialize_data(self):\n",
    "        super().initialize_data()\n",
    "\n",
    "    def initialize_axes(self):\n",
    "        super().initialize_axes()\n",
    "\n",
    "    def initialise_widgets(self):\n",
    "        super().initialise_widgets()\n",
    "\n",
    "        # *** Widgets ***\n",
    "        self._reset_compression_controls_Button = (\n",
    "            ipywidgets.widgets.Button(\n",
    "                description=\"Reset Compression Controls\"))\n",
    "        compression_functions = list(COMPRESSION_FUNCTIONS.keys())\n",
    "        self._compression_function_DropDown = ipywidgets.widgets.Dropdown(\n",
    "            options=compression_functions,\n",
    "            value=self._compression_function,\n",
    "            description='Compression Function:',\n",
    "        )\n",
    "        self._compression_threshold_FloatSlider = (\n",
    "            ipywidgets.widgets.FloatSlider(\n",
    "                min=0.0,\n",
    "                max=1.0,\n",
    "                step=0.01,\n",
    "                value=self._compression_threshold,\n",
    "                description='Compression Threshold'))\n",
    "\n",
    "        # *** Layout ***\n",
    "        self._compression_controls_HBox = ipywidgets.widgets.HBox([\n",
    "            self._reset_compression_controls_Button,\n",
    "            self._compression_function_DropDown,\n",
    "            self._compression_threshold_FloatSlider,\n",
    "        ])\n",
    "\n",
    "        self._controls_Tab.children += (\n",
    "            self._compression_controls_HBox,\n",
    "        )\n",
    "\n",
    "        self._controls_Tab.set_title(1, 'Compression Controls')\n",
    "\n",
    "    def attach_callbacks(self):\n",
    "        super().attach_callbacks()\n",
    "\n",
    "        self._reset_compression_controls_Button.on_click(\n",
    "            self.reset_compression_controls)\n",
    "        self._compression_function_DropDown.observe(self.update_widget,\n",
    "                                                    'value')\n",
    "        self._compression_threshold_FloatSlider.observe(\n",
    "            self.update_widget, 'value')\n",
    "\n",
    "    def reset_compression_controls(self, change):\n",
    "        self._compression_threshold_FloatSlider.value = (\n",
    "            self._compression_threshold)\n",
    "\n",
    "        self.update_widget(None)\n",
    "\n",
    "    def update_reference_image_axes(self, C_t, C_f):\n",
    "        RGB_r = medicina_RGB_saturation(self._reference_image_working, C_t, C_f)\n",
    "        self._reference_image_mapped = RGB_r\n",
    "        self._reference_image_imshow.set_data(\n",
    "            self.working_space_to_display_space(RGB_r))\n",
    "\n",
    "    def update_chromaticity_diagram_axes(self, C_t, C_f):\n",
    "        RGB_r_s = medicina_RGB_saturation(self._decimated_image_working, C_t, C_f)\n",
    "        self.update_scatter_plot(RGB_r_s)\n",
    "\n",
    "    def update_widget(self, change):\n",
    "        super().update_widget(change)\n",
    "\n",
    "        if self._enable:\n",
    "            C_t = 1 - self._compression_threshold_FloatSlider.value\n",
    "            C_f = COMPRESSION_FUNCTIONS[\n",
    "                self._compression_function_DropDown.value]\n",
    "\n",
    "            self.update_reference_image_axes(C_t, C_f)\n",
    "            self.update_chromaticity_diagram_axes(C_t, C_f)\n",
    "\n",
    "            self._figure.canvas.draw_idle()\n",
    "\n",
    "\n",
    "GamutMedicinaRGBSaturationWidget(\n",
    "    '../resources/images/A009C002_190210_R0EI_Alexa_LogCWideGamut.exr')"
   ]
  },
  {
   "cell_type": "markdown",
   "metadata": {},
   "source": [
    "Note\n",
    "----\n",
    "\n",
    "> *Mansencal and Scharfenberg (2020)* gamut mapping study model twists the woodbard ceiling hues toward magenta in this example which is not pleasing but can be corrected with the Hue Controls. *Smith (2020)* gamut mapping study model is producing more appealing colours here."
   ]
  },
  {
   "cell_type": "code",
   "execution_count": 78,
   "metadata": {},
   "outputs": [
    {
     "data": {
      "application/vnd.jupyter.widget-view+json": {
       "model_id": "6303f74dc150444f80797cd91f769fa9",
       "version_major": 2,
       "version_minor": 0
      },
      "text/plain": [
       "GamutMedicinaHSVControlWidget(children=(Output(layout=Layout(border='solid 4px #222', margin='4px', padding='0…"
      ]
     },
     "metadata": {},
     "output_type": "display_data"
    }
   ],
   "source": [
    "GamutMedicinaHSVControlWidget(\n",
    "    '../resources/images/A009C002_190210_R0EI_Alexa_LogCWideGamut.exr',\n",
    "    enable_colour_wheel=False)"
   ]
  },
  {
   "cell_type": "code",
   "execution_count": 79,
   "metadata": {},
   "outputs": [
    {
     "data": {
      "application/vnd.jupyter.widget-view+json": {
       "model_id": "a404d59c16e84520afbd67e12c451e1f",
       "version_major": 2,
       "version_minor": 0
      },
      "text/plain": [
       "GamutMedicinaRGBSaturationWidget(children=(Output(layout=Layout(border='solid 4px #222', margin='4px', padding…"
      ]
     },
     "metadata": {},
     "output_type": "display_data"
    }
   ],
   "source": [
    "GamutMedicinaRGBSaturationWidget(\n",
    "    '../resources/images/Cornell_Box_Rigid_Spheres_190_Patch_Roughplastic_Point_Grey_Grasshopper_50S5C_RGB_W_A.exr')"
   ]
  },
  {
   "cell_type": "code",
   "execution_count": 80,
   "metadata": {},
   "outputs": [
    {
     "data": {
      "application/vnd.jupyter.widget-view+json": {
       "model_id": "242c1968a38e4555b4d5bd8ef99e3cc0",
       "version_major": 2,
       "version_minor": 0
      },
      "text/plain": [
       "GamutMedicinaRGBSaturationWidget(children=(Output(layout=Layout(border='solid 4px #222', margin='4px', padding…"
      ]
     },
     "metadata": {},
     "output_type": "display_data"
    }
   ],
   "source": [
    "GamutMedicinaRGBSaturationWidget(\n",
    "    '../resources/images/5DMarkII_Spac-o-ween_001.exr')"
   ]
  },
  {
   "cell_type": "code",
   "execution_count": 81,
   "metadata": {},
   "outputs": [
    {
     "data": {
      "application/vnd.jupyter.widget-view+json": {
       "model_id": "fec4e690659f405eb9781ed0df743dcd",
       "version_major": 2,
       "version_minor": 0
      },
      "text/plain": [
       "GamutMedicinaRGBSaturationWidget(children=(Output(layout=Layout(border='solid 4px #222', margin='4px', padding…"
      ]
     },
     "metadata": {},
     "output_type": "display_data"
    }
   ],
   "source": [
    "GamutMedicinaRGBSaturationWidget(\n",
    "    '../resources/images/Collage_01.exr')"
   ]
  },
  {
   "cell_type": "markdown",
   "metadata": {},
   "source": [
    "## Compared Model Distortions"
   ]
  },
  {
   "cell_type": "markdown",
   "metadata": {},
   "source": [
    "Various model distortions comparisons.\n",
    "\n",
    "Note\n",
    "----\n",
    "\n",
    "> *Mansencal and Scharfenberg (2020)* gamut mapping study model tends to produce rounder surface area compared to that of *Smith (2020)*. Note also how the magenta area along the line of purples is much more compressed."
   ]
  },
  {
   "cell_type": "code",
   "execution_count": 82,
   "metadata": {},
   "outputs": [],
   "source": [
    "colour.write_image(\n",
    "    colour_wheel(clip_circle=False)[..., 0:3],\n",
    "    '../resources/images/Colour_Wheel.exr')"
   ]
  },
  {
   "cell_type": "code",
   "execution_count": 83,
   "metadata": {},
   "outputs": [
    {
     "data": {
      "application/vnd.jupyter.widget-view+json": {
       "model_id": "ff9c521dddef45c7a3379ed36d81408d",
       "version_major": 2,
       "version_minor": 0
      },
      "text/plain": [
       "GamutMedicinaHSVControlWidget(children=(Output(layout=Layout(border='solid 4px #222', margin='4px', padding='0…"
      ]
     },
     "metadata": {},
     "output_type": "display_data"
    }
   ],
   "source": [
    "GamutMedicinaHSVControlWidget(\n",
    "    '../resources/images/Colour_Wheel.exr',\n",
    "    image_decimation=20,\n",
    "    protected_area_threshold=0.5,\n",
    "    compression_threshold=0.5,\n",
    "    enable_colour_wheel=False)"
   ]
  },
  {
   "cell_type": "code",
   "execution_count": 84,
   "metadata": {},
   "outputs": [
    {
     "data": {
      "application/vnd.jupyter.widget-view+json": {
       "model_id": "d415799da923434aa9c4ee63c1acda6b",
       "version_major": 2,
       "version_minor": 0
      },
      "text/plain": [
       "GamutMedicinaRGBSaturationWidget(children=(Output(layout=Layout(border='solid 4px #222', margin='4px', padding…"
      ]
     },
     "metadata": {},
     "output_type": "display_data"
    }
   ],
   "source": [
    "GamutMedicinaRGBSaturationWidget(\n",
    "    '../resources/images/Colour_Wheel.exr',\n",
    "    image_decimation=20,\n",
    "    compression_threshold=0.5)"
   ]
  }
 ],
 "metadata": {
  "colab": {
   "collapsed_sections": [],
   "name": "gamut_mapping_ramblings_01",
   "provenance": []
  },
  "kernelspec": {
   "display_name": "Python 3",
   "language": "python",
   "name": "python3"
  },
  "language_info": {
   "codemirror_mode": {
    "name": "ipython",
    "version": 3
   },
   "file_extension": ".py",
   "mimetype": "text/x-python",
   "name": "python",
   "nbconvert_exporter": "python",
   "pygments_lexer": "ipython3",
   "version": "3.7.7"
  },
  "widgets": {
   "application/vnd.jupyter.widget-state+json": {
    "state": {
     "000f2bf459e34ea48917e1d4f76b903a": {
      "model_module": "@jupyter-widgets/controls",
      "model_module_version": "1.5.0",
      "model_name": "FloatSliderModel",
      "state": {
       "description": "Compression Threshold",
       "layout": "IPY_MODEL_56fb3e95f0b6476f8bcaa4461a254f5b",
       "max": 1,
       "step": 0.01,
       "style": "IPY_MODEL_cce94668021149b58c69cd2bdab09cc0",
       "value": 0.8
      }
     },
     "005f7f2ef8ac41cc83c5b7d7b2c53265": {
      "model_module": "@jupyter-widgets/controls",
      "model_module_version": "1.5.0",
      "model_name": "ButtonModel",
      "state": {
       "description": "Export Image",
       "layout": "IPY_MODEL_b19b3a4095ad4921976213e3a4edc4be",
       "style": "IPY_MODEL_c1a4be1711524027a179590b4163e7b5"
      }
     },
     "007726c4da164ee7aff07c034c0d1d82": {
      "model_module": "@jupyter-widgets/base",
      "model_module_version": "1.2.0",
      "model_name": "LayoutModel",
      "state": {}
     },
     "008ce48254544108b8fca59c17ede5f0": {
      "model_module": "@jupyter-widgets/base",
      "model_module_version": "1.2.0",
      "model_name": "LayoutModel",
      "state": {}
     },
     "009e69fb07494b1e8019a6c55064d889": {
      "model_module": "@jupyter-widgets/base",
      "model_module_version": "1.2.0",
      "model_name": "LayoutModel",
      "state": {}
     },
     "01853932e5cc480f81ac5de54ec8b9da": {
      "model_module": "@jupyter-widgets/base",
      "model_module_version": "1.2.0",
      "model_name": "LayoutModel",
      "state": {}
     },
     "01a3dc009dc14dc6bf5b76e4237472bb": {
      "model_module": "@jupyter-widgets/controls",
      "model_module_version": "1.5.0",
      "model_name": "ButtonStyleModel",
      "state": {}
     },
     "01c90c43d7a746848ab6dcd6ec2c246f": {
      "model_module": "@jupyter-widgets/base",
      "model_module_version": "1.2.0",
      "model_name": "LayoutModel",
      "state": {}
     },
     "01db7ffeea4a4ee6a00f7af3e3866f5e": {
      "model_module": "@jupyter-widgets/controls",
      "model_module_version": "1.5.0",
      "model_name": "SliderStyleModel",
      "state": {
       "description_width": ""
      }
     },
     "01faf97042334b268b575da126e17b45": {
      "model_module": "@jupyter-widgets/controls",
      "model_module_version": "1.5.0",
      "model_name": "VBoxModel",
      "state": {
       "children": [
        "IPY_MODEL_be4f71ec8cff4406a7d7f234046c742f"
       ],
       "layout": "IPY_MODEL_0b9e5c6771584fef8a7ca57c4950e23d"
      }
     },
     "026307bbb0a0412e8def5be62e31edce": {
      "model_module": "jupyter-matplotlib",
      "model_module_version": "^0.7.2",
      "model_name": "ToolbarModel",
      "state": {
       "layout": "IPY_MODEL_370d754dfdf441bca34ec346eb60cb0c",
       "toolitems": [
        [
         "Home",
         "Reset original view",
         "home",
         "home"
        ],
        [
         "Back",
         "Back to previous view",
         "arrow-left",
         "back"
        ],
        [
         "Forward",
         "Forward to next view",
         "arrow-right",
         "forward"
        ],
        [
         "Pan",
         "Pan axes with left mouse, zoom with right",
         "arrows",
         "pan"
        ],
        [
         "Zoom",
         "Zoom to rectangle",
         "square-o",
         "zoom"
        ],
        [
         "Download",
         "Download plot",
         "floppy-o",
         "save_figure"
        ]
       ]
      }
     },
     "02d585469c4844c1bb9ce1d3be6d6e48": {
      "model_module": "@jupyter-widgets/controls",
      "model_module_version": "1.5.0",
      "model_name": "ButtonModel",
      "state": {
       "description": "Reset Compression Controls",
       "layout": "IPY_MODEL_41a226a049b34a1ab6a4e420c53aeed5",
       "style": "IPY_MODEL_d59e7680c7bc4583a69504ac68a21746"
      }
     },
     "031ee3e5cf434337ab1a472bc19150d3": {
      "model_module": "@jupyter-widgets/base",
      "model_module_version": "1.2.0",
      "model_name": "LayoutModel",
      "state": {}
     },
     "033b56a40b6e4c3caf0302566ffee61a": {
      "model_module": "@jupyter-widgets/controls",
      "model_module_version": "1.5.0",
      "model_name": "SliderStyleModel",
      "state": {
       "description_width": ""
      }
     },
     "0361fb5fb4944dc6a935d0770aea9703": {
      "model_module": "@jupyter-widgets/controls",
      "model_module_version": "1.5.0",
      "model_name": "FloatSliderModel",
      "state": {
       "description": "0°",
       "layout": "IPY_MODEL_935290dca88c498c8edba18975561632",
       "max": 1,
       "min": -1,
       "step": 0.01,
       "style": "IPY_MODEL_1cbbffb78a824bd0848ba37382914f3f"
      }
     },
     "0368d767569e4e53b34b512b9deecca1": {
      "model_module": "@jupyter-widgets/base",
      "model_module_version": "1.2.0",
      "model_name": "LayoutModel",
      "state": {}
     },
     "0370967e44504575b35b71e8d20aaba4": {
      "model_module": "@jupyter-widgets/controls",
      "model_module_version": "1.5.0",
      "model_name": "CheckboxModel",
      "state": {
       "description": "Disable Medicina",
       "disabled": false,
       "layout": "IPY_MODEL_01c90c43d7a746848ab6dcd6ec2c246f",
       "style": "IPY_MODEL_dde6ce441ca84675a5981d4592b6348f",
       "value": false
      }
     },
     "03db2b4d051845d693fbefe10e5e7eae": {
      "model_module": "@jupyter-widgets/controls",
      "model_module_version": "1.5.0",
      "model_name": "FloatSliderModel",
      "state": {
       "description": "0°",
       "layout": "IPY_MODEL_50ee9e1d5af343b1b42783ad65547927",
       "max": 1,
       "min": -1,
       "step": 0.01,
       "style": "IPY_MODEL_fd84641af1f2418ebec3c47d51c3e2db"
      }
     },
     "03eacdd325bf45698e15b6bc40389471": {
      "model_module": "@jupyter-widgets/base",
      "model_module_version": "1.2.0",
      "model_name": "LayoutModel",
      "state": {}
     },
     "0429aca543464066bb711b7db9f36fe7": {
      "model_module": "@jupyter-widgets/controls",
      "model_module_version": "1.5.0",
      "model_name": "SliderStyleModel",
      "state": {
       "description_width": ""
      }
     },
     "042d2d7494d841d5bc9fb9e54d9185b1": {
      "model_module": "@jupyter-widgets/controls",
      "model_module_version": "1.5.0",
      "model_name": "SliderStyleModel",
      "state": {
       "description_width": ""
      }
     },
     "04af89ebe72c4bbc8144b47f7ae6720a": {
      "model_module": "@jupyter-widgets/base",
      "model_module_version": "1.2.0",
      "model_name": "LayoutModel",
      "state": {}
     },
     "04be1d5afbc24f558e07a822537a3c1a": {
      "model_module": "@jupyter-widgets/base",
      "model_module_version": "1.2.0",
      "model_name": "LayoutModel",
      "state": {}
     },
     "04c307d2ea4d4269871c7d090a41ad00": {
      "model_module": "@jupyter-widgets/controls",
      "model_module_version": "1.5.0",
      "model_name": "DescriptionStyleModel",
      "state": {
       "description_width": ""
      }
     },
     "04e917a50e6a4a489ebbbd84a3af98e3": {
      "model_module": "@jupyter-widgets/controls",
      "model_module_version": "1.5.0",
      "model_name": "CheckboxModel",
      "state": {
       "description": "Disable Medicina",
       "disabled": false,
       "layout": "IPY_MODEL_e232094c3f904c58a04fdf3e6b027fde",
       "style": "IPY_MODEL_ec0f4c6d1738453eade493251c8f2439",
       "value": false
      }
     },
     "0511cd00bb744035a9f90396f0e7e09c": {
      "model_module": "@jupyter-widgets/base",
      "model_module_version": "1.2.0",
      "model_name": "LayoutModel",
      "state": {}
     },
     "056bfea2fe44434099b7dc9e6771a1d9": {
      "model_module": "@jupyter-widgets/controls",
      "model_module_version": "1.5.0",
      "model_name": "BoxModel",
      "state": {
       "children": [
        "IPY_MODEL_602d1a01058643dcb67c5f24e98487ac",
        "IPY_MODEL_ceeee07a632545d08b4afd1fa92acce2"
       ],
       "layout": "IPY_MODEL_999bdcf721a643e2b28c0ce93dabe5ea"
      }
     },
     "0585772d497043bdb0cd3e15a437b73d": {
      "model_module": "jupyter-matplotlib",
      "model_module_version": "^0.7.2",
      "model_name": "MPLCanvasModel",
      "state": {
       "_figure_label": "Figure 25",
       "_height": 440,
       "_image_mode": "diff",
       "_width": 1100,
       "header_visible": false,
       "layout": "IPY_MODEL_afddfed9d96e44398f3f6dfa73d77ae4",
       "resizable": false,
       "toolbar": "IPY_MODEL_0ba6854913554091b075e219ab15e493",
       "toolbar_position": "left",
       "toolbar_visible": false
      }
     },
     "0593c41adcb64f789e92a9b4ff450af1": {
      "model_module": "@jupyter-widgets/base",
      "model_module_version": "1.2.0",
      "model_name": "LayoutModel",
      "state": {}
     },
     "05e525cd414744a58429d2b0f0d1b7c4": {
      "model_module": "@jupyter-widgets/base",
      "model_module_version": "1.2.0",
      "model_name": "LayoutModel",
      "state": {}
     },
     "064d40fce3cd4d359215fab9f89214d4": {
      "model_module": "@jupyter-widgets/controls",
      "model_module_version": "1.5.0",
      "model_name": "FloatSliderModel",
      "state": {
       "description": "0°",
       "layout": "IPY_MODEL_5c3a0fae4f334ee3acbf3fbc3395825b",
       "max": 1,
       "min": -1,
       "step": 0.01,
       "style": "IPY_MODEL_899aef73e30f49f29cf51ac68bd63ed4"
      }
     },
     "064de05b512e4dc187cf3bfeff8bb48d": {
      "model_module": "@jupyter-widgets/base",
      "model_module_version": "1.2.0",
      "model_name": "LayoutModel",
      "state": {}
     },
     "06c62ec232b54b96acce21e9c9da3d96": {
      "model_module": "@jupyter-widgets/base",
      "model_module_version": "1.2.0",
      "model_name": "LayoutModel",
      "state": {}
     },
     "0722b668a933404589845937bbaffe5c": {
      "model_module": "@jupyter-widgets/controls",
      "model_module_version": "1.5.0",
      "model_name": "ButtonStyleModel",
      "state": {}
     },
     "07744a39f9cb4f34a2d0aa75416b3041": {
      "model_module": "@jupyter-widgets/base",
      "model_module_version": "1.2.0",
      "model_name": "LayoutModel",
      "state": {}
     },
     "07c37bccf97b4dbeb2b883715884ebab": {
      "model_module": "@jupyter-widgets/controls",
      "model_module_version": "1.5.0",
      "model_name": "HBoxModel",
      "state": {
       "children": [
        "IPY_MODEL_f7835cdb8d0848cfbd5a6379533f5dae",
        "IPY_MODEL_cc57c775b2dd48d3893551b1233f9bd9",
        "IPY_MODEL_f56a415ddfba4f9c8349e65a3758e124",
        "IPY_MODEL_694b49d5df31419994b612983706b6dd",
        "IPY_MODEL_83487d4ad19e45ad8f462799f8926eeb"
       ],
       "layout": "IPY_MODEL_202e3d5f3644431685a6d76bd94031d7"
      }
     },
     "07ebf94da6fc4b228f31be7804a95be3": {
      "model_module": "@jupyter-widgets/controls",
      "model_module_version": "1.5.0",
      "model_name": "SliderStyleModel",
      "state": {
       "description_width": ""
      }
     },
     "07f064159a94463fa08476d7a2d19fb2": {
      "model_module": "@jupyter-widgets/controls",
      "model_module_version": "1.5.0",
      "model_name": "ButtonStyleModel",
      "state": {}
     },
     "07f6b0cf06924c698de6d739fcacdc11": {
      "model_module": "@jupyter-widgets/base",
      "model_module_version": "1.2.0",
      "model_name": "LayoutModel",
      "state": {}
     },
     "080d5765a01945ab8e15c42858adaa8e": {
      "model_module": "@jupyter-widgets/base",
      "model_module_version": "1.2.0",
      "model_name": "LayoutModel",
      "state": {}
     },
     "080eeaa0bc96401d828c9e3812115d35": {
      "model_module": "@jupyter-widgets/controls",
      "model_module_version": "1.5.0",
      "model_name": "VBoxModel",
      "state": {
       "children": [
        "IPY_MODEL_eae5d54d9cd2443d95a199111da51ba5"
       ],
       "layout": "IPY_MODEL_27906f32c9c14f64a04894da35cdf02d"
      }
     },
     "0814ddbc45d940a98540c443a9e9c307": {
      "model_module": "@jupyter-widgets/controls",
      "model_module_version": "1.5.0",
      "model_name": "BoxModel",
      "state": {
       "children": [
        "IPY_MODEL_8c580a16b39c45d18bb9b342e0b0bccd",
        "IPY_MODEL_147780636cea4d4d9b99d5c618128eba"
       ],
       "layout": "IPY_MODEL_20bd1337ead941278c92179904e528ba"
      }
     },
     "084afa980c2446d7be8e896990cdd203": {
      "model_module": "@jupyter-widgets/base",
      "model_module_version": "1.2.0",
      "model_name": "LayoutModel",
      "state": {}
     },
     "08aa81d335134ebdbf258a08c46a0a1c": {
      "model_module": "@jupyter-widgets/controls",
      "model_module_version": "1.5.0",
      "model_name": "SliderStyleModel",
      "state": {
       "description_width": ""
      }
     },
     "08bddb0e5d104490b083f321ba872840": {
      "model_module": "@jupyter-widgets/controls",
      "model_module_version": "1.5.0",
      "model_name": "FloatSliderModel",
      "state": {
       "description": "Compression Threshold",
       "layout": "IPY_MODEL_fa7c2133e6124e9db3228a15af62f6b9",
       "max": 1,
       "step": 0.01,
       "style": "IPY_MODEL_67bb1b992e2e43b8ab7b70f471c003ed",
       "value": 0.8
      }
     },
     "09358a2ad9f345f2bd1f2a4a24429ab7": {
      "model_module": "@jupyter-widgets/base",
      "model_module_version": "1.2.0",
      "model_name": "LayoutModel",
      "state": {}
     },
     "093b4e34771a46cc9613a188f590ff1e": {
      "model_module": "@jupyter-widgets/controls",
      "model_module_version": "1.5.0",
      "model_name": "SliderStyleModel",
      "state": {
       "description_width": ""
      }
     },
     "097a4b26e99c4a84985097b4316f4db1": {
      "model_module": "@jupyter-widgets/base",
      "model_module_version": "1.2.0",
      "model_name": "LayoutModel",
      "state": {}
     },
     "097d4b082fba477f8c19f50792d43a30": {
      "model_module": "@jupyter-widgets/controls",
      "model_module_version": "1.5.0",
      "model_name": "SliderStyleModel",
      "state": {
       "description_width": ""
      }
     },
     "09a4e98ac4ad4b9e89ab311645a4ce42": {
      "model_module": "@jupyter-widgets/controls",
      "model_module_version": "1.5.0",
      "model_name": "FloatSliderModel",
      "state": {
       "description": "315°",
       "layout": "IPY_MODEL_d4e1fa08574647d8a5a489692200d6a2",
       "max": 1,
       "min": -1,
       "step": 0.01,
       "style": "IPY_MODEL_e5038122cba241f49973c4f29eafaa45"
      }
     },
     "09b2ac6451ba463f836c67e6359203c1": {
      "model_module": "@jupyter-widgets/controls",
      "model_module_version": "1.5.0",
      "model_name": "SliderStyleModel",
      "state": {
       "description_width": ""
      }
     },
     "09b549db28af4fe1bd8f0ea40238ae92": {
      "model_module": "@jupyter-widgets/controls",
      "model_module_version": "1.5.0",
      "model_name": "HBoxModel",
      "state": {
       "children": [
        "IPY_MODEL_daadbdf09f65450cb2d935c18cd5bd8e",
        "IPY_MODEL_fa663a2018d34b059d30f6c75c586550",
        "IPY_MODEL_b6d045d991644ff584853ba1d49de887",
        "IPY_MODEL_96d2c91166f24ce4ae14b6b70d726ab5"
       ],
       "layout": "IPY_MODEL_230098bdd57b4067b11e830f962a7323"
      }
     },
     "09c26ed9d441498aab49b3834cb1953e": {
      "model_module": "@jupyter-widgets/controls",
      "model_module_version": "1.5.0",
      "model_name": "FloatSliderModel",
      "state": {
       "description": "270°",
       "layout": "IPY_MODEL_04be1d5afbc24f558e07a822537a3c1a",
       "max": 1,
       "min": -1,
       "step": 0.01,
       "style": "IPY_MODEL_0ebfc6f6bc80452e84331d104f60b6f0"
      }
     },
     "09e057b9f6e242a2867c3fbc8476ee04": {
      "model_module": "@jupyter-widgets/controls",
      "model_module_version": "1.5.0",
      "model_name": "SliderStyleModel",
      "state": {
       "description_width": ""
      }
     },
     "0a5fa59d952b488c94ffa49fdc8c5c88": {
      "model_module": "@jupyter-widgets/base",
      "model_module_version": "1.2.0",
      "model_name": "LayoutModel",
      "state": {}
     },
     "0a62e35df7074279baa5f6b59bb1c458": {
      "model_module": "@jupyter-widgets/controls",
      "model_module_version": "1.5.0",
      "model_name": "BoxModel",
      "state": {
       "children": [
        "IPY_MODEL_aaafde9b0a85449d8306848029239949",
        "IPY_MODEL_23f4f45936e54075ba5cc3a783d79027"
       ],
       "layout": "IPY_MODEL_2c06ec8b08ea40a08a9d8de7f3301f5d"
      }
     },
     "0a876d44fa3a4d82a24a8f9bf47a3e01": {
      "model_module": "@jupyter-widgets/base",
      "model_module_version": "1.2.0",
      "model_name": "LayoutModel",
      "state": {}
     },
     "0a96dbe97ee24de8a2888e28c7181e5a": {
      "model_module": "@jupyter-widgets/controls",
      "model_module_version": "1.5.0",
      "model_name": "ButtonModel",
      "state": {
       "description": "Reset Exposure",
       "layout": "IPY_MODEL_c0a5d1cd4b854883a8800070915dad82",
       "style": "IPY_MODEL_f077ff21b9324e03830afc664593f9b7"
      }
     },
     "0a9bab31648f4f269d7d3e07139a25a4": {
      "model_module": "@jupyter-widgets/controls",
      "model_module_version": "1.5.0",
      "model_name": "DescriptionStyleModel",
      "state": {
       "description_width": ""
      }
     },
     "0af7a2da7b8b4e32a5fb8e5918af0673": {
      "model_module": "@jupyter-widgets/base",
      "model_module_version": "1.2.0",
      "model_name": "LayoutModel",
      "state": {}
     },
     "0afd55b4b7794d3ca60fd594ebcbac30": {
      "model_module": "@jupyter-widgets/controls",
      "model_module_version": "1.5.0",
      "model_name": "ButtonModel",
      "state": {
       "description": "Reset Exposure",
       "layout": "IPY_MODEL_6051e879ac504e8899bbc9e5c3a40395",
       "style": "IPY_MODEL_19daabc9fbaa483d8ceb968a20c3001e"
      }
     },
     "0b0a48d20caa484cbb01f44412f3d345": {
      "model_module": "@jupyter-widgets/controls",
      "model_module_version": "1.5.0",
      "model_name": "ButtonStyleModel",
      "state": {}
     },
     "0b0b241729514c6ab38991a07073922b": {
      "model_module": "@jupyter-widgets/base",
      "model_module_version": "1.2.0",
      "model_name": "LayoutModel",
      "state": {}
     },
     "0b130a4ecbb0431aa1efd5739ca892f6": {
      "model_module": "@jupyter-widgets/controls",
      "model_module_version": "1.5.0",
      "model_name": "FloatSliderModel",
      "state": {
       "description": "180°",
       "layout": "IPY_MODEL_8528abdaedf04320ae678ccd8454fbbb",
       "max": 1,
       "min": -1,
       "step": 0.01,
       "style": "IPY_MODEL_07ebf94da6fc4b228f31be7804a95be3"
      }
     },
     "0b3004b50a52431fa3d59811105fe64e": {
      "model_module": "@jupyter-widgets/controls",
      "model_module_version": "1.5.0",
      "model_name": "ButtonStyleModel",
      "state": {}
     },
     "0b3273e2a5864bdd8db4630fc1ad4e7c": {
      "model_module": "@jupyter-widgets/base",
      "model_module_version": "1.2.0",
      "model_name": "LayoutModel",
      "state": {}
     },
     "0b3b1cd63bbe488fba84a5b911497557": {
      "model_module": "@jupyter-widgets/base",
      "model_module_version": "1.2.0",
      "model_name": "LayoutModel",
      "state": {}
     },
     "0b42d400efff411998f2970a0d26f7ba": {
      "model_module": "@jupyter-widgets/base",
      "model_module_version": "1.2.0",
      "model_name": "LayoutModel",
      "state": {}
     },
     "0b5362d2c08149458cc2d02b54764f64": {
      "model_module": "@jupyter-widgets/controls",
      "model_module_version": "1.5.0",
      "model_name": "HBoxModel",
      "state": {
       "children": [
        "IPY_MODEL_7901bd666f8841a2a36e3d136b1a67c2",
        "IPY_MODEL_be026b95cc0842a9b20c6d0f5c3395e4",
        "IPY_MODEL_7772869e8cb34086ac54ddc8ab8d5af7",
        "IPY_MODEL_6f6d5e1e470c4526acc4c5a5d1df8e69",
        "IPY_MODEL_b3f886bd2dc94161b7318a4f5b936925"
       ],
       "layout": "IPY_MODEL_991f4ab3e6e64240af9c5a51644f7b04"
      }
     },
     "0b6f2ebc25c04bd48eba2cd9070d17ba": {
      "model_module": "@jupyter-widgets/base",
      "model_module_version": "1.2.0",
      "model_name": "LayoutModel",
      "state": {}
     },
     "0b7f38481b35437792fbec26f52e37d6": {
      "model_module": "@jupyter-widgets/base",
      "model_module_version": "1.2.0",
      "model_name": "LayoutModel",
      "state": {}
     },
     "0b8e078ec260424a8747ec4158029576": {
      "model_module": "@jupyter-widgets/controls",
      "model_module_version": "1.5.0",
      "model_name": "DescriptionStyleModel",
      "state": {
       "description_width": ""
      }
     },
     "0b9e5c6771584fef8a7ca57c4950e23d": {
      "model_module": "@jupyter-widgets/base",
      "model_module_version": "1.2.0",
      "model_name": "LayoutModel",
      "state": {}
     },
     "0ba6854913554091b075e219ab15e493": {
      "model_module": "jupyter-matplotlib",
      "model_module_version": "^0.7.2",
      "model_name": "ToolbarModel",
      "state": {
       "layout": "IPY_MODEL_7357de93473f4de4b12b65f6771598a6",
       "toolitems": [
        [
         "Home",
         "Reset original view",
         "home",
         "home"
        ],
        [
         "Back",
         "Back to previous view",
         "arrow-left",
         "back"
        ],
        [
         "Forward",
         "Forward to next view",
         "arrow-right",
         "forward"
        ],
        [
         "Pan",
         "Pan axes with left mouse, zoom with right",
         "arrows",
         "pan"
        ],
        [
         "Zoom",
         "Zoom to rectangle",
         "square-o",
         "zoom"
        ],
        [
         "Download",
         "Download plot",
         "floppy-o",
         "save_figure"
        ]
       ]
      }
     },
     "0bd6c454749b4318898eb8ea423f9099": {
      "model_module": "@jupyter-widgets/controls",
      "model_module_version": "1.5.0",
      "model_name": "HBoxModel",
      "state": {
       "children": [
        "IPY_MODEL_15d74869676d4fe4ba5b529916e73a3a",
        "IPY_MODEL_005f7f2ef8ac41cc83c5b7d7b2c53265",
        "IPY_MODEL_7951cab24d594f5da7c5afd29ffa9fc0",
        "IPY_MODEL_0a96dbe97ee24de8a2888e28c7181e5a",
        "IPY_MODEL_d8e10bea0cde4a0cb7c819216549b122"
       ],
       "layout": "IPY_MODEL_b2b1f17f7d82428c8f6ace5eb086765a"
      }
     },
     "0be12373d5664343b20443ac41f080b2": {
      "model_module": "jupyter-matplotlib",
      "model_module_version": "^0.7.2",
      "model_name": "ToolbarModel",
      "state": {
       "layout": "IPY_MODEL_5ed6ecffe2b849478aee2402ae0031ad",
       "toolitems": [
        [
         "Home",
         "Reset original view",
         "home",
         "home"
        ],
        [
         "Back",
         "Back to previous view",
         "arrow-left",
         "back"
        ],
        [
         "Forward",
         "Forward to next view",
         "arrow-right",
         "forward"
        ],
        [
         "Pan",
         "Pan axes with left mouse, zoom with right",
         "arrows",
         "pan"
        ],
        [
         "Zoom",
         "Zoom to rectangle",
         "square-o",
         "zoom"
        ],
        [
         "Download",
         "Download plot",
         "floppy-o",
         "save_figure"
        ]
       ]
      }
     },
     "0c032d85b459424580f0201c58b11ec7": {
      "model_module": "@jupyter-widgets/controls",
      "model_module_version": "1.5.0",
      "model_name": "DropdownModel",
      "state": {
       "_options_labels": [
        "tanh",
        "atan",
        "simple"
       ],
       "description": "Compression Function:",
       "index": 0,
       "layout": "IPY_MODEL_4f56e2a47a074931bec0dd7ec3f141f6",
       "style": "IPY_MODEL_2b4cbba898094325b0cb8409f559b85c"
      }
     },
     "0c1b6af56b1544a8bd2e7e6faf456185": {
      "model_module": "@jupyter-widgets/base",
      "model_module_version": "1.2.0",
      "model_name": "LayoutModel",
      "state": {}
     },
     "0ca1a1fdcec74d9c92a9a239f4f00ce6": {
      "model_module": "@jupyter-widgets/controls",
      "model_module_version": "1.5.0",
      "model_name": "SliderStyleModel",
      "state": {
       "description_width": ""
      }
     },
     "0d0061ef2f924296b94224addf8db420": {
      "model_module": "@jupyter-widgets/controls",
      "model_module_version": "1.5.0",
      "model_name": "FloatSliderModel",
      "state": {
       "description": "Exposure",
       "layout": "IPY_MODEL_bd51ca024c434c60ba26fcd412061691",
       "max": 8,
       "min": -8,
       "step": 0.1,
       "style": "IPY_MODEL_f2bd1fb37a654ea98d0435999793ae3e"
      }
     },
     "0d1973da2abc47c2a49c41156b7131eb": {
      "model_module": "@jupyter-widgets/controls",
      "model_module_version": "1.5.0",
      "model_name": "FloatSliderModel",
      "state": {
       "description": "Compression Threshold",
       "layout": "IPY_MODEL_fa8f57f488bf473584dea6a5cae11377",
       "max": 1,
       "step": 0.01,
       "style": "IPY_MODEL_3ae4e1bf3eee4e6486470c927fa5b726",
       "value": 0.8
      }
     },
     "0d281a06ae664697b6d37c3573ce6544": {
      "model_module": "@jupyter-widgets/controls",
      "model_module_version": "1.5.0",
      "model_name": "ButtonModel",
      "state": {
       "description": "Export Image",
       "layout": "IPY_MODEL_61aa04910edf4042a4c47e4fd31cc11a",
       "style": "IPY_MODEL_317dfb616efd4a7bb57890cca42c8d2b"
      }
     },
     "0d2b31407f9f4bc7b0026d4f6e8ed460": {
      "model_module": "@jupyter-widgets/controls",
      "model_module_version": "1.5.0",
      "model_name": "FloatSliderModel",
      "state": {
       "description": "Exposure",
       "layout": "IPY_MODEL_16db2380796c4006a8a3cce941a19447",
       "max": 8,
       "min": -8,
       "step": 0.1,
       "style": "IPY_MODEL_e08dcaeaab69424fabad1fb7fafd82d5"
      }
     },
     "0d33e045fec04582aae25406bdbf2e7e": {
      "model_module": "@jupyter-widgets/controls",
      "model_module_version": "1.5.0",
      "model_name": "SliderStyleModel",
      "state": {
       "description_width": ""
      }
     },
     "0d4e3ebf8df64a8889e4c2094ec7cbe1": {
      "model_module": "@jupyter-widgets/controls",
      "model_module_version": "1.5.0",
      "model_name": "ButtonModel",
      "state": {
       "description": "Export Image",
       "layout": "IPY_MODEL_2d468d90370b4ba79e5c2135e7e1f0d4",
       "style": "IPY_MODEL_dce8df4c626c4faea20bf14ac3d91c3e"
      }
     },
     "0da282c94bae46e582b8853c276879ab": {
      "model_module": "@jupyter-widgets/controls",
      "model_module_version": "1.5.0",
      "model_name": "ButtonStyleModel",
      "state": {}
     },
     "0dad7f38567a4a71836e79d214e1add0": {
      "model_module": "@jupyter-widgets/controls",
      "model_module_version": "1.5.0",
      "model_name": "ButtonModel",
      "state": {
       "description": "Save Figure",
       "layout": "IPY_MODEL_139eda13ab034d5785c88cdb35ccb7d2",
       "style": "IPY_MODEL_5dac523ce0d2452faf4c94becef3d770"
      }
     },
     "0dba562459bb49389e3a2d39fdf3ba84": {
      "model_module": "@jupyter-widgets/controls",
      "model_module_version": "1.5.0",
      "model_name": "FloatSliderModel",
      "state": {
       "description": "45°",
       "layout": "IPY_MODEL_cf2688d19aba431a98e8ee67ef97c94a",
       "max": 1,
       "min": -1,
       "step": 0.01,
       "style": "IPY_MODEL_957698ee4f8a4725bc9c30d9111eebc4"
      }
     },
     "0dd1deb544e04bcdaba47ced20d142ec": {
      "model_module": "@jupyter-widgets/controls",
      "model_module_version": "1.5.0",
      "model_name": "DescriptionStyleModel",
      "state": {
       "description_width": ""
      }
     },
     "0de57dd7a1cf422e995821edb2c67ef1": {
      "model_module": "jupyter-matplotlib",
      "model_module_version": "^0.7.2",
      "model_name": "ToolbarModel",
      "state": {
       "layout": "IPY_MODEL_96973c7cc4d747ccb637ad0675df185a",
       "toolitems": [
        [
         "Home",
         "Reset original view",
         "home",
         "home"
        ],
        [
         "Back",
         "Back to previous view",
         "arrow-left",
         "back"
        ],
        [
         "Forward",
         "Forward to next view",
         "arrow-right",
         "forward"
        ],
        [
         "Pan",
         "Pan axes with left mouse, zoom with right",
         "arrows",
         "pan"
        ],
        [
         "Zoom",
         "Zoom to rectangle",
         "square-o",
         "zoom"
        ],
        [
         "Download",
         "Download plot",
         "floppy-o",
         "save_figure"
        ]
       ]
      }
     },
     "0de6ae216c5a46a58c8de38970ab6797": {
      "model_module": "@jupyter-widgets/base",
      "model_module_version": "1.2.0",
      "model_name": "LayoutModel",
      "state": {
       "border": "solid 4px #222",
       "margin": "4px",
       "padding": "0"
      }
     },
     "0e05407cf97b4d80a4459097cf7eacb4": {
      "model_module": "@jupyter-widgets/controls",
      "model_module_version": "1.5.0",
      "model_name": "ButtonModel",
      "state": {
       "description": "Reset Exposure",
       "layout": "IPY_MODEL_54105cb366aa4b8597301719576cb12d",
       "style": "IPY_MODEL_ac4f0d4e967f461b931e244484d1a069"
      }
     },
     "0e1ce82b11a048f891f3680ace0ae72b": {
      "model_module": "@jupyter-widgets/controls",
      "model_module_version": "1.5.0",
      "model_name": "DescriptionStyleModel",
      "state": {
       "description_width": ""
      }
     },
     "0e5adf97a5504527b45c665d1f8b38bd": {
      "model_module": "@jupyter-widgets/base",
      "model_module_version": "1.2.0",
      "model_name": "LayoutModel",
      "state": {}
     },
     "0e5cfffbe7294c4dbde7fde6b875e7bf": {
      "model_module": "@jupyter-widgets/controls",
      "model_module_version": "1.5.0",
      "model_name": "SliderStyleModel",
      "state": {
       "description_width": ""
      }
     },
     "0e6a322e427448bcbc9be45b5869e968": {
      "model_module": "@jupyter-widgets/controls",
      "model_module_version": "1.5.0",
      "model_name": "ButtonModel",
      "state": {
       "description": "Reset Exposure",
       "layout": "IPY_MODEL_c69d2b6420684e2287f9fbd4064bc1cc",
       "style": "IPY_MODEL_9a28ce3b904a47b1b8b2a5d1e1cd01fa"
      }
     },
     "0e8368a9aeaa402b8e42a824992775dc": {
      "model_module": "@jupyter-widgets/controls",
      "model_module_version": "1.5.0",
      "model_name": "FloatSliderModel",
      "state": {
       "description": "Protected Area Threshold",
       "layout": "IPY_MODEL_89d9de3bd2834425ad95e1b9e0f6b208",
       "max": 1,
       "step": 0.01,
       "style": "IPY_MODEL_59b1d579c569469ba67b5c868fdac97f",
       "value": 0.7
      }
     },
     "0e8bbb7021314f2595a1246ff0f107d2": {
      "model_module": "@jupyter-widgets/controls",
      "model_module_version": "1.5.0",
      "model_name": "ButtonStyleModel",
      "state": {}
     },
     "0eb1ef28d99c4e05ad1a085f98e59f61": {
      "model_module": "@jupyter-widgets/base",
      "model_module_version": "1.2.0",
      "model_name": "LayoutModel",
      "state": {}
     },
     "0ebfc6f6bc80452e84331d104f60b6f0": {
      "model_module": "@jupyter-widgets/controls",
      "model_module_version": "1.5.0",
      "model_name": "SliderStyleModel",
      "state": {
       "description_width": ""
      }
     },
     "0f1ffb6b0a564022ae01ee6a44b36bae": {
      "model_module": "@jupyter-widgets/base",
      "model_module_version": "1.2.0",
      "model_name": "LayoutModel",
      "state": {}
     },
     "0f6d6f4424ab4dac9ed78407d13ff9f8": {
      "model_module": "@jupyter-widgets/base",
      "model_module_version": "1.2.0",
      "model_name": "LayoutModel",
      "state": {}
     },
     "0f79dc7ab46f4ba880f1bd1d824d436c": {
      "model_module": "@jupyter-widgets/controls",
      "model_module_version": "1.5.0",
      "model_name": "ButtonModel",
      "state": {
       "description": "Save Figure",
       "layout": "IPY_MODEL_bfe9671600cc4617a0ab2f5908914a25",
       "style": "IPY_MODEL_a55e465d5ba1460daf57088dfbe9a444"
      }
     },
     "0faf874091fc4abc9635cb3dccf5c286": {
      "model_module": "@jupyter-widgets/controls",
      "model_module_version": "1.5.0",
      "model_name": "ButtonModel",
      "state": {
       "description": "Reset Saturation Controls",
       "layout": "IPY_MODEL_bcf5ffdf797a4ff986f83fbe90b65532",
       "style": "IPY_MODEL_e71722aaee1141a19bd544f4ad9e0f72"
      }
     },
     "0fc20e4ffd324131b88fd971136b1ec8": {
      "model_module": "@jupyter-widgets/controls",
      "model_module_version": "1.5.0",
      "model_name": "ButtonModel",
      "state": {
       "description": "Reset Exposure",
       "layout": "IPY_MODEL_3238b159a8f349bb93418365487505e1",
       "style": "IPY_MODEL_8c501745f37e4a68a650972d98388b00"
      }
     },
     "0fde8f81933842dd8f277e831335c8f2": {
      "model_module": "@jupyter-widgets/base",
      "model_module_version": "1.2.0",
      "model_name": "LayoutModel",
      "state": {}
     },
     "0ff6586c98454d009e2b15474456c89e": {
      "model_module": "@jupyter-widgets/base",
      "model_module_version": "1.2.0",
      "model_name": "LayoutModel",
      "state": {}
     },
     "0fff7a3d1bf64899b98016460e3cd819": {
      "model_module": "@jupyter-widgets/controls",
      "model_module_version": "1.5.0",
      "model_name": "VBoxModel",
      "state": {
       "children": [
        "IPY_MODEL_8a8faaf6c87d49a587ff95d4ab2c7f49",
        "IPY_MODEL_19fa53704f604812aeceebc4d57df19e",
        "IPY_MODEL_70375717997b454ab7d5e684a431260d"
       ],
       "layout": "IPY_MODEL_0f6d6f4424ab4dac9ed78407d13ff9f8"
      }
     },
     "10514fb2e4c649318fb87237b7a53fff": {
      "model_module": "@jupyter-widgets/controls",
      "model_module_version": "1.5.0",
      "model_name": "SliderStyleModel",
      "state": {
       "description_width": ""
      }
     },
     "10563c70fd7341da84c9c83ead85049a": {
      "model_module": "@jupyter-widgets/controls",
      "model_module_version": "1.5.0",
      "model_name": "DropdownModel",
      "state": {
       "_options_labels": [
        "tanh",
        "atan",
        "simple"
       ],
       "description": "Compression Function:",
       "index": 0,
       "layout": "IPY_MODEL_f928c73b485b42528103240f40c2e328",
       "style": "IPY_MODEL_3881c34655904c28be60e16cac12fa71"
      }
     },
     "107a55214cfb4f07a64feba716aba76c": {
      "model_module": "@jupyter-widgets/base",
      "model_module_version": "1.2.0",
      "model_name": "LayoutModel",
      "state": {}
     },
     "109ec2e48ddf4f72b9b66312e65c4919": {
      "model_module": "@jupyter-widgets/base",
      "model_module_version": "1.2.0",
      "model_name": "LayoutModel",
      "state": {}
     },
     "10bb7a8842304298a042ee72970cd176": {
      "model_module": "@jupyter-widgets/controls",
      "model_module_version": "1.5.0",
      "model_name": "VBoxModel",
      "state": {
       "children": [
        "IPY_MODEL_7583fbf19d1048f998350e28e5a78841"
       ],
       "layout": "IPY_MODEL_8f2695ec930c43ab8654d48b90871d35"
      }
     },
     "11106bfda9954ca394bd04c1103858c5": {
      "model_module": "@jupyter-widgets/base",
      "model_module_version": "1.2.0",
      "model_name": "LayoutModel",
      "state": {}
     },
     "1120ae3dec1c4b108d5be740c159dcc6": {
      "model_module": "@jupyter-widgets/controls",
      "model_module_version": "1.5.0",
      "model_name": "SliderStyleModel",
      "state": {
       "description_width": ""
      }
     },
     "1153b06988a847d28b5849f523b15918": {
      "model_module": "@jupyter-widgets/controls",
      "model_module_version": "1.5.0",
      "model_name": "SliderStyleModel",
      "state": {
       "description_width": ""
      }
     },
     "1162596d650e4e2b85586e795282ee51": {
      "model_module": "@jupyter-widgets/base",
      "model_module_version": "1.2.0",
      "model_name": "LayoutModel",
      "state": {}
     },
     "118a162f5450468693bd6bbd71e83e16": {
      "model_module": "@jupyter-widgets/controls",
      "model_module_version": "1.5.0",
      "model_name": "DropdownModel",
      "state": {
       "_options_labels": [
        "tanh",
        "atan",
        "simple"
       ],
       "description": "Compression Function:",
       "index": 0,
       "layout": "IPY_MODEL_90e737f0f8fc431780c6492c6fb9ef8a",
       "style": "IPY_MODEL_5a264116b49a4adf95db88798e845f2f"
      }
     },
     "121624e0929b473bafb2a9966d388040": {
      "model_module": "@jupyter-widgets/controls",
      "model_module_version": "1.5.0",
      "model_name": "ButtonModel",
      "state": {
       "description": "Save Figure",
       "layout": "IPY_MODEL_8789ba5acaf5470d9147a820d7dbf36b",
       "style": "IPY_MODEL_f6e2a8926cf546f5bf6c524de1dfd4b5"
      }
     },
     "1222807460dc4caf9884b72e2871e110": {
      "model_module": "@jupyter-widgets/base",
      "model_module_version": "1.2.0",
      "model_name": "LayoutModel",
      "state": {
       "border": "solid 4px #222",
       "margin": "4px",
       "padding": "0"
      }
     },
     "123cfd52805f486b86616b1318485164": {
      "model_module": "@jupyter-widgets/base",
      "model_module_version": "1.2.0",
      "model_name": "LayoutModel",
      "state": {}
     },
     "12532e42e5694461afed2bd40e1abe97": {
      "model_module": "@jupyter-widgets/base",
      "model_module_version": "1.2.0",
      "model_name": "LayoutModel",
      "state": {
       "border": "solid 4px #222",
       "margin": "4px",
       "padding": "0"
      }
     },
     "1264d3b5ea9f4446840fca9f1299324d": {
      "model_module": "@jupyter-widgets/controls",
      "model_module_version": "1.5.0",
      "model_name": "HBoxModel",
      "state": {
       "children": [
        "IPY_MODEL_f17bf20aca9f4c48bb94f2a02cccc3ce",
        "IPY_MODEL_cc8d0e88d1ff40258d7bac63e9337d77",
        "IPY_MODEL_466d1b026f1d401aa48fcc9f7419f1a5"
       ],
       "layout": "IPY_MODEL_2b1c5d75e4ef42ebbda34f319b733cf3"
      }
     },
     "126c9918fff94b9c90df38f81b1fedaf": {
      "model_module": "@jupyter-widgets/controls",
      "model_module_version": "1.5.0",
      "model_name": "ButtonStyleModel",
      "state": {}
     },
     "12bdddfa11924686b4e07c8a6b1b553f": {
      "model_module": "@jupyter-widgets/base",
      "model_module_version": "1.2.0",
      "model_name": "LayoutModel",
      "state": {}
     },
     "12d42d2fb909402f9a05ea5dbcfa7c8f": {
      "model_module": "@jupyter-widgets/controls",
      "model_module_version": "1.5.0",
      "model_name": "HBoxModel",
      "state": {
       "children": [
        "IPY_MODEL_c80cbcb6457b4e18a962d576f34c69f4",
        "IPY_MODEL_26d71f9e18c24aa099e917e4d774185a",
        "IPY_MODEL_bffda807c8294e1299bdef2bf6c14f97",
        "IPY_MODEL_0afd55b4b7794d3ca60fd594ebcbac30",
        "IPY_MODEL_3ca1547390e84011acc08553b9d516ff"
       ],
       "layout": "IPY_MODEL_71f2e883dd5240c99c88c6ed0fddc729"
      }
     },
     "12e2add3125340ee983d45f4a22accf2": {
      "model_module": "@jupyter-widgets/base",
      "model_module_version": "1.2.0",
      "model_name": "LayoutModel",
      "state": {}
     },
     "1354c49e31bf41fe9e69bb8b949deb7e": {
      "model_module": "@jupyter-widgets/base",
      "model_module_version": "1.2.0",
      "model_name": "LayoutModel",
      "state": {}
     },
     "13658d2bacff433d9e136b3508f1fcca": {
      "model_module": "@jupyter-widgets/controls",
      "model_module_version": "1.5.0",
      "model_name": "VBoxModel",
      "state": {
       "children": [
        "IPY_MODEL_77ad72778a284e6ea5d2f7f2c0701290",
        "IPY_MODEL_71f2fceedb434145a090a3c409f020d4"
       ],
       "layout": "IPY_MODEL_b215fef18a84430c8df4251a81d41495"
      }
     },
     "139eda13ab034d5785c88cdb35ccb7d2": {
      "model_module": "@jupyter-widgets/base",
      "model_module_version": "1.2.0",
      "model_name": "LayoutModel",
      "state": {}
     },
     "1420bb033d5544ccb7c839fb0efafa2c": {
      "model_module": "@jupyter-widgets/base",
      "model_module_version": "1.2.0",
      "model_name": "LayoutModel",
      "state": {}
     },
     "146ea9a27e014c898cd8c0e7f65024fb": {
      "model_module": "@jupyter-widgets/controls",
      "model_module_version": "1.5.0",
      "model_name": "SliderStyleModel",
      "state": {
       "description_width": ""
      }
     },
     "147780636cea4d4d9b99d5c618128eba": {
      "model_module": "@jupyter-widgets/controls",
      "model_module_version": "1.5.0",
      "model_name": "TabModel",
      "state": {
       "_titles": {
        "0": "Global Controls",
        "1": "Protected Area Controls",
        "2": "Saturation Controls",
        "3": "Hue Controls"
       },
       "children": [
        "IPY_MODEL_7760b0c378df446f8125292a1b636db6",
        "IPY_MODEL_e0f522049fe24769bedd1750c0a71421",
        "IPY_MODEL_1264d3b5ea9f4446840fca9f1299324d",
        "IPY_MODEL_a79fdc81dfca40819f611aa98a565e71"
       ],
       "layout": "IPY_MODEL_654d882cd0c24230acb19456aa1843fe"
      }
     },
     "14811a302f584cda9491b63abd3a4a6d": {
      "model_module": "@jupyter-widgets/base",
      "model_module_version": "1.2.0",
      "model_name": "LayoutModel",
      "state": {
       "border": "solid 4px #222",
       "margin": "4px",
       "padding": "0"
      }
     },
     "14d5c367c64e4f8ea4b62a77914acdff": {
      "model_module": "@jupyter-widgets/base",
      "model_module_version": "1.2.0",
      "model_name": "LayoutModel",
      "state": {}
     },
     "1524715e532a42148a9e0b03aaca2380": {
      "model_module": "@jupyter-widgets/controls",
      "model_module_version": "1.5.0",
      "model_name": "CheckboxModel",
      "state": {
       "description": "Disable Medicina",
       "disabled": false,
       "layout": "IPY_MODEL_b9750f9849f04b55a1acf4c49a322c97",
       "style": "IPY_MODEL_7dae7ddc7ed84c67ab1a05202b21efaf",
       "value": false
      }
     },
     "1581f6bcf25a4f3c806455f6ed873954": {
      "model_module": "@jupyter-widgets/base",
      "model_module_version": "1.2.0",
      "model_name": "LayoutModel",
      "state": {}
     },
     "159958177a004b3ea2c80b4a4bfa7297": {
      "model_module": "@jupyter-widgets/base",
      "model_module_version": "1.2.0",
      "model_name": "LayoutModel",
      "state": {}
     },
     "159e5bc69d054ca49f3fbf9e6c003f43": {
      "model_module": "@jupyter-widgets/base",
      "model_module_version": "1.2.0",
      "model_name": "LayoutModel",
      "state": {}
     },
     "15a5e3d0415e4633b755fa7acf164816": {
      "model_module": "@jupyter-widgets/base",
      "model_module_version": "1.2.0",
      "model_name": "LayoutModel",
      "state": {}
     },
     "15c437235cb749f79707ec9f4743fcd6": {
      "model_module": "jupyter-matplotlib",
      "model_module_version": "^0.7.2",
      "model_name": "MPLCanvasModel",
      "state": {
       "_figure_label": "Figure 27",
       "_height": 550,
       "_image_mode": "diff",
       "_width": 1100,
       "header_visible": false,
       "layout": "IPY_MODEL_5e5cd88ff8764de68a2ae95d6beee558",
       "resizable": false,
       "toolbar": "IPY_MODEL_5aac61672a924388a4495630614519ec",
       "toolbar_position": "left",
       "toolbar_visible": false
      }
     },
     "15d74869676d4fe4ba5b529916e73a3a": {
      "model_module": "@jupyter-widgets/controls",
      "model_module_version": "1.5.0",
      "model_name": "CheckboxModel",
      "state": {
       "description": "Disable Medicina",
       "disabled": false,
       "layout": "IPY_MODEL_913454a1acd04b1b9e5ce922fdee1312",
       "style": "IPY_MODEL_2c38af8444ac4ca8b553fb80c40de930",
       "value": false
      }
     },
     "16098a4f8f204a3085cd91bd86d3a175": {
      "model_module": "@jupyter-widgets/base",
      "model_module_version": "1.2.0",
      "model_name": "LayoutModel",
      "state": {}
     },
     "16112d217fd0402a879da4a7e72906c2": {
      "model_module": "@jupyter-widgets/controls",
      "model_module_version": "1.5.0",
      "model_name": "HBoxModel",
      "state": {
       "children": [
        "IPY_MODEL_ac978c77abcc430785ded63e5b7a6c26",
        "IPY_MODEL_8cdd9443a8ed439da4b17529414cb4c8",
        "IPY_MODEL_d2c23236969645948435e27cf91a60a1",
        "IPY_MODEL_364c23d4a2c840f69a67afd2dc75dbfc",
        "IPY_MODEL_eca969868dcc497aa41c3242dd1b2f96"
       ],
       "layout": "IPY_MODEL_b917856c406544609ff0ad8f1d9c020e"
      }
     },
     "163cba27887d4d658886aea882cea916": {
      "model_module": "@jupyter-widgets/controls",
      "model_module_version": "1.5.0",
      "model_name": "ButtonModel",
      "state": {
       "description": "Save Figure",
       "layout": "IPY_MODEL_0a876d44fa3a4d82a24a8f9bf47a3e01",
       "style": "IPY_MODEL_1fbc6c113738457e94683911d0c48131"
      }
     },
     "164d75067b8145c9b275950ace91f7fe": {
      "model_module": "@jupyter-widgets/base",
      "model_module_version": "1.2.0",
      "model_name": "LayoutModel",
      "state": {}
     },
     "16b90ee404104744aa9230664d4cbd02": {
      "model_module": "@jupyter-widgets/base",
      "model_module_version": "1.2.0",
      "model_name": "LayoutModel",
      "state": {}
     },
     "16db2380796c4006a8a3cce941a19447": {
      "model_module": "@jupyter-widgets/base",
      "model_module_version": "1.2.0",
      "model_name": "LayoutModel",
      "state": {}
     },
     "16e617d0a63642ec836a8ffa07bf174d": {
      "model_module": "@jupyter-widgets/controls",
      "model_module_version": "1.5.0",
      "model_name": "SliderStyleModel",
      "state": {
       "description_width": ""
      }
     },
     "17018c7c5c2243c9a480bd70e09fc2ed": {
      "model_module": "@jupyter-widgets/base",
      "model_module_version": "1.2.0",
      "model_name": "LayoutModel",
      "state": {}
     },
     "17399cb19d3345e58c0f511949abe555": {
      "model_module": "@jupyter-widgets/base",
      "model_module_version": "1.2.0",
      "model_name": "LayoutModel",
      "state": {}
     },
     "174c49a150594c8988fdc5f25c83edff": {
      "model_module": "@jupyter-widgets/controls",
      "model_module_version": "1.5.0",
      "model_name": "CheckboxModel",
      "state": {
       "description": "Disable Medicina",
       "disabled": false,
       "layout": "IPY_MODEL_bc0cde461909470d9f590287c5a9cba3",
       "style": "IPY_MODEL_c93f659f631643a8852082cdbb30a13b",
       "value": false
      }
     },
     "17752d020ae843bd8269506a38d40100": {
      "model_module": "@jupyter-widgets/controls",
      "model_module_version": "1.5.0",
      "model_name": "ButtonModel",
      "state": {
       "description": "Reset Saturation Controls",
       "layout": "IPY_MODEL_c7c579846e93438c8d8d3c9631c9553f",
       "style": "IPY_MODEL_1f6a6600bbe84430b14406fdda250551"
      }
     },
     "17bb675c36ea4f52b38d93b88a6f51c7": {
      "model_module": "@jupyter-widgets/controls",
      "model_module_version": "1.5.0",
      "model_name": "SliderStyleModel",
      "state": {
       "description_width": ""
      }
     },
     "17e7c8ff86a24439b8c43328b20d9ee8": {
      "model_module": "@jupyter-widgets/controls",
      "model_module_version": "1.5.0",
      "model_name": "FloatSliderModel",
      "state": {
       "description": "180°",
       "layout": "IPY_MODEL_bde9a21455f641a1ab360d900456fa8f",
       "max": 1,
       "min": -1,
       "step": 0.01,
       "style": "IPY_MODEL_042d2d7494d841d5bc9fb9e54d9185b1"
      }
     },
     "17ee88e297a3494a9d1770425e9db675": {
      "model_module": "@jupyter-widgets/base",
      "model_module_version": "1.2.0",
      "model_name": "LayoutModel",
      "state": {}
     },
     "18011d0f37a845158328d6578a573754": {
      "model_module": "@jupyter-widgets/base",
      "model_module_version": "1.2.0",
      "model_name": "LayoutModel",
      "state": {}
     },
     "180fc05a07a145d7a3158b19e1b40987": {
      "model_module": "@jupyter-widgets/base",
      "model_module_version": "1.2.0",
      "model_name": "LayoutModel",
      "state": {}
     },
     "18206df110d34d4c9b1cfc81b5150609": {
      "model_module": "jupyter-matplotlib",
      "model_module_version": "^0.7.2",
      "model_name": "ToolbarModel",
      "state": {
       "layout": "IPY_MODEL_3fd7d694505540659e04c7ea9c32c54f",
       "toolitems": [
        [
         "Home",
         "Reset original view",
         "home",
         "home"
        ],
        [
         "Back",
         "Back to previous view",
         "arrow-left",
         "back"
        ],
        [
         "Forward",
         "Forward to next view",
         "arrow-right",
         "forward"
        ],
        [
         "Pan",
         "Pan axes with left mouse, zoom with right",
         "arrows",
         "pan"
        ],
        [
         "Zoom",
         "Zoom to rectangle",
         "square-o",
         "zoom"
        ],
        [
         "Download",
         "Download plot",
         "floppy-o",
         "save_figure"
        ]
       ]
      }
     },
     "184739d60f754799a6873181a8c6266f": {
      "model_module": "@jupyter-widgets/base",
      "model_module_version": "1.2.0",
      "model_name": "LayoutModel",
      "state": {}
     },
     "18497fae9e934930bab727c28dd05aa0": {
      "model_module": "@jupyter-widgets/base",
      "model_module_version": "1.2.0",
      "model_name": "LayoutModel",
      "state": {}
     },
     "187e47dfab914849a62ef3dbcc531485": {
      "model_module": "@jupyter-widgets/controls",
      "model_module_version": "1.5.0",
      "model_name": "ButtonStyleModel",
      "state": {}
     },
     "187f100d8cd84a41af51ffb7f414d13c": {
      "model_module": "@jupyter-widgets/base",
      "model_module_version": "1.2.0",
      "model_name": "LayoutModel",
      "state": {}
     },
     "18fa9d6e10f44b0a869446725717e535": {
      "model_module": "@jupyter-widgets/controls",
      "model_module_version": "1.5.0",
      "model_name": "FloatSliderModel",
      "state": {
       "description": "180°",
       "layout": "IPY_MODEL_164d75067b8145c9b275950ace91f7fe",
       "max": 1,
       "min": -1,
       "step": 0.01,
       "style": "IPY_MODEL_4a55d90ed29241ea9bb95417b449d763"
      }
     },
     "190a57afe87d4a66b9073a5735e3f936": {
      "model_module": "@jupyter-widgets/controls",
      "model_module_version": "1.5.0",
      "model_name": "DescriptionStyleModel",
      "state": {
       "description_width": ""
      }
     },
     "190e94f056b94c63ab2c3adf2af48924": {
      "model_module": "@jupyter-widgets/base",
      "model_module_version": "1.2.0",
      "model_name": "LayoutModel",
      "state": {}
     },
     "19273f5149e2469fbd155d76e7a2ca18": {
      "model_module": "jupyter-matplotlib",
      "model_module_version": "^0.7.2",
      "model_name": "ToolbarModel",
      "state": {
       "layout": "IPY_MODEL_6fab8458278646f5a75c8795619d599e",
       "toolitems": [
        [
         "Home",
         "Reset original view",
         "home",
         "home"
        ],
        [
         "Back",
         "Back to previous view",
         "arrow-left",
         "back"
        ],
        [
         "Forward",
         "Forward to next view",
         "arrow-right",
         "forward"
        ],
        [
         "Pan",
         "Pan axes with left mouse, zoom with right",
         "arrows",
         "pan"
        ],
        [
         "Zoom",
         "Zoom to rectangle",
         "square-o",
         "zoom"
        ],
        [
         "Download",
         "Download plot",
         "floppy-o",
         "save_figure"
        ]
       ]
      }
     },
     "195538fee4c5477f9bc6588cc836ee26": {
      "model_module": "@jupyter-widgets/base",
      "model_module_version": "1.2.0",
      "model_name": "LayoutModel",
      "state": {}
     },
     "195c58121ca645ebb6af56e5f2844916": {
      "model_module": "@jupyter-widgets/base",
      "model_module_version": "1.2.0",
      "model_name": "LayoutModel",
      "state": {}
     },
     "19772bb7a5954804bc0c59b2c766607d": {
      "model_module": "@jupyter-widgets/base",
      "model_module_version": "1.2.0",
      "model_name": "LayoutModel",
      "state": {}
     },
     "19a88d71d95f4fa5b1da4f6ebd833a3f": {
      "model_module": "@jupyter-widgets/controls",
      "model_module_version": "1.5.0",
      "model_name": "ButtonStyleModel",
      "state": {}
     },
     "19daabc9fbaa483d8ceb968a20c3001e": {
      "model_module": "@jupyter-widgets/controls",
      "model_module_version": "1.5.0",
      "model_name": "ButtonStyleModel",
      "state": {}
     },
     "19fa53704f604812aeceebc4d57df19e": {
      "model_module": "@jupyter-widgets/controls",
      "model_module_version": "1.5.0",
      "model_name": "FloatSliderModel",
      "state": {
       "description": "180°",
       "layout": "IPY_MODEL_faee377a21ce4cd0873abce14ae315d3",
       "max": 1,
       "min": -1,
       "step": 0.01,
       "style": "IPY_MODEL_1153b06988a847d28b5849f523b15918"
      }
     },
     "19faa4cbb4814456ac0f4859178de2dd": {
      "model_module": "@jupyter-widgets/base",
      "model_module_version": "1.2.0",
      "model_name": "LayoutModel",
      "state": {}
     },
     "1a04f1eb9a7d4ed98a46398cd2fb762a": {
      "model_module": "@jupyter-widgets/base",
      "model_module_version": "1.2.0",
      "model_name": "LayoutModel",
      "state": {}
     },
     "1a1906d2de2d4fcea02c38c9b55d3292": {
      "model_module": "@jupyter-widgets/base",
      "model_module_version": "1.2.0",
      "model_name": "LayoutModel",
      "state": {
       "border": "solid 4px #222",
       "margin": "4px",
       "padding": "0"
      }
     },
     "1a5f5effdabc4081a4be3b3bb617716d": {
      "model_module": "@jupyter-widgets/controls",
      "model_module_version": "1.5.0",
      "model_name": "DropdownModel",
      "state": {
       "_options_labels": [
        "tanh",
        "atan",
        "simple"
       ],
       "description": "Compression Function:",
       "index": 0,
       "layout": "IPY_MODEL_195c58121ca645ebb6af56e5f2844916",
       "style": "IPY_MODEL_c21658bc1af44b05a9cc01fa2cef69dd"
      }
     },
     "1aa7c4b3be8a455393f96929f7f2dd79": {
      "model_module": "@jupyter-widgets/controls",
      "model_module_version": "1.5.0",
      "model_name": "ButtonModel",
      "state": {
       "description": "Reset Hue Controls",
       "layout": "IPY_MODEL_cfde347627bd4a2681e33dfba722ee6f",
       "style": "IPY_MODEL_2aa60203c9d04a109028ec9044b55194"
      }
     },
     "1aba58c51ff04acaba4b85a17a509316": {
      "model_module": "@jupyter-widgets/controls",
      "model_module_version": "1.5.0",
      "model_name": "ButtonStyleModel",
      "state": {}
     },
     "1b0551d2dbe247dc99f6fcf0f5f7ad38": {
      "model_module": "@jupyter-widgets/base",
      "model_module_version": "1.2.0",
      "model_name": "LayoutModel",
      "state": {}
     },
     "1b4f87c5d7cd41229e89c3aa9e07ca26": {
      "model_module": "@jupyter-widgets/controls",
      "model_module_version": "1.5.0",
      "model_name": "ButtonModel",
      "state": {
       "description": "Reset Saturation Controls",
       "layout": "IPY_MODEL_236a3359b40144a2be0cd22d8a9bddd9",
       "style": "IPY_MODEL_eabe295166f74fba93e8bf542b49e781"
      }
     },
     "1bd865f0810a4e639115ee8b8b08a6e1": {
      "model_module": "@jupyter-widgets/controls",
      "model_module_version": "1.5.0",
      "model_name": "SliderStyleModel",
      "state": {
       "description_width": ""
      }
     },
     "1bf4330cee2749acb72a496c2df174d5": {
      "model_module": "@jupyter-widgets/controls",
      "model_module_version": "1.5.0",
      "model_name": "HBoxModel",
      "state": {
       "children": [
        "IPY_MODEL_94a363dd1f3b4d31ba412800e5441a7f",
        "IPY_MODEL_fc7720e7de5f4350b607749dc5b932e5",
        "IPY_MODEL_45fb39f23e5b4646854dd257ae764ad3"
       ],
       "layout": "IPY_MODEL_42cc4736d99d44559ef1910edb9a71d9"
      }
     },
     "1c273b33fd134300892e424f4cc88285": {
      "model_module": "@jupyter-widgets/controls",
      "model_module_version": "1.5.0",
      "model_name": "DescriptionStyleModel",
      "state": {
       "description_width": ""
      }
     },
     "1c306da5aa7c4a97a9b72924be328e4d": {
      "model_module": "@jupyter-widgets/controls",
      "model_module_version": "1.5.0",
      "model_name": "VBoxModel",
      "state": {
       "children": [
        "IPY_MODEL_30327e60c5be49a089e4119273ed8fd0",
        "IPY_MODEL_fb2b72d08d32415cadb316105a551a94",
        "IPY_MODEL_e2e7857753e147bc802b4a3e9f432310"
       ],
       "layout": "IPY_MODEL_df24012524b640fc8a834b4985b5394a"
      }
     },
     "1c4624c3ec0846fd94be190032ebe4bc": {
      "model_module": "@jupyter-widgets/controls",
      "model_module_version": "1.5.0",
      "model_name": "DescriptionStyleModel",
      "state": {
       "description_width": ""
      }
     },
     "1ca4cf43c1e34fa083a0c71c3bcf7bc3": {
      "model_module": "@jupyter-widgets/base",
      "model_module_version": "1.2.0",
      "model_name": "LayoutModel",
      "state": {}
     },
     "1caeb8efedd94e03944da12844cb1def": {
      "model_module": "@jupyter-widgets/controls",
      "model_module_version": "1.5.0",
      "model_name": "DescriptionStyleModel",
      "state": {
       "description_width": ""
      }
     },
     "1cbbffb78a824bd0848ba37382914f3f": {
      "model_module": "@jupyter-widgets/controls",
      "model_module_version": "1.5.0",
      "model_name": "SliderStyleModel",
      "state": {
       "description_width": ""
      }
     },
     "1cdd830fcbd84a14b08319767b37c6d2": {
      "model_module": "@jupyter-widgets/controls",
      "model_module_version": "1.5.0",
      "model_name": "ButtonModel",
      "state": {
       "description": "Reset Protected Area",
       "layout": "IPY_MODEL_478e247a699142b7bae34186b7360244",
       "style": "IPY_MODEL_99452d52336d4dd395bf4ae14689d840"
      }
     },
     "1cea2a75c9d7406db9bf6efd2fb111fb": {
      "model_module": "@jupyter-widgets/controls",
      "model_module_version": "1.5.0",
      "model_name": "HBoxModel",
      "state": {
       "children": [
        "IPY_MODEL_02d585469c4844c1bb9ce1d3be6d6e48",
        "IPY_MODEL_118a162f5450468693bd6bbd71e83e16",
        "IPY_MODEL_b4c0f7ab544245acbde233cef0f2b0f1"
       ],
       "layout": "IPY_MODEL_ebe0311c6f6a455192e9c144f4207aa2"
      }
     },
     "1ced531df8ea453a82ef20de5cd788a1": {
      "model_module": "@jupyter-widgets/controls",
      "model_module_version": "1.5.0",
      "model_name": "HBoxModel",
      "state": {
       "children": [
        "IPY_MODEL_6fdd1056639a49c5a66043d4ba54a35d",
        "IPY_MODEL_c84fd1c46be04fd19770b32263e9c7f4",
        "IPY_MODEL_1c306da5aa7c4a97a9b72924be328e4d",
        "IPY_MODEL_6028b4bc51af48fcb56fb77fb1c7b600"
       ],
       "layout": "IPY_MODEL_bd0991095efb4055ab77c4ba585892ba"
      }
     },
     "1d039e77b57c4bb68c108a42d8e4712a": {
      "model_module": "@jupyter-widgets/controls",
      "model_module_version": "1.5.0",
      "model_name": "DescriptionStyleModel",
      "state": {
       "description_width": ""
      }
     },
     "1d09a3a87cd7441a8f0a106618cdaddf": {
      "model_module": "@jupyter-widgets/controls",
      "model_module_version": "1.5.0",
      "model_name": "VBoxModel",
      "state": {
       "children": [
        "IPY_MODEL_25bf0162df9f4f2b8186f44f370a107f",
        "IPY_MODEL_8aa4c5cb29d54d779868e83a908fcd01"
       ],
       "layout": "IPY_MODEL_8e878156d14948c5ba00f2f029723a3b"
      }
     },
     "1d29577299f24f74b9be46bcbabf0a23": {
      "model_module": "@jupyter-widgets/base",
      "model_module_version": "1.2.0",
      "model_name": "LayoutModel",
      "state": {}
     },
     "1d3c27a3135542699382f6de4e2bd621": {
      "model_module": "@jupyter-widgets/controls",
      "model_module_version": "1.5.0",
      "model_name": "SliderStyleModel",
      "state": {
       "description_width": ""
      }
     },
     "1d69a860ebb84aaeb033023be253dd10": {
      "model_module": "@jupyter-widgets/controls",
      "model_module_version": "1.5.0",
      "model_name": "ButtonStyleModel",
      "state": {}
     },
     "1d9db280ac5243be9ab37443f24bc690": {
      "model_module": "@jupyter-widgets/controls",
      "model_module_version": "1.5.0",
      "model_name": "FloatSliderModel",
      "state": {
       "description": "Exposure",
       "layout": "IPY_MODEL_5183e3de8fe74346ac27d5a23b4e29b3",
       "max": 8,
       "min": -8,
       "step": 0.1,
       "style": "IPY_MODEL_c73c412b3b6e4f75acec4854784b6661"
      }
     },
     "1dd27341b6a34fd285b95fb07037d32c": {
      "model_module": "@jupyter-widgets/controls",
      "model_module_version": "1.5.0",
      "model_name": "ButtonStyleModel",
      "state": {}
     },
     "1e208b7293974092bb9e70fe43f75b72": {
      "model_module": "@jupyter-widgets/base",
      "model_module_version": "1.2.0",
      "model_name": "LayoutModel",
      "state": {}
     },
     "1e2d65a0231d444b834c74a3bf8b1351": {
      "model_module": "jupyter-matplotlib",
      "model_module_version": "^0.7.2",
      "model_name": "MPLCanvasModel",
      "state": {
       "_figure_label": "Figure 9",
       "_height": 458,
       "_image_mode": "diff",
       "_width": 1099,
       "header_visible": false,
       "layout": "IPY_MODEL_7eb4a49a5b70474ba01848276196628d",
       "resizable": false,
       "toolbar": "IPY_MODEL_19273f5149e2469fbd155d76e7a2ca18",
       "toolbar_position": "left",
       "toolbar_visible": false
      }
     },
     "1e333efb6a7d41b1a93d381e0ebf10c6": {
      "model_module": "@jupyter-widgets/controls",
      "model_module_version": "1.5.0",
      "model_name": "TabModel",
      "state": {
       "_titles": {
        "0": "Global Controls",
        "1": "Compression Controls"
       },
       "children": [
        "IPY_MODEL_7e0ad3a991b84d6e96287ca1b7af28fc",
        "IPY_MODEL_c850cb7b5b1a4772966dca8d75432344"
       ],
       "layout": "IPY_MODEL_e015ed32f0884737a61ff285b365d5ed"
      }
     },
     "1e51e11e0595465bb43b8b332d00bcdf": {
      "model_module": "@jupyter-widgets/base",
      "model_module_version": "1.2.0",
      "model_name": "LayoutModel",
      "state": {}
     },
     "1e66dc18b57b4c24bd77bb0fcc457265": {
      "model_module": "@jupyter-widgets/base",
      "model_module_version": "1.2.0",
      "model_name": "LayoutModel",
      "state": {}
     },
     "1e8d2e2051a840fba6f921af1218ed8c": {
      "model_module": "@jupyter-widgets/controls",
      "model_module_version": "1.5.0",
      "model_name": "SliderStyleModel",
      "state": {
       "description_width": ""
      }
     },
     "1ea13fae6ca64d84b9cb3ab84d7ba9d0": {
      "model_module": "@jupyter-widgets/base",
      "model_module_version": "1.2.0",
      "model_name": "LayoutModel",
      "state": {}
     },
     "1ec29de77d284a8fb025a11a3a16bc8e": {
      "model_module": "@jupyter-widgets/base",
      "model_module_version": "1.2.0",
      "model_name": "LayoutModel",
      "state": {}
     },
     "1ee738235f2f40d98ebe9091743d4d0c": {
      "model_module": "@jupyter-widgets/controls",
      "model_module_version": "1.5.0",
      "model_name": "VBoxModel",
      "state": {
       "children": [
        "IPY_MODEL_95f216872b5f40aabbe1924e264c7e07",
        "IPY_MODEL_d45abce372e8477399e02443f444f0b9",
        "IPY_MODEL_4de08e23627b4faea9dfba070746124f"
       ],
       "layout": "IPY_MODEL_b28557a3f6ca405c91173a2edf60b364"
      }
     },
     "1ef377bd6b4e4ac99a04bb39875e58c1": {
      "model_module": "jupyter-matplotlib",
      "model_module_version": "^0.7.2",
      "model_name": "ToolbarModel",
      "state": {
       "layout": "IPY_MODEL_6e755eb9b23340d3a71192164f662515",
       "toolitems": [
        [
         "Home",
         "Reset original view",
         "home",
         "home"
        ],
        [
         "Back",
         "Back to previous view",
         "arrow-left",
         "back"
        ],
        [
         "Forward",
         "Forward to next view",
         "arrow-right",
         "forward"
        ],
        [
         "Pan",
         "Pan axes with left mouse, zoom with right",
         "arrows",
         "pan"
        ],
        [
         "Zoom",
         "Zoom to rectangle",
         "square-o",
         "zoom"
        ],
        [
         "Download",
         "Download plot",
         "floppy-o",
         "save_figure"
        ]
       ]
      }
     },
     "1f6a6600bbe84430b14406fdda250551": {
      "model_module": "@jupyter-widgets/controls",
      "model_module_version": "1.5.0",
      "model_name": "ButtonStyleModel",
      "state": {}
     },
     "1f956b39abab4ab886e69dcf6a6c5385": {
      "model_module": "jupyter-matplotlib",
      "model_module_version": "^0.7.2",
      "model_name": "MPLCanvasModel",
      "state": {
       "_figure_label": "Figure 24",
       "_height": 440,
       "_width": 1100,
       "header_visible": false,
       "layout": "IPY_MODEL_df98a824d11f483cbc49972348ad9839",
       "resizable": false,
       "toolbar": "IPY_MODEL_fba044ac7b6b475da0977db700e20c34",
       "toolbar_position": "left",
       "toolbar_visible": false
      }
     },
     "1f9e45a196f245bd84ac07f1550d0df1": {
      "model_module": "@jupyter-widgets/base",
      "model_module_version": "1.2.0",
      "model_name": "LayoutModel",
      "state": {}
     },
     "1fa7affe5e274ca9b5b3a70a1eb6cded": {
      "model_module": "@jupyter-widgets/base",
      "model_module_version": "1.2.0",
      "model_name": "LayoutModel",
      "state": {}
     },
     "1fbc6c113738457e94683911d0c48131": {
      "model_module": "@jupyter-widgets/controls",
      "model_module_version": "1.5.0",
      "model_name": "ButtonStyleModel",
      "state": {}
     },
     "1fe2d426046e4208b397fbc01ca001b6": {
      "model_module": "@jupyter-widgets/controls",
      "model_module_version": "1.5.0",
      "model_name": "VBoxModel",
      "state": {
       "children": [
        "IPY_MODEL_a4843fe0575944c99bec8b90c7943987",
        "IPY_MODEL_9ee45f98dbcb49288cf838bc9a091575"
       ],
       "layout": "IPY_MODEL_180fc05a07a145d7a3158b19e1b40987"
      }
     },
     "1fecb13ac9cd45ebaa422ca224762915": {
      "model_module": "jupyter-matplotlib",
      "model_module_version": "^0.7.2",
      "model_name": "MPLCanvasModel",
      "state": {
       "_figure_label": "Figure 5",
       "_height": 1100,
       "_width": 1100,
       "layout": "IPY_MODEL_7afac03421df4a8796ff8c6b7273bb5c",
       "toolbar": "IPY_MODEL_ea2704af35f943b8bb35d930cd3b63dd",
       "toolbar_position": "left"
      }
     },
     "201455dd9d4a413f8ecc7ba2673c96e2": {
      "model_module": "@jupyter-widgets/controls",
      "model_module_version": "1.5.0",
      "model_name": "ButtonModel",
      "state": {
       "description": "Reset Compression Controls",
       "layout": "IPY_MODEL_7ec816621a8f44be8f3225f696c83735",
       "style": "IPY_MODEL_75c43d8f600e417486d50fb988dbac18"
      }
     },
     "201ab83e3061425f9a0687a0ebb8ccc3": {
      "model_module": "@jupyter-widgets/controls",
      "model_module_version": "1.5.0",
      "model_name": "TabModel",
      "state": {
       "_titles": {
        "0": "Global Controls",
        "1": "Protected Area Controls",
        "2": "Saturation Controls",
        "3": "Hue Controls"
       },
       "children": [
        "IPY_MODEL_20be6e5fb6f04ae984e67ae46a36a35f",
        "IPY_MODEL_b08a5dbeacc949b28f6765cc47b9bb1a",
        "IPY_MODEL_3684418866c24a55bcc1fb72e8b97162",
        "IPY_MODEL_a4a766ba08fb4c4db1e0c6ea5522e12a"
       ],
       "layout": "IPY_MODEL_417d4101330c440d9b1777be19d801e2"
      }
     },
     "202e3d5f3644431685a6d76bd94031d7": {
      "model_module": "@jupyter-widgets/base",
      "model_module_version": "1.2.0",
      "model_name": "LayoutModel",
      "state": {}
     },
     "20b7f327a62745399cdc5c2e8ce16a67": {
      "model_module": "jupyter-matplotlib",
      "model_module_version": "^0.7.2",
      "model_name": "MPLCanvasModel",
      "state": {
       "_figure_label": "Figure 23",
       "_height": 396,
       "_image_mode": "diff",
       "_width": 1100,
       "header_visible": false,
       "layout": "IPY_MODEL_18011d0f37a845158328d6578a573754",
       "resizable": false,
       "toolbar": "IPY_MODEL_b9999bfa810f425e873929b834597e42",
       "toolbar_position": "left",
       "toolbar_visible": false
      }
     },
     "20bd1337ead941278c92179904e528ba": {
      "model_module": "@jupyter-widgets/base",
      "model_module_version": "1.2.0",
      "model_name": "LayoutModel",
      "state": {
       "align_items": "stretch",
       "display": "flex",
       "flex_flow": "column",
       "width": "1128px"
      }
     },
     "20be6e5fb6f04ae984e67ae46a36a35f": {
      "model_module": "@jupyter-widgets/controls",
      "model_module_version": "1.5.0",
      "model_name": "HBoxModel",
      "state": {
       "children": [
        "IPY_MODEL_8d11d1d20db342d9963b6cf58be80fcc",
        "IPY_MODEL_5286deccd7f6481eb763cd96dd05dd81",
        "IPY_MODEL_9bb81122cfb74a4597a0e06fae0a9ad6",
        "IPY_MODEL_865235844e7f4769a5d7d99dbb4a26a8",
        "IPY_MODEL_868c6288bc334d209428871457dee425"
       ],
       "layout": "IPY_MODEL_75876a1aab9b419f81ea5abc8ebad8df"
      }
     },
     "20de5337d37f4fe6a90adbdb25698796": {
      "model_module": "@jupyter-widgets/controls",
      "model_module_version": "1.5.0",
      "model_name": "ButtonModel",
      "state": {
       "description": "Reset Hue Controls",
       "layout": "IPY_MODEL_6aa7d1e893be48fab7893d693d6a3838",
       "style": "IPY_MODEL_2b7fa4f021174cecb670550847b68ba5"
      }
     },
     "20f2ea82c8e74b768ef4405baa77080a": {
      "model_module": "@jupyter-widgets/base",
      "model_module_version": "1.2.0",
      "model_name": "LayoutModel",
      "state": {
       "border": "solid 4px #222",
       "margin": "4px",
       "padding": "0"
      }
     },
     "20fbf18b6d1b4996b9a3ac0ef00e048f": {
      "model_module": "@jupyter-widgets/base",
      "model_module_version": "1.2.0",
      "model_name": "LayoutModel",
      "state": {}
     },
     "20ffcf94ec2a49c9919e2e3f6de0cc66": {
      "model_module": "@jupyter-widgets/controls",
      "model_module_version": "1.5.0",
      "model_name": "FloatSliderModel",
      "state": {
       "description": "Exposure",
       "layout": "IPY_MODEL_ba32d74c6b544c6893add072e4f83178",
       "max": 8,
       "min": -8,
       "step": 0.1,
       "style": "IPY_MODEL_44e824920cd04dc38b275f70535a687f"
      }
     },
     "211e9c20566948bd800b97f46925bd51": {
      "model_module": "@jupyter-widgets/controls",
      "model_module_version": "1.5.0",
      "model_name": "ButtonModel",
      "state": {
       "description": "Reset Exposure",
       "layout": "IPY_MODEL_a52fee2f0ea047a189f3e2d41edbe8e4",
       "style": "IPY_MODEL_3a8440765a2043a3b4be4c61e3dcd924"
      }
     },
     "21620cf6f30e441d85fa68f73720d120": {
      "model_module": "@jupyter-widgets/base",
      "model_module_version": "1.2.0",
      "model_name": "LayoutModel",
      "state": {}
     },
     "2162712d2ac4416ca413e9da145dc0c9": {
      "model_module": "@jupyter-widgets/controls",
      "model_module_version": "1.5.0",
      "model_name": "ButtonStyleModel",
      "state": {}
     },
     "21fd573d09c34361966b4571f0dd572b": {
      "model_module": "@jupyter-widgets/base",
      "model_module_version": "1.2.0",
      "model_name": "LayoutModel",
      "state": {}
     },
     "227fb8a412d440d391180f3379b6acd9": {
      "model_module": "@jupyter-widgets/base",
      "model_module_version": "1.2.0",
      "model_name": "LayoutModel",
      "state": {}
     },
     "229695e056514705b6dc22df810474f5": {
      "model_module": "@jupyter-widgets/controls",
      "model_module_version": "1.5.0",
      "model_name": "BoxModel",
      "state": {
       "children": [
        "IPY_MODEL_c2966231140b4150a1026daaf9e8cc80",
        "IPY_MODEL_b7c448eb5be6451fa32aabe56d345003"
       ],
       "layout": "IPY_MODEL_8b780adfa17341d0a49f09d4dcbddf9a"
      }
     },
     "22b33c9cefec4f4f84f4ff4a90a26914": {
      "model_module": "@jupyter-widgets/controls",
      "model_module_version": "1.5.0",
      "model_name": "ButtonModel",
      "state": {
       "description": "Save Figure",
       "layout": "IPY_MODEL_81a75f3d8b7f45bf9622f19fd22768dc",
       "style": "IPY_MODEL_9f78e4695c124faeaf6e237bd535cbac"
      }
     },
     "22bc13728e58438780cdc6001cac54ff": {
      "model_module": "@jupyter-widgets/controls",
      "model_module_version": "1.5.0",
      "model_name": "FloatSliderModel",
      "state": {
       "description": "135°",
       "layout": "IPY_MODEL_92f7db62bc394ccbb0491a2578006da0",
       "max": 1,
       "min": -1,
       "step": 0.01,
       "style": "IPY_MODEL_29701df0494745f7bbecbb8eeea102e8"
      }
     },
     "22e993b132c440cdbc1cc50a62b46c9b": {
      "model_module": "@jupyter-widgets/controls",
      "model_module_version": "1.5.0",
      "model_name": "BoxModel",
      "state": {
       "children": [
        "IPY_MODEL_3139d5395fdc483ea06eb5bda5adae1a",
        "IPY_MODEL_97589dd0920a4946807485e93cb69cc8"
       ],
       "layout": "IPY_MODEL_2527a59fb41e468296f5c951370d6407"
      }
     },
     "22e99b71c976481d8cbcdb8ff99deeb5": {
      "model_module": "@jupyter-widgets/controls",
      "model_module_version": "1.5.0",
      "model_name": "SliderStyleModel",
      "state": {
       "description_width": ""
      }
     },
     "22f1cf98ee6b4ab8ac9fb498508c77c8": {
      "model_module": "@jupyter-widgets/controls",
      "model_module_version": "1.5.0",
      "model_name": "DescriptionStyleModel",
      "state": {
       "description_width": ""
      }
     },
     "230098bdd57b4067b11e830f962a7323": {
      "model_module": "@jupyter-widgets/base",
      "model_module_version": "1.2.0",
      "model_name": "LayoutModel",
      "state": {}
     },
     "23189c7ab9b14521bb6fe69e3649c877": {
      "model_module": "@jupyter-widgets/base",
      "model_module_version": "1.2.0",
      "model_name": "LayoutModel",
      "state": {}
     },
     "2331b28392f94ccf890ca1f35aca8a49": {
      "model_module": "@jupyter-widgets/base",
      "model_module_version": "1.2.0",
      "model_name": "LayoutModel",
      "state": {}
     },
     "234b78ed39a14c5fa2f6877724188658": {
      "model_module": "@jupyter-widgets/controls",
      "model_module_version": "1.5.0",
      "model_name": "ButtonStyleModel",
      "state": {}
     },
     "236a3359b40144a2be0cd22d8a9bddd9": {
      "model_module": "@jupyter-widgets/base",
      "model_module_version": "1.2.0",
      "model_name": "LayoutModel",
      "state": {}
     },
     "238bea891cb1402e8a5a2f3f41ea29c6": {
      "model_module": "@jupyter-widgets/controls",
      "model_module_version": "1.5.0",
      "model_name": "ButtonStyleModel",
      "state": {}
     },
     "23baa33e5427405fa60f92cfc4e88281": {
      "model_module": "@jupyter-widgets/controls",
      "model_module_version": "1.5.0",
      "model_name": "TabModel",
      "state": {
       "_titles": {
        "0": "Global Controls",
        "1": "Protected Area Controls",
        "2": "Saturation Controls",
        "3": "Hue Controls"
       },
       "children": [
        "IPY_MODEL_ab8c2a1beb3f4447b10a11a885d76919",
        "IPY_MODEL_ee7c132965fc4a6ea7705a44181ab8df",
        "IPY_MODEL_cf4225b6c5104b5189c9c0e632f8d19f",
        "IPY_MODEL_da45e91591cc4704bdefe7517231d6df"
       ],
       "layout": "IPY_MODEL_a42dba7254be465ca32c7e57846a8404"
      }
     },
     "23f4f45936e54075ba5cc3a783d79027": {
      "model_module": "@jupyter-widgets/controls",
      "model_module_version": "1.5.0",
      "model_name": "TabModel",
      "state": {
       "_titles": {
        "0": "Global Controls",
        "1": "Compression Controls"
       },
       "children": [
        "IPY_MODEL_7fe17a83e7e44068936fbc2e0493d571",
        "IPY_MODEL_cffc4fa29065417da910511e797cb052"
       ],
       "layout": "IPY_MODEL_5292d023e40a495cba1c394ce8fbb726"
      }
     },
     "240bae6bb57d40fe8a44bc6b4dd9b959": {
      "model_module": "@jupyter-widgets/base",
      "model_module_version": "1.2.0",
      "model_name": "LayoutModel",
      "state": {}
     },
     "24d312690e5547edbb372009267c2e40": {
      "model_module": "@jupyter-widgets/controls",
      "model_module_version": "1.5.0",
      "model_name": "SliderStyleModel",
      "state": {
       "description_width": ""
      }
     },
     "24e5c636f51045a1844c1c7d939a9ba7": {
      "model_module": "@jupyter-widgets/base",
      "model_module_version": "1.2.0",
      "model_name": "LayoutModel",
      "state": {}
     },
     "24e620bb64fe48788eaeed3e2e35c2d1": {
      "model_module": "@jupyter-widgets/base",
      "model_module_version": "1.2.0",
      "model_name": "LayoutModel",
      "state": {}
     },
     "24f096eb79cb4e30b879f6792e280794": {
      "model_module": "@jupyter-widgets/base",
      "model_module_version": "1.2.0",
      "model_name": "LayoutModel",
      "state": {}
     },
     "252504d8259849e3a1eaf49d8d0dcf70": {
      "model_module": "@jupyter-widgets/controls",
      "model_module_version": "1.5.0",
      "model_name": "SliderStyleModel",
      "state": {
       "description_width": ""
      }
     },
     "2527a59fb41e468296f5c951370d6407": {
      "model_module": "@jupyter-widgets/base",
      "model_module_version": "1.2.0",
      "model_name": "LayoutModel",
      "state": {
       "align_items": "stretch",
       "display": "flex",
       "flex_flow": "column",
       "width": "1128px"
      }
     },
     "25b638a1cb6c427197c6bc38bc634cd0": {
      "model_module": "@jupyter-widgets/controls",
      "model_module_version": "1.5.0",
      "model_name": "HBoxModel",
      "state": {
       "children": [
        "IPY_MODEL_ae9fa58ff607415a9b02b04aa52a427c",
        "IPY_MODEL_0e8368a9aeaa402b8e42a824992775dc"
       ],
       "layout": "IPY_MODEL_fbd143d8a5df4ea98f8123763df45425"
      }
     },
     "25bf0162df9f4f2b8186f44f370a107f": {
      "model_module": "@jupyter-widgets/controls",
      "model_module_version": "1.5.0",
      "model_name": "FloatSliderModel",
      "state": {
       "description": "270°",
       "layout": "IPY_MODEL_c3b6fab530b640679c50dcdefe232006",
       "max": 1,
       "min": -1,
       "step": 0.01,
       "style": "IPY_MODEL_65b98dbeceb847ac9d45e9b4f254933a"
      }
     },
     "2637494c5a3444dc81cbf1264c34f67e": {
      "model_module": "@jupyter-widgets/controls",
      "model_module_version": "1.5.0",
      "model_name": "ButtonStyleModel",
      "state": {}
     },
     "268bae093ef64a78be03a71bec9aae6f": {
      "model_module": "@jupyter-widgets/base",
      "model_module_version": "1.2.0",
      "model_name": "LayoutModel",
      "state": {}
     },
     "2697248ee77b4e2c887a967c5ec948a3": {
      "model_module": "@jupyter-widgets/base",
      "model_module_version": "1.2.0",
      "model_name": "LayoutModel",
      "state": {}
     },
     "269e3787129c4238b1c4e81675c53645": {
      "model_module": "@jupyter-widgets/base",
      "model_module_version": "1.2.0",
      "model_name": "LayoutModel",
      "state": {}
     },
     "26c9de7bd25442798877e2cb6af0a7ea": {
      "model_module": "@jupyter-widgets/controls",
      "model_module_version": "1.5.0",
      "model_name": "TabModel",
      "state": {
       "_titles": {
        "0": "Global Controls",
        "1": "Protected Area Controls",
        "2": "Saturation Controls",
        "3": "Hue Controls"
       },
       "children": [
        "IPY_MODEL_baa06845e4f2400ab9094462046a88bb",
        "IPY_MODEL_512bffbb568849babb934c6bdd48dfa8",
        "IPY_MODEL_6b299106702344aab66eed98c9343b1f",
        "IPY_MODEL_cbb1285aeb1e46038882c7ffa7957406"
       ],
       "layout": "IPY_MODEL_1a1906d2de2d4fcea02c38c9b55d3292"
      }
     },
     "26d71f9e18c24aa099e917e4d774185a": {
      "model_module": "@jupyter-widgets/controls",
      "model_module_version": "1.5.0",
      "model_name": "ButtonModel",
      "state": {
       "description": "Export Image",
       "layout": "IPY_MODEL_cd88e08ecbb242a997110949ecb6aa35",
       "style": "IPY_MODEL_52732fbe07d5409b9ef3a75374977382"
      }
     },
     "26fc3dff296f4d57ba94645f3f46bfe6": {
      "model_module": "@jupyter-widgets/controls",
      "model_module_version": "1.5.0",
      "model_name": "VBoxModel",
      "state": {
       "children": [
        "IPY_MODEL_c870d00c6d6e4d6f894ee634cedb6ee1",
        "IPY_MODEL_2a246f53b9144e43a4397710b8d34990",
        "IPY_MODEL_b9c2ec1c596e4bfa9cd425390ac99179"
       ],
       "layout": "IPY_MODEL_b0df5323a7d24a0785db5f615cdd1389"
      }
     },
     "276144f0abd648369efa9c505b9d905d": {
      "model_module": "@jupyter-widgets/controls",
      "model_module_version": "1.5.0",
      "model_name": "VBoxModel",
      "state": {
       "children": [
        "IPY_MODEL_5dd0fbb1b0a64fd985f7df5adced5e0c"
       ],
       "layout": "IPY_MODEL_94112aaa912f4fd3b090df6ad8c2352a"
      }
     },
     "2776f9b1c2504ff489d37f25e13f59cb": {
      "model_module": "@jupyter-widgets/controls",
      "model_module_version": "1.5.0",
      "model_name": "ButtonModel",
      "state": {
       "description": "Reset Protected Area",
       "layout": "IPY_MODEL_0c1b6af56b1544a8bd2e7e6faf456185",
       "style": "IPY_MODEL_dce4b1e3d5d04e2ab7dcd7a0e5b8cf58"
      }
     },
     "2781abb4bc0347cdbeee50cdb60af562": {
      "model_module": "@jupyter-widgets/controls",
      "model_module_version": "1.5.0",
      "model_name": "FloatSliderModel",
      "state": {
       "description": "225°",
       "layout": "IPY_MODEL_107a55214cfb4f07a64feba716aba76c",
       "max": 1,
       "min": -1,
       "step": 0.01,
       "style": "IPY_MODEL_f9d1e0f85f244028a9210cbc03f13a42"
      }
     },
     "27906f32c9c14f64a04894da35cdf02d": {
      "model_module": "@jupyter-widgets/base",
      "model_module_version": "1.2.0",
      "model_name": "LayoutModel",
      "state": {}
     },
     "27cb38914b464c7db647ff80733101d1": {
      "model_module": "@jupyter-widgets/controls",
      "model_module_version": "1.5.0",
      "model_name": "ButtonStyleModel",
      "state": {}
     },
     "27e0e0abf61b4c0db52d5320dcd39ef3": {
      "model_module": "@jupyter-widgets/controls",
      "model_module_version": "1.5.0",
      "model_name": "ButtonModel",
      "state": {
       "description": "Reset Exposure",
       "layout": "IPY_MODEL_b9c6e48abc2f46d191356c38c159c06a",
       "style": "IPY_MODEL_5bf1e2aa39ea4641a43890be72f2c8e9"
      }
     },
     "2801dcfc5b4641ab8dfaf967d1cac73d": {
      "model_module": "@jupyter-widgets/controls",
      "model_module_version": "1.5.0",
      "model_name": "FloatSliderModel",
      "state": {
       "description": "Protected Area Threshold",
       "layout": "IPY_MODEL_2f76232b29cd42398353283df1c5749b",
       "max": 1,
       "step": 0.01,
       "style": "IPY_MODEL_686c5018d79647b2b71b36cd85ff21c9",
       "value": 0.7
      }
     },
     "2802f55b04564eefa07a83c34fb4f29d": {
      "model_module": "@jupyter-widgets/controls",
      "model_module_version": "1.5.0",
      "model_name": "FloatSliderModel",
      "state": {
       "description": "270°",
       "layout": "IPY_MODEL_07f6b0cf06924c698de6d739fcacdc11",
       "max": 1,
       "min": -1,
       "step": 0.01,
       "style": "IPY_MODEL_c77e87e5a07d47e693e63de05ebaabb2"
      }
     },
     "280b54ced7d2447085d509f19ace987d": {
      "model_module": "@jupyter-widgets/base",
      "model_module_version": "1.2.0",
      "model_name": "LayoutModel",
      "state": {}
     },
     "282d42163c68406d8f105c95064c8446": {
      "model_module": "jupyter-matplotlib",
      "model_module_version": "^0.7.2",
      "model_name": "ToolbarModel",
      "state": {
       "layout": "IPY_MODEL_3e4cd2a588794baf8c16af265b2e9f80",
       "toolitems": [
        [
         "Home",
         "Reset original view",
         "home",
         "home"
        ],
        [
         "Back",
         "Back to previous view",
         "arrow-left",
         "back"
        ],
        [
         "Forward",
         "Forward to next view",
         "arrow-right",
         "forward"
        ],
        [
         "Pan",
         "Pan axes with left mouse, zoom with right",
         "arrows",
         "pan"
        ],
        [
         "Zoom",
         "Zoom to rectangle",
         "square-o",
         "zoom"
        ],
        [
         "Download",
         "Download plot",
         "floppy-o",
         "save_figure"
        ]
       ]
      }
     },
     "2848cef386e149aa8568a701c476bd3d": {
      "model_module": "@jupyter-widgets/base",
      "model_module_version": "1.2.0",
      "model_name": "LayoutModel",
      "state": {}
     },
     "285c0ce6dea0428a8cc0f20606286ba7": {
      "model_module": "@jupyter-widgets/controls",
      "model_module_version": "1.5.0",
      "model_name": "FloatSliderModel",
      "state": {
       "description": "270°",
       "layout": "IPY_MODEL_9b20e2cefbf945a7a149e4b03b53b096",
       "max": 1,
       "min": -1,
       "step": 0.01,
       "style": "IPY_MODEL_1e8d2e2051a840fba6f921af1218ed8c"
      }
     },
     "2869a421a9ad419eb45d56c2a081beb4": {
      "model_module": "@jupyter-widgets/controls",
      "model_module_version": "1.5.0",
      "model_name": "FloatSliderModel",
      "state": {
       "description": "225°",
       "layout": "IPY_MODEL_77593426f29b4ad5841707eea1f4c7cf",
       "max": 1,
       "min": -1,
       "step": 0.01,
       "style": "IPY_MODEL_95e59bc81291424e8f7a3e3c851b7767"
      }
     },
     "2882be067a1f4abe805e37d1f7abe525": {
      "model_module": "@jupyter-widgets/controls",
      "model_module_version": "1.5.0",
      "model_name": "ButtonStyleModel",
      "state": {}
     },
     "28b89b95722443b7b8f529553df1c7be": {
      "model_module": "@jupyter-widgets/controls",
      "model_module_version": "1.5.0",
      "model_name": "SliderStyleModel",
      "state": {
       "description_width": ""
      }
     },
     "28da1eb802ce49ba8916108f0b7b582c": {
      "model_module": "@jupyter-widgets/controls",
      "model_module_version": "1.5.0",
      "model_name": "SliderStyleModel",
      "state": {
       "description_width": ""
      }
     },
     "29103d58a899499086f6d65856ca42af": {
      "model_module": "@jupyter-widgets/base",
      "model_module_version": "1.2.0",
      "model_name": "LayoutModel",
      "state": {}
     },
     "2931082ee12d46a6895e2bdc7cf91741": {
      "model_module": "@jupyter-widgets/controls",
      "model_module_version": "1.5.0",
      "model_name": "FloatSliderModel",
      "state": {
       "description": "270°",
       "layout": "IPY_MODEL_480b722bc9c4459ca9150b538f879e5b",
       "max": 1,
       "min": -1,
       "step": 0.01,
       "style": "IPY_MODEL_bb8ed89c728c4e9bae2f89c35fbe0324"
      }
     },
     "2940cb10ae5f4827a0ad47dd1fcbaaaf": {
      "model_module": "@jupyter-widgets/base",
      "model_module_version": "1.2.0",
      "model_name": "LayoutModel",
      "state": {}
     },
     "29434ecaabfe4da7b3218185914355af": {
      "model_module": "@jupyter-widgets/base",
      "model_module_version": "1.2.0",
      "model_name": "LayoutModel",
      "state": {}
     },
     "295a2578a7dc4b4291731e91bcf53a8d": {
      "model_module": "@jupyter-widgets/controls",
      "model_module_version": "1.5.0",
      "model_name": "FloatSliderModel",
      "state": {
       "description": "315°",
       "layout": "IPY_MODEL_7d75e21945af44e7b3570ff141059a7f",
       "max": 1,
       "min": -1,
       "step": 0.01,
       "style": "IPY_MODEL_4b2c6c384d19449bafb879e44c255186"
      }
     },
     "295bda55b6774efe945935edf22605c5": {
      "model_module": "@jupyter-widgets/base",
      "model_module_version": "1.2.0",
      "model_name": "LayoutModel",
      "state": {
       "border": "solid 4px #222",
       "margin": "4px",
       "padding": "0"
      }
     },
     "2964620571d445b7b81cade94984714a": {
      "model_module": "@jupyter-widgets/controls",
      "model_module_version": "1.5.0",
      "model_name": "FloatSliderModel",
      "state": {
       "description": "45°",
       "layout": "IPY_MODEL_8c783a5a84974dcfb085f3194f662bd7",
       "max": 1,
       "min": -1,
       "step": 0.01,
       "style": "IPY_MODEL_4f65a0b1c5634181b121308e153ca562"
      }
     },
     "29701df0494745f7bbecbb8eeea102e8": {
      "model_module": "@jupyter-widgets/controls",
      "model_module_version": "1.5.0",
      "model_name": "SliderStyleModel",
      "state": {
       "description_width": ""
      }
     },
     "297b70d233a645f686fba23043b41362": {
      "model_module": "@jupyter-widgets/controls",
      "model_module_version": "1.5.0",
      "model_name": "HBoxModel",
      "state": {
       "children": [
        "IPY_MODEL_fcd7be4d46bd479f9f0e98546a072c15",
        "IPY_MODEL_3255553ad2e744baaa4e2c0a1802e39e",
        "IPY_MODEL_a01f045708fe41bd99add05a5b4015b1",
        "IPY_MODEL_211e9c20566948bd800b97f46925bd51",
        "IPY_MODEL_0d2b31407f9f4bc7b0026d4f6e8ed460"
       ],
       "layout": "IPY_MODEL_0f1ffb6b0a564022ae01ee6a44b36bae"
      }
     },
     "2a246f53b9144e43a4397710b8d34990": {
      "model_module": "@jupyter-widgets/controls",
      "model_module_version": "1.5.0",
      "model_name": "FloatSliderModel",
      "state": {
       "description": "45°",
       "layout": "IPY_MODEL_21fd573d09c34361966b4571f0dd572b",
       "max": 1,
       "min": -1,
       "step": 0.01,
       "style": "IPY_MODEL_5bbdc1cd76084f03a557f1c8635b6356"
      }
     },
     "2a6da3d68de640c888c0b3a7a6f4be48": {
      "model_module": "@jupyter-widgets/base",
      "model_module_version": "1.2.0",
      "model_name": "LayoutModel",
      "state": {}
     },
     "2a98b08f7a74461a9535e3e399ec1450": {
      "model_module": "@jupyter-widgets/controls",
      "model_module_version": "1.5.0",
      "model_name": "DescriptionStyleModel",
      "state": {
       "description_width": ""
      }
     },
     "2aa60203c9d04a109028ec9044b55194": {
      "model_module": "@jupyter-widgets/controls",
      "model_module_version": "1.5.0",
      "model_name": "ButtonStyleModel",
      "state": {}
     },
     "2ac068ae1fe54b55884f63585e27cf1f": {
      "model_module": "@jupyter-widgets/base",
      "model_module_version": "1.2.0",
      "model_name": "LayoutModel",
      "state": {}
     },
     "2af041df0193408f9962e08eb8dc1356": {
      "model_module": "@jupyter-widgets/base",
      "model_module_version": "1.2.0",
      "model_name": "LayoutModel",
      "state": {}
     },
     "2afc4de631ae42008d16cbb49382ba32": {
      "model_module": "@jupyter-widgets/controls",
      "model_module_version": "1.5.0",
      "model_name": "DropdownModel",
      "state": {
       "_options_labels": [
        "tanh",
        "atan",
        "simple"
       ],
       "description": "Compression Function:",
       "index": 0,
       "layout": "IPY_MODEL_3ab581d6c3fd4b2aad26175764eb0dfa",
       "style": "IPY_MODEL_6e556b31489f434bb857ee6cc35f9bbe"
      }
     },
     "2b05b4bd557645de87812fd5fbcb79b5": {
      "model_module": "@jupyter-widgets/controls",
      "model_module_version": "1.5.0",
      "model_name": "SliderStyleModel",
      "state": {
       "description_width": ""
      }
     },
     "2b1c5d75e4ef42ebbda34f319b733cf3": {
      "model_module": "@jupyter-widgets/base",
      "model_module_version": "1.2.0",
      "model_name": "LayoutModel",
      "state": {}
     },
     "2b2bbfc2ccbc407e8bf2aace8698558b": {
      "model_module": "@jupyter-widgets/base",
      "model_module_version": "1.2.0",
      "model_name": "LayoutModel",
      "state": {}
     },
     "2b4cbba898094325b0cb8409f559b85c": {
      "model_module": "@jupyter-widgets/controls",
      "model_module_version": "1.5.0",
      "model_name": "DescriptionStyleModel",
      "state": {
       "description_width": ""
      }
     },
     "2b4ea2c7b86c40a2a3251f1ac325b0fe": {
      "model_module": "@jupyter-widgets/controls",
      "model_module_version": "1.5.0",
      "model_name": "FloatSliderModel",
      "state": {
       "description": "Exposure",
       "layout": "IPY_MODEL_6fdeb56edafa407aaab46d7bf09f70c8",
       "max": 8,
       "min": -8,
       "step": 0.1,
       "style": "IPY_MODEL_9236570741b14d9d91d9f00c92a46f98"
      }
     },
     "2b7fa4f021174cecb670550847b68ba5": {
      "model_module": "@jupyter-widgets/controls",
      "model_module_version": "1.5.0",
      "model_name": "ButtonStyleModel",
      "state": {}
     },
     "2b95d33bf54d4a2282cada896b73b10d": {
      "model_module": "@jupyter-widgets/base",
      "model_module_version": "1.2.0",
      "model_name": "LayoutModel",
      "state": {}
     },
     "2b9dd75c35e54e918f9dd3640f3dc4b2": {
      "model_module": "@jupyter-widgets/controls",
      "model_module_version": "1.5.0",
      "model_name": "FloatSliderModel",
      "state": {
       "description": "225°",
       "layout": "IPY_MODEL_b143876078004679b493aa200f6ebc4e",
       "max": 1,
       "min": -1,
       "step": 0.01,
       "style": "IPY_MODEL_0d33e045fec04582aae25406bdbf2e7e"
      }
     },
     "2bd27cf110c146f981399c266dae3859": {
      "model_module": "@jupyter-widgets/controls",
      "model_module_version": "1.5.0",
      "model_name": "TabModel",
      "state": {
       "_titles": {
        "0": "Global Controls",
        "1": "Compression Controls"
       },
       "children": [
        "IPY_MODEL_0bd6c454749b4318898eb8ea423f9099",
        "IPY_MODEL_1cea2a75c9d7406db9bf6efd2fb111fb"
       ],
       "layout": "IPY_MODEL_1222807460dc4caf9884b72e2871e110"
      }
     },
     "2bd9e515d25f4eac8236b7248d120fa9": {
      "model_module": "@jupyter-widgets/controls",
      "model_module_version": "1.5.0",
      "model_name": "SliderStyleModel",
      "state": {
       "description_width": ""
      }
     },
     "2bdb2dff9a8847c4b14161f8cbfd5148": {
      "model_module": "@jupyter-widgets/base",
      "model_module_version": "1.2.0",
      "model_name": "LayoutModel",
      "state": {}
     },
     "2c06ec8b08ea40a08a9d8de7f3301f5d": {
      "model_module": "@jupyter-widgets/base",
      "model_module_version": "1.2.0",
      "model_name": "LayoutModel",
      "state": {
       "align_items": "stretch",
       "display": "flex",
       "flex_flow": "column",
       "width": "1128px"
      }
     },
     "2c1b7b7a3b1e4f6c9d328513a3e54f9b": {
      "model_module": "@jupyter-widgets/controls",
      "model_module_version": "1.5.0",
      "model_name": "ButtonModel",
      "state": {
       "description": "Save Figure",
       "layout": "IPY_MODEL_5dd49dec082948819aa9118fdbd6265b",
       "style": "IPY_MODEL_3d656425e9de4ee6a5f8187f04c180e3"
      }
     },
     "2c38af8444ac4ca8b553fb80c40de930": {
      "model_module": "@jupyter-widgets/controls",
      "model_module_version": "1.5.0",
      "model_name": "DescriptionStyleModel",
      "state": {
       "description_width": ""
      }
     },
     "2c6934570c7948258a3d2dd07a49bba0": {
      "model_module": "@jupyter-widgets/controls",
      "model_module_version": "1.5.0",
      "model_name": "ButtonModel",
      "state": {
       "description": "Reset Protected Area",
       "layout": "IPY_MODEL_adc8bba289d64f6c8b6bfca8502edec2",
       "style": "IPY_MODEL_8381e116bb564720be4fa41f28afb36f"
      }
     },
     "2ca1c82441264c0b8b3d3fb0ae7d52b2": {
      "model_module": "@jupyter-widgets/controls",
      "model_module_version": "1.5.0",
      "model_name": "ButtonStyleModel",
      "state": {}
     },
     "2d38afa6dba24d64a66488fad5cab001": {
      "model_module": "@jupyter-widgets/base",
      "model_module_version": "1.2.0",
      "model_name": "LayoutModel",
      "state": {}
     },
     "2d468d90370b4ba79e5c2135e7e1f0d4": {
      "model_module": "@jupyter-widgets/base",
      "model_module_version": "1.2.0",
      "model_name": "LayoutModel",
      "state": {}
     },
     "2dd167cbb8644c1a8f8efde6501a3064": {
      "model_module": "@jupyter-widgets/base",
      "model_module_version": "1.2.0",
      "model_name": "LayoutModel",
      "state": {}
     },
     "2de671e0247a42da8dcd2924abdada08": {
      "model_module": "@jupyter-widgets/base",
      "model_module_version": "1.2.0",
      "model_name": "LayoutModel",
      "state": {}
     },
     "2de7a5d83cec4d5e9f9fff0ef0a57d16": {
      "model_module": "@jupyter-widgets/base",
      "model_module_version": "1.2.0",
      "model_name": "LayoutModel",
      "state": {
       "border": "solid 4px #222",
       "margin": "4px",
       "padding": "0"
      }
     },
     "2e0015e7377c4e1498f2cc4ed1febd15": {
      "model_module": "@jupyter-widgets/base",
      "model_module_version": "1.2.0",
      "model_name": "LayoutModel",
      "state": {}
     },
     "2e4875fe3ecd4cd892a35846c5d33af4": {
      "model_module": "@jupyter-widgets/controls",
      "model_module_version": "1.5.0",
      "model_name": "FloatSliderModel",
      "state": {
       "description": "90°",
       "layout": "IPY_MODEL_2848cef386e149aa8568a701c476bd3d",
       "max": 1,
       "min": -1,
       "step": 0.01,
       "style": "IPY_MODEL_28da1eb802ce49ba8916108f0b7b582c"
      }
     },
     "2e93256dc8de4d5ab484e45a102cc211": {
      "model_module": "@jupyter-widgets/controls",
      "model_module_version": "1.5.0",
      "model_name": "ButtonModel",
      "state": {
       "description": "Save Figure",
       "layout": "IPY_MODEL_e6c03830cfb042f5881afb09e8bea8b8",
       "style": "IPY_MODEL_a1350696ba6145208dbb746a924fa837"
      }
     },
     "2e9b053fed2c4425a7999230d3da0c46": {
      "model_module": "@jupyter-widgets/base",
      "model_module_version": "1.2.0",
      "model_name": "LayoutModel",
      "state": {}
     },
     "2ebcd0f4431148bab3b71e692537d356": {
      "model_module": "@jupyter-widgets/controls",
      "model_module_version": "1.5.0",
      "model_name": "FloatSliderModel",
      "state": {
       "description": "315°",
       "layout": "IPY_MODEL_3e3de463ef1c4846b880d33e00c8ba04",
       "max": 1,
       "min": -1,
       "step": 0.01,
       "style": "IPY_MODEL_7d91e3be96234fb7ba86195f7cf210ed"
      }
     },
     "2efcd4062a9345f2ba7f3f50e53d986c": {
      "model_module": "@jupyter-widgets/controls",
      "model_module_version": "1.5.0",
      "model_name": "CheckboxModel",
      "state": {
       "description": "Disable Medicina",
       "disabled": false,
       "layout": "IPY_MODEL_40feeb0931284968a8a559d16f94dd44",
       "style": "IPY_MODEL_9b2e42eb2199447f90cca3da7ec3f05e",
       "value": false
      }
     },
     "2f76232b29cd42398353283df1c5749b": {
      "model_module": "@jupyter-widgets/base",
      "model_module_version": "1.2.0",
      "model_name": "LayoutModel",
      "state": {}
     },
     "2f7c3736b4c84fb786b6ef38ec6c7960": {
      "model_module": "@jupyter-widgets/controls",
      "model_module_version": "1.5.0",
      "model_name": "SliderStyleModel",
      "state": {
       "description_width": ""
      }
     },
     "2f9c2fe886cc4827928fc10bd3bd9958": {
      "model_module": "@jupyter-widgets/controls",
      "model_module_version": "1.5.0",
      "model_name": "SliderStyleModel",
      "state": {
       "description_width": ""
      }
     },
     "2fe9ba619c62452395c3e0ec589e939c": {
      "model_module": "@jupyter-widgets/controls",
      "model_module_version": "1.5.0",
      "model_name": "ButtonModel",
      "state": {
       "description": "Reset Saturation Controls",
       "layout": "IPY_MODEL_c0e8f6848e31403cb6c1c6a268051085",
       "style": "IPY_MODEL_ac167f205a2e41fea0487ccce708ab5d"
      }
     },
     "3015cee9734d458cb2ea659f9a320a51": {
      "model_module": "jupyter-matplotlib",
      "model_module_version": "^0.7.2",
      "model_name": "ToolbarModel",
      "state": {
       "layout": "IPY_MODEL_6ce77aca90e64258b048093f151f179b",
       "toolitems": [
        [
         "Home",
         "Reset original view",
         "home",
         "home"
        ],
        [
         "Back",
         "Back to previous view",
         "arrow-left",
         "back"
        ],
        [
         "Forward",
         "Forward to next view",
         "arrow-right",
         "forward"
        ],
        [
         "Pan",
         "Pan axes with left mouse, zoom with right",
         "arrows",
         "pan"
        ],
        [
         "Zoom",
         "Zoom to rectangle",
         "square-o",
         "zoom"
        ],
        [
         "Download",
         "Download plot",
         "floppy-o",
         "save_figure"
        ]
       ]
      }
     },
     "301a92d1f7eb4a6090efdb969b861b3a": {
      "model_module": "@jupyter-widgets/controls",
      "model_module_version": "1.5.0",
      "model_name": "VBoxModel",
      "state": {
       "children": [
        "IPY_MODEL_f530685bfac94a69ae8019d470504c16",
        "IPY_MODEL_18fa9d6e10f44b0a869446725717e535",
        "IPY_MODEL_bf18fc16e36948978d7b98fe9842d340"
       ],
       "layout": "IPY_MODEL_20fbf18b6d1b4996b9a3ac0ef00e048f"
      }
     },
     "30327e60c5be49a089e4119273ed8fd0": {
      "model_module": "@jupyter-widgets/controls",
      "model_module_version": "1.5.0",
      "model_name": "FloatSliderModel",
      "state": {
       "description": "135°",
       "layout": "IPY_MODEL_d9f83cb733614e4bbbc84f7c2c7f92ee",
       "max": 1,
       "min": -1,
       "step": 0.01,
       "style": "IPY_MODEL_146ea9a27e014c898cd8c0e7f65024fb"
      }
     },
     "304b288b95644a2886817f5eb1acadd4": {
      "model_module": "@jupyter-widgets/base",
      "model_module_version": "1.2.0",
      "model_name": "LayoutModel",
      "state": {
       "border": "solid 4px #222",
       "margin": "4px",
       "padding": "0"
      }
     },
     "30502f39b0a74628b68c70dc655c3266": {
      "model_module": "@jupyter-widgets/base",
      "model_module_version": "1.2.0",
      "model_name": "LayoutModel",
      "state": {}
     },
     "30b094a909d640a8b71ceb90580f95dc": {
      "model_module": "@jupyter-widgets/base",
      "model_module_version": "1.2.0",
      "model_name": "LayoutModel",
      "state": {}
     },
     "3104d6afc5ee437fbb649ace5624e695": {
      "model_module": "@jupyter-widgets/base",
      "model_module_version": "1.2.0",
      "model_name": "LayoutModel",
      "state": {}
     },
     "3117e05ea2df445c91d52aa69b6297d6": {
      "model_module": "@jupyter-widgets/base",
      "model_module_version": "1.2.0",
      "model_name": "LayoutModel",
      "state": {}
     },
     "3139d5395fdc483ea06eb5bda5adae1a": {
      "model_module": "@jupyter-widgets/output",
      "model_module_version": "1.0.0",
      "model_name": "OutputModel",
      "state": {
       "layout": "IPY_MODEL_14811a302f584cda9491b63abd3a4a6d",
       "outputs": [
        {
         "data": {
          "application/vnd.jupyter.widget-view+json": {
           "model_id": "cf9a9f37314d4bee9eeb48b4aabab7d7",
           "version_major": 2,
           "version_minor": 0
          },
          "text/plain": "Canvas(toolbar=Toolbar(toolitems=[('Home', 'Reset original view', 'home', 'home'), ('Back', 'Back to previous …"
         },
         "metadata": {},
         "output_type": "display_data"
        }
       ]
      }
     },
     "317dfb616efd4a7bb57890cca42c8d2b": {
      "model_module": "@jupyter-widgets/controls",
      "model_module_version": "1.5.0",
      "model_name": "ButtonStyleModel",
      "state": {}
     },
     "31b31052cecf43d494ec776badd2d4e1": {
      "model_module": "@jupyter-widgets/controls",
      "model_module_version": "1.5.0",
      "model_name": "SliderStyleModel",
      "state": {
       "description_width": ""
      }
     },
     "31fca7f55df34dc4b8cfcd4b89715b34": {
      "model_module": "@jupyter-widgets/controls",
      "model_module_version": "1.5.0",
      "model_name": "FloatSliderModel",
      "state": {
       "description": "90°",
       "layout": "IPY_MODEL_7b12a5d6624744c1a2094c6f5f6147e6",
       "max": 1,
       "min": -1,
       "step": 0.01,
       "style": "IPY_MODEL_4fbddf6cd482422f8dbf2fd576740fb5"
      }
     },
     "3238b159a8f349bb93418365487505e1": {
      "model_module": "@jupyter-widgets/base",
      "model_module_version": "1.2.0",
      "model_name": "LayoutModel",
      "state": {}
     },
     "3255553ad2e744baaa4e2c0a1802e39e": {
      "model_module": "@jupyter-widgets/controls",
      "model_module_version": "1.5.0",
      "model_name": "ButtonModel",
      "state": {
       "description": "Export Image",
       "layout": "IPY_MODEL_f24c7159e30743b0850aa02154337b6b",
       "style": "IPY_MODEL_66ae63b6876d4510b03d51fe537a229c"
      }
     },
     "3344d92bf5504e2e98bdc073a248e2c5": {
      "model_module": "@jupyter-widgets/controls",
      "model_module_version": "1.5.0",
      "model_name": "ButtonStyleModel",
      "state": {}
     },
     "338f4f93251147febabf5a60dad8eb4a": {
      "model_module": "@jupyter-widgets/controls",
      "model_module_version": "1.5.0",
      "model_name": "ButtonModel",
      "state": {
       "description": "Export Image",
       "layout": "IPY_MODEL_cbfb0216979d47e49c3964c58928c4e5",
       "style": "IPY_MODEL_4e5f0d8b2e624a7ca6552b6ce93f3d4f"
      }
     },
     "33d98c57ff424d62b08950934bce135d": {
      "model_module": "@jupyter-widgets/controls",
      "model_module_version": "1.5.0",
      "model_name": "ButtonStyleModel",
      "state": {}
     },
     "33f5bc12e8a141ba960db577f7c272e0": {
      "model_module": "@jupyter-widgets/controls",
      "model_module_version": "1.5.0",
      "model_name": "ButtonStyleModel",
      "state": {}
     },
     "349d7a218c98450295933107f16331e2": {
      "model_module": "@jupyter-widgets/base",
      "model_module_version": "1.2.0",
      "model_name": "LayoutModel",
      "state": {}
     },
     "34c398ed8dcb4e60b9bd4fb0ebf0e6f1": {
      "model_module": "@jupyter-widgets/controls",
      "model_module_version": "1.5.0",
      "model_name": "TabModel",
      "state": {
       "_titles": {
        "0": "Global Controls",
        "1": "Protected Area Controls",
        "2": "Saturation Controls",
        "3": "Hue Controls"
       },
       "children": [
        "IPY_MODEL_b25e043c9a3f4bf2a99a9f2f1f0ae0bc",
        "IPY_MODEL_e83d851116004443990f8fb8dd8910c3",
        "IPY_MODEL_68d57a29f8e5410cbc44ad2b0d279e74",
        "IPY_MODEL_1ced531df8ea453a82ef20de5cd788a1"
       ],
       "layout": "IPY_MODEL_ef520ced47134a178c0b75834d186ad9"
      }
     },
     "34eaed44796046369c3ac3b815d9c2a6": {
      "model_module": "@jupyter-widgets/controls",
      "model_module_version": "1.5.0",
      "model_name": "ButtonStyleModel",
      "state": {}
     },
     "34ee87ab3351497ba5aa31437cc5bf9f": {
      "model_module": "@jupyter-widgets/controls",
      "model_module_version": "1.5.0",
      "model_name": "TabModel",
      "state": {
       "_titles": {
        "0": "Global Controls",
        "1": "Compression Controls"
       },
       "children": [
        "IPY_MODEL_0b5362d2c08149458cc2d02b54764f64",
        "IPY_MODEL_66f19f5c2c5b47559a8b996f4b1c5e21"
       ],
       "layout": "IPY_MODEL_6874374a8591421699fe3b899211853c"
      }
     },
     "34f8f421d1234530b2bd4242d94ab4e0": {
      "model_module": "@jupyter-widgets/controls",
      "model_module_version": "1.5.0",
      "model_name": "DropdownModel",
      "state": {
       "_options_labels": [
        "tanh",
        "atan",
        "simple"
       ],
       "description": "Compression Function:",
       "index": 0,
       "layout": "IPY_MODEL_3104d6afc5ee437fbb649ace5624e695",
       "style": "IPY_MODEL_1c4624c3ec0846fd94be190032ebe4bc"
      }
     },
     "34fa573c239346e2a6563b8aa726e039": {
      "model_module": "@jupyter-widgets/controls",
      "model_module_version": "1.5.0",
      "model_name": "SliderStyleModel",
      "state": {
       "description_width": ""
      }
     },
     "34ffe02c8d19406dac7664fd113ec35b": {
      "model_module": "@jupyter-widgets/controls",
      "model_module_version": "1.5.0",
      "model_name": "FloatSliderModel",
      "state": {
       "description": "90°",
       "layout": "IPY_MODEL_834c1e5d5e184049908236b77fc4e9bf",
       "max": 1,
       "min": -1,
       "step": 0.01,
       "style": "IPY_MODEL_4a83dc87066646c5add46841225b0032"
      }
     },
     "35091c98888a4054b33b4fd514d04ad8": {
      "model_module": "@jupyter-widgets/base",
      "model_module_version": "1.2.0",
      "model_name": "LayoutModel",
      "state": {}
     },
     "3522fd6b2b4b4c01854b0631baa5f35e": {
      "model_module": "@jupyter-widgets/base",
      "model_module_version": "1.2.0",
      "model_name": "LayoutModel",
      "state": {}
     },
     "3557811fb38846138196de13f732e17d": {
      "model_module": "@jupyter-widgets/controls",
      "model_module_version": "1.5.0",
      "model_name": "HBoxModel",
      "state": {
       "children": [
        "IPY_MODEL_201455dd9d4a413f8ecc7ba2673c96e2",
        "IPY_MODEL_0c032d85b459424580f0201c58b11ec7",
        "IPY_MODEL_8b8225c930c64b5abcc73f7ad7f355cf"
       ],
       "layout": "IPY_MODEL_064de05b512e4dc187cf3bfeff8bb48d"
      }
     },
     "3560b58a6af24145a2c510f82e9d14e2": {
      "model_module": "@jupyter-widgets/base",
      "model_module_version": "1.2.0",
      "model_name": "LayoutModel",
      "state": {}
     },
     "35659a416dbd402e935d9bb1bf52bdc1": {
      "model_module": "@jupyter-widgets/controls",
      "model_module_version": "1.5.0",
      "model_name": "ButtonStyleModel",
      "state": {}
     },
     "35bfd31e204446cf97b3c7f724c04ded": {
      "model_module": "@jupyter-widgets/base",
      "model_module_version": "1.2.0",
      "model_name": "LayoutModel",
      "state": {}
     },
     "35c7d01703d240ec8818ac3f22f9b6d6": {
      "model_module": "@jupyter-widgets/base",
      "model_module_version": "1.2.0",
      "model_name": "LayoutModel",
      "state": {
       "border": "solid 4px #222",
       "margin": "4px",
       "padding": "0"
      }
     },
     "36440683c9054a2cb467944d442d273b": {
      "model_module": "@jupyter-widgets/controls",
      "model_module_version": "1.5.0",
      "model_name": "SliderStyleModel",
      "state": {
       "description_width": ""
      }
     },
     "364c23d4a2c840f69a67afd2dc75dbfc": {
      "model_module": "@jupyter-widgets/controls",
      "model_module_version": "1.5.0",
      "model_name": "ButtonModel",
      "state": {
       "description": "Reset Exposure",
       "layout": "IPY_MODEL_35bfd31e204446cf97b3c7f724c04ded",
       "style": "IPY_MODEL_07f064159a94463fa08476d7a2d19fb2"
      }
     },
     "3684418866c24a55bcc1fb72e8b97162": {
      "model_module": "@jupyter-widgets/controls",
      "model_module_version": "1.5.0",
      "model_name": "HBoxModel",
      "state": {
       "children": [
        "IPY_MODEL_1b4f87c5d7cd41229e89c3aa9e07ca26",
        "IPY_MODEL_6585d9fd17a94699b8644ceb17ea52ca",
        "IPY_MODEL_faf7df5322824bb6b92c91ea5aa4b997"
       ],
       "layout": "IPY_MODEL_4319ab3b7bbe49c1b1c07ad4821349d4"
      }
     },
     "369fd89672dc4f83b7d1079a1c2a4570": {
      "model_module": "@jupyter-widgets/controls",
      "model_module_version": "1.5.0",
      "model_name": "FloatSliderModel",
      "state": {
       "description": "270°",
       "layout": "IPY_MODEL_a58d5327c17f418aab80c1f86dfbc667",
       "max": 1,
       "min": -1,
       "step": 0.01,
       "style": "IPY_MODEL_d287882620ea4db6853a59b6aaa8fe9e"
      }
     },
     "36f6fd974de74ba1bf425eb522d7b340": {
      "model_module": "@jupyter-widgets/controls",
      "model_module_version": "1.5.0",
      "model_name": "ButtonStyleModel",
      "state": {}
     },
     "370d754dfdf441bca34ec346eb60cb0c": {
      "model_module": "@jupyter-widgets/base",
      "model_module_version": "1.2.0",
      "model_name": "LayoutModel",
      "state": {}
     },
     "373072a56f0547ba9522cb0e759655ea": {
      "model_module": "@jupyter-widgets/controls",
      "model_module_version": "1.5.0",
      "model_name": "FloatSliderModel",
      "state": {
       "description": "Compression Threshold",
       "layout": "IPY_MODEL_813d63baedc04a76ad754bd28c4138fb",
       "max": 1,
       "step": 0.01,
       "style": "IPY_MODEL_bd2d5e48fd1a4b4899acbd3d505217f0",
       "value": 0.8
      }
     },
     "3768dfce609f437eb81ce8d499d0811c": {
      "model_module": "@jupyter-widgets/base",
      "model_module_version": "1.2.0",
      "model_name": "LayoutModel",
      "state": {
       "align_items": "stretch",
       "display": "flex",
       "flex_flow": "column",
       "width": "1128px"
      }
     },
     "37aecaf9259b46a5b089f83668019e20": {
      "model_module": "@jupyter-widgets/base",
      "model_module_version": "1.2.0",
      "model_name": "LayoutModel",
      "state": {}
     },
     "37e10deafed4401297fb5ea9f5158d52": {
      "model_module": "@jupyter-widgets/base",
      "model_module_version": "1.2.0",
      "model_name": "LayoutModel",
      "state": {}
     },
     "37e4b287cbeb47f1b9c937bed6cea0a3": {
      "model_module": "@jupyter-widgets/controls",
      "model_module_version": "1.5.0",
      "model_name": "SliderStyleModel",
      "state": {
       "description_width": ""
      }
     },
     "3804fcfa390b4a1eba3f7476c14262cc": {
      "model_module": "@jupyter-widgets/base",
      "model_module_version": "1.2.0",
      "model_name": "LayoutModel",
      "state": {
       "border": "solid 4px #222",
       "margin": "4px",
       "padding": "0"
      }
     },
     "3805c07a2a9e49488381cd913873cce7": {
      "model_module": "@jupyter-widgets/base",
      "model_module_version": "1.2.0",
      "model_name": "LayoutModel",
      "state": {}
     },
     "382d0461759849dbaa4b1281a829d623": {
      "model_module": "@jupyter-widgets/controls",
      "model_module_version": "1.5.0",
      "model_name": "FloatSliderModel",
      "state": {
       "description": "Exposure",
       "layout": "IPY_MODEL_3d0cb869730046dd9867a315794a85b9",
       "max": 8,
       "min": -8,
       "step": 0.1,
       "style": "IPY_MODEL_5894ed0aa9db4327b7c023545d810262"
      }
     },
     "3881c34655904c28be60e16cac12fa71": {
      "model_module": "@jupyter-widgets/controls",
      "model_module_version": "1.5.0",
      "model_name": "DescriptionStyleModel",
      "state": {
       "description_width": ""
      }
     },
     "389c37d001bd4d6bb1e05b44f05d5d47": {
      "model_module": "@jupyter-widgets/controls",
      "model_module_version": "1.5.0",
      "model_name": "ButtonStyleModel",
      "state": {}
     },
     "38bfd7207af549efa5f6bac795cded74": {
      "model_module": "@jupyter-widgets/controls",
      "model_module_version": "1.5.0",
      "model_name": "FloatSliderModel",
      "state": {
       "description": "0°",
       "layout": "IPY_MODEL_3982cf78949a487fa0bc4022c9cfd22a",
       "max": 1,
       "min": -1,
       "step": 0.01,
       "style": "IPY_MODEL_98799259c66141c0a3082d1273bd5026"
      }
     },
     "38d847ea5dbd4adbb10349174e42d3ee": {
      "model_module": "@jupyter-widgets/controls",
      "model_module_version": "1.5.0",
      "model_name": "ButtonStyleModel",
      "state": {}
     },
     "39449caab99b47048560e7c3a528f1a4": {
      "model_module": "@jupyter-widgets/base",
      "model_module_version": "1.2.0",
      "model_name": "LayoutModel",
      "state": {}
     },
     "395f1681fc56417b91870b5f4b047272": {
      "model_module": "@jupyter-widgets/base",
      "model_module_version": "1.2.0",
      "model_name": "LayoutModel",
      "state": {
       "border": "solid 4px #222",
       "margin": "4px",
       "padding": "0"
      }
     },
     "396dc99081e64c59b8c1aeca6cc06ce7": {
      "model_module": "@jupyter-widgets/controls",
      "model_module_version": "1.5.0",
      "model_name": "FloatSliderModel",
      "state": {
       "description": "Compression Threshold",
       "layout": "IPY_MODEL_031ee3e5cf434337ab1a472bc19150d3",
       "max": 1,
       "step": 0.01,
       "style": "IPY_MODEL_cd5de9f01c8943e9bc1dc042d1f3f077",
       "value": 0.5
      }
     },
     "3982cf78949a487fa0bc4022c9cfd22a": {
      "model_module": "@jupyter-widgets/base",
      "model_module_version": "1.2.0",
      "model_name": "LayoutModel",
      "state": {}
     },
     "39a9352ca0c94cbaa27f6d9ea1c19d77": {
      "model_module": "@jupyter-widgets/base",
      "model_module_version": "1.2.0",
      "model_name": "LayoutModel",
      "state": {}
     },
     "3a06c53fb00d456d9e64047508d54c24": {
      "model_module": "@jupyter-widgets/controls",
      "model_module_version": "1.5.0",
      "model_name": "VBoxModel",
      "state": {
       "children": [
        "IPY_MODEL_dc3eb46ff0644027bd1c56ab9221a125",
        "IPY_MODEL_9498523a6acd40ecb24e48f87996394c",
        "IPY_MODEL_bb46ddacb45447b8b1111a9129d4813c"
       ],
       "layout": "IPY_MODEL_9aa46bf8626b47ed983de247ac2ddee8"
      }
     },
     "3a52900ff67f4c9e9e23cfbfa71d7181": {
      "model_module": "@jupyter-widgets/controls",
      "model_module_version": "1.5.0",
      "model_name": "SliderStyleModel",
      "state": {
       "description_width": ""
      }
     },
     "3a8440765a2043a3b4be4c61e3dcd924": {
      "model_module": "@jupyter-widgets/controls",
      "model_module_version": "1.5.0",
      "model_name": "ButtonStyleModel",
      "state": {}
     },
     "3a9b92bac319469b8ab8c0c708f5467b": {
      "model_module": "@jupyter-widgets/controls",
      "model_module_version": "1.5.0",
      "model_name": "FloatSliderModel",
      "state": {
       "description": "135°",
       "layout": "IPY_MODEL_8d359a99c7c14edbbbb845dc40facb7d",
       "max": 1,
       "min": -1,
       "step": 0.01,
       "style": "IPY_MODEL_7bf430d2c35040bcaeb6613880ce8c24"
      }
     },
     "3ab581d6c3fd4b2aad26175764eb0dfa": {
      "model_module": "@jupyter-widgets/base",
      "model_module_version": "1.2.0",
      "model_name": "LayoutModel",
      "state": {}
     },
     "3abd3e2a540f4bdd8b05ae750d25c642": {
      "model_module": "jupyter-matplotlib",
      "model_module_version": "^0.7.2",
      "model_name": "ToolbarModel",
      "state": {
       "layout": "IPY_MODEL_1420bb033d5544ccb7c839fb0efafa2c",
       "toolitems": [
        [
         "Home",
         "Reset original view",
         "home",
         "home"
        ],
        [
         "Back",
         "Back to previous view",
         "arrow-left",
         "back"
        ],
        [
         "Forward",
         "Forward to next view",
         "arrow-right",
         "forward"
        ],
        [
         "Pan",
         "Pan axes with left mouse, zoom with right",
         "arrows",
         "pan"
        ],
        [
         "Zoom",
         "Zoom to rectangle",
         "square-o",
         "zoom"
        ],
        [
         "Download",
         "Download plot",
         "floppy-o",
         "save_figure"
        ]
       ]
      }
     },
     "3aca6732cd404016a0b12a5ef16f9322": {
      "model_module": "@jupyter-widgets/base",
      "model_module_version": "1.2.0",
      "model_name": "LayoutModel",
      "state": {}
     },
     "3ad9b2d6b27e4a908898c76d0d44a5ed": {
      "model_module": "@jupyter-widgets/base",
      "model_module_version": "1.2.0",
      "model_name": "LayoutModel",
      "state": {}
     },
     "3ae4e1bf3eee4e6486470c927fa5b726": {
      "model_module": "@jupyter-widgets/controls",
      "model_module_version": "1.5.0",
      "model_name": "SliderStyleModel",
      "state": {
       "description_width": ""
      }
     },
     "3ae95bb627f4472caaee9767a76ab204": {
      "model_module": "@jupyter-widgets/controls",
      "model_module_version": "1.5.0",
      "model_name": "SliderStyleModel",
      "state": {
       "description_width": ""
      }
     },
     "3b2b1f79b69b4fe0b555f17880382848": {
      "model_module": "@jupyter-widgets/base",
      "model_module_version": "1.2.0",
      "model_name": "LayoutModel",
      "state": {}
     },
     "3b2dcd602d9b43969f3c7acd0bb03536": {
      "model_module": "@jupyter-widgets/controls",
      "model_module_version": "1.5.0",
      "model_name": "ButtonModel",
      "state": {
       "description": "Reset Protected Area",
       "layout": "IPY_MODEL_0fde8f81933842dd8f277e831335c8f2",
       "style": "IPY_MODEL_b23ef1d8306d4ee7b6d10e5603539b81"
      }
     },
     "3b4778e9825a42208d0d246d06967610": {
      "model_module": "@jupyter-widgets/controls",
      "model_module_version": "1.5.0",
      "model_name": "CheckboxModel",
      "state": {
       "description": "Disable Medicina",
       "disabled": false,
       "layout": "IPY_MODEL_0511cd00bb744035a9f90396f0e7e09c",
       "style": "IPY_MODEL_7417f28abe9c49bab721576e859843d5",
       "value": false
      }
     },
     "3c27ddef15cc450c88850df05bdecb7b": {
      "model_module": "@jupyter-widgets/controls",
      "model_module_version": "1.5.0",
      "model_name": "SliderStyleModel",
      "state": {
       "description_width": ""
      }
     },
     "3c2c9e6f18c14fc09c24438c62b351fb": {
      "model_module": "@jupyter-widgets/controls",
      "model_module_version": "1.5.0",
      "model_name": "FloatSliderModel",
      "state": {
       "description": "225°",
       "layout": "IPY_MODEL_de7bac16bdac4deb818c7c8d96d68e85",
       "max": 1,
       "min": -1,
       "step": 0.01,
       "style": "IPY_MODEL_e3ff44d8167e46dbb61b732932fc03e5"
      }
     },
     "3c3abda90b844fd9b2cb3e5f8cc36025": {
      "model_module": "@jupyter-widgets/controls",
      "model_module_version": "1.5.0",
      "model_name": "HBoxModel",
      "state": {
       "children": [
        "IPY_MODEL_2efcd4062a9345f2ba7f3f50e53d986c",
        "IPY_MODEL_cf0f152dc723459299a2f6e9f29eaccd",
        "IPY_MODEL_d1df9cef5be34c159e28022b0426523d",
        "IPY_MODEL_0e05407cf97b4d80a4459097cf7eacb4",
        "IPY_MODEL_8db248e475d543669cb3a80731534f4b"
       ],
       "layout": "IPY_MODEL_3e32ddedcdc54a7c873c4b67028bbaba"
      }
     },
     "3c57b243838a4bd784d9a56e15dc51a5": {
      "model_module": "@jupyter-widgets/controls",
      "model_module_version": "1.5.0",
      "model_name": "ButtonModel",
      "state": {
       "description": "Reset Saturation Controls",
       "layout": "IPY_MODEL_d2752483c9f04af98dca52ebacb99d64",
       "style": "IPY_MODEL_9404346a35dc4ea5a91c4c14495bae4f"
      }
     },
     "3c6314b1e42641e99481a451428dc81a": {
      "model_module": "@jupyter-widgets/controls",
      "model_module_version": "1.5.0",
      "model_name": "HBoxModel",
      "state": {
       "children": [
        "IPY_MODEL_53d2dcab13e943b19d6d7cbd634fe20e",
        "IPY_MODEL_1a5f5effdabc4081a4be3b3bb617716d",
        "IPY_MODEL_826f4dd8d332453f90b1a089a3a4edf5"
       ],
       "layout": "IPY_MODEL_fca0985ff91e45baa6b50bf44d7c3571"
      }
     },
     "3ca1547390e84011acc08553b9d516ff": {
      "model_module": "@jupyter-widgets/controls",
      "model_module_version": "1.5.0",
      "model_name": "FloatSliderModel",
      "state": {
       "description": "Exposure",
       "layout": "IPY_MODEL_0ff6586c98454d009e2b15474456c89e",
       "max": 8,
       "min": -8,
       "step": 0.1,
       "style": "IPY_MODEL_85beb4cf0ea94f50a960d0214808cd77"
      }
     },
     "3cc2de26f4d74f3b9b178e5252f33b0b": {
      "model_module": "@jupyter-widgets/base",
      "model_module_version": "1.2.0",
      "model_name": "LayoutModel",
      "state": {
       "border": "solid 4px #222",
       "margin": "4px",
       "padding": "0"
      }
     },
     "3d0cb869730046dd9867a315794a85b9": {
      "model_module": "@jupyter-widgets/base",
      "model_module_version": "1.2.0",
      "model_name": "LayoutModel",
      "state": {}
     },
     "3d15ffe2bbd847e7813cbb8481ce5a88": {
      "model_module": "@jupyter-widgets/controls",
      "model_module_version": "1.5.0",
      "model_name": "FloatSliderModel",
      "state": {
       "description": "90°",
       "layout": "IPY_MODEL_15a5e3d0415e4633b755fa7acf164816",
       "max": 1,
       "min": -1,
       "step": 0.01,
       "style": "IPY_MODEL_aec5020d9b8b417e86cc446698cc1c9f"
      }
     },
     "3d434fab3a8b49a79d3f67bbbdd7f9ec": {
      "model_module": "@jupyter-widgets/controls",
      "model_module_version": "1.5.0",
      "model_name": "ButtonStyleModel",
      "state": {}
     },
     "3d656425e9de4ee6a5f8187f04c180e3": {
      "model_module": "@jupyter-widgets/controls",
      "model_module_version": "1.5.0",
      "model_name": "ButtonStyleModel",
      "state": {}
     },
     "3d6ef8051efd4ded9269a84d6aff1add": {
      "model_module": "@jupyter-widgets/base",
      "model_module_version": "1.2.0",
      "model_name": "LayoutModel",
      "state": {}
     },
     "3d8759474529445e84dd3647c1825cdc": {
      "model_module": "@jupyter-widgets/controls",
      "model_module_version": "1.5.0",
      "model_name": "FloatSliderModel",
      "state": {
       "description": "315°",
       "layout": "IPY_MODEL_8f735f7321ce4e5ebf8c2749b8e22ac5",
       "max": 1,
       "min": -1,
       "step": 0.01,
       "style": "IPY_MODEL_8faf28603ad74ea8aefa41050744bd0a"
      }
     },
     "3dab9de37b5a4db8a8548849c821409b": {
      "model_module": "@jupyter-widgets/controls",
      "model_module_version": "1.5.0",
      "model_name": "FloatSliderModel",
      "state": {
       "description": "45°",
       "layout": "IPY_MODEL_17ee88e297a3494a9d1770425e9db675",
       "max": 1,
       "min": -1,
       "step": 0.01,
       "style": "IPY_MODEL_9496eb68b63d412bb1a302c8c7ec54da"
      }
     },
     "3dcaf55fd2b748efa032048b55f8d8e4": {
      "model_module": "@jupyter-widgets/controls",
      "model_module_version": "1.5.0",
      "model_name": "FloatSliderModel",
      "state": {
       "description": "135°",
       "layout": "IPY_MODEL_d7831a65f8f44e95a391746a969d1fef",
       "max": 1,
       "min": -1,
       "step": 0.01,
       "style": "IPY_MODEL_bfae9c5855764364b6863acf500a71ec"
      }
     },
     "3dd15dd2efad4c4aaecdc161fd55d560": {
      "model_module": "@jupyter-widgets/base",
      "model_module_version": "1.2.0",
      "model_name": "LayoutModel",
      "state": {}
     },
     "3df40f0a55dc4e50b31c3745e6ce4f08": {
      "model_module": "@jupyter-widgets/controls",
      "model_module_version": "1.5.0",
      "model_name": "FloatSliderModel",
      "state": {
       "description": "Compression Threshold",
       "layout": "IPY_MODEL_d942a10dbccb4f3bb643399f8020f307",
       "max": 1,
       "step": 0.01,
       "style": "IPY_MODEL_4817551b915c4d2591a0dfdacbdcc056",
       "value": 0.8
      }
     },
     "3df87107e4e4458197ce6377ba636514": {
      "model_module": "@jupyter-widgets/controls",
      "model_module_version": "1.5.0",
      "model_name": "HBoxModel",
      "state": {
       "children": [
        "IPY_MODEL_473f984308db4b3b8123abc3affa9e77",
        "IPY_MODEL_b6448a1abfb64ff09405aaf29c99c2a6"
       ],
       "layout": "IPY_MODEL_50a7fe652add41509b54d7244c5a5724"
      }
     },
     "3dfbc0d0b3034ed6a4d7811f545e6035": {
      "model_module": "@jupyter-widgets/controls",
      "model_module_version": "1.5.0",
      "model_name": "ButtonStyleModel",
      "state": {}
     },
     "3dfbec6a01094c5a8dfc67303b67239e": {
      "model_module": "@jupyter-widgets/controls",
      "model_module_version": "1.5.0",
      "model_name": "ButtonStyleModel",
      "state": {}
     },
     "3e1d53e011c440b881132182fcc13b5d": {
      "model_module": "@jupyter-widgets/controls",
      "model_module_version": "1.5.0",
      "model_name": "FloatSliderModel",
      "state": {
       "description": "270°",
       "layout": "IPY_MODEL_87aa2064d22b4f818cc76e81855cee53",
       "max": 1,
       "min": -1,
       "step": 0.01,
       "style": "IPY_MODEL_1120ae3dec1c4b108d5be740c159dcc6"
      }
     },
     "3e32ddedcdc54a7c873c4b67028bbaba": {
      "model_module": "@jupyter-widgets/base",
      "model_module_version": "1.2.0",
      "model_name": "LayoutModel",
      "state": {}
     },
     "3e3de463ef1c4846b880d33e00c8ba04": {
      "model_module": "@jupyter-widgets/base",
      "model_module_version": "1.2.0",
      "model_name": "LayoutModel",
      "state": {}
     },
     "3e41ee57279a4300ae752d696a0e455b": {
      "model_module": "@jupyter-widgets/base",
      "model_module_version": "1.2.0",
      "model_name": "LayoutModel",
      "state": {}
     },
     "3e4a8f8f38db40d1be886f7e03f9eb41": {
      "model_module": "@jupyter-widgets/controls",
      "model_module_version": "1.5.0",
      "model_name": "SliderStyleModel",
      "state": {
       "description_width": ""
      }
     },
     "3e4cd2a588794baf8c16af265b2e9f80": {
      "model_module": "@jupyter-widgets/base",
      "model_module_version": "1.2.0",
      "model_name": "LayoutModel",
      "state": {}
     },
     "3e5bf0e147e44a398177b72276c49f15": {
      "model_module": "@jupyter-widgets/base",
      "model_module_version": "1.2.0",
      "model_name": "LayoutModel",
      "state": {}
     },
     "3eb61538101f4f50a04c8b88ca24d18e": {
      "model_module": "@jupyter-widgets/controls",
      "model_module_version": "1.5.0",
      "model_name": "VBoxModel",
      "state": {
       "children": [
        "IPY_MODEL_22bc13728e58438780cdc6001cac54ff",
        "IPY_MODEL_6860f6dd25114749ab06735ece2bc991",
        "IPY_MODEL_2b9dd75c35e54e918f9dd3640f3dc4b2"
       ],
       "layout": "IPY_MODEL_b601303f2f7a477e9a15100bf782183a"
      }
     },
     "3f027f763b344ff1a968e24db0e3844e": {
      "model_module": "@jupyter-widgets/controls",
      "model_module_version": "1.5.0",
      "model_name": "FloatSliderModel",
      "state": {
       "description": "0°",
       "layout": "IPY_MODEL_5eb5170ac3384e0cb603eeca3ad1e9fb",
       "max": 1,
       "min": -1,
       "step": 0.01,
       "style": "IPY_MODEL_7588ad0f112a4df0b0380c2fa158c909"
      }
     },
     "3f4ad3e2dbbd4b249e2d9cce48f6827b": {
      "model_module": "@jupyter-widgets/controls",
      "model_module_version": "1.5.0",
      "model_name": "HBoxModel",
      "state": {
       "children": [
        "IPY_MODEL_3c57b243838a4bd784d9a56e15dc51a5",
        "IPY_MODEL_6256180177564c95915ff15a68e5e62c",
        "IPY_MODEL_d8bbaf66f3ac4eeea11b9f780158d3c3"
       ],
       "layout": "IPY_MODEL_1354c49e31bf41fe9e69bb8b949deb7e"
      }
     },
     "3fb92a55d2c14473aa80053026cee23d": {
      "model_module": "@jupyter-widgets/base",
      "model_module_version": "1.2.0",
      "model_name": "LayoutModel",
      "state": {}
     },
     "3fd7d694505540659e04c7ea9c32c54f": {
      "model_module": "@jupyter-widgets/base",
      "model_module_version": "1.2.0",
      "model_name": "LayoutModel",
      "state": {}
     },
     "3fe3dd67af6c41d394cc611cedcddd87": {
      "model_module": "@jupyter-widgets/base",
      "model_module_version": "1.2.0",
      "model_name": "LayoutModel",
      "state": {}
     },
     "400a7d3d1b44487185c8045877263246": {
      "model_module": "@jupyter-widgets/controls",
      "model_module_version": "1.5.0",
      "model_name": "FloatSliderModel",
      "state": {
       "description": "Protected Area Threshold",
       "layout": "IPY_MODEL_84b0e0fb3f054e829d600d31d62432b6",
       "max": 1,
       "step": 0.01,
       "style": "IPY_MODEL_01db7ffeea4a4ee6a00f7af3e3866f5e",
       "value": 0.7
      }
     },
     "404b36ce15ca43c791a307b1448fd193": {
      "model_module": "@jupyter-widgets/controls",
      "model_module_version": "1.5.0",
      "model_name": "ButtonModel",
      "state": {
       "description": "Export Image",
       "layout": "IPY_MODEL_7c2c3703ad294e4bbe57fb8b7af87f3d",
       "style": "IPY_MODEL_38d847ea5dbd4adbb10349174e42d3ee"
      }
     },
     "4073b1e22b464f5ea79eda88769749e0": {
      "model_module": "@jupyter-widgets/base",
      "model_module_version": "1.2.0",
      "model_name": "LayoutModel",
      "state": {
       "border": "solid 4px #222",
       "margin": "4px",
       "padding": "0"
      }
     },
     "4082faff880c4d97b5f90a13cfd675ae": {
      "model_module": "@jupyter-widgets/controls",
      "model_module_version": "1.5.0",
      "model_name": "ButtonStyleModel",
      "state": {}
     },
     "409e4a62e6cb4b3ca3aa286e1a44ed86": {
      "model_module": "@jupyter-widgets/base",
      "model_module_version": "1.2.0",
      "model_name": "LayoutModel",
      "state": {}
     },
     "40b44a310dab4aa59e0a6d95a0605fe6": {
      "model_module": "@jupyter-widgets/base",
      "model_module_version": "1.2.0",
      "model_name": "LayoutModel",
      "state": {}
     },
     "40cdb40283da4d729bec8d664ff258d1": {
      "model_module": "@jupyter-widgets/base",
      "model_module_version": "1.2.0",
      "model_name": "LayoutModel",
      "state": {
       "align_items": "stretch",
       "display": "flex",
       "flex_flow": "column",
       "width": "1128px"
      }
     },
     "40e7a21a4304497883e8b48fc0f6985d": {
      "model_module": "@jupyter-widgets/base",
      "model_module_version": "1.2.0",
      "model_name": "LayoutModel",
      "state": {}
     },
     "40fdcd31aef247d6af97dd3a1a595af7": {
      "model_module": "@jupyter-widgets/base",
      "model_module_version": "1.2.0",
      "model_name": "LayoutModel",
      "state": {}
     },
     "40feeb0931284968a8a559d16f94dd44": {
      "model_module": "@jupyter-widgets/base",
      "model_module_version": "1.2.0",
      "model_name": "LayoutModel",
      "state": {}
     },
     "410677b0937744e6990897534185595c": {
      "model_module": "@jupyter-widgets/base",
      "model_module_version": "1.2.0",
      "model_name": "LayoutModel",
      "state": {}
     },
     "4146c6513a2e487abbd1edd476986a6d": {
      "model_module": "@jupyter-widgets/output",
      "model_module_version": "1.0.0",
      "model_name": "OutputModel",
      "state": {
       "layout": "IPY_MODEL_f797a2c04d914bcc9ab5401c6d6d6d39",
       "outputs": [
        {
         "data": {
          "application/vnd.jupyter.widget-view+json": {
           "model_id": "1f956b39abab4ab886e69dcf6a6c5385",
           "version_major": 2,
           "version_minor": 0
          },
          "text/plain": "Canvas(toolbar=Toolbar(toolitems=[('Home', 'Reset original view', 'home', 'home'), ('Back', 'Back to previous …"
         },
         "metadata": {},
         "output_type": "display_data"
        }
       ]
      }
     },
     "417d4101330c440d9b1777be19d801e2": {
      "model_module": "@jupyter-widgets/base",
      "model_module_version": "1.2.0",
      "model_name": "LayoutModel",
      "state": {
       "border": "solid 4px #222",
       "margin": "4px",
       "padding": "0"
      }
     },
     "418d8392718949e08664bf15cba9b1a4": {
      "model_module": "@jupyter-widgets/controls",
      "model_module_version": "1.5.0",
      "model_name": "ButtonStyleModel",
      "state": {}
     },
     "41a226a049b34a1ab6a4e420c53aeed5": {
      "model_module": "@jupyter-widgets/base",
      "model_module_version": "1.2.0",
      "model_name": "LayoutModel",
      "state": {}
     },
     "41b50a6ec97046b281cdd79fb8c1e1fe": {
      "model_module": "@jupyter-widgets/base",
      "model_module_version": "1.2.0",
      "model_name": "LayoutModel",
      "state": {}
     },
     "425490edd21b4a70a9477c0b6c0056eb": {
      "model_module": "@jupyter-widgets/base",
      "model_module_version": "1.2.0",
      "model_name": "LayoutModel",
      "state": {}
     },
     "425593177e8f40d3b6e362522721b079": {
      "model_module": "@jupyter-widgets/base",
      "model_module_version": "1.2.0",
      "model_name": "LayoutModel",
      "state": {}
     },
     "4261ce4ad2d8473494378ce271dfd62e": {
      "model_module": "@jupyter-widgets/base",
      "model_module_version": "1.2.0",
      "model_name": "LayoutModel",
      "state": {}
     },
     "42695a1b78d8431899e7a300a720a023": {
      "model_module": "@jupyter-widgets/controls",
      "model_module_version": "1.5.0",
      "model_name": "SliderStyleModel",
      "state": {
       "description_width": ""
      }
     },
     "426edf5044294f7fbaa31ad986c8f895": {
      "model_module": "@jupyter-widgets/controls",
      "model_module_version": "1.5.0",
      "model_name": "FloatSliderModel",
      "state": {
       "description": "180°",
       "layout": "IPY_MODEL_c7deed24dc2540ef92ab436e14b87bd4",
       "max": 1,
       "min": -1,
       "step": 0.01,
       "style": "IPY_MODEL_8bcd5382afa84d52bdf4f8cc2d4dc449"
      }
     },
     "42b43186121448b3abc42b4fe364bc40": {
      "model_module": "@jupyter-widgets/controls",
      "model_module_version": "1.5.0",
      "model_name": "TabModel",
      "state": {
       "_titles": {
        "0": "Global Controls",
        "1": "Protected Area Controls",
        "2": "Saturation Controls",
        "3": "Hue Controls"
       },
       "children": [
        "IPY_MODEL_d636eecd4bba475fba0807774228deb7",
        "IPY_MODEL_53963de84f374c718d9d758b1d907eab",
        "IPY_MODEL_cc500b4149074b60beea30740dd31666",
        "IPY_MODEL_44591027ce714f69b939985cb6689aff"
       ],
       "layout": "IPY_MODEL_84fb8d9fb99140a7adb8d29053962c04"
      }
     },
     "42cc4736d99d44559ef1910edb9a71d9": {
      "model_module": "@jupyter-widgets/base",
      "model_module_version": "1.2.0",
      "model_name": "LayoutModel",
      "state": {}
     },
     "4319ab3b7bbe49c1b1c07ad4821349d4": {
      "model_module": "@jupyter-widgets/base",
      "model_module_version": "1.2.0",
      "model_name": "LayoutModel",
      "state": {}
     },
     "4326cd3c6927499c8f301f63b55e9a9a": {
      "model_module": "@jupyter-widgets/base",
      "model_module_version": "1.2.0",
      "model_name": "LayoutModel",
      "state": {}
     },
     "4345e31bb7ae470db5211bb887dbd845": {
      "model_module": "@jupyter-widgets/controls",
      "model_module_version": "1.5.0",
      "model_name": "HBoxModel",
      "state": {
       "children": [
        "IPY_MODEL_614488abbfc24c2286ab26b7d47379a0",
        "IPY_MODEL_763e352bf3f242e2a051410547d0a1d2",
        "IPY_MODEL_0d1973da2abc47c2a49c41156b7131eb"
       ],
       "layout": "IPY_MODEL_12e2add3125340ee983d45f4a22accf2"
      }
     },
     "435fcc875404497aacfa18cec1dd0b97": {
      "model_module": "@jupyter-widgets/controls",
      "model_module_version": "1.5.0",
      "model_name": "SliderStyleModel",
      "state": {
       "description_width": ""
      }
     },
     "436dc329625245ef84becfa1f9cf840a": {
      "model_module": "@jupyter-widgets/base",
      "model_module_version": "1.2.0",
      "model_name": "LayoutModel",
      "state": {
       "border": "solid 4px #222",
       "margin": "4px",
       "padding": "0"
      }
     },
     "43e8156d5cf74b3fb9853bc9fcc265fd": {
      "model_module": "@jupyter-widgets/controls",
      "model_module_version": "1.5.0",
      "model_name": "ButtonStyleModel",
      "state": {}
     },
     "440646fba29442bc8cd042e4f8b22923": {
      "model_module": "@jupyter-widgets/base",
      "model_module_version": "1.2.0",
      "model_name": "LayoutModel",
      "state": {}
     },
     "442585a0d2074859b12a4277c096977d": {
      "model_module": "@jupyter-widgets/base",
      "model_module_version": "1.2.0",
      "model_name": "LayoutModel",
      "state": {}
     },
     "44512d64b3f34d00a6f3b076f8fa15e9": {
      "model_module": "@jupyter-widgets/controls",
      "model_module_version": "1.5.0",
      "model_name": "ButtonStyleModel",
      "state": {}
     },
     "44591027ce714f69b939985cb6689aff": {
      "model_module": "@jupyter-widgets/controls",
      "model_module_version": "1.5.0",
      "model_name": "HBoxModel",
      "state": {
       "children": [
        "IPY_MODEL_b8b5d9b763bd423eb1dba47ff540a11f",
        "IPY_MODEL_8efe1802a9fe4179bb9f7f146da25866",
        "IPY_MODEL_b41496b66dcf47cf93996a7417cbe36b",
        "IPY_MODEL_603451abac144b70a1eb778044de0922"
       ],
       "layout": "IPY_MODEL_6e50a883b3a34fc3be989813430273d0"
      }
     },
     "44628f36aeee4e4bafaf2a85b371621b": {
      "model_module": "jupyter-matplotlib",
      "model_module_version": "^0.7.2",
      "model_name": "MPLCanvasModel",
      "state": {
       "_figure_label": "Figure 7",
       "_height": 508,
       "_image_mode": "diff",
       "_message": "θ=1.348π (242.590°), r=0.759",
       "_width": 1100,
       "header_visible": false,
       "layout": "IPY_MODEL_e35fc8422b8445f682100b2ea1d6bf18",
       "resizable": false,
       "toolbar": "IPY_MODEL_18206df110d34d4c9b1cfc81b5150609",
       "toolbar_position": "left",
       "toolbar_visible": false
      }
     },
     "4469fad7ad3c4284b7a063b0372c7d76": {
      "model_module": "@jupyter-widgets/controls",
      "model_module_version": "1.5.0",
      "model_name": "ButtonStyleModel",
      "state": {}
     },
     "4479dc772fca44f9b4f4f3b8baadcd4a": {
      "model_module": "@jupyter-widgets/base",
      "model_module_version": "1.2.0",
      "model_name": "LayoutModel",
      "state": {
       "border": "solid 4px #222",
       "margin": "4px",
       "padding": "0"
      }
     },
     "448072675da34d0da6f88b2f51997b98": {
      "model_module": "@jupyter-widgets/base",
      "model_module_version": "1.2.0",
      "model_name": "LayoutModel",
      "state": {}
     },
     "44a89923e1b3447fb34c913620c556a7": {
      "model_module": "@jupyter-widgets/controls",
      "model_module_version": "1.5.0",
      "model_name": "ButtonModel",
      "state": {
       "description": "Export Image",
       "layout": "IPY_MODEL_918466c0b4784e67b6267126efd727a5",
       "style": "IPY_MODEL_9986835999514575ae467210bf18fb44"
      }
     },
     "44b66cd52a404f0eb89a5a4d1e2aef4c": {
      "model_module": "@jupyter-widgets/controls",
      "model_module_version": "1.5.0",
      "model_name": "SliderStyleModel",
      "state": {
       "description_width": ""
      }
     },
     "44d5262f86d94d3dac758d643f5c50af": {
      "model_module": "@jupyter-widgets/controls",
      "model_module_version": "1.5.0",
      "model_name": "HBoxModel",
      "state": {
       "children": [
        "IPY_MODEL_2fe9ba619c62452395c3e0ec589e939c",
        "IPY_MODEL_85736271e58d4e2da43fc3c33e9c93c5",
        "IPY_MODEL_de8036371adf44b19ad363c5ba477ede"
       ],
       "layout": "IPY_MODEL_52bba095836c4898abcab39d6e174477"
      }
     },
     "44e824920cd04dc38b275f70535a687f": {
      "model_module": "@jupyter-widgets/controls",
      "model_module_version": "1.5.0",
      "model_name": "SliderStyleModel",
      "state": {
       "description_width": ""
      }
     },
     "44f1c38af3234d0397037503e5f72971": {
      "model_module": "@jupyter-widgets/controls",
      "model_module_version": "1.5.0",
      "model_name": "HBoxModel",
      "state": {
       "children": [
        "IPY_MODEL_fe1753976de4408f9e811ef20089e538",
        "IPY_MODEL_a7fb12341967460bbce42712c72f468c",
        "IPY_MODEL_70292cbac019450190faf1700c719f5b",
        "IPY_MODEL_946b5aa170e94382b26fb00408ff7730",
        "IPY_MODEL_8a6a99de1db7441097e52a2465c68aca"
       ],
       "layout": "IPY_MODEL_7943e6532b0043cc8c863848a8b46f0b"
      }
     },
     "453394fd949d4e12a76068f9729f581b": {
      "model_module": "@jupyter-widgets/controls",
      "model_module_version": "1.5.0",
      "model_name": "SliderStyleModel",
      "state": {
       "description_width": ""
      }
     },
     "457c0bcf455f4bb8a91566acb526714e": {
      "model_module": "@jupyter-widgets/base",
      "model_module_version": "1.2.0",
      "model_name": "LayoutModel",
      "state": {}
     },
     "45827f01f2a24427bf19caee2a978ee8": {
      "model_module": "@jupyter-widgets/base",
      "model_module_version": "1.2.0",
      "model_name": "LayoutModel",
      "state": {}
     },
     "45b9f50562f44216ad624b9763610cf2": {
      "model_module": "@jupyter-widgets/base",
      "model_module_version": "1.2.0",
      "model_name": "LayoutModel",
      "state": {}
     },
     "45fb39f23e5b4646854dd257ae764ad3": {
      "model_module": "@jupyter-widgets/controls",
      "model_module_version": "1.5.0",
      "model_name": "FloatSliderModel",
      "state": {
       "description": "Compression Threshold",
       "layout": "IPY_MODEL_5f6b563c42fe4ee389e2e9fa5f1d47f6",
       "max": 1,
       "step": 0.01,
       "style": "IPY_MODEL_1d3c27a3135542699382f6de4e2bd621",
       "value": 0.8
      }
     },
     "466d1b026f1d401aa48fcc9f7419f1a5": {
      "model_module": "@jupyter-widgets/controls",
      "model_module_version": "1.5.0",
      "model_name": "FloatSliderModel",
      "state": {
       "description": "Compression Threshold",
       "layout": "IPY_MODEL_007726c4da164ee7aff07c034c0d1d82",
       "max": 1,
       "step": 0.01,
       "style": "IPY_MODEL_47473fad88c344eaa5653fbd87517edd",
       "value": 0.8
      }
     },
     "469fdd6982f24b1aba410928a35794fd": {
      "model_module": "@jupyter-widgets/base",
      "model_module_version": "1.2.0",
      "model_name": "LayoutModel",
      "state": {}
     },
     "4704d78afd25400c8ca90e8e255326e6": {
      "model_module": "@jupyter-widgets/controls",
      "model_module_version": "1.5.0",
      "model_name": "ButtonModel",
      "state": {
       "description": "Export Image",
       "layout": "IPY_MODEL_a85f54370ab94f90a12b9ec183b52114",
       "style": "IPY_MODEL_33f5bc12e8a141ba960db577f7c272e0"
      }
     },
     "470c0f33411c4010b9cab14ad5eb6017": {
      "model_module": "@jupyter-widgets/controls",
      "model_module_version": "1.5.0",
      "model_name": "SliderStyleModel",
      "state": {
       "description_width": ""
      }
     },
     "473f984308db4b3b8123abc3affa9e77": {
      "model_module": "@jupyter-widgets/controls",
      "model_module_version": "1.5.0",
      "model_name": "ButtonModel",
      "state": {
       "description": "Reset Protected Area",
       "layout": "IPY_MODEL_0b3273e2a5864bdd8db4630fc1ad4e7c",
       "style": "IPY_MODEL_cb619f4e56314b0ebd748e1a258b591f"
      }
     },
     "47473fad88c344eaa5653fbd87517edd": {
      "model_module": "@jupyter-widgets/controls",
      "model_module_version": "1.5.0",
      "model_name": "SliderStyleModel",
      "state": {
       "description_width": ""
      }
     },
     "477a57f8fa0d42b0a939341abd181208": {
      "model_module": "@jupyter-widgets/base",
      "model_module_version": "1.2.0",
      "model_name": "LayoutModel",
      "state": {
       "border": "solid 4px #222",
       "margin": "4px",
       "padding": "0"
      }
     },
     "478e247a699142b7bae34186b7360244": {
      "model_module": "@jupyter-widgets/base",
      "model_module_version": "1.2.0",
      "model_name": "LayoutModel",
      "state": {}
     },
     "47a7914dd2d7423fa276948e3ac1f00e": {
      "model_module": "@jupyter-widgets/controls",
      "model_module_version": "1.5.0",
      "model_name": "ButtonStyleModel",
      "state": {}
     },
     "47c404d7836d40ba845afe4a807cbc14": {
      "model_module": "@jupyter-widgets/base",
      "model_module_version": "1.2.0",
      "model_name": "LayoutModel",
      "state": {
       "border": "solid 4px #222",
       "margin": "4px",
       "padding": "0"
      }
     },
     "480b722bc9c4459ca9150b538f879e5b": {
      "model_module": "@jupyter-widgets/base",
      "model_module_version": "1.2.0",
      "model_name": "LayoutModel",
      "state": {}
     },
     "4817551b915c4d2591a0dfdacbdcc056": {
      "model_module": "@jupyter-widgets/controls",
      "model_module_version": "1.5.0",
      "model_name": "SliderStyleModel",
      "state": {
       "description_width": ""
      }
     },
     "4821e4cc275049729a67b2c8e0d2ff62": {
      "model_module": "@jupyter-widgets/controls",
      "model_module_version": "1.5.0",
      "model_name": "HBoxModel",
      "state": {
       "children": [
        "IPY_MODEL_5f15f59ba2b44e949541a672fe745cf4",
        "IPY_MODEL_d87b79cad1aa4a11a890b158ad1db1f9",
        "IPY_MODEL_d0687c067a374926ac43d9c3b7be97b9"
       ],
       "layout": "IPY_MODEL_4be837c6afd34e828b63afd73db6ec41"
      }
     },
     "4888cd8692104c62ad71add151d095ae": {
      "model_module": "@jupyter-widgets/controls",
      "model_module_version": "1.5.0",
      "model_name": "HBoxModel",
      "state": {
       "children": [
        "IPY_MODEL_04e917a50e6a4a489ebbbd84a3af98e3",
        "IPY_MODEL_e40d0073c9584c8f89dcdf66cd76c02a",
        "IPY_MODEL_22b33c9cefec4f4f84f4ff4a90a26914",
        "IPY_MODEL_ede2f0dbaf774ed2846e3736eb2d99e4",
        "IPY_MODEL_74d9bdf6ac604714a9bdcd4d64344994"
       ],
       "layout": "IPY_MODEL_1ec29de77d284a8fb025a11a3a16bc8e"
      }
     },
     "49067da1c6374dd8a2c28c8f41b9dd02": {
      "model_module": "@jupyter-widgets/base",
      "model_module_version": "1.2.0",
      "model_name": "LayoutModel",
      "state": {}
     },
     "49543965d8d945788eafe3eccae285b5": {
      "model_module": "@jupyter-widgets/base",
      "model_module_version": "1.2.0",
      "model_name": "LayoutModel",
      "state": {}
     },
     "498a3c944b344f34a08e15ebfa3ebc94": {
      "model_module": "@jupyter-widgets/base",
      "model_module_version": "1.2.0",
      "model_name": "LayoutModel",
      "state": {}
     },
     "498c41342d9b4870a68092830f5aa307": {
      "model_module": "@jupyter-widgets/controls",
      "model_module_version": "1.5.0",
      "model_name": "SliderStyleModel",
      "state": {
       "description_width": ""
      }
     },
     "499a532d3342474dacbc23123cf71a02": {
      "model_module": "@jupyter-widgets/controls",
      "model_module_version": "1.5.0",
      "model_name": "SliderStyleModel",
      "state": {
       "description_width": ""
      }
     },
     "499fcb4698c34c4cba05d36d04c9e2d8": {
      "model_module": "@jupyter-widgets/controls",
      "model_module_version": "1.5.0",
      "model_name": "FloatSliderModel",
      "state": {
       "description": "180°",
       "layout": "IPY_MODEL_c016c1a4ee8c4150835a917a5bf44107",
       "max": 1,
       "min": -1,
       "step": 0.01,
       "style": "IPY_MODEL_f6f5c4b7882b4c5b8e5bb7d410aa8d65"
      }
     },
     "4a55d90ed29241ea9bb95417b449d763": {
      "model_module": "@jupyter-widgets/controls",
      "model_module_version": "1.5.0",
      "model_name": "SliderStyleModel",
      "state": {
       "description_width": ""
      }
     },
     "4a6523b2dba7490786fb618ac045c87e": {
      "model_module": "@jupyter-widgets/controls",
      "model_module_version": "1.5.0",
      "model_name": "DropdownModel",
      "state": {
       "_options_labels": [
        "tanh",
        "atan",
        "simple"
       ],
       "description": "Compression Function:",
       "index": 0,
       "layout": "IPY_MODEL_7494e8b24ea74c2a8e37616426ee3967",
       "style": "IPY_MODEL_84cb0d9aae1f40abaa0e06484b18ccbb"
      }
     },
     "4a83dc87066646c5add46841225b0032": {
      "model_module": "@jupyter-widgets/controls",
      "model_module_version": "1.5.0",
      "model_name": "SliderStyleModel",
      "state": {
       "description_width": ""
      }
     },
     "4a85035cd6654530a00482860321538c": {
      "model_module": "@jupyter-widgets/base",
      "model_module_version": "1.2.0",
      "model_name": "LayoutModel",
      "state": {
       "border": "solid 4px #222",
       "margin": "4px",
       "padding": "0"
      }
     },
     "4a8678c0517e4cb397d2ee06323944d4": {
      "model_module": "@jupyter-widgets/base",
      "model_module_version": "1.2.0",
      "model_name": "LayoutModel",
      "state": {
       "border": "solid 4px #222",
       "margin": "4px",
       "padding": "0"
      }
     },
     "4a8c8b524e41473c8b6b9fabcbd0c876": {
      "model_module": "@jupyter-widgets/controls",
      "model_module_version": "1.5.0",
      "model_name": "ButtonModel",
      "state": {
       "description": "Reset Compression Controls",
       "layout": "IPY_MODEL_da739fea0dd146cc8796e8a3b0b32eaa",
       "style": "IPY_MODEL_a4192cc47d8c4fea97fe678ccd24f8e4"
      }
     },
     "4aaeccab487d4d779b27025393d79a19": {
      "model_module": "@jupyter-widgets/controls",
      "model_module_version": "1.5.0",
      "model_name": "ButtonModel",
      "state": {
       "description": "Reset Compression Controls",
       "layout": "IPY_MODEL_81042de606734c12bd6bd5e259330252",
       "style": "IPY_MODEL_e1a6f6d8c7ea4d7290192383ca05a456"
      }
     },
     "4ad9eaf223e0410ebc2a7048dd0d5ae6": {
      "model_module": "@jupyter-widgets/controls",
      "model_module_version": "1.5.0",
      "model_name": "DescriptionStyleModel",
      "state": {
       "description_width": ""
      }
     },
     "4b09b6bafac34309bc734f620e0dbfc9": {
      "model_module": "@jupyter-widgets/base",
      "model_module_version": "1.2.0",
      "model_name": "LayoutModel",
      "state": {}
     },
     "4b2c6c384d19449bafb879e44c255186": {
      "model_module": "@jupyter-widgets/controls",
      "model_module_version": "1.5.0",
      "model_name": "SliderStyleModel",
      "state": {
       "description_width": ""
      }
     },
     "4b85fae831c34d6b9fe44739807a3602": {
      "model_module": "@jupyter-widgets/controls",
      "model_module_version": "1.5.0",
      "model_name": "FloatSliderModel",
      "state": {
       "description": "135°",
       "layout": "IPY_MODEL_f66407b231fc48e79c9df18a54b72141",
       "max": 1,
       "min": -1,
       "step": 0.01,
       "style": "IPY_MODEL_fffae0f88444479eb71c844220fdaee3"
      }
     },
     "4b928be5d99f418890afe9d4ef8e9ee0": {
      "model_module": "@jupyter-widgets/base",
      "model_module_version": "1.2.0",
      "model_name": "LayoutModel",
      "state": {}
     },
     "4be837c6afd34e828b63afd73db6ec41": {
      "model_module": "@jupyter-widgets/base",
      "model_module_version": "1.2.0",
      "model_name": "LayoutModel",
      "state": {}
     },
     "4c11b93aa018455db4de39afac30be1f": {
      "model_module": "@jupyter-widgets/controls",
      "model_module_version": "1.5.0",
      "model_name": "FloatSliderModel",
      "state": {
       "description": "Compression Threshold",
       "layout": "IPY_MODEL_457c0bcf455f4bb8a91566acb526714e",
       "max": 1,
       "step": 0.01,
       "style": "IPY_MODEL_9ca0016fe12447b48e5da09a1578b058",
       "value": 0.8
      }
     },
     "4cb70ee897504c18bb4fa1d6d2ae7ff9": {
      "model_module": "@jupyter-widgets/controls",
      "model_module_version": "1.5.0",
      "model_name": "HBoxModel",
      "state": {
       "children": [
        "IPY_MODEL_2776f9b1c2504ff489d37f25e13f59cb",
        "IPY_MODEL_a1968505b3274419a354bf3e91d33667"
       ],
       "layout": "IPY_MODEL_30502f39b0a74628b68c70dc655c3266"
      }
     },
     "4cc2b3102f8740e6ac37f37b05ad5300": {
      "model_module": "@jupyter-widgets/base",
      "model_module_version": "1.2.0",
      "model_name": "LayoutModel",
      "state": {}
     },
     "4d0b4549565d464cbd1f2f37327fcf80": {
      "model_module": "@jupyter-widgets/base",
      "model_module_version": "1.2.0",
      "model_name": "LayoutModel",
      "state": {}
     },
     "4d3f7b42cc014edbb154d56584c86a38": {
      "model_module": "@jupyter-widgets/controls",
      "model_module_version": "1.5.0",
      "model_name": "ButtonModel",
      "state": {
       "description": "Reset Hue Controls",
       "layout": "IPY_MODEL_f356e696e9e645248755726b694831c5",
       "style": "IPY_MODEL_adc3453c098c4d29a1795211ad4889a0"
      }
     },
     "4d454d8662b24d2aa2f051536944d0f1": {
      "model_module": "@jupyter-widgets/base",
      "model_module_version": "1.2.0",
      "model_name": "LayoutModel",
      "state": {}
     },
     "4d50d19316364776bfe76c58e5b6e347": {
      "model_module": "@jupyter-widgets/base",
      "model_module_version": "1.2.0",
      "model_name": "LayoutModel",
      "state": {}
     },
     "4d977b136d9641919356c7610f1307c7": {
      "model_module": "jupyter-matplotlib",
      "model_module_version": "^0.7.2",
      "model_name": "ToolbarModel",
      "state": {
       "layout": "IPY_MODEL_109ec2e48ddf4f72b9b66312e65c4919",
       "toolitems": [
        [
         "Home",
         "Reset original view",
         "home",
         "home"
        ],
        [
         "Back",
         "Back to previous view",
         "arrow-left",
         "back"
        ],
        [
         "Forward",
         "Forward to next view",
         "arrow-right",
         "forward"
        ],
        [
         "Pan",
         "Pan axes with left mouse, zoom with right",
         "arrows",
         "pan"
        ],
        [
         "Zoom",
         "Zoom to rectangle",
         "square-o",
         "zoom"
        ],
        [
         "Download",
         "Download plot",
         "floppy-o",
         "save_figure"
        ]
       ]
      }
     },
     "4da8806190964196a84bee2be8680b3f": {
      "model_module": "@jupyter-widgets/controls",
      "model_module_version": "1.5.0",
      "model_name": "ButtonStyleModel",
      "state": {}
     },
     "4de08e23627b4faea9dfba070746124f": {
      "model_module": "@jupyter-widgets/controls",
      "model_module_version": "1.5.0",
      "model_name": "FloatSliderModel",
      "state": {
       "description": "90°",
       "layout": "IPY_MODEL_f467ae805e464d0ca4b841ba9c50e08f",
       "max": 1,
       "min": -1,
       "step": 0.01,
       "style": "IPY_MODEL_b1e2cab7094d4eca81a081ae80fda9d4"
      }
     },
     "4e2206f63cd9479ab300ef4e9905d5a0": {
      "model_module": "@jupyter-widgets/base",
      "model_module_version": "1.2.0",
      "model_name": "LayoutModel",
      "state": {}
     },
     "4e38f4177f74460b9b28b206d0427928": {
      "model_module": "@jupyter-widgets/controls",
      "model_module_version": "1.5.0",
      "model_name": "CheckboxModel",
      "state": {
       "description": "Disable Medicina",
       "disabled": false,
       "layout": "IPY_MODEL_d661c91150484bb1a438a6877797a3f2",
       "style": "IPY_MODEL_fb57f712a9e5453ebbb2908a6ad41cbd",
       "value": false
      }
     },
     "4e5f0d8b2e624a7ca6552b6ce93f3d4f": {
      "model_module": "@jupyter-widgets/controls",
      "model_module_version": "1.5.0",
      "model_name": "ButtonStyleModel",
      "state": {}
     },
     "4ea15bb7e7084d79a597f930f5b5ea6f": {
      "model_module": "@jupyter-widgets/controls",
      "model_module_version": "1.5.0",
      "model_name": "DescriptionStyleModel",
      "state": {
       "description_width": ""
      }
     },
     "4ed7fe4b7c59452f89604e17d22c4c62": {
      "model_module": "@jupyter-widgets/controls",
      "model_module_version": "1.5.0",
      "model_name": "FloatSliderModel",
      "state": {
       "description": "225°",
       "layout": "IPY_MODEL_a450bb9168bc427da86f0e72a4bf6c29",
       "max": 1,
       "min": -1,
       "step": 0.01,
       "style": "IPY_MODEL_ff6552e8f0414dc0b666af107f448c8a"
      }
     },
     "4ee5ea271cd1478eb268e4f2647ab9bc": {
      "model_module": "@jupyter-widgets/output",
      "model_module_version": "1.0.0",
      "model_name": "OutputModel",
      "state": {
       "layout": "IPY_MODEL_477a57f8fa0d42b0a939341abd181208",
       "outputs": [
        {
         "data": {
          "application/vnd.jupyter.widget-view+json": {
           "model_id": "df293e386a5f46389b7f8fc2bd5b7c6d",
           "version_major": 2,
           "version_minor": 0
          },
          "text/plain": "Canvas(toolbar=Toolbar(toolitems=[('Home', 'Reset original view', 'home', 'home'), ('Back', 'Back to previous …"
         },
         "metadata": {},
         "output_type": "display_data"
        }
       ]
      }
     },
     "4f452c982d1e4d6888685d45b08e2adc": {
      "model_module": "@jupyter-widgets/controls",
      "model_module_version": "1.5.0",
      "model_name": "VBoxModel",
      "state": {
       "children": [
        "IPY_MODEL_df97448d59404e96914f44c83b0951f8",
        "IPY_MODEL_d3f4c85566e24169a09b1119714bd359",
        "IPY_MODEL_ccee527ccef44280ab4435dd7e93c4be"
       ],
       "layout": "IPY_MODEL_0b7f38481b35437792fbec26f52e37d6"
      }
     },
     "4f56e2a47a074931bec0dd7ec3f141f6": {
      "model_module": "@jupyter-widgets/base",
      "model_module_version": "1.2.0",
      "model_name": "LayoutModel",
      "state": {}
     },
     "4f61958773994d609b3fe86551aeb46a": {
      "model_module": "@jupyter-widgets/base",
      "model_module_version": "1.2.0",
      "model_name": "LayoutModel",
      "state": {}
     },
     "4f65a0b1c5634181b121308e153ca562": {
      "model_module": "@jupyter-widgets/controls",
      "model_module_version": "1.5.0",
      "model_name": "SliderStyleModel",
      "state": {
       "description_width": ""
      }
     },
     "4fbddf6cd482422f8dbf2fd576740fb5": {
      "model_module": "@jupyter-widgets/controls",
      "model_module_version": "1.5.0",
      "model_name": "SliderStyleModel",
      "state": {
       "description_width": ""
      }
     },
     "4fcf890ee73b4799beac7470eb6bfe78": {
      "model_module": "@jupyter-widgets/controls",
      "model_module_version": "1.5.0",
      "model_name": "SliderStyleModel",
      "state": {
       "description_width": ""
      }
     },
     "507426604db9417f95bc077069e7c691": {
      "model_module": "@jupyter-widgets/output",
      "model_module_version": "1.0.0",
      "model_name": "OutputModel",
      "state": {
       "layout": "IPY_MODEL_bb82c593e4df47dd91777199a09eb2f4",
       "outputs": [
        {
         "data": {
          "application/vnd.jupyter.widget-view+json": {
           "model_id": "15c437235cb749f79707ec9f4743fcd6",
           "version_major": 2,
           "version_minor": 0
          },
          "text/plain": "Canvas(toolbar=Toolbar(toolitems=[('Home', 'Reset original view', 'home', 'home'), ('Back', 'Back to previous …"
         },
         "metadata": {},
         "output_type": "display_data"
        }
       ]
      }
     },
     "509c292b43b941c48fa36545516b8d1d": {
      "model_module": "@jupyter-widgets/base",
      "model_module_version": "1.2.0",
      "model_name": "LayoutModel",
      "state": {}
     },
     "50a7fe652add41509b54d7244c5a5724": {
      "model_module": "@jupyter-widgets/base",
      "model_module_version": "1.2.0",
      "model_name": "LayoutModel",
      "state": {}
     },
     "50cc90dc0d144cfe9e38938eaa3020c3": {
      "model_module": "@jupyter-widgets/base",
      "model_module_version": "1.2.0",
      "model_name": "LayoutModel",
      "state": {
       "align_items": "stretch",
       "display": "flex",
       "flex_flow": "column",
       "width": "1128px"
      }
     },
     "50ee9e1d5af343b1b42783ad65547927": {
      "model_module": "@jupyter-widgets/base",
      "model_module_version": "1.2.0",
      "model_name": "LayoutModel",
      "state": {}
     },
     "50ff5de18a944ce883707865e06dd101": {
      "model_module": "jupyter-matplotlib",
      "model_module_version": "^0.7.2",
      "model_name": "MPLCanvasModel",
      "state": {
       "_figure_label": "Figure 11",
       "_height": 696,
       "_image_mode": "diff",
       "_width": 1100,
       "header_visible": false,
       "layout": "IPY_MODEL_624d2a7460e9459b8bce75e67c9999e3",
       "resizable": false,
       "toolbar": "IPY_MODEL_0be12373d5664343b20443ac41f080b2",
       "toolbar_position": "left",
       "toolbar_visible": false
      }
     },
     "5101c555f3ec4944b49da60f0a68b758": {
      "model_module": "@jupyter-widgets/base",
      "model_module_version": "1.2.0",
      "model_name": "LayoutModel",
      "state": {}
     },
     "510eeb5e17a5476aab9d7b04925e4e0e": {
      "model_module": "@jupyter-widgets/base",
      "model_module_version": "1.2.0",
      "model_name": "LayoutModel",
      "state": {}
     },
     "512bffbb568849babb934c6bdd48dfa8": {
      "model_module": "@jupyter-widgets/controls",
      "model_module_version": "1.5.0",
      "model_name": "HBoxModel",
      "state": {
       "children": [
        "IPY_MODEL_b30cbb7c95234071935a2ce3e1b8b28d",
        "IPY_MODEL_8eba05f867464c4eb63b8f3507dcd52c"
       ],
       "layout": "IPY_MODEL_91c92624dd0f4b40997cb947b47a19c9"
      }
     },
     "517a243ade89484e8d52fa4a0ba3ea58": {
      "model_module": "@jupyter-widgets/controls",
      "model_module_version": "1.5.0",
      "model_name": "HBoxModel",
      "state": {
       "children": [
        "IPY_MODEL_b3df8b4ed9584a55a9d5e3b7856df4d9",
        "IPY_MODEL_8616390bb51a4ace9e415fc6957710db",
        "IPY_MODEL_c415e981c63f450c95db834fcf579d23",
        "IPY_MODEL_fdb832c0d95e4d5695722db3397b3f59",
        "IPY_MODEL_ef35375b01c346fb9a8918dbc05698cd"
       ],
       "layout": "IPY_MODEL_d74747c6aa684e20ad16ad7d654ef9db"
      }
     },
     "5183e3de8fe74346ac27d5a23b4e29b3": {
      "model_module": "@jupyter-widgets/base",
      "model_module_version": "1.2.0",
      "model_name": "LayoutModel",
      "state": {}
     },
     "51c69a810b254daaa60eb22892a169bf": {
      "model_module": "@jupyter-widgets/base",
      "model_module_version": "1.2.0",
      "model_name": "LayoutModel",
      "state": {}
     },
     "51f93428ef2b4f978d9dacd5bbef75f8": {
      "model_module": "@jupyter-widgets/base",
      "model_module_version": "1.2.0",
      "model_name": "LayoutModel",
      "state": {}
     },
     "51f9d87979dd48969fc14e850ca13059": {
      "model_module": "@jupyter-widgets/base",
      "model_module_version": "1.2.0",
      "model_name": "LayoutModel",
      "state": {}
     },
     "51fdf14681384a6da522f9b9dd512d4b": {
      "model_module": "@jupyter-widgets/output",
      "model_module_version": "1.0.0",
      "model_name": "OutputModel",
      "state": {
       "layout": "IPY_MODEL_8cefeda374f74d3a88a94d68f812e41b",
       "outputs": [
        {
         "data": {
          "application/vnd.jupyter.widget-view+json": {
           "model_id": "7bfc29142e67415dbfdd2fbf0ce8c4b5",
           "version_major": 2,
           "version_minor": 0
          },
          "text/plain": "Canvas(toolbar=Toolbar(toolitems=[('Home', 'Reset original view', 'home', 'home'), ('Back', 'Back to previous …"
         },
         "metadata": {},
         "output_type": "display_data"
        }
       ]
      }
     },
     "523ab7b90a6c4a93949e26833a2808f2": {
      "model_module": "@jupyter-widgets/controls",
      "model_module_version": "1.5.0",
      "model_name": "TabModel",
      "state": {
       "_titles": {
        "0": "Global Controls",
        "1": "Protected Area Controls",
        "2": "Saturation Controls",
        "3": "Hue Controls"
       },
       "children": [
        "IPY_MODEL_acf237c387c54b3da65ecd116da296d7",
        "IPY_MODEL_3df87107e4e4458197ce6377ba636514",
        "IPY_MODEL_1bf4330cee2749acb72a496c2df174d5",
        "IPY_MODEL_c12f3275ed0140fbb5bb9ac529aad82c"
       ],
       "layout": "IPY_MODEL_436dc329625245ef84becfa1f9cf840a"
      }
     },
     "52732fbe07d5409b9ef3a75374977382": {
      "model_module": "@jupyter-widgets/controls",
      "model_module_version": "1.5.0",
      "model_name": "ButtonStyleModel",
      "state": {}
     },
     "527cb86580eb4d1d876244afa29449a8": {
      "model_module": "@jupyter-widgets/base",
      "model_module_version": "1.2.0",
      "model_name": "LayoutModel",
      "state": {}
     },
     "5286deccd7f6481eb763cd96dd05dd81": {
      "model_module": "@jupyter-widgets/controls",
      "model_module_version": "1.5.0",
      "model_name": "ButtonModel",
      "state": {
       "description": "Export Image",
       "layout": "IPY_MODEL_e1669ae8d95b4c73b0b3b7e890d0a39b",
       "style": "IPY_MODEL_0da282c94bae46e582b8853c276879ab"
      }
     },
     "5292d023e40a495cba1c394ce8fbb726": {
      "model_module": "@jupyter-widgets/base",
      "model_module_version": "1.2.0",
      "model_name": "LayoutModel",
      "state": {
       "border": "solid 4px #222",
       "margin": "4px",
       "padding": "0"
      }
     },
     "52b97753eedd40a59ff84fa1f4466304": {
      "model_module": "@jupyter-widgets/base",
      "model_module_version": "1.2.0",
      "model_name": "LayoutModel",
      "state": {}
     },
     "52bba095836c4898abcab39d6e174477": {
      "model_module": "@jupyter-widgets/base",
      "model_module_version": "1.2.0",
      "model_name": "LayoutModel",
      "state": {}
     },
     "52d79279e59842a4b08895eb1748b2cf": {
      "model_module": "@jupyter-widgets/base",
      "model_module_version": "1.2.0",
      "model_name": "LayoutModel",
      "state": {}
     },
     "5359c9fae27c41729e3d592289ebc767": {
      "model_module": "@jupyter-widgets/controls",
      "model_module_version": "1.5.0",
      "model_name": "FloatSliderModel",
      "state": {
       "description": "90°",
       "layout": "IPY_MODEL_e15355e9758746898f784248ae33857a",
       "max": 1,
       "min": -1,
       "step": 0.01,
       "style": "IPY_MODEL_678f71b225774404a44cddbc25cd4037"
      }
     },
     "53917bd257334b6fa56b8922fb0401ce": {
      "model_module": "@jupyter-widgets/controls",
      "model_module_version": "1.5.0",
      "model_name": "CheckboxModel",
      "state": {
       "description": "Disable Medicina",
       "disabled": false,
       "layout": "IPY_MODEL_a79bb5bfe35947cdb21458f57c652d85",
       "style": "IPY_MODEL_1caeb8efedd94e03944da12844cb1def",
       "value": false
      }
     },
     "53963de84f374c718d9d758b1d907eab": {
      "model_module": "@jupyter-widgets/controls",
      "model_module_version": "1.5.0",
      "model_name": "HBoxModel",
      "state": {
       "children": [
        "IPY_MODEL_1cdd830fcbd84a14b08319767b37c6d2",
        "IPY_MODEL_2801dcfc5b4641ab8dfaf967d1cac73d"
       ],
       "layout": "IPY_MODEL_d9719256b5164482b53c5d49fb39ad1e"
      }
     },
     "53aa330c8b99414294e703ee74cbbb48": {
      "model_module": "@jupyter-widgets/base",
      "model_module_version": "1.2.0",
      "model_name": "LayoutModel",
      "state": {
       "border": "solid 4px #222",
       "margin": "4px",
       "padding": "0"
      }
     },
     "53d2dcab13e943b19d6d7cbd634fe20e": {
      "model_module": "@jupyter-widgets/controls",
      "model_module_version": "1.5.0",
      "model_name": "ButtonModel",
      "state": {
       "description": "Reset Saturation Controls",
       "layout": "IPY_MODEL_f5e9ba429996484bbfcc5012a669021c",
       "style": "IPY_MODEL_5d2c0e58b15446a6b8bf5c50e7339d0c"
      }
     },
     "54105cb366aa4b8597301719576cb12d": {
      "model_module": "@jupyter-widgets/base",
      "model_module_version": "1.2.0",
      "model_name": "LayoutModel",
      "state": {}
     },
     "542655f49f5c4c28b558236f4cb51ad8": {
      "model_module": "@jupyter-widgets/controls",
      "model_module_version": "1.5.0",
      "model_name": "VBoxModel",
      "state": {
       "children": [
        "IPY_MODEL_d101805e73be4de9baa2a213f9dbbb5f"
       ],
       "layout": "IPY_MODEL_f215a8d0940046e2ba2be41810f47129"
      }
     },
     "5426d8c7af7d4067be173dd35d52d839": {
      "model_module": "@jupyter-widgets/controls",
      "model_module_version": "1.5.0",
      "model_name": "SliderStyleModel",
      "state": {
       "description_width": ""
      }
     },
     "5483720e26b7430dba73430cbbb81b04": {
      "model_module": "@jupyter-widgets/controls",
      "model_module_version": "1.5.0",
      "model_name": "ButtonStyleModel",
      "state": {}
     },
     "54cbd708d0a34139a23929a5234104cd": {
      "model_module": "jupyter-matplotlib",
      "model_module_version": "^0.7.2",
      "model_name": "MPLCanvasModel",
      "state": {
       "_figure_label": "Figure 28",
       "_height": 550,
       "_width": 1100,
       "header_visible": false,
       "layout": "IPY_MODEL_0368d767569e4e53b34b512b9deecca1",
       "resizable": false,
       "toolbar": "IPY_MODEL_3015cee9734d458cb2ea659f9a320a51",
       "toolbar_position": "left",
       "toolbar_visible": false
      }
     },
     "54f78e7230e94feda396183e8fd450de": {
      "model_module": "@jupyter-widgets/controls",
      "model_module_version": "1.5.0",
      "model_name": "FloatSliderModel",
      "state": {
       "description": "225°",
       "layout": "IPY_MODEL_bf945b8583dd41d09786ad322896c4f5",
       "max": 1,
       "min": -1,
       "step": 0.01,
       "style": "IPY_MODEL_c6aaf0c122f8413ba9f9334668512b00"
      }
     },
     "551ac5f1507549cdb343eafeecdeba3d": {
      "model_module": "@jupyter-widgets/base",
      "model_module_version": "1.2.0",
      "model_name": "LayoutModel",
      "state": {}
     },
     "552c446c35094ad1852e5e6c2e07e195": {
      "model_module": "@jupyter-widgets/base",
      "model_module_version": "1.2.0",
      "model_name": "LayoutModel",
      "state": {}
     },
     "5548c30edc6c4a38be52daee5affe5c0": {
      "model_module": "@jupyter-widgets/controls",
      "model_module_version": "1.5.0",
      "model_name": "HBoxModel",
      "state": {
       "children": [
        "IPY_MODEL_826293acb17746d0a5ab38ce309692d7",
        "IPY_MODEL_8645f631cef9473a8345d7381bed900d"
       ],
       "layout": "IPY_MODEL_4d50d19316364776bfe76c58e5b6e347"
      }
     },
     "55579b70be9a40d1a7d12a18c4f0ee9b": {
      "model_module": "@jupyter-widgets/base",
      "model_module_version": "1.2.0",
      "model_name": "LayoutModel",
      "state": {}
     },
     "5582d107df4943f4abb941c3effb1680": {
      "model_module": "@jupyter-widgets/controls",
      "model_module_version": "1.5.0",
      "model_name": "SliderStyleModel",
      "state": {
       "description_width": ""
      }
     },
     "5594dff09c40492c809e191a46f0e9a6": {
      "model_module": "jupyter-matplotlib",
      "model_module_version": "^0.7.2",
      "model_name": "ToolbarModel",
      "state": {
       "layout": "IPY_MODEL_8e16bb8f7102480b971f7d2e019d87ab",
       "toolitems": [
        [
         "Home",
         "Reset original view",
         "home",
         "home"
        ],
        [
         "Back",
         "Back to previous view",
         "arrow-left",
         "back"
        ],
        [
         "Forward",
         "Forward to next view",
         "arrow-right",
         "forward"
        ],
        [
         "Pan",
         "Pan axes with left mouse, zoom with right",
         "arrows",
         "pan"
        ],
        [
         "Zoom",
         "Zoom to rectangle",
         "square-o",
         "zoom"
        ],
        [
         "Download",
         "Download plot",
         "floppy-o",
         "save_figure"
        ]
       ]
      }
     },
     "55d6e12980fd438ea266088206e54781": {
      "model_module": "@jupyter-widgets/base",
      "model_module_version": "1.2.0",
      "model_name": "LayoutModel",
      "state": {}
     },
     "55f5ddda17c5489eae56a79cdd7fe9ee": {
      "model_module": "@jupyter-widgets/controls",
      "model_module_version": "1.5.0",
      "model_name": "DescriptionStyleModel",
      "state": {
       "description_width": ""
      }
     },
     "56387873b0bd424f919821ad9d74b36b": {
      "model_module": "@jupyter-widgets/controls",
      "model_module_version": "1.5.0",
      "model_name": "FloatSliderModel",
      "state": {
       "description": "Exposure",
       "layout": "IPY_MODEL_e8302b9b7a084889b6cd2a4d08642cf1",
       "max": 8,
       "min": -8,
       "step": 0.1,
       "style": "IPY_MODEL_65d2b61aa7bd4de5a07d484506627f50"
      }
     },
     "5647dd7b9dca43239fd3a1590cd30340": {
      "model_module": "@jupyter-widgets/base",
      "model_module_version": "1.2.0",
      "model_name": "LayoutModel",
      "state": {}
     },
     "564d56892093471bb95557a569d027a4": {
      "model_module": "@jupyter-widgets/controls",
      "model_module_version": "1.5.0",
      "model_name": "VBoxModel",
      "state": {
       "children": [
        "IPY_MODEL_1aa7c4b3be8a455393f96929f7f2dd79"
       ],
       "layout": "IPY_MODEL_98ecc222139847f3ab55d35830d723dd"
      }
     },
     "56dd42933fb54da1bc8e8e9129dd0dc7": {
      "model_module": "@jupyter-widgets/base",
      "model_module_version": "1.2.0",
      "model_name": "LayoutModel",
      "state": {}
     },
     "56fb3e95f0b6476f8bcaa4461a254f5b": {
      "model_module": "@jupyter-widgets/base",
      "model_module_version": "1.2.0",
      "model_name": "LayoutModel",
      "state": {}
     },
     "5757f80dbabf408f99851891f82bb7dd": {
      "model_module": "@jupyter-widgets/base",
      "model_module_version": "1.2.0",
      "model_name": "LayoutModel",
      "state": {}
     },
     "578bd7cc0075400d9c4c9232bf48b746": {
      "model_module": "@jupyter-widgets/controls",
      "model_module_version": "1.5.0",
      "model_name": "ButtonModel",
      "state": {
       "description": "Reset Exposure",
       "layout": "IPY_MODEL_da52b5f35b3c49a0807c0935e53baf94",
       "style": "IPY_MODEL_769ac1515f77493ba1516598b12eff41"
      }
     },
     "57a006bd900a4d69b73b158240314e1c": {
      "model_module": "@jupyter-widgets/controls",
      "model_module_version": "1.5.0",
      "model_name": "ButtonModel",
      "state": {
       "description": "Reset Exposure",
       "layout": "IPY_MODEL_9859573295d64d828ced32c6f7077636",
       "style": "IPY_MODEL_e342f3e4abbf489e8044a5525d11b84b"
      }
     },
     "57b9af8cc5344942b206c44887b6a210": {
      "model_module": "@jupyter-widgets/base",
      "model_module_version": "1.2.0",
      "model_name": "LayoutModel",
      "state": {}
     },
     "57e859b6e3ed44f8949ad5e6dd10aea7": {
      "model_module": "@jupyter-widgets/controls",
      "model_module_version": "1.5.0",
      "model_name": "VBoxModel",
      "state": {
       "children": [
        "IPY_MODEL_38bfd7207af549efa5f6bac795cded74",
        "IPY_MODEL_679de2854bce40abb7b18a570c350877",
        "IPY_MODEL_34ffe02c8d19406dac7664fd113ec35b"
       ],
       "layout": "IPY_MODEL_40b44a310dab4aa59e0a6d95a0605fe6"
      }
     },
     "57f277cd603b455b9f1736d5926bfb44": {
      "model_module": "@jupyter-widgets/controls",
      "model_module_version": "1.5.0",
      "model_name": "TabModel",
      "state": {
       "_titles": {
        "0": "Global Controls",
        "1": "Protected Area Controls",
        "2": "Saturation Controls",
        "3": "Hue Controls"
       },
       "children": [
        "IPY_MODEL_44f1c38af3234d0397037503e5f72971",
        "IPY_MODEL_5548c30edc6c4a38be52daee5affe5c0",
        "IPY_MODEL_f26504a816fe4e149801084b78c1a4c4",
        "IPY_MODEL_a69c01bb2f8c4b6083d09534cfe7fdf5"
       ],
       "layout": "IPY_MODEL_47c404d7836d40ba845afe4a807cbc14"
      }
     },
     "581f4672219d49629d4b33ca3c51eec3": {
      "model_module": "@jupyter-widgets/controls",
      "model_module_version": "1.5.0",
      "model_name": "DescriptionStyleModel",
      "state": {
       "description_width": ""
      }
     },
     "5894ed0aa9db4327b7c023545d810262": {
      "model_module": "@jupyter-widgets/controls",
      "model_module_version": "1.5.0",
      "model_name": "SliderStyleModel",
      "state": {
       "description_width": ""
      }
     },
     "5898edc0f9594bf9b796a79cd6b1b1af": {
      "model_module": "@jupyter-widgets/base",
      "model_module_version": "1.2.0",
      "model_name": "LayoutModel",
      "state": {}
     },
     "58a91d0d51d24001b47f563f2f620cdf": {
      "model_module": "@jupyter-widgets/base",
      "model_module_version": "1.2.0",
      "model_name": "LayoutModel",
      "state": {}
     },
     "58fea07ad22c4c849873bddfe6c94559": {
      "model_module": "@jupyter-widgets/controls",
      "model_module_version": "1.5.0",
      "model_name": "ButtonModel",
      "state": {
       "description": "Export Image",
       "layout": "IPY_MODEL_51f9d87979dd48969fc14e850ca13059",
       "style": "IPY_MODEL_f7a12f1f5b2446c3a89fc91c101e27bc"
      }
     },
     "591e617d28a24a2c80a44fbefdf564f9": {
      "model_module": "@jupyter-widgets/controls",
      "model_module_version": "1.5.0",
      "model_name": "DropdownModel",
      "state": {
       "_options_labels": [
        "tanh",
        "atan",
        "simple"
       ],
       "description": "Compression Function:",
       "index": 0,
       "layout": "IPY_MODEL_d1771a359dd247c1a622c743ab08a8f4",
       "style": "IPY_MODEL_4ad9eaf223e0410ebc2a7048dd0d5ae6"
      }
     },
     "592f0c5a1a7c478f90621791f10a8b55": {
      "model_module": "@jupyter-widgets/controls",
      "model_module_version": "1.5.0",
      "model_name": "FloatSliderModel",
      "state": {
       "description": "270°",
       "layout": "IPY_MODEL_9327f1cfec4643a68a9368ac96557e69",
       "max": 1,
       "min": -1,
       "step": 0.01,
       "style": "IPY_MODEL_0e5cfffbe7294c4dbde7fde6b875e7bf"
      }
     },
     "5954cea5d3df47c2ac2e1f2d6a920e9d": {
      "model_module": "@jupyter-widgets/controls",
      "model_module_version": "1.5.0",
      "model_name": "FloatSliderModel",
      "state": {
       "description": "180°",
       "layout": "IPY_MODEL_a7cba84c2273440c96fb17d239c16593",
       "max": 1,
       "min": -1,
       "step": 0.01,
       "style": "IPY_MODEL_093b4e34771a46cc9613a188f590ff1e"
      }
     },
     "59a5d7aaf5e7420e80adff8ef14c926f": {
      "model_module": "@jupyter-widgets/controls",
      "model_module_version": "1.5.0",
      "model_name": "FloatSliderModel",
      "state": {
       "description": "Protected Area Threshold",
       "layout": "IPY_MODEL_1a04f1eb9a7d4ed98a46398cd2fb762a",
       "max": 1,
       "step": 0.01,
       "style": "IPY_MODEL_800350650ed441f5ba23113d99af676e",
       "value": 0.5
      }
     },
     "59b1d579c569469ba67b5c868fdac97f": {
      "model_module": "@jupyter-widgets/controls",
      "model_module_version": "1.5.0",
      "model_name": "SliderStyleModel",
      "state": {
       "description_width": ""
      }
     },
     "59e29bb2170d44d2a5da5047c24ccc9b": {
      "model_module": "@jupyter-widgets/base",
      "model_module_version": "1.2.0",
      "model_name": "LayoutModel",
      "state": {}
     },
     "5a24043152b44da5980495fc692de522": {
      "model_module": "@jupyter-widgets/controls",
      "model_module_version": "1.5.0",
      "model_name": "SliderStyleModel",
      "state": {
       "description_width": ""
      }
     },
     "5a264116b49a4adf95db88798e845f2f": {
      "model_module": "@jupyter-widgets/controls",
      "model_module_version": "1.5.0",
      "model_name": "DescriptionStyleModel",
      "state": {
       "description_width": ""
      }
     },
     "5a5c7cfd7b3a45248747cc06c3397c0b": {
      "model_module": "@jupyter-widgets/base",
      "model_module_version": "1.2.0",
      "model_name": "LayoutModel",
      "state": {}
     },
     "5a7cd48f1a584c3697881ed9833b75ff": {
      "model_module": "@jupyter-widgets/controls",
      "model_module_version": "1.5.0",
      "model_name": "SliderStyleModel",
      "state": {
       "description_width": ""
      }
     },
     "5aac61672a924388a4495630614519ec": {
      "model_module": "jupyter-matplotlib",
      "model_module_version": "^0.7.2",
      "model_name": "ToolbarModel",
      "state": {
       "layout": "IPY_MODEL_8c731a457112427e97d95c0891381d15",
       "toolitems": [
        [
         "Home",
         "Reset original view",
         "home",
         "home"
        ],
        [
         "Back",
         "Back to previous view",
         "arrow-left",
         "back"
        ],
        [
         "Forward",
         "Forward to next view",
         "arrow-right",
         "forward"
        ],
        [
         "Pan",
         "Pan axes with left mouse, zoom with right",
         "arrows",
         "pan"
        ],
        [
         "Zoom",
         "Zoom to rectangle",
         "square-o",
         "zoom"
        ],
        [
         "Download",
         "Download plot",
         "floppy-o",
         "save_figure"
        ]
       ]
      }
     },
     "5bbdc1cd76084f03a557f1c8635b6356": {
      "model_module": "@jupyter-widgets/controls",
      "model_module_version": "1.5.0",
      "model_name": "SliderStyleModel",
      "state": {
       "description_width": ""
      }
     },
     "5bc405df159f4068a992eceb6a2a9c46": {
      "model_module": "@jupyter-widgets/controls",
      "model_module_version": "1.5.0",
      "model_name": "SliderStyleModel",
      "state": {
       "description_width": ""
      }
     },
     "5be6b69fa41a4b6093cdaf47cf8a902d": {
      "model_module": "@jupyter-widgets/base",
      "model_module_version": "1.2.0",
      "model_name": "LayoutModel",
      "state": {}
     },
     "5bf1e2aa39ea4641a43890be72f2c8e9": {
      "model_module": "@jupyter-widgets/controls",
      "model_module_version": "1.5.0",
      "model_name": "ButtonStyleModel",
      "state": {}
     },
     "5c05fb2b5a9c4d4184421c90d03bb9a2": {
      "model_module": "@jupyter-widgets/output",
      "model_module_version": "1.0.0",
      "model_name": "OutputModel",
      "state": {
       "layout": "IPY_MODEL_61b9112337d34f43adbd09afd1b1a203",
       "outputs": [
        {
         "data": {
          "application/vnd.jupyter.widget-view+json": {
           "model_id": "0585772d497043bdb0cd3e15a437b73d",
           "version_major": 2,
           "version_minor": 0
          },
          "text/plain": "Canvas(toolbar=Toolbar(toolitems=[('Home', 'Reset original view', 'home', 'home'), ('Back', 'Back to previous …"
         },
         "metadata": {},
         "output_type": "display_data"
        }
       ]
      }
     },
     "5c3a0fae4f334ee3acbf3fbc3395825b": {
      "model_module": "@jupyter-widgets/base",
      "model_module_version": "1.2.0",
      "model_name": "LayoutModel",
      "state": {}
     },
     "5ccbe4854a654b4facc9170bf33eeb03": {
      "model_module": "@jupyter-widgets/controls",
      "model_module_version": "1.5.0",
      "model_name": "HBoxModel",
      "state": {
       "children": [
        "IPY_MODEL_ca7ff77a0ef8471da8c5cf4e60392d60",
        "IPY_MODEL_4704d78afd25400c8ca90e8e255326e6",
        "IPY_MODEL_d93287ed1a174a50b23d4d77beca1971",
        "IPY_MODEL_771bb95e0056424f95e6509d6c167659",
        "IPY_MODEL_9407c988d12a4b64bf11f1762a876b58"
       ],
       "layout": "IPY_MODEL_c43d111ea8794f84a424ee3f4689c8e4"
      }
     },
     "5d269309452e40d68f8c7ab78403ec47": {
      "model_module": "@jupyter-widgets/controls",
      "model_module_version": "1.5.0",
      "model_name": "DescriptionStyleModel",
      "state": {
       "description_width": ""
      }
     },
     "5d2c0e58b15446a6b8bf5c50e7339d0c": {
      "model_module": "@jupyter-widgets/controls",
      "model_module_version": "1.5.0",
      "model_name": "ButtonStyleModel",
      "state": {}
     },
     "5d3860b564fb480baa64372881a6d4ac": {
      "model_module": "@jupyter-widgets/controls",
      "model_module_version": "1.5.0",
      "model_name": "SliderStyleModel",
      "state": {
       "description_width": ""
      }
     },
     "5d97adae356d4a08925784b270df3a87": {
      "model_module": "@jupyter-widgets/base",
      "model_module_version": "1.2.0",
      "model_name": "LayoutModel",
      "state": {}
     },
     "5dac523ce0d2452faf4c94becef3d770": {
      "model_module": "@jupyter-widgets/controls",
      "model_module_version": "1.5.0",
      "model_name": "ButtonStyleModel",
      "state": {}
     },
     "5dd0fbb1b0a64fd985f7df5adced5e0c": {
      "model_module": "@jupyter-widgets/controls",
      "model_module_version": "1.5.0",
      "model_name": "ButtonModel",
      "state": {
       "description": "Reset Hue Controls",
       "layout": "IPY_MODEL_24f096eb79cb4e30b879f6792e280794",
       "style": "IPY_MODEL_1d69a860ebb84aaeb033023be253dd10"
      }
     },
     "5dd49dec082948819aa9118fdbd6265b": {
      "model_module": "@jupyter-widgets/base",
      "model_module_version": "1.2.0",
      "model_name": "LayoutModel",
      "state": {}
     },
     "5de7db311cb34182ae26b67933ba6094": {
      "model_module": "@jupyter-widgets/base",
      "model_module_version": "1.2.0",
      "model_name": "LayoutModel",
      "state": {}
     },
     "5e1a4cc43ed14c13a40c3e4d4a85a753": {
      "model_module": "@jupyter-widgets/controls",
      "model_module_version": "1.5.0",
      "model_name": "FloatSliderModel",
      "state": {
       "description": "Exposure",
       "layout": "IPY_MODEL_06c62ec232b54b96acce21e9c9da3d96",
       "max": 8,
       "min": -8,
       "step": 0.1,
       "style": "IPY_MODEL_ef50a35f848247879f29915a7d255dbf"
      }
     },
     "5e30c92ecb9f4901ab7ff1f1da442192": {
      "model_module": "@jupyter-widgets/base",
      "model_module_version": "1.2.0",
      "model_name": "LayoutModel",
      "state": {}
     },
     "5e3cded891b7411d8c7d994489162c97": {
      "model_module": "@jupyter-widgets/controls",
      "model_module_version": "1.5.0",
      "model_name": "HBoxModel",
      "state": {
       "children": [
        "IPY_MODEL_0370967e44504575b35b71e8d20aaba4",
        "IPY_MODEL_0d281a06ae664697b6d37c3573ce6544",
        "IPY_MODEL_163cba27887d4d658886aea882cea916",
        "IPY_MODEL_0e6a322e427448bcbc9be45b5869e968",
        "IPY_MODEL_72bd00bcbd224a1194fec50900d49fba"
       ],
       "layout": "IPY_MODEL_e187f3b02a7f4191bd7dbe480e215e68"
      }
     },
     "5e59f48faa6c46c6b03db3abd1af6c51": {
      "model_module": "@jupyter-widgets/controls",
      "model_module_version": "1.5.0",
      "model_name": "FloatSliderModel",
      "state": {
       "description": "270°",
       "layout": "IPY_MODEL_56dd42933fb54da1bc8e8e9129dd0dc7",
       "max": 1,
       "min": -1,
       "step": 0.01,
       "style": "IPY_MODEL_e36dc25b2bae4ef8a7c8cb7f7db24f19"
      }
     },
     "5e5cd88ff8764de68a2ae95d6beee558": {
      "model_module": "@jupyter-widgets/base",
      "model_module_version": "1.2.0",
      "model_name": "LayoutModel",
      "state": {}
     },
     "5e983a67c100426783af15860d21bed4": {
      "model_module": "@jupyter-widgets/controls",
      "model_module_version": "1.5.0",
      "model_name": "ButtonStyleModel",
      "state": {}
     },
     "5e990cafcb9f4a4fa4d11cc18f06b3fd": {
      "model_module": "@jupyter-widgets/controls",
      "model_module_version": "1.5.0",
      "model_name": "DescriptionStyleModel",
      "state": {
       "description_width": ""
      }
     },
     "5eb5170ac3384e0cb603eeca3ad1e9fb": {
      "model_module": "@jupyter-widgets/base",
      "model_module_version": "1.2.0",
      "model_name": "LayoutModel",
      "state": {}
     },
     "5ec4a9b831674d16ad3158c8da34059b": {
      "model_module": "@jupyter-widgets/base",
      "model_module_version": "1.2.0",
      "model_name": "LayoutModel",
      "state": {}
     },
     "5ec856f8cb2c4cf3b812c3ade06f3fc9": {
      "model_module": "@jupyter-widgets/controls",
      "model_module_version": "1.5.0",
      "model_name": "SliderStyleModel",
      "state": {
       "description_width": ""
      }
     },
     "5ed6ecffe2b849478aee2402ae0031ad": {
      "model_module": "@jupyter-widgets/base",
      "model_module_version": "1.2.0",
      "model_name": "LayoutModel",
      "state": {}
     },
     "5f15f59ba2b44e949541a672fe745cf4": {
      "model_module": "@jupyter-widgets/controls",
      "model_module_version": "1.5.0",
      "model_name": "ButtonModel",
      "state": {
       "description": "Reset Saturation Controls",
       "layout": "IPY_MODEL_a71dd1f6701f41ce89575f9856b9c552",
       "style": "IPY_MODEL_ee8d2a0185b44ea6adca781687ce34ed"
      }
     },
     "5f61a16e2e5a4486b91f195e7d02e508": {
      "model_module": "@jupyter-widgets/base",
      "model_module_version": "1.2.0",
      "model_name": "LayoutModel",
      "state": {}
     },
     "5f6b563c42fe4ee389e2e9fa5f1d47f6": {
      "model_module": "@jupyter-widgets/base",
      "model_module_version": "1.2.0",
      "model_name": "LayoutModel",
      "state": {}
     },
     "5fb35736c2af46de91730374c6b553c0": {
      "model_module": "jupyter-matplotlib",
      "model_module_version": "^0.7.2",
      "model_name": "ToolbarModel",
      "state": {
       "layout": "IPY_MODEL_800e82fae1af4492b6ef1c8215ea91af",
       "toolitems": [
        [
         "Home",
         "Reset original view",
         "home",
         "home"
        ],
        [
         "Back",
         "Back to previous view",
         "arrow-left",
         "back"
        ],
        [
         "Forward",
         "Forward to next view",
         "arrow-right",
         "forward"
        ],
        [
         "Pan",
         "Pan axes with left mouse, zoom with right",
         "arrows",
         "pan"
        ],
        [
         "Zoom",
         "Zoom to rectangle",
         "square-o",
         "zoom"
        ],
        [
         "Download",
         "Download plot",
         "floppy-o",
         "save_figure"
        ]
       ]
      }
     },
     "5fe60c45cb264e82964413007f42c5a2": {
      "model_module": "@jupyter-widgets/base",
      "model_module_version": "1.2.0",
      "model_name": "LayoutModel",
      "state": {
       "border": "solid 4px #222",
       "margin": "4px",
       "padding": "0"
      }
     },
     "5ff1a0a2e11748f586c393b30154c722": {
      "model_module": "@jupyter-widgets/base",
      "model_module_version": "1.2.0",
      "model_name": "LayoutModel",
      "state": {}
     },
     "6000407ce25145b7b947e713f2bc58a3": {
      "model_module": "jupyter-matplotlib",
      "model_module_version": "^0.7.2",
      "model_name": "ToolbarModel",
      "state": {
       "layout": "IPY_MODEL_8127716d37724c6fbe71b4fc1ac09a27",
       "toolitems": [
        [
         "Home",
         "Reset original view",
         "home",
         "home"
        ],
        [
         "Back",
         "Back to previous view",
         "arrow-left",
         "back"
        ],
        [
         "Forward",
         "Forward to next view",
         "arrow-right",
         "forward"
        ],
        [
         "Pan",
         "Pan axes with left mouse, zoom with right",
         "arrows",
         "pan"
        ],
        [
         "Zoom",
         "Zoom to rectangle",
         "square-o",
         "zoom"
        ],
        [
         "Download",
         "Download plot",
         "floppy-o",
         "save_figure"
        ]
       ]
      }
     },
     "60169efd6aea40c2821c624cdd5004f7": {
      "model_module": "@jupyter-widgets/controls",
      "model_module_version": "1.5.0",
      "model_name": "SliderStyleModel",
      "state": {
       "description_width": ""
      }
     },
     "6028b4bc51af48fcb56fb77fb1c7b600": {
      "model_module": "@jupyter-widgets/controls",
      "model_module_version": "1.5.0",
      "model_name": "VBoxModel",
      "state": {
       "children": [
        "IPY_MODEL_3e1d53e011c440b881132182fcc13b5d",
        "IPY_MODEL_f3b6dbc45278435680371854371c909a"
       ],
       "layout": "IPY_MODEL_080d5765a01945ab8e15c42858adaa8e"
      }
     },
     "602d1a01058643dcb67c5f24e98487ac": {
      "model_module": "@jupyter-widgets/output",
      "model_module_version": "1.0.0",
      "model_name": "OutputModel",
      "state": {
       "layout": "IPY_MODEL_87da92eef9d84c6083b709cf946607d6",
       "outputs": [
        {
         "data": {
          "application/vnd.jupyter.widget-view+json": {
           "model_id": "715d70fdfe344ee5aa4d26c0ba03e4e2",
           "version_major": 2,
           "version_minor": 0
          },
          "text/plain": "Canvas(toolbar=Toolbar(toolitems=[('Home', 'Reset original view', 'home', 'home'), ('Back', 'Back to previous …"
         },
         "metadata": {},
         "output_type": "display_data"
        }
       ]
      }
     },
     "6030ec2993d44c9f89d90a0e0a3c307f": {
      "model_module": "@jupyter-widgets/base",
      "model_module_version": "1.2.0",
      "model_name": "LayoutModel",
      "state": {}
     },
     "603451abac144b70a1eb778044de0922": {
      "model_module": "@jupyter-widgets/controls",
      "model_module_version": "1.5.0",
      "model_name": "VBoxModel",
      "state": {
       "children": [
        "IPY_MODEL_f587579305b849bdb0c240c6d607cc1a",
        "IPY_MODEL_e51677f65e8845bbb58b6667f224dfdd"
       ],
       "layout": "IPY_MODEL_c1e61107ae024c34b086d907c85c08c6"
      }
     },
     "6051e879ac504e8899bbc9e5c3a40395": {
      "model_module": "@jupyter-widgets/base",
      "model_module_version": "1.2.0",
      "model_name": "LayoutModel",
      "state": {}
     },
     "6053ebdde8f64e74988be4a97797fe8b": {
      "model_module": "@jupyter-widgets/controls",
      "model_module_version": "1.5.0",
      "model_name": "FloatSliderModel",
      "state": {
       "description": "Exposure",
       "layout": "IPY_MODEL_07744a39f9cb4f34a2d0aa75416b3041",
       "max": 8,
       "min": -8,
       "step": 0.1,
       "style": "IPY_MODEL_5d3860b564fb480baa64372881a6d4ac"
      }
     },
     "608b49575a474897ba44313eae605538": {
      "model_module": "jupyter-matplotlib",
      "model_module_version": "^0.7.2",
      "model_name": "ToolbarModel",
      "state": {
       "layout": "IPY_MODEL_6b9c2ae661c54b779dddd69b3c113f4c",
       "toolitems": [
        [
         "Home",
         "Reset original view",
         "home",
         "home"
        ],
        [
         "Back",
         "Back to previous view",
         "arrow-left",
         "back"
        ],
        [
         "Forward",
         "Forward to next view",
         "arrow-right",
         "forward"
        ],
        [
         "Pan",
         "Pan axes with left mouse, zoom with right",
         "arrows",
         "pan"
        ],
        [
         "Zoom",
         "Zoom to rectangle",
         "square-o",
         "zoom"
        ],
        [
         "Download",
         "Download plot",
         "floppy-o",
         "save_figure"
        ]
       ]
      }
     },
     "60e7c4e1d26f45cbb552f894e6e38540": {
      "model_module": "@jupyter-widgets/base",
      "model_module_version": "1.2.0",
      "model_name": "LayoutModel",
      "state": {}
     },
     "614488abbfc24c2286ab26b7d47379a0": {
      "model_module": "@jupyter-widgets/controls",
      "model_module_version": "1.5.0",
      "model_name": "ButtonModel",
      "state": {
       "description": "Reset Compression Controls",
       "layout": "IPY_MODEL_05e525cd414744a58429d2b0f0d1b7c4",
       "style": "IPY_MODEL_80415a4214d7492fb777ddeeae994027"
      }
     },
     "6167c630128e4b4b8e5e398c04e5bcfd": {
      "model_module": "@jupyter-widgets/base",
      "model_module_version": "1.2.0",
      "model_name": "LayoutModel",
      "state": {}
     },
     "61a6f80dbb4144e4a3d83e15596a5e94": {
      "model_module": "jupyter-matplotlib",
      "model_module_version": "^0.7.2",
      "model_name": "ToolbarModel",
      "state": {
       "layout": "IPY_MODEL_51f93428ef2b4f978d9dacd5bbef75f8",
       "toolitems": [
        [
         "Home",
         "Reset original view",
         "home",
         "home"
        ],
        [
         "Back",
         "Back to previous view",
         "arrow-left",
         "back"
        ],
        [
         "Forward",
         "Forward to next view",
         "arrow-right",
         "forward"
        ],
        [
         "Pan",
         "Pan axes with left mouse, zoom with right",
         "arrows",
         "pan"
        ],
        [
         "Zoom",
         "Zoom to rectangle",
         "square-o",
         "zoom"
        ],
        [
         "Download",
         "Download plot",
         "floppy-o",
         "save_figure"
        ]
       ]
      }
     },
     "61aa04910edf4042a4c47e4fd31cc11a": {
      "model_module": "@jupyter-widgets/base",
      "model_module_version": "1.2.0",
      "model_name": "LayoutModel",
      "state": {}
     },
     "61b9112337d34f43adbd09afd1b1a203": {
      "model_module": "@jupyter-widgets/base",
      "model_module_version": "1.2.0",
      "model_name": "LayoutModel",
      "state": {
       "border": "solid 4px #222",
       "margin": "4px",
       "padding": "0"
      }
     },
     "61c0836561634e69933c95f16dae9df0": {
      "model_module": "@jupyter-widgets/controls",
      "model_module_version": "1.5.0",
      "model_name": "FloatSliderModel",
      "state": {
       "description": "315°",
       "layout": "IPY_MODEL_ae404c0aa5094db4b3fe31b93cb46c09",
       "max": 1,
       "min": -1,
       "step": 0.01,
       "style": "IPY_MODEL_5582d107df4943f4abb941c3effb1680"
      }
     },
     "621e7156864b4b21a6ac88359c2a38b0": {
      "model_module": "@jupyter-widgets/base",
      "model_module_version": "1.2.0",
      "model_name": "LayoutModel",
      "state": {
       "border": "solid 4px #222",
       "margin": "4px",
       "padding": "0"
      }
     },
     "624d2a7460e9459b8bce75e67c9999e3": {
      "model_module": "@jupyter-widgets/base",
      "model_module_version": "1.2.0",
      "model_name": "LayoutModel",
      "state": {}
     },
     "6256180177564c95915ff15a68e5e62c": {
      "model_module": "@jupyter-widgets/controls",
      "model_module_version": "1.5.0",
      "model_name": "DropdownModel",
      "state": {
       "_options_labels": [
        "tanh",
        "atan",
        "simple"
       ],
       "description": "Compression Function:",
       "index": 0,
       "layout": "IPY_MODEL_a133615197914370b0ebeb9e424db76e",
       "style": "IPY_MODEL_4ea15bb7e7084d79a597f930f5b5ea6f"
      }
     },
     "628e670f92074433afc8c179b9c79f32": {
      "model_module": "@jupyter-widgets/base",
      "model_module_version": "1.2.0",
      "model_name": "LayoutModel",
      "state": {}
     },
     "62b26d4cb8bc40298c1c84837f7e12d8": {
      "model_module": "@jupyter-widgets/controls",
      "model_module_version": "1.5.0",
      "model_name": "VBoxModel",
      "state": {
       "children": [
        "IPY_MODEL_92d0aa4ccca249a0859944c967dce468",
        "IPY_MODEL_7203b433cc284c70b58586d121f9ff66",
        "IPY_MODEL_65fe00f4def842b8bfd253af4e03d9ca"
       ],
       "layout": "IPY_MODEL_ed591d2ae4ec487f8c80f39d876deb4e"
      }
     },
     "639676aac0074efb9710d4835086931a": {
      "model_module": "@jupyter-widgets/controls",
      "model_module_version": "1.5.0",
      "model_name": "SliderStyleModel",
      "state": {
       "description_width": ""
      }
     },
     "63ba30eb268a439b8e4545e6cf6ebfd0": {
      "model_module": "@jupyter-widgets/controls",
      "model_module_version": "1.5.0",
      "model_name": "FloatSliderModel",
      "state": {
       "description": "Protected Area Threshold",
       "layout": "IPY_MODEL_9bcff217c04d47f68f559fa09d8be2c3",
       "max": 1,
       "step": 0.01,
       "style": "IPY_MODEL_72698c5829e149aabbd6d443f0c3c139",
       "value": 0.7
      }
     },
     "64a7ec8c03ce42408d267db69798391e": {
      "model_module": "@jupyter-widgets/controls",
      "model_module_version": "1.5.0",
      "model_name": "SliderStyleModel",
      "state": {
       "description_width": ""
      }
     },
     "64c578d74b9341228fbd1a9588d2c9bb": {
      "model_module": "@jupyter-widgets/controls",
      "model_module_version": "1.5.0",
      "model_name": "ButtonStyleModel",
      "state": {}
     },
     "64d4bd61c1154020baef7e45a2ddfa00": {
      "model_module": "@jupyter-widgets/controls",
      "model_module_version": "1.5.0",
      "model_name": "SliderStyleModel",
      "state": {
       "description_width": ""
      }
     },
     "64e387aff36448579c1554e14d3a68e1": {
      "model_module": "@jupyter-widgets/base",
      "model_module_version": "1.2.0",
      "model_name": "LayoutModel",
      "state": {
       "border": "solid 4px #222",
       "margin": "4px",
       "padding": "0"
      }
     },
     "64e7cdbd30444da789cb60e1151cc665": {
      "model_module": "@jupyter-widgets/base",
      "model_module_version": "1.2.0",
      "model_name": "LayoutModel",
      "state": {}
     },
     "64f1b5cd093b43979a0c93ed9dbaa327": {
      "model_module": "@jupyter-widgets/base",
      "model_module_version": "1.2.0",
      "model_name": "LayoutModel",
      "state": {}
     },
     "6504648fe81145f588787a48725f4cb8": {
      "model_module": "@jupyter-widgets/base",
      "model_module_version": "1.2.0",
      "model_name": "LayoutModel",
      "state": {
       "border": "solid 4px #222",
       "margin": "4px",
       "padding": "0"
      }
     },
     "65327949250141cba506626f6b89e863": {
      "model_module": "@jupyter-widgets/base",
      "model_module_version": "1.2.0",
      "model_name": "LayoutModel",
      "state": {
       "border": "solid 4px #222",
       "margin": "4px",
       "padding": "0"
      }
     },
     "6548bdcd43c8427d92d7d61d15b6a4e5": {
      "model_module": "@jupyter-widgets/controls",
      "model_module_version": "1.5.0",
      "model_name": "DescriptionStyleModel",
      "state": {
       "description_width": ""
      }
     },
     "654d882cd0c24230acb19456aa1843fe": {
      "model_module": "@jupyter-widgets/base",
      "model_module_version": "1.2.0",
      "model_name": "LayoutModel",
      "state": {
       "border": "solid 4px #222",
       "margin": "4px",
       "padding": "0"
      }
     },
     "656c0955364545c192fd7348933f5a2e": {
      "model_module": "@jupyter-widgets/base",
      "model_module_version": "1.2.0",
      "model_name": "LayoutModel",
      "state": {}
     },
     "6585d9fd17a94699b8644ceb17ea52ca": {
      "model_module": "@jupyter-widgets/controls",
      "model_module_version": "1.5.0",
      "model_name": "DropdownModel",
      "state": {
       "_options_labels": [
        "tanh",
        "atan",
        "simple"
       ],
       "description": "Compression Function:",
       "index": 0,
       "layout": "IPY_MODEL_084afa980c2446d7be8e896990cdd203",
       "style": "IPY_MODEL_22f1cf98ee6b4ab8ac9fb498508c77c8"
      }
     },
     "6586101b04e3476e868456d7de6c09cb": {
      "model_module": "@jupyter-widgets/controls",
      "model_module_version": "1.5.0",
      "model_name": "SliderStyleModel",
      "state": {
       "description_width": ""
      }
     },
     "658bfc2d50f849dbb0d091ba701c42f5": {
      "model_module": "@jupyter-widgets/base",
      "model_module_version": "1.2.0",
      "model_name": "LayoutModel",
      "state": {}
     },
     "65b98dbeceb847ac9d45e9b4f254933a": {
      "model_module": "@jupyter-widgets/controls",
      "model_module_version": "1.5.0",
      "model_name": "SliderStyleModel",
      "state": {
       "description_width": ""
      }
     },
     "65c836216cea49d8a8db6ad932ffc1f5": {
      "model_module": "@jupyter-widgets/controls",
      "model_module_version": "1.5.0",
      "model_name": "FloatSliderModel",
      "state": {
       "description": "180°",
       "layout": "IPY_MODEL_d7a5bf58d6364dc9a6430110c5071200",
       "max": 1,
       "min": -1,
       "step": 0.01,
       "style": "IPY_MODEL_867ddb85a65442e19848b3cb65fbb599"
      }
     },
     "65d2b61aa7bd4de5a07d484506627f50": {
      "model_module": "@jupyter-widgets/controls",
      "model_module_version": "1.5.0",
      "model_name": "SliderStyleModel",
      "state": {
       "description_width": ""
      }
     },
     "65fe00f4def842b8bfd253af4e03d9ca": {
      "model_module": "@jupyter-widgets/controls",
      "model_module_version": "1.5.0",
      "model_name": "FloatSliderModel",
      "state": {
       "description": "90°",
       "layout": "IPY_MODEL_c6e7bd9436434fd9a81b037fc0dd3f87",
       "max": 1,
       "min": -1,
       "step": 0.01,
       "style": "IPY_MODEL_d098b4f5dd954725b75889c3cc103676"
      }
     },
     "66451717dc4046bbbbf21fb6ed11b8c0": {
      "model_module": "@jupyter-widgets/controls",
      "model_module_version": "1.5.0",
      "model_name": "ButtonStyleModel",
      "state": {}
     },
     "66ae63b6876d4510b03d51fe537a229c": {
      "model_module": "@jupyter-widgets/controls",
      "model_module_version": "1.5.0",
      "model_name": "ButtonStyleModel",
      "state": {}
     },
     "66f19f5c2c5b47559a8b996f4b1c5e21": {
      "model_module": "@jupyter-widgets/controls",
      "model_module_version": "1.5.0",
      "model_name": "HBoxModel",
      "state": {
       "children": [
        "IPY_MODEL_4aaeccab487d4d779b27025393d79a19",
        "IPY_MODEL_caabdccd6618492b8773e05719aee53e",
        "IPY_MODEL_c6d9609dc3654a62b4f6c16a00249b1e"
       ],
       "layout": "IPY_MODEL_67e6f00cab25432e9ca95c5269cd8ab7"
      }
     },
     "673316cc6b1a4ddf808b08ae3c62f808": {
      "model_module": "@jupyter-widgets/controls",
      "model_module_version": "1.5.0",
      "model_name": "SliderStyleModel",
      "state": {
       "description_width": ""
      }
     },
     "676ed9179b16413fb7f883d1d5d76217": {
      "model_module": "@jupyter-widgets/controls",
      "model_module_version": "1.5.0",
      "model_name": "BoxModel",
      "state": {
       "children": [
        "IPY_MODEL_9cfffee0d8d54abc94b66dbf65bae2b8",
        "IPY_MODEL_523ab7b90a6c4a93949e26833a2808f2"
       ],
       "layout": "IPY_MODEL_ac6c7453ae124741b9d203e76901b23b"
      }
     },
     "678f71b225774404a44cddbc25cd4037": {
      "model_module": "@jupyter-widgets/controls",
      "model_module_version": "1.5.0",
      "model_name": "SliderStyleModel",
      "state": {
       "description_width": ""
      }
     },
     "679de2854bce40abb7b18a570c350877": {
      "model_module": "@jupyter-widgets/controls",
      "model_module_version": "1.5.0",
      "model_name": "FloatSliderModel",
      "state": {
       "description": "45°",
       "layout": "IPY_MODEL_d5779542c2624eb08435a33ee6f66180",
       "max": 1,
       "min": -1,
       "step": 0.01,
       "style": "IPY_MODEL_34fa573c239346e2a6563b8aa726e039"
      }
     },
     "67ae9023a8a04e1ba185008841e12972": {
      "model_module": "@jupyter-widgets/controls",
      "model_module_version": "1.5.0",
      "model_name": "ButtonModel",
      "state": {
       "description": "Reset Saturation Controls",
       "layout": "IPY_MODEL_f6036e39df844a338c328e872e0b93da",
       "style": "IPY_MODEL_2637494c5a3444dc81cbf1264c34f67e"
      }
     },
     "67bb1b992e2e43b8ab7b70f471c003ed": {
      "model_module": "@jupyter-widgets/controls",
      "model_module_version": "1.5.0",
      "model_name": "SliderStyleModel",
      "state": {
       "description_width": ""
      }
     },
     "67bea86f84484a0c8d34cd1f20f54eab": {
      "model_module": "@jupyter-widgets/controls",
      "model_module_version": "1.5.0",
      "model_name": "DropdownModel",
      "state": {
       "_options_labels": [
        "tanh",
        "atan",
        "simple"
       ],
       "description": "Compression Function:",
       "index": 0,
       "layout": "IPY_MODEL_8766835d9e12414a83d9e1e238f78940",
       "style": "IPY_MODEL_a27c19b82afa4183a098af2c9b14fe3c"
      }
     },
     "67c294328ce842659800320c5fa855bd": {
      "model_module": "@jupyter-widgets/base",
      "model_module_version": "1.2.0",
      "model_name": "LayoutModel",
      "state": {}
     },
     "67e66b8104cf405eb5174f1e759cb983": {
      "model_module": "@jupyter-widgets/base",
      "model_module_version": "1.2.0",
      "model_name": "LayoutModel",
      "state": {}
     },
     "67e6f00cab25432e9ca95c5269cd8ab7": {
      "model_module": "@jupyter-widgets/base",
      "model_module_version": "1.2.0",
      "model_name": "LayoutModel",
      "state": {}
     },
     "67f9fb4f76734185a50ec09b66968b6f": {
      "model_module": "@jupyter-widgets/base",
      "model_module_version": "1.2.0",
      "model_name": "LayoutModel",
      "state": {}
     },
     "6804c6070ec745cc8bd094757691e1cc": {
      "model_module": "@jupyter-widgets/controls",
      "model_module_version": "1.5.0",
      "model_name": "HBoxModel",
      "state": {
       "children": [
        "IPY_MODEL_94579fba421745f38fcfe28c48fd1118",
        "IPY_MODEL_94ced25a44b749b1b1cca6d2244c03ca"
       ],
       "layout": "IPY_MODEL_ef2e93acd7094ade9f558e9320dfd3c7"
      }
     },
     "6830747a59cc4a209cecdb650c8fbae6": {
      "model_module": "@jupyter-widgets/controls",
      "model_module_version": "1.5.0",
      "model_name": "ButtonModel",
      "state": {
       "description": "Save Figure",
       "layout": "IPY_MODEL_fafb6eb1fa5b478fb3b1898bce63f1cd",
       "style": "IPY_MODEL_0b3004b50a52431fa3d59811105fe64e"
      }
     },
     "6860f6dd25114749ab06735ece2bc991": {
      "model_module": "@jupyter-widgets/controls",
      "model_module_version": "1.5.0",
      "model_name": "FloatSliderModel",
      "state": {
       "description": "180°",
       "layout": "IPY_MODEL_29103d58a899499086f6d65856ca42af",
       "max": 1,
       "min": -1,
       "step": 0.01,
       "style": "IPY_MODEL_938ff8cf2ff240978284be678b669ede"
      }
     },
     "686c5018d79647b2b71b36cd85ff21c9": {
      "model_module": "@jupyter-widgets/controls",
      "model_module_version": "1.5.0",
      "model_name": "SliderStyleModel",
      "state": {
       "description_width": ""
      }
     },
     "6874374a8591421699fe3b899211853c": {
      "model_module": "@jupyter-widgets/base",
      "model_module_version": "1.2.0",
      "model_name": "LayoutModel",
      "state": {
       "border": "solid 4px #222",
       "margin": "4px",
       "padding": "0"
      }
     },
     "6877dd071046499da014c0739db689eb": {
      "model_module": "jupyter-matplotlib",
      "model_module_version": "^0.7.2",
      "model_name": "ToolbarModel",
      "state": {
       "layout": "IPY_MODEL_58a91d0d51d24001b47f563f2f620cdf",
       "toolitems": [
        [
         "Home",
         "Reset original view",
         "home",
         "home"
        ],
        [
         "Back",
         "Back to previous view",
         "arrow-left",
         "back"
        ],
        [
         "Forward",
         "Forward to next view",
         "arrow-right",
         "forward"
        ],
        [
         "Pan",
         "Pan axes with left mouse, zoom with right",
         "arrows",
         "pan"
        ],
        [
         "Zoom",
         "Zoom to rectangle",
         "square-o",
         "zoom"
        ],
        [
         "Download",
         "Download plot",
         "floppy-o",
         "save_figure"
        ]
       ]
      }
     },
     "68d57a29f8e5410cbc44ad2b0d279e74": {
      "model_module": "@jupyter-widgets/controls",
      "model_module_version": "1.5.0",
      "model_name": "HBoxModel",
      "state": {
       "children": [
        "IPY_MODEL_17752d020ae843bd8269506a38d40100",
        "IPY_MODEL_d2e67eff320a43b4a7c438294093ff9b",
        "IPY_MODEL_3df40f0a55dc4e50b31c3745e6ce4f08"
       ],
       "layout": "IPY_MODEL_2b2bbfc2ccbc407e8bf2aace8698558b"
      }
     },
     "68eb6e872eaa4f4ea60645cce8db0da4": {
      "model_module": "@jupyter-widgets/controls",
      "model_module_version": "1.5.0",
      "model_name": "ButtonModel",
      "state": {
       "description": "Reset Saturation Controls",
       "layout": "IPY_MODEL_18497fae9e934930bab727c28dd05aa0",
       "style": "IPY_MODEL_36f6fd974de74ba1bf425eb522d7b340"
      }
     },
     "6927e8cefb5046d0968c1c9a42e5e54f": {
      "model_module": "@jupyter-widgets/controls",
      "model_module_version": "1.5.0",
      "model_name": "HBoxModel",
      "state": {
       "children": [
        "IPY_MODEL_d62ba78dacf747cbac5c75e43b2fc22c",
        "IPY_MODEL_404b36ce15ca43c791a307b1448fd193",
        "IPY_MODEL_9f6fee89aa4944faa97f321c35b04d4f",
        "IPY_MODEL_27e0e0abf61b4c0db52d5320dcd39ef3",
        "IPY_MODEL_8ffd8da632b54f0eaaa679073d9a8585"
       ],
       "layout": "IPY_MODEL_cf4ad8a26b3946a9a6c6480acae31d88"
      }
     },
     "6938ac52926247e38936411d51fb9318": {
      "model_module": "@jupyter-widgets/base",
      "model_module_version": "1.2.0",
      "model_name": "LayoutModel",
      "state": {}
     },
     "694b49d5df31419994b612983706b6dd": {
      "model_module": "@jupyter-widgets/controls",
      "model_module_version": "1.5.0",
      "model_name": "ButtonModel",
      "state": {
       "description": "Reset Exposure",
       "layout": "IPY_MODEL_7988d19740dc4441a70ea7bc43715c51",
       "style": "IPY_MODEL_27cb38914b464c7db647ff80733101d1"
      }
     },
     "698a4e3ba0cc45f4bc054acab0e04305": {
      "model_module": "@jupyter-widgets/controls",
      "model_module_version": "1.5.0",
      "model_name": "SliderStyleModel",
      "state": {
       "description_width": ""
      }
     },
     "69ebacd8bbba4ce098755e55194eab94": {
      "model_module": "@jupyter-widgets/base",
      "model_module_version": "1.2.0",
      "model_name": "LayoutModel",
      "state": {}
     },
     "6a20144a51d94a63ba53802be46fc15d": {
      "model_module": "@jupyter-widgets/base",
      "model_module_version": "1.2.0",
      "model_name": "LayoutModel",
      "state": {}
     },
     "6a93a879395144aea7f56e038c4c2dfb": {
      "model_module": "@jupyter-widgets/base",
      "model_module_version": "1.2.0",
      "model_name": "LayoutModel",
      "state": {}
     },
     "6a9df71e910d40ffb1da190c22497b5f": {
      "model_module": "@jupyter-widgets/controls",
      "model_module_version": "1.5.0",
      "model_name": "ButtonStyleModel",
      "state": {}
     },
     "6aa7d1e893be48fab7893d693d6a3838": {
      "model_module": "@jupyter-widgets/base",
      "model_module_version": "1.2.0",
      "model_name": "LayoutModel",
      "state": {}
     },
     "6aacf700fa854545be09495770edfb9f": {
      "model_module": "@jupyter-widgets/controls",
      "model_module_version": "1.5.0",
      "model_name": "DescriptionStyleModel",
      "state": {
       "description_width": ""
      }
     },
     "6b299106702344aab66eed98c9343b1f": {
      "model_module": "@jupyter-widgets/controls",
      "model_module_version": "1.5.0",
      "model_name": "HBoxModel",
      "state": {
       "children": [
        "IPY_MODEL_68eb6e872eaa4f4ea60645cce8db0da4",
        "IPY_MODEL_591e617d28a24a2c80a44fbefdf564f9",
        "IPY_MODEL_373072a56f0547ba9522cb0e759655ea"
       ],
       "layout": "IPY_MODEL_f3bc7779d88646be920ce9f275d5ab64"
      }
     },
     "6b892abc5bff4a709f4227f487960abd": {
      "model_module": "@jupyter-widgets/base",
      "model_module_version": "1.2.0",
      "model_name": "LayoutModel",
      "state": {}
     },
     "6b9c2ae661c54b779dddd69b3c113f4c": {
      "model_module": "@jupyter-widgets/base",
      "model_module_version": "1.2.0",
      "model_name": "LayoutModel",
      "state": {}
     },
     "6c1831f32cea4fbeb6645e66c867f8bf": {
      "model_module": "@jupyter-widgets/base",
      "model_module_version": "1.2.0",
      "model_name": "LayoutModel",
      "state": {}
     },
     "6c707766a4a8486c8db7615a0ebd680b": {
      "model_module": "@jupyter-widgets/base",
      "model_module_version": "1.2.0",
      "model_name": "LayoutModel",
      "state": {}
     },
     "6c9cda5fd29547c3a73fff4615ebcfa3": {
      "model_module": "@jupyter-widgets/base",
      "model_module_version": "1.2.0",
      "model_name": "LayoutModel",
      "state": {
       "align_items": "stretch",
       "display": "flex",
       "flex_flow": "column",
       "width": "1128px"
      }
     },
     "6cac0f23256548228bef21312b174fd9": {
      "model_module": "@jupyter-widgets/base",
      "model_module_version": "1.2.0",
      "model_name": "LayoutModel",
      "state": {}
     },
     "6ce5bfde262d4673a96b3e2f71e1c3df": {
      "model_module": "jupyter-matplotlib",
      "model_module_version": "^0.7.2",
      "model_name": "ToolbarModel",
      "state": {
       "layout": "IPY_MODEL_f0d64583038c450d90724e5f2875f4d8",
       "toolitems": [
        [
         "Home",
         "Reset original view",
         "home",
         "home"
        ],
        [
         "Back",
         "Back to previous view",
         "arrow-left",
         "back"
        ],
        [
         "Forward",
         "Forward to next view",
         "arrow-right",
         "forward"
        ],
        [
         "Pan",
         "Pan axes with left mouse, zoom with right",
         "arrows",
         "pan"
        ],
        [
         "Zoom",
         "Zoom to rectangle",
         "square-o",
         "zoom"
        ],
        [
         "Download",
         "Download plot",
         "floppy-o",
         "save_figure"
        ]
       ]
      }
     },
     "6ce77aca90e64258b048093f151f179b": {
      "model_module": "@jupyter-widgets/base",
      "model_module_version": "1.2.0",
      "model_name": "LayoutModel",
      "state": {}
     },
     "6cfd613e45cd4d409fde42c78eb78158": {
      "model_module": "jupyter-matplotlib",
      "model_module_version": "^0.7.2",
      "model_name": "MPLCanvasModel",
      "state": {
       "_figure_label": "Figure 8",
       "_height": 458,
       "_width": 1099,
       "header_visible": false,
       "layout": "IPY_MODEL_bfca2263f5734403bdbca586a9e2fc94",
       "resizable": false,
       "toolbar": "IPY_MODEL_6000407ce25145b7b947e713f2bc58a3",
       "toolbar_position": "left",
       "toolbar_visible": false
      }
     },
     "6d5c41b86aea47ec8b51573b1ad9ee06": {
      "model_module": "jupyter-matplotlib",
      "model_module_version": "^0.7.2",
      "model_name": "ToolbarModel",
      "state": {
       "layout": "IPY_MODEL_9e17ad40ef95404bac000765a2ff31f6",
       "toolitems": [
        [
         "Home",
         "Reset original view",
         "home",
         "home"
        ],
        [
         "Back",
         "Back to previous view",
         "arrow-left",
         "back"
        ],
        [
         "Forward",
         "Forward to next view",
         "arrow-right",
         "forward"
        ],
        [
         "Pan",
         "Pan axes with left mouse, zoom with right",
         "arrows",
         "pan"
        ],
        [
         "Zoom",
         "Zoom to rectangle",
         "square-o",
         "zoom"
        ],
        [
         "Download",
         "Download plot",
         "floppy-o",
         "save_figure"
        ]
       ]
      }
     },
     "6db24db30553468c8526ad6404419e33": {
      "model_module": "@jupyter-widgets/controls",
      "model_module_version": "1.5.0",
      "model_name": "FloatSliderModel",
      "state": {
       "description": "45°",
       "layout": "IPY_MODEL_8424a459c28d4d5a90da9c279dba5b2c",
       "max": 1,
       "min": -1,
       "step": 0.01,
       "style": "IPY_MODEL_bf8106616f094c73875ec33ff0722b2c"
      }
     },
     "6e04a3fa8ccd4b8490645cb32196b88e": {
      "model_module": "@jupyter-widgets/base",
      "model_module_version": "1.2.0",
      "model_name": "LayoutModel",
      "state": {}
     },
     "6e1cef0f38ff47f0ba92a544c3a970f2": {
      "model_module": "@jupyter-widgets/base",
      "model_module_version": "1.2.0",
      "model_name": "LayoutModel",
      "state": {}
     },
     "6e50a883b3a34fc3be989813430273d0": {
      "model_module": "@jupyter-widgets/base",
      "model_module_version": "1.2.0",
      "model_name": "LayoutModel",
      "state": {}
     },
     "6e556b31489f434bb857ee6cc35f9bbe": {
      "model_module": "@jupyter-widgets/controls",
      "model_module_version": "1.5.0",
      "model_name": "DescriptionStyleModel",
      "state": {
       "description_width": ""
      }
     },
     "6e755eb9b23340d3a71192164f662515": {
      "model_module": "@jupyter-widgets/base",
      "model_module_version": "1.2.0",
      "model_name": "LayoutModel",
      "state": {}
     },
     "6ec9b6c0e061441d967939b5b9a9f648": {
      "model_module": "@jupyter-widgets/base",
      "model_module_version": "1.2.0",
      "model_name": "LayoutModel",
      "state": {}
     },
     "6f1bc09a26df4b619ce81b1bfc00ba6d": {
      "model_module": "@jupyter-widgets/controls",
      "model_module_version": "1.5.0",
      "model_name": "BoxModel",
      "state": {
       "children": [
        "IPY_MODEL_4ee5ea271cd1478eb268e4f2647ab9bc",
        "IPY_MODEL_d307c09b0c93417787c91ada8f2bb8fd"
       ],
       "layout": "IPY_MODEL_6c9cda5fd29547c3a73fff4615ebcfa3"
      }
     },
     "6f3b5c92eb4547cdab38bf9f86b0d096": {
      "model_module": "@jupyter-widgets/controls",
      "model_module_version": "1.5.0",
      "model_name": "DescriptionStyleModel",
      "state": {
       "description_width": ""
      }
     },
     "6f5d8552c38544ad836330b25be22a5a": {
      "model_module": "@jupyter-widgets/controls",
      "model_module_version": "1.5.0",
      "model_name": "VBoxModel",
      "state": {
       "children": [
        "IPY_MODEL_f5998cfa2a05463ca72762aacc054d0a",
        "IPY_MODEL_65c836216cea49d8a8db6ad932ffc1f5",
        "IPY_MODEL_d78695c41c7e402cbdb620be8395ca45"
       ],
       "layout": "IPY_MODEL_ed04d6438d064d6cbd1ac6b8d69e68a3"
      }
     },
     "6f6d5e1e470c4526acc4c5a5d1df8e69": {
      "model_module": "@jupyter-widgets/controls",
      "model_module_version": "1.5.0",
      "model_name": "ButtonModel",
      "state": {
       "description": "Reset Exposure",
       "layout": "IPY_MODEL_d4d7b4280a944f0eb1c8061bce27f0b0",
       "style": "IPY_MODEL_bd456699dae44b1faa921ad702187312"
      }
     },
     "6f6ec0ed466044e09883d5c43d02f8b4": {
      "model_module": "@jupyter-widgets/controls",
      "model_module_version": "1.5.0",
      "model_name": "FloatSliderModel",
      "state": {
       "description": "Protected Area Threshold",
       "layout": "IPY_MODEL_90528a2244c14640b67a7b423256db9d",
       "max": 1,
       "step": 0.01,
       "style": "IPY_MODEL_ac367b2c405042959e592aae9b0b0fa4",
       "value": 0.7
      }
     },
     "6f8e66a7ad7f498da58cd7a333d8f93f": {
      "model_module": "@jupyter-widgets/base",
      "model_module_version": "1.2.0",
      "model_name": "LayoutModel",
      "state": {}
     },
     "6fab8458278646f5a75c8795619d599e": {
      "model_module": "@jupyter-widgets/base",
      "model_module_version": "1.2.0",
      "model_name": "LayoutModel",
      "state": {}
     },
     "6fd480b5c301453b8101544031a4c4d9": {
      "model_module": "@jupyter-widgets/controls",
      "model_module_version": "1.5.0",
      "model_name": "SliderStyleModel",
      "state": {
       "description_width": ""
      }
     },
     "6fdd1056639a49c5a66043d4ba54a35d": {
      "model_module": "@jupyter-widgets/controls",
      "model_module_version": "1.5.0",
      "model_name": "VBoxModel",
      "state": {
       "children": [
        "IPY_MODEL_cdec0215513242ebac3d899ebaebe44e"
       ],
       "layout": "IPY_MODEL_e1ecbc20c4834232b59dfae9eddc2e04"
      }
     },
     "6fdeb56edafa407aaab46d7bf09f70c8": {
      "model_module": "@jupyter-widgets/base",
      "model_module_version": "1.2.0",
      "model_name": "LayoutModel",
      "state": {}
     },
     "70081e9c962b4b9eb59ab668726e870f": {
      "model_module": "@jupyter-widgets/controls",
      "model_module_version": "1.5.0",
      "model_name": "ButtonModel",
      "state": {
       "description": "Export Image",
       "layout": "IPY_MODEL_2331b28392f94ccf890ca1f35aca8a49",
       "style": "IPY_MODEL_83ed8765da1e416f95b843510e232968"
      }
     },
     "70292cbac019450190faf1700c719f5b": {
      "model_module": "@jupyter-widgets/controls",
      "model_module_version": "1.5.0",
      "model_name": "ButtonModel",
      "state": {
       "description": "Save Figure",
       "layout": "IPY_MODEL_349d7a218c98450295933107f16331e2",
       "style": "IPY_MODEL_19a88d71d95f4fa5b1da4f6ebd833a3f"
      }
     },
     "70375717997b454ab7d5e684a431260d": {
      "model_module": "@jupyter-widgets/controls",
      "model_module_version": "1.5.0",
      "model_name": "FloatSliderModel",
      "state": {
       "description": "225°",
       "layout": "IPY_MODEL_4cc2b3102f8740e6ac37f37b05ad5300",
       "max": 1,
       "min": -1,
       "step": 0.01,
       "style": "IPY_MODEL_2f7c3736b4c84fb786b6ef38ec6c7960"
      }
     },
     "7059c01683084c00817e33faa4dab6e1": {
      "model_module": "@jupyter-widgets/controls",
      "model_module_version": "1.5.0",
      "model_name": "CheckboxModel",
      "state": {
       "description": "Disable Medicina",
       "disabled": false,
       "layout": "IPY_MODEL_17018c7c5c2243c9a480bd70e09fc2ed",
       "style": "IPY_MODEL_abbb15e8b87d4799b4dedfc9a566f430",
       "value": false
      }
     },
     "706569879fb14489ba1ecf08cc54cfcd": {
      "model_module": "@jupyter-widgets/base",
      "model_module_version": "1.2.0",
      "model_name": "LayoutModel",
      "state": {}
     },
     "708aab980fec45fa9e13125436b5d3f3": {
      "model_module": "@jupyter-widgets/output",
      "model_module_version": "1.0.0",
      "model_name": "OutputModel",
      "state": {
       "layout": "IPY_MODEL_c9c267e3369c49ea9058cf77ccae8900",
       "outputs": [
        {
         "data": {
          "application/vnd.jupyter.widget-view+json": {
           "model_id": "e37ac491166f4791aa7175f2c701c068",
           "version_major": 2,
           "version_minor": 0
          },
          "text/plain": "Canvas(toolbar=Toolbar(toolitems=[('Home', 'Reset original view', 'home', 'home'), ('Back', 'Back to previous …"
         },
         "metadata": {},
         "output_type": "display_data"
        }
       ]
      }
     },
     "70b0bd3a7e604432b7991c815d7df33b": {
      "model_module": "@jupyter-widgets/controls",
      "model_module_version": "1.5.0",
      "model_name": "ButtonStyleModel",
      "state": {}
     },
     "70cc23ccbb52416b8d283cc910e3637c": {
      "model_module": "@jupyter-widgets/base",
      "model_module_version": "1.2.0",
      "model_name": "LayoutModel",
      "state": {}
     },
     "70f3ac21b0a74b42bd4a528cc499e08d": {
      "model_module": "@jupyter-widgets/controls",
      "model_module_version": "1.5.0",
      "model_name": "DropdownModel",
      "state": {
       "_options_labels": [
        "tanh",
        "atan",
        "simple"
       ],
       "description": "Compression Function:",
       "index": 0,
       "layout": "IPY_MODEL_f6238d00445a43b6a146b16b48f35b71",
       "style": "IPY_MODEL_0dd1deb544e04bcdaba47ced20d142ec"
      }
     },
     "7105475218764e2d8d76c8a818a6b8a2": {
      "model_module": "@jupyter-widgets/base",
      "model_module_version": "1.2.0",
      "model_name": "LayoutModel",
      "state": {}
     },
     "711ddd488e0f4862aa939c7cd76e3f83": {
      "model_module": "@jupyter-widgets/base",
      "model_module_version": "1.2.0",
      "model_name": "LayoutModel",
      "state": {}
     },
     "712c070ebd5a4ca7981cde14a7f186c1": {
      "model_module": "@jupyter-widgets/controls",
      "model_module_version": "1.5.0",
      "model_name": "VBoxModel",
      "state": {
       "children": [
        "IPY_MODEL_c766bb1e399c495d85ba906d5ae4cb0a",
        "IPY_MODEL_0dba562459bb49389e3a2d39fdf3ba84",
        "IPY_MODEL_31fca7f55df34dc4b8cfcd4b89715b34"
       ],
       "layout": "IPY_MODEL_c943543140d54b90bd0be7285ec11865"
      }
     },
     "714c31c0752d4a15844b305fcbf83590": {
      "model_module": "@jupyter-widgets/base",
      "model_module_version": "1.2.0",
      "model_name": "LayoutModel",
      "state": {}
     },
     "715d70fdfe344ee5aa4d26c0ba03e4e2": {
      "model_module": "jupyter-matplotlib",
      "model_module_version": "^0.7.2",
      "model_name": "MPLCanvasModel",
      "state": {
       "_figure_label": "Figure 1",
       "_height": 458,
       "_image_mode": "diff",
       "_width": 1100,
       "header_visible": false,
       "layout": "IPY_MODEL_0af7a2da7b8b4e32a5fb8e5918af0673",
       "resizable": false,
       "toolbar": "IPY_MODEL_282d42163c68406d8f105c95064c8446",
       "toolbar_position": "left",
       "toolbar_visible": false
      }
     },
     "717b3e187e46490fa00013ffc702d46f": {
      "model_module": "@jupyter-widgets/base",
      "model_module_version": "1.2.0",
      "model_name": "LayoutModel",
      "state": {}
     },
     "7189808e679b4bbbacc29d1814502909": {
      "model_module": "@jupyter-widgets/controls",
      "model_module_version": "1.5.0",
      "model_name": "VBoxModel",
      "state": {
       "children": [
        "IPY_MODEL_97c0d898146d467bbbd2a0c8bcab2f74",
        "IPY_MODEL_d235ae9e416a46a58af0f48e6cd8b073"
       ],
       "layout": "IPY_MODEL_4261ce4ad2d8473494378ce271dfd62e"
      }
     },
     "71af2af58ee64a0684be1e254b82cffb": {
      "model_module": "@jupyter-widgets/base",
      "model_module_version": "1.2.0",
      "model_name": "LayoutModel",
      "state": {}
     },
     "71ea7211b6964a899d76883ff9cb0cc4": {
      "model_module": "@jupyter-widgets/output",
      "model_module_version": "1.0.0",
      "model_name": "OutputModel",
      "state": {
       "layout": "IPY_MODEL_a3d184cae30246a9a29423b6f33ffb70",
       "outputs": [
        {
         "data": {
          "application/vnd.jupyter.widget-view+json": {
           "model_id": "20b7f327a62745399cdc5c2e8ce16a67",
           "version_major": 2,
           "version_minor": 0
          },
          "text/plain": "Canvas(toolbar=Toolbar(toolitems=[('Home', 'Reset original view', 'home', 'home'), ('Back', 'Back to previous …"
         },
         "metadata": {},
         "output_type": "display_data"
        }
       ]
      }
     },
     "71f2e883dd5240c99c88c6ed0fddc729": {
      "model_module": "@jupyter-widgets/base",
      "model_module_version": "1.2.0",
      "model_name": "LayoutModel",
      "state": {}
     },
     "71f2fceedb434145a090a3c409f020d4": {
      "model_module": "@jupyter-widgets/controls",
      "model_module_version": "1.5.0",
      "model_name": "FloatSliderModel",
      "state": {
       "description": "315°",
       "layout": "IPY_MODEL_5647dd7b9dca43239fd3a1590cd30340",
       "max": 1,
       "min": -1,
       "step": 0.01,
       "style": "IPY_MODEL_60169efd6aea40c2821c624cdd5004f7"
      }
     },
     "71fd59d41d3b407a944075ed58087612": {
      "model_module": "@jupyter-widgets/controls",
      "model_module_version": "1.5.0",
      "model_name": "SliderStyleModel",
      "state": {
       "description_width": ""
      }
     },
     "7203b433cc284c70b58586d121f9ff66": {
      "model_module": "@jupyter-widgets/controls",
      "model_module_version": "1.5.0",
      "model_name": "FloatSliderModel",
      "state": {
       "description": "45°",
       "layout": "IPY_MODEL_a83b3c2ddf80478188a4046031caa381",
       "max": 1,
       "min": -1,
       "step": 0.01,
       "style": "IPY_MODEL_033b56a40b6e4c3caf0302566ffee61a"
      }
     },
     "725396e8772747088709bae9bd699bd5": {
      "model_module": "@jupyter-widgets/controls",
      "model_module_version": "1.5.0",
      "model_name": "HBoxModel",
      "state": {
       "children": [
        "IPY_MODEL_67ae9023a8a04e1ba185008841e12972",
        "IPY_MODEL_67bea86f84484a0c8d34cd1f20f54eab",
        "IPY_MODEL_000f2bf459e34ea48917e1d4f76b903a"
       ],
       "layout": "IPY_MODEL_b705757a37964d40baa2f3abc4f552e2"
      }
     },
     "725f0b24b2034519a9add81fe4ed7dbb": {
      "model_module": "@jupyter-widgets/base",
      "model_module_version": "1.2.0",
      "model_name": "LayoutModel",
      "state": {}
     },
     "72698c5829e149aabbd6d443f0c3c139": {
      "model_module": "@jupyter-widgets/controls",
      "model_module_version": "1.5.0",
      "model_name": "SliderStyleModel",
      "state": {
       "description_width": ""
      }
     },
     "727840dd2ff54437b779b2ab8cfb3c02": {
      "model_module": "@jupyter-widgets/controls",
      "model_module_version": "1.5.0",
      "model_name": "ButtonModel",
      "state": {
       "description": "Reset Compression Controls",
       "layout": "IPY_MODEL_fe223eec9813464c873d472fff2c4fe3",
       "style": "IPY_MODEL_70b0bd3a7e604432b7991c815d7df33b"
      }
     },
     "72bd00bcbd224a1194fec50900d49fba": {
      "model_module": "@jupyter-widgets/controls",
      "model_module_version": "1.5.0",
      "model_name": "FloatSliderModel",
      "state": {
       "description": "Exposure",
       "layout": "IPY_MODEL_67c294328ce842659800320c5fa855bd",
       "max": 8,
       "min": -8,
       "step": 0.1,
       "style": "IPY_MODEL_892dfaa54bb84a5a988f71892294903e"
      }
     },
     "73031f1c4ea8453fbb25d11675d0b059": {
      "model_module": "@jupyter-widgets/controls",
      "model_module_version": "1.5.0",
      "model_name": "ButtonStyleModel",
      "state": {}
     },
     "7357de93473f4de4b12b65f6771598a6": {
      "model_module": "@jupyter-widgets/base",
      "model_module_version": "1.2.0",
      "model_name": "LayoutModel",
      "state": {}
     },
     "73ae92a4ca96491c8af33c11cf7f97ae": {
      "model_module": "jupyter-matplotlib",
      "model_module_version": "^0.7.2",
      "model_name": "MPLCanvasModel",
      "state": {
       "_figure_label": "Figure 10",
       "_height": 696,
       "_width": 1100,
       "header_visible": false,
       "layout": "IPY_MODEL_8c12dc858dca4a9bb3a5feb069354dfd",
       "resizable": false,
       "toolbar": "IPY_MODEL_b07348c17049412a93af0fee7eaea158",
       "toolbar_position": "left",
       "toolbar_visible": false
      }
     },
     "7417f28abe9c49bab721576e859843d5": {
      "model_module": "@jupyter-widgets/controls",
      "model_module_version": "1.5.0",
      "model_name": "DescriptionStyleModel",
      "state": {
       "description_width": ""
      }
     },
     "741ec066be8746d6843ba494be5c16e1": {
      "model_module": "@jupyter-widgets/controls",
      "model_module_version": "1.5.0",
      "model_name": "DescriptionStyleModel",
      "state": {
       "description_width": ""
      }
     },
     "746c314e5b5d4d218ba9db9dbc8f3319": {
      "model_module": "@jupyter-widgets/controls",
      "model_module_version": "1.5.0",
      "model_name": "VBoxModel",
      "state": {
       "children": [
        "IPY_MODEL_e09366655a734735a77ddcaa75b6e28f",
        "IPY_MODEL_9e0eff3604934319a50f079f8422ed57",
        "IPY_MODEL_4ed7fe4b7c59452f89604e17d22c4c62"
       ],
       "layout": "IPY_MODEL_59e29bb2170d44d2a5da5047c24ccc9b"
      }
     },
     "7476aff3ae3a41b79fe66da8ace4256b": {
      "model_module": "@jupyter-widgets/base",
      "model_module_version": "1.2.0",
      "model_name": "LayoutModel",
      "state": {}
     },
     "747b08b41f50441091328079fc088bf8": {
      "model_module": "@jupyter-widgets/controls",
      "model_module_version": "1.5.0",
      "model_name": "HBoxModel",
      "state": {
       "children": [
        "IPY_MODEL_edef7e9844224f84b86993a7c78016fb",
        "IPY_MODEL_bc298b9b88c4432c864b7af1c3cf07f1"
       ],
       "layout": "IPY_MODEL_0a5fa59d952b488c94ffa49fdc8c5c88"
      }
     },
     "7482d65e07bd482990dd3fb045cad4d9": {
      "model_module": "@jupyter-widgets/controls",
      "model_module_version": "1.5.0",
      "model_name": "ButtonStyleModel",
      "state": {}
     },
     "7494e8b24ea74c2a8e37616426ee3967": {
      "model_module": "@jupyter-widgets/base",
      "model_module_version": "1.2.0",
      "model_name": "LayoutModel",
      "state": {}
     },
     "74b7e298c5df493c8ef9a906689e870d": {
      "model_module": "@jupyter-widgets/base",
      "model_module_version": "1.2.0",
      "model_name": "LayoutModel",
      "state": {}
     },
     "74bec1d4122743baadadecf741520ea1": {
      "model_module": "@jupyter-widgets/base",
      "model_module_version": "1.2.0",
      "model_name": "LayoutModel",
      "state": {}
     },
     "74d2a9ff4e35482ebe1f185fc5be8dfd": {
      "model_module": "jupyter-matplotlib",
      "model_module_version": "^0.7.2",
      "model_name": "ToolbarModel",
      "state": {
       "layout": "IPY_MODEL_db4a82cb5a06440d88f9565b71f503d5",
       "toolitems": [
        [
         "Home",
         "Reset original view",
         "home",
         "home"
        ],
        [
         "Back",
         "Back to previous view",
         "arrow-left",
         "back"
        ],
        [
         "Forward",
         "Forward to next view",
         "arrow-right",
         "forward"
        ],
        [
         "Pan",
         "Pan axes with left mouse, zoom with right",
         "arrows",
         "pan"
        ],
        [
         "Zoom",
         "Zoom to rectangle",
         "square-o",
         "zoom"
        ],
        [
         "Download",
         "Download plot",
         "floppy-o",
         "save_figure"
        ]
       ]
      }
     },
     "74d9bdf6ac604714a9bdcd4d64344994": {
      "model_module": "@jupyter-widgets/controls",
      "model_module_version": "1.5.0",
      "model_name": "FloatSliderModel",
      "state": {
       "description": "Exposure",
       "layout": "IPY_MODEL_510eeb5e17a5476aab9d7b04925e4e0e",
       "max": 8,
       "min": -8,
       "step": 0.1,
       "style": "IPY_MODEL_2f9c2fe886cc4827928fc10bd3bd9958"
      }
     },
     "74f14d4ecf14424180277eb31110f8b1": {
      "model_module": "@jupyter-widgets/base",
      "model_module_version": "1.2.0",
      "model_name": "LayoutModel",
      "state": {}
     },
     "750527d5a1804c7f956a424bd5570af0": {
      "model_module": "@jupyter-widgets/controls",
      "model_module_version": "1.5.0",
      "model_name": "TabModel",
      "state": {
       "_titles": {
        "0": "Global Controls",
        "1": "Compression Controls"
       },
       "children": [
        "IPY_MODEL_e03302b8dc7041e88318cd4ee8908ae5",
        "IPY_MODEL_4345e31bb7ae470db5211bb887dbd845"
       ],
       "layout": "IPY_MODEL_4a8678c0517e4cb397d2ee06323944d4"
      }
     },
     "7583fbf19d1048f998350e28e5a78841": {
      "model_module": "@jupyter-widgets/controls",
      "model_module_version": "1.5.0",
      "model_name": "ButtonModel",
      "state": {
       "description": "Reset Hue Controls",
       "layout": "IPY_MODEL_db98ddb642c1495185b36a67cce5a35d",
       "style": "IPY_MODEL_ab7a27acecdf4c4ba0c198c6500313db"
      }
     },
     "75876a1aab9b419f81ea5abc8ebad8df": {
      "model_module": "@jupyter-widgets/base",
      "model_module_version": "1.2.0",
      "model_name": "LayoutModel",
      "state": {}
     },
     "7588ad0f112a4df0b0380c2fa158c909": {
      "model_module": "@jupyter-widgets/controls",
      "model_module_version": "1.5.0",
      "model_name": "SliderStyleModel",
      "state": {
       "description_width": ""
      }
     },
     "75c43d8f600e417486d50fb988dbac18": {
      "model_module": "@jupyter-widgets/controls",
      "model_module_version": "1.5.0",
      "model_name": "ButtonStyleModel",
      "state": {}
     },
     "7609d2bba09d42809673c751d0b2f91b": {
      "model_module": "@jupyter-widgets/controls",
      "model_module_version": "1.5.0",
      "model_name": "ButtonModel",
      "state": {
       "description": "Save Figure",
       "layout": "IPY_MODEL_805b5b9adc654c0c8f74d37dfd2d712b",
       "style": "IPY_MODEL_c7bfc441e95442e7b9340a09a542a4d0"
      }
     },
     "763e352bf3f242e2a051410547d0a1d2": {
      "model_module": "@jupyter-widgets/controls",
      "model_module_version": "1.5.0",
      "model_name": "DropdownModel",
      "state": {
       "_options_labels": [
        "tanh",
        "atan",
        "simple"
       ],
       "description": "Compression Function:",
       "index": 0,
       "layout": "IPY_MODEL_9947d55fbf7246ec8e728a920a08a4ce",
       "style": "IPY_MODEL_8dc32bbbfb9643499f6a3a6cf398e546"
      }
     },
     "7653ce42df114f92a60261f6b46fd0cd": {
      "model_module": "@jupyter-widgets/base",
      "model_module_version": "1.2.0",
      "model_name": "LayoutModel",
      "state": {}
     },
     "765f9d4c0e4d4498ac954cbc16e1da24": {
      "model_module": "@jupyter-widgets/base",
      "model_module_version": "1.2.0",
      "model_name": "LayoutModel",
      "state": {}
     },
     "769ac1515f77493ba1516598b12eff41": {
      "model_module": "@jupyter-widgets/controls",
      "model_module_version": "1.5.0",
      "model_name": "ButtonStyleModel",
      "state": {}
     },
     "771bb95e0056424f95e6509d6c167659": {
      "model_module": "@jupyter-widgets/controls",
      "model_module_version": "1.5.0",
      "model_name": "ButtonModel",
      "state": {
       "description": "Reset Exposure",
       "layout": "IPY_MODEL_1d29577299f24f74b9be46bcbabf0a23",
       "style": "IPY_MODEL_bf3798feca574ff6827dafabf81f5fdd"
      }
     },
     "77288d1a7509461980d2d9aac9002891": {
      "model_module": "@jupyter-widgets/controls",
      "model_module_version": "1.5.0",
      "model_name": "ButtonModel",
      "state": {
       "description": "Reset Exposure",
       "layout": "IPY_MODEL_77376ce405504f94a45036a2e5c61bc2",
       "style": "IPY_MODEL_a28cdd73da3e402681d625b31c96676b"
      }
     },
     "77376ce405504f94a45036a2e5c61bc2": {
      "model_module": "@jupyter-widgets/base",
      "model_module_version": "1.2.0",
      "model_name": "LayoutModel",
      "state": {}
     },
     "77593426f29b4ad5841707eea1f4c7cf": {
      "model_module": "@jupyter-widgets/base",
      "model_module_version": "1.2.0",
      "model_name": "LayoutModel",
      "state": {}
     },
     "7760b0c378df446f8125292a1b636db6": {
      "model_module": "@jupyter-widgets/controls",
      "model_module_version": "1.5.0",
      "model_name": "HBoxModel",
      "state": {
       "children": [
        "IPY_MODEL_1524715e532a42148a9e0b03aaca2380",
        "IPY_MODEL_aa492f0c9eb740629e316d544ad0b45e",
        "IPY_MODEL_e9abc6e4659340d69672c2c918e2386d",
        "IPY_MODEL_f24428763af748e7a7d79221cb04eb32",
        "IPY_MODEL_0d0061ef2f924296b94224addf8db420"
       ],
       "layout": "IPY_MODEL_fd6fbb68859a4cdea8e0fe83002a1426"
      }
     },
     "7772869e8cb34086ac54ddc8ab8d5af7": {
      "model_module": "@jupyter-widgets/controls",
      "model_module_version": "1.5.0",
      "model_name": "ButtonModel",
      "state": {
       "description": "Save Figure",
       "layout": "IPY_MODEL_a9e095b56d144fecbf917f6021cea745",
       "style": "IPY_MODEL_3344d92bf5504e2e98bdc073a248e2c5"
      }
     },
     "77ad72778a284e6ea5d2f7f2c0701290": {
      "model_module": "@jupyter-widgets/controls",
      "model_module_version": "1.5.0",
      "model_name": "FloatSliderModel",
      "state": {
       "description": "270°",
       "layout": "IPY_MODEL_03eacdd325bf45698e15b6bc40389471",
       "max": 1,
       "min": -1,
       "step": 0.01,
       "style": "IPY_MODEL_44b66cd52a404f0eb89a5a4d1e2aef4c"
      }
     },
     "77d66c1dbd574dd1adb705a483eebc25": {
      "model_module": "@jupyter-widgets/base",
      "model_module_version": "1.2.0",
      "model_name": "LayoutModel",
      "state": {}
     },
     "782d96e5981f4de1842b20e0b62fe0c9": {
      "model_module": "@jupyter-widgets/base",
      "model_module_version": "1.2.0",
      "model_name": "LayoutModel",
      "state": {}
     },
     "783280f804cf40f6aa3c97ee432b3eaf": {
      "model_module": "@jupyter-widgets/base",
      "model_module_version": "1.2.0",
      "model_name": "LayoutModel",
      "state": {}
     },
     "784fffe5ad704bfe91dab4cd0692f9c0": {
      "model_module": "@jupyter-widgets/controls",
      "model_module_version": "1.5.0",
      "model_name": "ButtonStyleModel",
      "state": {}
     },
     "78c0768717364c928ecea6abca4be78c": {
      "model_module": "@jupyter-widgets/controls",
      "model_module_version": "1.5.0",
      "model_name": "ButtonStyleModel",
      "state": {}
     },
     "78e8340eb91c49b9bb2fb884d0a61e91": {
      "model_module": "@jupyter-widgets/controls",
      "model_module_version": "1.5.0",
      "model_name": "FloatSliderModel",
      "state": {
       "description": "135°",
       "layout": "IPY_MODEL_3dd15dd2efad4c4aaecdc161fd55d560",
       "max": 1,
       "min": -1,
       "step": 0.01,
       "style": "IPY_MODEL_de1ed5320b9b40c6a8b3c11cc9e2f4ca"
      }
     },
     "7901bd666f8841a2a36e3d136b1a67c2": {
      "model_module": "@jupyter-widgets/controls",
      "model_module_version": "1.5.0",
      "model_name": "CheckboxModel",
      "state": {
       "description": "Disable Medicina",
       "disabled": false,
       "layout": "IPY_MODEL_c8e42fc85b97440f9b117d3378f002ec",
       "style": "IPY_MODEL_dd9c0ee10ea049559d785061967574cd",
       "value": false
      }
     },
     "79125a9b41e34cd2af19f42967d65755": {
      "model_module": "@jupyter-widgets/base",
      "model_module_version": "1.2.0",
      "model_name": "LayoutModel",
      "state": {
       "border": "solid 4px #222",
       "margin": "4px",
       "padding": "0"
      }
     },
     "7943e6532b0043cc8c863848a8b46f0b": {
      "model_module": "@jupyter-widgets/base",
      "model_module_version": "1.2.0",
      "model_name": "LayoutModel",
      "state": {}
     },
     "7951cab24d594f5da7c5afd29ffa9fc0": {
      "model_module": "@jupyter-widgets/controls",
      "model_module_version": "1.5.0",
      "model_name": "ButtonModel",
      "state": {
       "description": "Save Figure",
       "layout": "IPY_MODEL_da172fa354594a3095a817740387461c",
       "style": "IPY_MODEL_78c0768717364c928ecea6abca4be78c"
      }
     },
     "7988d19740dc4441a70ea7bc43715c51": {
      "model_module": "@jupyter-widgets/base",
      "model_module_version": "1.2.0",
      "model_name": "LayoutModel",
      "state": {}
     },
     "79cec509ab204e8e813f78762b317acb": {
      "model_module": "@jupyter-widgets/controls",
      "model_module_version": "1.5.0",
      "model_name": "ButtonModel",
      "state": {
       "description": "Export Image",
       "layout": "IPY_MODEL_4f61958773994d609b3fe86551aeb46a",
       "style": "IPY_MODEL_fb1633826fc64563aeabd35ef936ea92"
      }
     },
     "79d681c7906a4589a5e9455762847011": {
      "model_module": "@jupyter-widgets/base",
      "model_module_version": "1.2.0",
      "model_name": "LayoutModel",
      "state": {}
     },
     "7a36a2081f79486ca1ebc73b33b6baa2": {
      "model_module": "@jupyter-widgets/controls",
      "model_module_version": "1.5.0",
      "model_name": "ButtonModel",
      "state": {
       "description": "Reset Saturation Controls",
       "layout": "IPY_MODEL_cc6a70596d434d57beed27250d547418",
       "style": "IPY_MODEL_389c37d001bd4d6bb1e05b44f05d5d47"
      }
     },
     "7a5828a566e54501bcc3ec2786661456": {
      "model_module": "@jupyter-widgets/base",
      "model_module_version": "1.2.0",
      "model_name": "LayoutModel",
      "state": {}
     },
     "7a6d607e3f6a41579afce37fedbbf018": {
      "model_module": "@jupyter-widgets/controls",
      "model_module_version": "1.5.0",
      "model_name": "ButtonStyleModel",
      "state": {}
     },
     "7a77787e29a84a358ba11fed55d1f0fe": {
      "model_module": "@jupyter-widgets/base",
      "model_module_version": "1.2.0",
      "model_name": "LayoutModel",
      "state": {}
     },
     "7aca330b201543fdbe7876068b29bfa5": {
      "model_module": "@jupyter-widgets/controls",
      "model_module_version": "1.5.0",
      "model_name": "HBoxModel",
      "state": {
       "children": [
        "IPY_MODEL_b92ea867d86241b9a913a6df2c8d83aa",
        "IPY_MODEL_44a89923e1b3447fb34c913620c556a7",
        "IPY_MODEL_e1b399a70e5f4de18d8c5c23df5547de",
        "IPY_MODEL_fade0cdc75bb44749ca5eed7b179a813",
        "IPY_MODEL_5e1a4cc43ed14c13a40c3e4d4a85a753"
       ],
       "layout": "IPY_MODEL_a0cbe1f2b92648f09bda6b6508e1b51a"
      }
     },
     "7afac03421df4a8796ff8c6b7273bb5c": {
      "model_module": "@jupyter-widgets/base",
      "model_module_version": "1.2.0",
      "model_name": "LayoutModel",
      "state": {}
     },
     "7b0781fd16a9462f95ccf102d432dbf5": {
      "model_module": "@jupyter-widgets/controls",
      "model_module_version": "1.5.0",
      "model_name": "FloatSliderModel",
      "state": {
       "description": "Exposure",
       "layout": "IPY_MODEL_db174a98aa5e4a41a98b755655d7ee7c",
       "max": 8,
       "min": -8,
       "step": 0.1,
       "style": "IPY_MODEL_dc8fdd34f67d460f8eeb8373b3322ecf"
      }
     },
     "7b0e52a0179942959f0211a2e4c19811": {
      "model_module": "@jupyter-widgets/controls",
      "model_module_version": "1.5.0",
      "model_name": "FloatSliderModel",
      "state": {
       "description": "Compression Threshold",
       "layout": "IPY_MODEL_1fa7affe5e274ca9b5b3a70a1eb6cded",
       "max": 1,
       "step": 0.01,
       "style": "IPY_MODEL_8a359432caa6401fab2369c448943e1f",
       "value": 0.8
      }
     },
     "7b12a5d6624744c1a2094c6f5f6147e6": {
      "model_module": "@jupyter-widgets/base",
      "model_module_version": "1.2.0",
      "model_name": "LayoutModel",
      "state": {}
     },
     "7b299760e38d48e29e59b1bb14613219": {
      "model_module": "@jupyter-widgets/base",
      "model_module_version": "1.2.0",
      "model_name": "LayoutModel",
      "state": {}
     },
     "7b3acd5d5fd14c38ae90c844dff2abd1": {
      "model_module": "@jupyter-widgets/output",
      "model_module_version": "1.0.0",
      "model_name": "OutputModel",
      "state": {
       "layout": "IPY_MODEL_395f1681fc56417b91870b5f4b047272",
       "outputs": [
        {
         "data": {
          "application/vnd.jupyter.widget-view+json": {
           "model_id": "44628f36aeee4e4bafaf2a85b371621b",
           "version_major": 2,
           "version_minor": 0
          },
          "text/plain": "Canvas(toolbar=Toolbar(toolitems=[('Home', 'Reset original view', 'home', 'home'), ('Back', 'Back to previous …"
         },
         "metadata": {},
         "output_type": "display_data"
        }
       ]
      }
     },
     "7b5cfe3802f14d3ea98977ea98cbf963": {
      "model_module": "@jupyter-widgets/controls",
      "model_module_version": "1.5.0",
      "model_name": "VBoxModel",
      "state": {
       "children": [
        "IPY_MODEL_369fd89672dc4f83b7d1079a1c2a4570",
        "IPY_MODEL_d1666ff337124e27a9e6a3ab558683f3"
       ],
       "layout": "IPY_MODEL_ad50192481d2495a816e7c406ee5bdab"
      }
     },
     "7bf430d2c35040bcaeb6613880ce8c24": {
      "model_module": "@jupyter-widgets/controls",
      "model_module_version": "1.5.0",
      "model_name": "SliderStyleModel",
      "state": {
       "description_width": ""
      }
     },
     "7bfc29142e67415dbfdd2fbf0ce8c4b5": {
      "model_module": "jupyter-matplotlib",
      "model_module_version": "^0.7.2",
      "model_name": "MPLCanvasModel",
      "state": {
       "_figure_label": "Figure 2",
       "_height": 396,
       "_width": 1100,
       "header_visible": false,
       "layout": "IPY_MODEL_f8ad250ecfbd4eecbf8c2830e80881e9",
       "resizable": false,
       "toolbar": "IPY_MODEL_1ef377bd6b4e4ac99a04bb39875e58c1",
       "toolbar_position": "left",
       "toolbar_visible": false
      }
     },
     "7c2c3703ad294e4bbe57fb8b7af87f3d": {
      "model_module": "@jupyter-widgets/base",
      "model_module_version": "1.2.0",
      "model_name": "LayoutModel",
      "state": {}
     },
     "7c375005bff8484dbe4fe6973416e8fe": {
      "model_module": "@jupyter-widgets/controls",
      "model_module_version": "1.5.0",
      "model_name": "VBoxModel",
      "state": {
       "children": [
        "IPY_MODEL_975cce8e0465461da28b0d37e6a36322"
       ],
       "layout": "IPY_MODEL_7a5828a566e54501bcc3ec2786661456"
      }
     },
     "7c89f998024c4559bf8ae2fec76a751a": {
      "model_module": "@jupyter-widgets/controls",
      "model_module_version": "1.5.0",
      "model_name": "FloatSliderModel",
      "state": {
       "description": "Exposure",
       "layout": "IPY_MODEL_eb527ae6d2f64680b2af9dca859bbe04",
       "max": 8,
       "min": -8,
       "step": 0.1,
       "style": "IPY_MODEL_aa8af10bfb4f42b2a04f3bcea7c1c4a3"
      }
     },
     "7cab7e78673b41a598a2317ba120f7d6": {
      "model_module": "@jupyter-widgets/controls",
      "model_module_version": "1.5.0",
      "model_name": "FloatSliderModel",
      "state": {
       "description": "Protected Area Threshold",
       "layout": "IPY_MODEL_9986592f8503478ab47ab2c137cad818",
       "max": 1,
       "step": 0.01,
       "style": "IPY_MODEL_5ec856f8cb2c4cf3b812c3ade06f3fc9",
       "value": 0.7
      }
     },
     "7cb4fc1ef4b44532a9bd2002167c3ec0": {
      "model_module": "@jupyter-widgets/controls",
      "model_module_version": "1.5.0",
      "model_name": "FloatSliderModel",
      "state": {
       "description": "0°",
       "layout": "IPY_MODEL_c814eb17874b4c0d8a8c4e755b51742a",
       "max": 1,
       "min": -1,
       "step": 0.01,
       "style": "IPY_MODEL_17bb675c36ea4f52b38d93b88a6f51c7"
      }
     },
     "7cf817c8995d45de8b891b0ed3e6f6b9": {
      "model_module": "@jupyter-widgets/base",
      "model_module_version": "1.2.0",
      "model_name": "LayoutModel",
      "state": {}
     },
     "7d422cd9ef6a481f9decaf6e06a41032": {
      "model_module": "@jupyter-widgets/controls",
      "model_module_version": "1.5.0",
      "model_name": "ButtonStyleModel",
      "state": {}
     },
     "7d68efa8faa94cef932cf59b78edfee6": {
      "model_module": "@jupyter-widgets/controls",
      "model_module_version": "1.5.0",
      "model_name": "ButtonModel",
      "state": {
       "description": "Reset Compression Controls",
       "layout": "IPY_MODEL_cf524ebf75084e59a53df7573b5837e6",
       "style": "IPY_MODEL_9c00a5e8e2dc4dcc8faa7d18366afbe8"
      }
     },
     "7d75e21945af44e7b3570ff141059a7f": {
      "model_module": "@jupyter-widgets/base",
      "model_module_version": "1.2.0",
      "model_name": "LayoutModel",
      "state": {}
     },
     "7d91e3be96234fb7ba86195f7cf210ed": {
      "model_module": "@jupyter-widgets/controls",
      "model_module_version": "1.5.0",
      "model_name": "SliderStyleModel",
      "state": {
       "description_width": ""
      }
     },
     "7dae7ddc7ed84c67ab1a05202b21efaf": {
      "model_module": "@jupyter-widgets/controls",
      "model_module_version": "1.5.0",
      "model_name": "DescriptionStyleModel",
      "state": {
       "description_width": ""
      }
     },
     "7db181794d964c87bc54e87a79ab8ad2": {
      "model_module": "@jupyter-widgets/controls",
      "model_module_version": "1.5.0",
      "model_name": "ButtonStyleModel",
      "state": {}
     },
     "7de44cfbc6c040ab984d1c3a650f907b": {
      "model_module": "@jupyter-widgets/controls",
      "model_module_version": "1.5.0",
      "model_name": "SliderStyleModel",
      "state": {
       "description_width": ""
      }
     },
     "7df1698a0f684ccfbdae98bfebe5334f": {
      "model_module": "@jupyter-widgets/controls",
      "model_module_version": "1.5.0",
      "model_name": "ButtonModel",
      "state": {
       "description": "Reset Exposure",
       "layout": "IPY_MODEL_69ebacd8bbba4ce098755e55194eab94",
       "style": "IPY_MODEL_187e47dfab914849a62ef3dbcc531485"
      }
     },
     "7e0ad3a991b84d6e96287ca1b7af28fc": {
      "model_module": "@jupyter-widgets/controls",
      "model_module_version": "1.5.0",
      "model_name": "HBoxModel",
      "state": {
       "children": [
        "IPY_MODEL_da4379cc04eb4f9da351a2054ab81e72",
        "IPY_MODEL_338f4f93251147febabf5a60dad8eb4a",
        "IPY_MODEL_87a2841bbfd4499cbc08438abe4b7fe1",
        "IPY_MODEL_d55941f928f449a9bace775cf57f3a03",
        "IPY_MODEL_6053ebdde8f64e74988be4a97797fe8b"
       ],
       "layout": "IPY_MODEL_feed89818abb45faa3a16016cd711662"
      }
     },
     "7e4ae1c8016844e4b0a9ec7b880cda13": {
      "model_module": "@jupyter-widgets/controls",
      "model_module_version": "1.5.0",
      "model_name": "ButtonStyleModel",
      "state": {}
     },
     "7e7dc62d22bb4edbb5a6f1e99a88efc5": {
      "model_module": "@jupyter-widgets/controls",
      "model_module_version": "1.5.0",
      "model_name": "HBoxModel",
      "state": {
       "children": [
        "IPY_MODEL_10bb7a8842304298a042ee72970cd176",
        "IPY_MODEL_57e859b6e3ed44f8949ad5e6dd10aea7",
        "IPY_MODEL_6f5d8552c38544ad836330b25be22a5a",
        "IPY_MODEL_bbd2e891bf6a4ae3aacd7853a3f6a5c2"
       ],
       "layout": "IPY_MODEL_3aca6732cd404016a0b12a5ef16f9322"
      }
     },
     "7e87a6394ec04cf58a787920c232cc72": {
      "model_module": "@jupyter-widgets/controls",
      "model_module_version": "1.5.0",
      "model_name": "SliderStyleModel",
      "state": {
       "description_width": ""
      }
     },
     "7eb4a49a5b70474ba01848276196628d": {
      "model_module": "@jupyter-widgets/base",
      "model_module_version": "1.2.0",
      "model_name": "LayoutModel",
      "state": {}
     },
     "7ec816621a8f44be8f3225f696c83735": {
      "model_module": "@jupyter-widgets/base",
      "model_module_version": "1.2.0",
      "model_name": "LayoutModel",
      "state": {}
     },
     "7f42f2e121b54e8f971fea92d79b5041": {
      "model_module": "@jupyter-widgets/output",
      "model_module_version": "1.0.0",
      "model_name": "OutputModel",
      "state": {
       "layout": "IPY_MODEL_4a85035cd6654530a00482860321538c",
       "outputs": [
        {
         "data": {
          "application/vnd.jupyter.widget-view+json": {
           "model_id": "73ae92a4ca96491c8af33c11cf7f97ae",
           "version_major": 2,
           "version_minor": 0
          },
          "text/plain": "Canvas(toolbar=Toolbar(toolitems=[('Home', 'Reset original view', 'home', 'home'), ('Back', 'Back to previous …"
         },
         "metadata": {},
         "output_type": "display_data"
        }
       ]
      }
     },
     "7f773e871f2840858d9c545981283c07": {
      "model_module": "@jupyter-widgets/controls",
      "model_module_version": "1.5.0",
      "model_name": "FloatSliderModel",
      "state": {
       "description": "225°",
       "layout": "IPY_MODEL_fe6fe15e10984102b66c8fe12aeb25f4",
       "max": 1,
       "min": -1,
       "step": 0.01,
       "style": "IPY_MODEL_1bd865f0810a4e639115ee8b8b08a6e1"
      }
     },
     "7fa34f235de34e6f9cc2b8bda981e38e": {
      "model_module": "@jupyter-widgets/controls",
      "model_module_version": "1.5.0",
      "model_name": "HBoxModel",
      "state": {
       "children": [
        "IPY_MODEL_cd1ae07c8ef04b1fb07abd8ad065923b",
        "IPY_MODEL_984653b356dd494991894d68c295e8cc",
        "IPY_MODEL_0f79dc7ab46f4ba880f1bd1d824d436c",
        "IPY_MODEL_c6cb94134692455e9b083b69094ddf9c",
        "IPY_MODEL_2b4ea2c7b86c40a2a3251f1ac325b0fe"
       ],
       "layout": "IPY_MODEL_a236e9d5feaa43aa983f7a4d3d25efcc"
      }
     },
     "7fe17a83e7e44068936fbc2e0493d571": {
      "model_module": "@jupyter-widgets/controls",
      "model_module_version": "1.5.0",
      "model_name": "HBoxModel",
      "state": {
       "children": [
        "IPY_MODEL_53917bd257334b6fa56b8922fb0401ce",
        "IPY_MODEL_ccb779a325e8447ba3960ef67169fb72",
        "IPY_MODEL_7609d2bba09d42809673c751d0b2f91b",
        "IPY_MODEL_77288d1a7509461980d2d9aac9002891",
        "IPY_MODEL_cffea07e08af4941a985799b2f90a384"
       ],
       "layout": "IPY_MODEL_ee7b2cda43be4f6c87e1586176b4acfb"
      }
     },
     "800350650ed441f5ba23113d99af676e": {
      "model_module": "@jupyter-widgets/controls",
      "model_module_version": "1.5.0",
      "model_name": "SliderStyleModel",
      "state": {
       "description_width": ""
      }
     },
     "800e82fae1af4492b6ef1c8215ea91af": {
      "model_module": "@jupyter-widgets/base",
      "model_module_version": "1.2.0",
      "model_name": "LayoutModel",
      "state": {}
     },
     "80415a4214d7492fb777ddeeae994027": {
      "model_module": "@jupyter-widgets/controls",
      "model_module_version": "1.5.0",
      "model_name": "ButtonStyleModel",
      "state": {}
     },
     "805b5b9adc654c0c8f74d37dfd2d712b": {
      "model_module": "@jupyter-widgets/base",
      "model_module_version": "1.2.0",
      "model_name": "LayoutModel",
      "state": {}
     },
     "806934d63dbe4da4a2da178ae2091f4d": {
      "model_module": "@jupyter-widgets/base",
      "model_module_version": "1.2.0",
      "model_name": "LayoutModel",
      "state": {}
     },
     "80bf489a0df943a88b40678526e87d73": {
      "model_module": "@jupyter-widgets/controls",
      "model_module_version": "1.5.0",
      "model_name": "HBoxModel",
      "state": {
       "children": [
        "IPY_MODEL_4e38f4177f74460b9b28b206d0427928",
        "IPY_MODEL_af0ce1a65df545cc9afb1cf5deeb53e2",
        "IPY_MODEL_121624e0929b473bafb2a9966d388040",
        "IPY_MODEL_7df1698a0f684ccfbdae98bfebe5334f",
        "IPY_MODEL_7c89f998024c4559bf8ae2fec76a751a"
       ],
       "layout": "IPY_MODEL_5ff1a0a2e11748f586c393b30154c722"
      }
     },
     "80c3bd972f4c4b318cbe614e1584f3ee": {
      "model_module": "@jupyter-widgets/controls",
      "model_module_version": "1.5.0",
      "model_name": "SliderStyleModel",
      "state": {
       "description_width": ""
      }
     },
     "80fa64aa56b24dfdac75c5feda917e2c": {
      "model_module": "@jupyter-widgets/base",
      "model_module_version": "1.2.0",
      "model_name": "LayoutModel",
      "state": {
       "border": "solid 4px #222",
       "margin": "4px",
       "padding": "0"
      }
     },
     "81042de606734c12bd6bd5e259330252": {
      "model_module": "@jupyter-widgets/base",
      "model_module_version": "1.2.0",
      "model_name": "LayoutModel",
      "state": {}
     },
     "8127716d37724c6fbe71b4fc1ac09a27": {
      "model_module": "@jupyter-widgets/base",
      "model_module_version": "1.2.0",
      "model_name": "LayoutModel",
      "state": {}
     },
     "8128a8d07a9c4f98acb0e4102ec664d5": {
      "model_module": "@jupyter-widgets/controls",
      "model_module_version": "1.5.0",
      "model_name": "HBoxModel",
      "state": {
       "children": [
        "IPY_MODEL_c8512762191344dda49af32cc6bf60e6",
        "IPY_MODEL_83f24e9e066d4c35bdd6be2812342ab0",
        "IPY_MODEL_0dad7f38567a4a71836e79d214e1add0",
        "IPY_MODEL_99ac378370814ddfac4bae8c62251879",
        "IPY_MODEL_20ffcf94ec2a49c9919e2e3f6de0cc66"
       ],
       "layout": "IPY_MODEL_fe7e8f072c834d6db4c6e67457e0fd15"
      }
     },
     "812e40cc047f4ef0bd84eefd72892afc": {
      "model_module": "@jupyter-widgets/base",
      "model_module_version": "1.2.0",
      "model_name": "LayoutModel",
      "state": {}
     },
     "813d63baedc04a76ad754bd28c4138fb": {
      "model_module": "@jupyter-widgets/base",
      "model_module_version": "1.2.0",
      "model_name": "LayoutModel",
      "state": {}
     },
     "816cfab6a78249d287ec0ee2a9158091": {
      "model_module": "@jupyter-widgets/base",
      "model_module_version": "1.2.0",
      "model_name": "LayoutModel",
      "state": {
       "align_items": "stretch",
       "display": "flex",
       "flex_flow": "column",
       "width": "1128px"
      }
     },
     "816d044f902e424aa8fae770b771b91f": {
      "model_module": "@jupyter-widgets/controls",
      "model_module_version": "1.5.0",
      "model_name": "DescriptionStyleModel",
      "state": {
       "description_width": ""
      }
     },
     "819f5f31882b4f8e91736f4e248a80a8": {
      "model_module": "@jupyter-widgets/controls",
      "model_module_version": "1.5.0",
      "model_name": "HBoxModel",
      "state": {
       "children": [
        "IPY_MODEL_727840dd2ff54437b779b2ab8cfb3c02",
        "IPY_MODEL_4a6523b2dba7490786fb618ac045c87e",
        "IPY_MODEL_f5b71200b7aa4782978b857e9263d08b"
       ],
       "layout": "IPY_MODEL_9d5e4d3d0118451692a886169c41706b"
      }
     },
     "81a75f3d8b7f45bf9622f19fd22768dc": {
      "model_module": "@jupyter-widgets/base",
      "model_module_version": "1.2.0",
      "model_name": "LayoutModel",
      "state": {}
     },
     "81fb2ed1917b4c27bac897f794d0818b": {
      "model_module": "@jupyter-widgets/controls",
      "model_module_version": "1.5.0",
      "model_name": "ButtonStyleModel",
      "state": {}
     },
     "824c7845a9b4495a9af032a9c91c7c0d": {
      "model_module": "jupyter-matplotlib",
      "model_module_version": "^0.7.2",
      "model_name": "MPLCanvasModel",
      "state": {
       "_figure_label": "Figure 21",
       "_height": 550,
       "_image_mode": "diff",
       "_width": 1100,
       "header_visible": false,
       "layout": "IPY_MODEL_c418342058194d79a731ead90d76c4dd",
       "resizable": false,
       "toolbar": "IPY_MODEL_4d977b136d9641919356c7610f1307c7",
       "toolbar_position": "left",
       "toolbar_visible": false
      }
     },
     "825ee0cc9d2d4bddba75d116188badf1": {
      "model_module": "@jupyter-widgets/base",
      "model_module_version": "1.2.0",
      "model_name": "LayoutModel",
      "state": {}
     },
     "826293acb17746d0a5ab38ce309692d7": {
      "model_module": "@jupyter-widgets/controls",
      "model_module_version": "1.5.0",
      "model_name": "ButtonModel",
      "state": {
       "description": "Reset Protected Area",
       "layout": "IPY_MODEL_ee85a7972f4d440d979dc7e6be68ba5e",
       "style": "IPY_MODEL_4082faff880c4d97b5f90a13cfd675ae"
      }
     },
     "826f4dd8d332453f90b1a089a3a4edf5": {
      "model_module": "@jupyter-widgets/controls",
      "model_module_version": "1.5.0",
      "model_name": "FloatSliderModel",
      "state": {
       "description": "Compression Threshold",
       "layout": "IPY_MODEL_8b096bf719a7499eb548088b33e6d9ac",
       "max": 1,
       "step": 0.01,
       "style": "IPY_MODEL_6586101b04e3476e868456d7de6c09cb",
       "value": 0.8
      }
     },
     "82777adc333f4b88bee94813d9db943c": {
      "model_module": "@jupyter-widgets/controls",
      "model_module_version": "1.5.0",
      "model_name": "ButtonStyleModel",
      "state": {}
     },
     "82bbf03f13034effb9baa4a7ba02a872": {
      "model_module": "@jupyter-widgets/controls",
      "model_module_version": "1.5.0",
      "model_name": "TabModel",
      "state": {
       "_titles": {
        "0": "Global Controls",
        "1": "Compression Controls"
       },
       "children": [
        "IPY_MODEL_12d42d2fb909402f9a05ea5dbcfa7c8f",
        "IPY_MODEL_d586b08d6a5543ba8fe55c19ca0ac6e1"
       ],
       "layout": "IPY_MODEL_621e7156864b4b21a6ac88359c2a38b0"
      }
     },
     "83487d4ad19e45ad8f462799f8926eeb": {
      "model_module": "@jupyter-widgets/controls",
      "model_module_version": "1.5.0",
      "model_name": "FloatSliderModel",
      "state": {
       "description": "Exposure",
       "layout": "IPY_MODEL_de285f9140f84576a5ffb2fcdd108963",
       "max": 8,
       "min": -8,
       "step": 0.1,
       "style": "IPY_MODEL_42695a1b78d8431899e7a300a720a023"
      }
     },
     "834c1e5d5e184049908236b77fc4e9bf": {
      "model_module": "@jupyter-widgets/base",
      "model_module_version": "1.2.0",
      "model_name": "LayoutModel",
      "state": {}
     },
     "8381e116bb564720be4fa41f28afb36f": {
      "model_module": "@jupyter-widgets/controls",
      "model_module_version": "1.5.0",
      "model_name": "ButtonStyleModel",
      "state": {}
     },
     "83ed8765da1e416f95b843510e232968": {
      "model_module": "@jupyter-widgets/controls",
      "model_module_version": "1.5.0",
      "model_name": "ButtonStyleModel",
      "state": {}
     },
     "83f24e9e066d4c35bdd6be2812342ab0": {
      "model_module": "@jupyter-widgets/controls",
      "model_module_version": "1.5.0",
      "model_name": "ButtonModel",
      "state": {
       "description": "Export Image",
       "layout": "IPY_MODEL_93b80dbe9f5a4b5a8db9a1d920a1802d",
       "style": "IPY_MODEL_34eaed44796046369c3ac3b815d9c2a6"
      }
     },
     "8424a459c28d4d5a90da9c279dba5b2c": {
      "model_module": "@jupyter-widgets/base",
      "model_module_version": "1.2.0",
      "model_name": "LayoutModel",
      "state": {}
     },
     "847457ba0c174c15b39bc4a327114486": {
      "model_module": "@jupyter-widgets/controls",
      "model_module_version": "1.5.0",
      "model_name": "HBoxModel",
      "state": {
       "children": [
        "IPY_MODEL_b28a5c64550041ceb5daff6842ca09dc",
        "IPY_MODEL_e1e8546d833c416e95c3d4722d8834a8",
        "IPY_MODEL_396dc99081e64c59b8c1aeca6cc06ce7"
       ],
       "layout": "IPY_MODEL_b65c7d6ca849482aa83e971059055eae"
      }
     },
     "84a31a35019741919550dfb5836a120f": {
      "model_module": "@jupyter-widgets/base",
      "model_module_version": "1.2.0",
      "model_name": "LayoutModel",
      "state": {}
     },
     "84b0e0fb3f054e829d600d31d62432b6": {
      "model_module": "@jupyter-widgets/base",
      "model_module_version": "1.2.0",
      "model_name": "LayoutModel",
      "state": {}
     },
     "84cb0d9aae1f40abaa0e06484b18ccbb": {
      "model_module": "@jupyter-widgets/controls",
      "model_module_version": "1.5.0",
      "model_name": "DescriptionStyleModel",
      "state": {
       "description_width": ""
      }
     },
     "84fb8d9fb99140a7adb8d29053962c04": {
      "model_module": "@jupyter-widgets/base",
      "model_module_version": "1.2.0",
      "model_name": "LayoutModel",
      "state": {
       "border": "solid 4px #222",
       "margin": "4px",
       "padding": "0"
      }
     },
     "8528abdaedf04320ae678ccd8454fbbb": {
      "model_module": "@jupyter-widgets/base",
      "model_module_version": "1.2.0",
      "model_name": "LayoutModel",
      "state": {}
     },
     "85736271e58d4e2da43fc3c33e9c93c5": {
      "model_module": "@jupyter-widgets/controls",
      "model_module_version": "1.5.0",
      "model_name": "DropdownModel",
      "state": {
       "_options_labels": [
        "tanh",
        "atan",
        "simple"
       ],
       "description": "Compression Function:",
       "index": 0,
       "layout": "IPY_MODEL_bb63c1c662f54ecdbec710d86f0b42d4",
       "style": "IPY_MODEL_c21bde48ac3f4d4b90c0c5fecb193ad2"
      }
     },
     "8594f71e53fa49b2ad31d226b195534a": {
      "model_module": "@jupyter-widgets/base",
      "model_module_version": "1.2.0",
      "model_name": "LayoutModel",
      "state": {
       "border": "solid 4px #222",
       "margin": "4px",
       "padding": "0"
      }
     },
     "85beb4cf0ea94f50a960d0214808cd77": {
      "model_module": "@jupyter-widgets/controls",
      "model_module_version": "1.5.0",
      "model_name": "SliderStyleModel",
      "state": {
       "description_width": ""
      }
     },
     "85f0370d4330468abb63b352a762c4da": {
      "model_module": "@jupyter-widgets/base",
      "model_module_version": "1.2.0",
      "model_name": "LayoutModel",
      "state": {}
     },
     "85f98a9110bb4f19899510a7ba68be8b": {
      "model_module": "@jupyter-widgets/controls",
      "model_module_version": "1.5.0",
      "model_name": "DropdownModel",
      "state": {
       "_options_labels": [
        "tanh",
        "atan",
        "simple"
       ],
       "description": "Compression Function:",
       "index": 0,
       "layout": "IPY_MODEL_35091c98888a4054b33b4fd514d04ad8",
       "style": "IPY_MODEL_6aacf700fa854545be09495770edfb9f"
      }
     },
     "8607c94989924b1f844dab81130596cf": {
      "model_module": "@jupyter-widgets/controls",
      "model_module_version": "1.5.0",
      "model_name": "SliderStyleModel",
      "state": {
       "description_width": ""
      }
     },
     "8616390bb51a4ace9e415fc6957710db": {
      "model_module": "@jupyter-widgets/controls",
      "model_module_version": "1.5.0",
      "model_name": "ButtonModel",
      "state": {
       "description": "Export Image",
       "layout": "IPY_MODEL_12bdddfa11924686b4e07c8a6b1b553f",
       "style": "IPY_MODEL_2882be067a1f4abe805e37d1f7abe525"
      }
     },
     "8645f631cef9473a8345d7381bed900d": {
      "model_module": "@jupyter-widgets/controls",
      "model_module_version": "1.5.0",
      "model_name": "FloatSliderModel",
      "state": {
       "description": "Protected Area Threshold",
       "layout": "IPY_MODEL_29434ecaabfe4da7b3218185914355af",
       "max": 1,
       "step": 0.01,
       "style": "IPY_MODEL_e52c0f7b1ca1414aa1265ee6c1f6a5dc",
       "value": 0.7
      }
     },
     "865235844e7f4769a5d7d99dbb4a26a8": {
      "model_module": "@jupyter-widgets/controls",
      "model_module_version": "1.5.0",
      "model_name": "ButtonModel",
      "state": {
       "description": "Reset Exposure",
       "layout": "IPY_MODEL_6167c630128e4b4b8e5e398c04e5bcfd",
       "style": "IPY_MODEL_47a7914dd2d7423fa276948e3ac1f00e"
      }
     },
     "867ddb85a65442e19848b3cb65fbb599": {
      "model_module": "@jupyter-widgets/controls",
      "model_module_version": "1.5.0",
      "model_name": "SliderStyleModel",
      "state": {
       "description_width": ""
      }
     },
     "868c6288bc334d209428871457dee425": {
      "model_module": "@jupyter-widgets/controls",
      "model_module_version": "1.5.0",
      "model_name": "FloatSliderModel",
      "state": {
       "description": "Exposure",
       "layout": "IPY_MODEL_fdaaba0fa8014c4e9097a21f9c4ce0fc",
       "max": 8,
       "min": -8,
       "step": 0.1,
       "style": "IPY_MODEL_5bc405df159f4068a992eceb6a2a9c46"
      }
     },
     "8699b2fa5bcb4201a0caaaa53e5aa84b": {
      "model_module": "@jupyter-widgets/controls",
      "model_module_version": "1.5.0",
      "model_name": "TabModel",
      "state": {
       "_titles": {
        "0": "Global Controls",
        "1": "Compression Controls"
       },
       "children": [
        "IPY_MODEL_5e3cded891b7411d8c7d994489162c97",
        "IPY_MODEL_ce5cf844969a40ccaebdcd671ecb273c"
       ],
       "layout": "IPY_MODEL_6504648fe81145f588787a48725f4cb8"
      }
     },
     "86f68c9e1ec94585adfc4ad2bacdb3a8": {
      "model_module": "@jupyter-widgets/base",
      "model_module_version": "1.2.0",
      "model_name": "LayoutModel",
      "state": {
       "border": "solid 4px #222",
       "margin": "4px",
       "padding": "0"
      }
     },
     "8718a5795e8942f79d3010d68fd4a751": {
      "model_module": "@jupyter-widgets/base",
      "model_module_version": "1.2.0",
      "model_name": "LayoutModel",
      "state": {}
     },
     "8762f0d6cc83450299f5f7a1524916cd": {
      "model_module": "@jupyter-widgets/controls",
      "model_module_version": "1.5.0",
      "model_name": "FloatSliderModel",
      "state": {
       "description": "0°",
       "layout": "IPY_MODEL_8bd04ccbbce44b7cab20183cf72eebd1",
       "max": 1,
       "min": -1,
       "step": 0.01,
       "style": "IPY_MODEL_3a52900ff67f4c9e9e23cfbfa71d7181"
      }
     },
     "8766835d9e12414a83d9e1e238f78940": {
      "model_module": "@jupyter-widgets/base",
      "model_module_version": "1.2.0",
      "model_name": "LayoutModel",
      "state": {}
     },
     "87668fdf0c444b219b5edf399472c09f": {
      "model_module": "@jupyter-widgets/controls",
      "model_module_version": "1.5.0",
      "model_name": "ButtonModel",
      "state": {
       "description": "Reset Saturation Controls",
       "layout": "IPY_MODEL_c779e97cc6114f8cbf227ba63819a3c7",
       "style": "IPY_MODEL_1aba58c51ff04acaba4b85a17a509316"
      }
     },
     "8789ba5acaf5470d9147a820d7dbf36b": {
      "model_module": "@jupyter-widgets/base",
      "model_module_version": "1.2.0",
      "model_name": "LayoutModel",
      "state": {}
     },
     "8798e0f1cc504c6c8398f19ecbd225b6": {
      "model_module": "@jupyter-widgets/controls",
      "model_module_version": "1.5.0",
      "model_name": "VBoxModel",
      "state": {
       "children": [
        "IPY_MODEL_e3104d5c2ba64259b6b3c5676266e11d",
        "IPY_MODEL_5954cea5d3df47c2ac2e1f2d6a920e9d",
        "IPY_MODEL_ea92e04ecad64ec49d57bc1bfb3fdf32"
       ],
       "layout": "IPY_MODEL_d2c04f4dfdb345c297e8e7a9f142f2e9"
      }
     },
     "87a2841bbfd4499cbc08438abe4b7fe1": {
      "model_module": "@jupyter-widgets/controls",
      "model_module_version": "1.5.0",
      "model_name": "ButtonModel",
      "state": {
       "description": "Save Figure",
       "layout": "IPY_MODEL_9c9cf9afccd0454092ef0f708043725a",
       "style": "IPY_MODEL_a9f2a89f7e0d4db191e1cfe9441901a8"
      }
     },
     "87aa2064d22b4f818cc76e81855cee53": {
      "model_module": "@jupyter-widgets/base",
      "model_module_version": "1.2.0",
      "model_name": "LayoutModel",
      "state": {}
     },
     "87da92eef9d84c6083b709cf946607d6": {
      "model_module": "@jupyter-widgets/base",
      "model_module_version": "1.2.0",
      "model_name": "LayoutModel",
      "state": {
       "border": "solid 4px #222",
       "margin": "4px",
       "padding": "0"
      }
     },
     "88162cad1ffd4fdaa93e403b0aecc121": {
      "model_module": "@jupyter-widgets/controls",
      "model_module_version": "1.5.0",
      "model_name": "VBoxModel",
      "state": {
       "children": [
        "IPY_MODEL_a4294ad0689c4bd1960fea4adf08cac1",
        "IPY_MODEL_426edf5044294f7fbaa31ad986c8f895",
        "IPY_MODEL_2869a421a9ad419eb45d56c2a081beb4"
       ],
       "layout": "IPY_MODEL_0e5adf97a5504527b45c665d1f8b38bd"
      }
     },
     "8872d45553554a06ac6fb21c8cf9c53b": {
      "model_module": "@jupyter-widgets/controls",
      "model_module_version": "1.5.0",
      "model_name": "TabModel",
      "state": {
       "_titles": {
        "0": "Global Controls",
        "1": "Protected Area Controls",
        "2": "Saturation Controls",
        "3": "Hue Controls"
       },
       "children": [
        "IPY_MODEL_4888cd8692104c62ad71add151d095ae",
        "IPY_MODEL_c9effafb523a4d449b5058f72c8365d5",
        "IPY_MODEL_847457ba0c174c15b39bc4a327114486",
        "IPY_MODEL_cfc7f492caa140c39dcdc263cfbee40a"
       ],
       "layout": "IPY_MODEL_295bda55b6774efe945935edf22605c5"
      }
     },
     "889b8d6a1ea042ce8776f4d0fa70dd5f": {
      "model_module": "@jupyter-widgets/controls",
      "model_module_version": "1.5.0",
      "model_name": "ButtonStyleModel",
      "state": {}
     },
     "892dfaa54bb84a5a988f71892294903e": {
      "model_module": "@jupyter-widgets/controls",
      "model_module_version": "1.5.0",
      "model_name": "SliderStyleModel",
      "state": {
       "description_width": ""
      }
     },
     "89706db0d45b4c288eab092c8ff9f63a": {
      "model_module": "@jupyter-widgets/controls",
      "model_module_version": "1.5.0",
      "model_name": "ButtonStyleModel",
      "state": {}
     },
     "89894e6b183e4b7eb92c6ad962a89d23": {
      "model_module": "@jupyter-widgets/base",
      "model_module_version": "1.2.0",
      "model_name": "LayoutModel",
      "state": {}
     },
     "899aef73e30f49f29cf51ac68bd63ed4": {
      "model_module": "@jupyter-widgets/controls",
      "model_module_version": "1.5.0",
      "model_name": "SliderStyleModel",
      "state": {
       "description_width": ""
      }
     },
     "89d9de3bd2834425ad95e1b9e0f6b208": {
      "model_module": "@jupyter-widgets/base",
      "model_module_version": "1.2.0",
      "model_name": "LayoutModel",
      "state": {}
     },
     "8a0647d27e6547b995f78ab3b56dfe3a": {
      "model_module": "@jupyter-widgets/base",
      "model_module_version": "1.2.0",
      "model_name": "LayoutModel",
      "state": {}
     },
     "8a0897814cb64fd2837f7a9417b2b998": {
      "model_module": "@jupyter-widgets/controls",
      "model_module_version": "1.5.0",
      "model_name": "ButtonModel",
      "state": {
       "description": "Reset Exposure",
       "layout": "IPY_MODEL_6b892abc5bff4a709f4227f487960abd",
       "style": "IPY_MODEL_4469fad7ad3c4284b7a063b0372c7d76"
      }
     },
     "8a112c6ebe4a436684bd3a8bdc70381e": {
      "model_module": "@jupyter-widgets/controls",
      "model_module_version": "1.5.0",
      "model_name": "BoxModel",
      "state": {
       "children": [
        "IPY_MODEL_bfcaaaa699324cb683d15ef96b17189a",
        "IPY_MODEL_201ab83e3061425f9a0687a0ebb8ccc3"
       ],
       "layout": "IPY_MODEL_9e2ad85d2c3c475d88626c1f7449d104"
      }
     },
     "8a359432caa6401fab2369c448943e1f": {
      "model_module": "@jupyter-widgets/controls",
      "model_module_version": "1.5.0",
      "model_name": "SliderStyleModel",
      "state": {
       "description_width": ""
      }
     },
     "8a483c91bea4473bb7356765d80a75f5": {
      "model_module": "@jupyter-widgets/controls",
      "model_module_version": "1.5.0",
      "model_name": "BoxModel",
      "state": {
       "children": [
        "IPY_MODEL_7b3acd5d5fd14c38ae90c844dff2abd1",
        "IPY_MODEL_b67bf1d9f5e84e1fa9ce5c2579683833"
       ],
       "layout": "IPY_MODEL_40cdb40283da4d729bec8d664ff258d1"
      }
     },
     "8a6a99de1db7441097e52a2465c68aca": {
      "model_module": "@jupyter-widgets/controls",
      "model_module_version": "1.5.0",
      "model_name": "FloatSliderModel",
      "state": {
       "description": "Exposure",
       "layout": "IPY_MODEL_45827f01f2a24427bf19caee2a978ee8",
       "max": 8,
       "min": -8,
       "step": 0.1,
       "style": "IPY_MODEL_698a4e3ba0cc45f4bc054acab0e04305"
      }
     },
     "8a8faaf6c87d49a587ff95d4ab2c7f49": {
      "model_module": "@jupyter-widgets/controls",
      "model_module_version": "1.5.0",
      "model_name": "FloatSliderModel",
      "state": {
       "description": "135°",
       "layout": "IPY_MODEL_efc0a7b307044492a74ad09664c1344d",
       "max": 1,
       "min": -1,
       "step": 0.01,
       "style": "IPY_MODEL_da6c424d0f97430fa8ecb505b788a307"
      }
     },
     "8aa255390ffc4c1cbb3b4f53e2910025": {
      "model_module": "@jupyter-widgets/controls",
      "model_module_version": "1.5.0",
      "model_name": "ButtonModel",
      "state": {
       "description": "Reset Compression Controls",
       "layout": "IPY_MODEL_6ec9b6c0e061441d967939b5b9a9f648",
       "style": "IPY_MODEL_3dfbec6a01094c5a8dfc67303b67239e"
      }
     },
     "8aa4c5cb29d54d779868e83a908fcd01": {
      "model_module": "@jupyter-widgets/controls",
      "model_module_version": "1.5.0",
      "model_name": "FloatSliderModel",
      "state": {
       "description": "315°",
       "layout": "IPY_MODEL_a76f9cdbe3f94f759f040f6e8bcf327c",
       "max": 1,
       "min": -1,
       "step": 0.01,
       "style": "IPY_MODEL_09e057b9f6e242a2867c3fbc8476ee04"
      }
     },
     "8b096bf719a7499eb548088b33e6d9ac": {
      "model_module": "@jupyter-widgets/base",
      "model_module_version": "1.2.0",
      "model_name": "LayoutModel",
      "state": {}
     },
     "8b780adfa17341d0a49f09d4dcbddf9a": {
      "model_module": "@jupyter-widgets/base",
      "model_module_version": "1.2.0",
      "model_name": "LayoutModel",
      "state": {
       "align_items": "stretch",
       "display": "flex",
       "flex_flow": "column",
       "width": "1128px"
      }
     },
     "8b8225c930c64b5abcc73f7ad7f355cf": {
      "model_module": "@jupyter-widgets/controls",
      "model_module_version": "1.5.0",
      "model_name": "FloatSliderModel",
      "state": {
       "description": "Compression Threshold",
       "layout": "IPY_MODEL_d3ff83a1f18f4e699e1cceb86209c522",
       "max": 1,
       "step": 0.01,
       "style": "IPY_MODEL_22e99b71c976481d8cbcdb8ff99deeb5",
       "value": 0.8
      }
     },
     "8bae3b253e064b71a221022b91511482": {
      "model_module": "@jupyter-widgets/controls",
      "model_module_version": "1.5.0",
      "model_name": "ButtonModel",
      "state": {
       "description": "Reset Compression Controls",
       "layout": "IPY_MODEL_fb92c4a05d6c4e3a968fbb5ee8172a52",
       "style": "IPY_MODEL_2162712d2ac4416ca413e9da145dc0c9"
      }
     },
     "8bcd5382afa84d52bdf4f8cc2d4dc449": {
      "model_module": "@jupyter-widgets/controls",
      "model_module_version": "1.5.0",
      "model_name": "SliderStyleModel",
      "state": {
       "description_width": ""
      }
     },
     "8bd04ccbbce44b7cab20183cf72eebd1": {
      "model_module": "@jupyter-widgets/base",
      "model_module_version": "1.2.0",
      "model_name": "LayoutModel",
      "state": {}
     },
     "8c12dc858dca4a9bb3a5feb069354dfd": {
      "model_module": "@jupyter-widgets/base",
      "model_module_version": "1.2.0",
      "model_name": "LayoutModel",
      "state": {}
     },
     "8c501745f37e4a68a650972d98388b00": {
      "model_module": "@jupyter-widgets/controls",
      "model_module_version": "1.5.0",
      "model_name": "ButtonStyleModel",
      "state": {}
     },
     "8c580a16b39c45d18bb9b342e0b0bccd": {
      "model_module": "@jupyter-widgets/output",
      "model_module_version": "1.0.0",
      "model_name": "OutputModel",
      "state": {
       "layout": "IPY_MODEL_4073b1e22b464f5ea79eda88769749e0",
       "outputs": [
        {
         "data": {
          "application/vnd.jupyter.widget-view+json": {
           "model_id": "50ff5de18a944ce883707865e06dd101",
           "version_major": 2,
           "version_minor": 0
          },
          "text/plain": "Canvas(toolbar=Toolbar(toolitems=[('Home', 'Reset original view', 'home', 'home'), ('Back', 'Back to previous …"
         },
         "metadata": {},
         "output_type": "display_data"
        }
       ]
      }
     },
     "8c731a457112427e97d95c0891381d15": {
      "model_module": "@jupyter-widgets/base",
      "model_module_version": "1.2.0",
      "model_name": "LayoutModel",
      "state": {}
     },
     "8c783a5a84974dcfb085f3194f662bd7": {
      "model_module": "@jupyter-widgets/base",
      "model_module_version": "1.2.0",
      "model_name": "LayoutModel",
      "state": {}
     },
     "8cdd9443a8ed439da4b17529414cb4c8": {
      "model_module": "@jupyter-widgets/controls",
      "model_module_version": "1.5.0",
      "model_name": "ButtonModel",
      "state": {
       "description": "Export Image",
       "layout": "IPY_MODEL_c02ddf3bd33243399f104169418d3429",
       "style": "IPY_MODEL_e0196f8cf3cd4b2dbf3bc562cf64a158"
      }
     },
     "8cefeda374f74d3a88a94d68f812e41b": {
      "model_module": "@jupyter-widgets/base",
      "model_module_version": "1.2.0",
      "model_name": "LayoutModel",
      "state": {
       "border": "solid 4px #222",
       "margin": "4px",
       "padding": "0"
      }
     },
     "8d11d1d20db342d9963b6cf58be80fcc": {
      "model_module": "@jupyter-widgets/controls",
      "model_module_version": "1.5.0",
      "model_name": "CheckboxModel",
      "state": {
       "description": "Disable Medicina",
       "disabled": false,
       "layout": "IPY_MODEL_85f0370d4330468abb63b352a762c4da",
       "style": "IPY_MODEL_0a9bab31648f4f269d7d3e07139a25a4",
       "value": false
      }
     },
     "8d359a99c7c14edbbbb845dc40facb7d": {
      "model_module": "@jupyter-widgets/base",
      "model_module_version": "1.2.0",
      "model_name": "LayoutModel",
      "state": {}
     },
     "8da89d1f607f49238ddb13e0cf54327e": {
      "model_module": "@jupyter-widgets/base",
      "model_module_version": "1.2.0",
      "model_name": "LayoutModel",
      "state": {}
     },
     "8db248e475d543669cb3a80731534f4b": {
      "model_module": "@jupyter-widgets/controls",
      "model_module_version": "1.5.0",
      "model_name": "FloatSliderModel",
      "state": {
       "description": "Exposure",
       "layout": "IPY_MODEL_d124e05106204c39b700956b2083fa21",
       "max": 8,
       "min": -8,
       "step": 0.1,
       "style": "IPY_MODEL_9c9857638cf843ad90da5601c520bb7b"
      }
     },
     "8dc32bbbfb9643499f6a3a6cf398e546": {
      "model_module": "@jupyter-widgets/controls",
      "model_module_version": "1.5.0",
      "model_name": "DescriptionStyleModel",
      "state": {
       "description_width": ""
      }
     },
     "8e084e5ab3f04ef49683d7064a3caafb": {
      "model_module": "@jupyter-widgets/controls",
      "model_module_version": "1.5.0",
      "model_name": "ButtonStyleModel",
      "state": {}
     },
     "8e0a0f27ee57438daf6cc7cc861d819b": {
      "model_module": "@jupyter-widgets/controls",
      "model_module_version": "1.5.0",
      "model_name": "SliderStyleModel",
      "state": {
       "description_width": ""
      }
     },
     "8e16bb8f7102480b971f7d2e019d87ab": {
      "model_module": "@jupyter-widgets/base",
      "model_module_version": "1.2.0",
      "model_name": "LayoutModel",
      "state": {}
     },
     "8e878156d14948c5ba00f2f029723a3b": {
      "model_module": "@jupyter-widgets/base",
      "model_module_version": "1.2.0",
      "model_name": "LayoutModel",
      "state": {}
     },
     "8eba05f867464c4eb63b8f3507dcd52c": {
      "model_module": "@jupyter-widgets/controls",
      "model_module_version": "1.5.0",
      "model_name": "FloatSliderModel",
      "state": {
       "description": "Protected Area Threshold",
       "layout": "IPY_MODEL_f04472d5095f47c891265fb95a5f68c4",
       "max": 1,
       "step": 0.01,
       "style": "IPY_MODEL_499a532d3342474dacbc23123cf71a02",
       "value": 0.7
      }
     },
     "8efe1802a9fe4179bb9f7f146da25866": {
      "model_module": "@jupyter-widgets/controls",
      "model_module_version": "1.5.0",
      "model_name": "VBoxModel",
      "state": {
       "children": [
        "IPY_MODEL_064d40fce3cd4d359215fab9f89214d4",
        "IPY_MODEL_2964620571d445b7b81cade94984714a",
        "IPY_MODEL_2e4875fe3ecd4cd892a35846c5d33af4"
       ],
       "layout": "IPY_MODEL_a913d8dcd3d74cc99b0459b4bcc5734a"
      }
     },
     "8f11b63eb83e4140b05f21afdb08205b": {
      "model_module": "@jupyter-widgets/controls",
      "model_module_version": "1.5.0",
      "model_name": "DescriptionStyleModel",
      "state": {
       "description_width": ""
      }
     },
     "8f2695ec930c43ab8654d48b90871d35": {
      "model_module": "@jupyter-widgets/base",
      "model_module_version": "1.2.0",
      "model_name": "LayoutModel",
      "state": {}
     },
     "8f627a44bba7458c818f964ed4c9b7a8": {
      "model_module": "@jupyter-widgets/controls",
      "model_module_version": "1.5.0",
      "model_name": "SliderStyleModel",
      "state": {
       "description_width": ""
      }
     },
     "8f6b70e1671d41f180ce32b8ae5f4031": {
      "model_module": "@jupyter-widgets/base",
      "model_module_version": "1.2.0",
      "model_name": "LayoutModel",
      "state": {}
     },
     "8f735f7321ce4e5ebf8c2749b8e22ac5": {
      "model_module": "@jupyter-widgets/base",
      "model_module_version": "1.2.0",
      "model_name": "LayoutModel",
      "state": {}
     },
     "8faf28603ad74ea8aefa41050744bd0a": {
      "model_module": "@jupyter-widgets/controls",
      "model_module_version": "1.5.0",
      "model_name": "SliderStyleModel",
      "state": {
       "description_width": ""
      }
     },
     "8ffd8da632b54f0eaaa679073d9a8585": {
      "model_module": "@jupyter-widgets/controls",
      "model_module_version": "1.5.0",
      "model_name": "FloatSliderModel",
      "state": {
       "description": "Exposure",
       "layout": "IPY_MODEL_901023a1890b480cbc7e5de7cccc783c",
       "max": 8,
       "min": -8,
       "step": 0.1,
       "style": "IPY_MODEL_2b05b4bd557645de87812fd5fbcb79b5"
      }
     },
     "901023a1890b480cbc7e5de7cccc783c": {
      "model_module": "@jupyter-widgets/base",
      "model_module_version": "1.2.0",
      "model_name": "LayoutModel",
      "state": {}
     },
     "90528a2244c14640b67a7b423256db9d": {
      "model_module": "@jupyter-widgets/base",
      "model_module_version": "1.2.0",
      "model_name": "LayoutModel",
      "state": {}
     },
     "90b44d2f255840c6802ceb0093b48d78": {
      "model_module": "@jupyter-widgets/base",
      "model_module_version": "1.2.0",
      "model_name": "LayoutModel",
      "state": {}
     },
     "90e737f0f8fc431780c6492c6fb9ef8a": {
      "model_module": "@jupyter-widgets/base",
      "model_module_version": "1.2.0",
      "model_name": "LayoutModel",
      "state": {}
     },
     "910092ba720a4f8b8a0950a8faff106b": {
      "model_module": "@jupyter-widgets/base",
      "model_module_version": "1.2.0",
      "model_name": "LayoutModel",
      "state": {}
     },
     "913454a1acd04b1b9e5ce922fdee1312": {
      "model_module": "@jupyter-widgets/base",
      "model_module_version": "1.2.0",
      "model_name": "LayoutModel",
      "state": {}
     },
     "918466c0b4784e67b6267126efd727a5": {
      "model_module": "@jupyter-widgets/base",
      "model_module_version": "1.2.0",
      "model_name": "LayoutModel",
      "state": {}
     },
     "9190ba07b53241b89410be4a32f2e0eb": {
      "model_module": "@jupyter-widgets/controls",
      "model_module_version": "1.5.0",
      "model_name": "ButtonStyleModel",
      "state": {}
     },
     "91a12d91cd2b405ba321cd401eee4409": {
      "model_module": "@jupyter-widgets/base",
      "model_module_version": "1.2.0",
      "model_name": "LayoutModel",
      "state": {}
     },
     "91c92624dd0f4b40997cb947b47a19c9": {
      "model_module": "@jupyter-widgets/base",
      "model_module_version": "1.2.0",
      "model_name": "LayoutModel",
      "state": {}
     },
     "91e45017163b40a08c9edc634cb5a1f4": {
      "model_module": "@jupyter-widgets/base",
      "model_module_version": "1.2.0",
      "model_name": "LayoutModel",
      "state": {}
     },
     "91e5f985932d46d29bdf498d09211f7c": {
      "model_module": "@jupyter-widgets/controls",
      "model_module_version": "1.5.0",
      "model_name": "FloatSliderModel",
      "state": {
       "description": "315°",
       "layout": "IPY_MODEL_d449f9c9c07e45fc95a5b1c59ff230a7",
       "max": 1,
       "min": -1,
       "step": 0.01,
       "style": "IPY_MODEL_bc46e2327c124f9db217346824992583"
      }
     },
     "920b0198a7a14d7abb9938f30e359899": {
      "model_module": "@jupyter-widgets/controls",
      "model_module_version": "1.5.0",
      "model_name": "VBoxModel",
      "state": {
       "children": [
        "IPY_MODEL_a1f4f35906ed43798b6493115556d0c3"
       ],
       "layout": "IPY_MODEL_d6539206b8bc4396a7b537ede8874642"
      }
     },
     "9236570741b14d9d91d9f00c92a46f98": {
      "model_module": "@jupyter-widgets/controls",
      "model_module_version": "1.5.0",
      "model_name": "SliderStyleModel",
      "state": {
       "description_width": ""
      }
     },
     "92c3061e281a49fca86728106d551842": {
      "model_module": "@jupyter-widgets/controls",
      "model_module_version": "1.5.0",
      "model_name": "FloatSliderModel",
      "state": {
       "description": "Compression Threshold",
       "layout": "IPY_MODEL_498a3c944b344f34a08e15ebfa3ebc94",
       "max": 1,
       "step": 0.01,
       "style": "IPY_MODEL_eb16050e6079433db052dc7ab670efe8",
       "value": 0.5
      }
     },
     "92d0aa4ccca249a0859944c967dce468": {
      "model_module": "@jupyter-widgets/controls",
      "model_module_version": "1.5.0",
      "model_name": "FloatSliderModel",
      "state": {
       "description": "0°",
       "layout": "IPY_MODEL_9f9a84de10ac4311a8bdcd3538640573",
       "max": 1,
       "min": -1,
       "step": 0.01,
       "style": "IPY_MODEL_f44bfb9543aa4493b7e9dd53df7f3cf6"
      }
     },
     "92f7db62bc394ccbb0491a2578006da0": {
      "model_module": "@jupyter-widgets/base",
      "model_module_version": "1.2.0",
      "model_name": "LayoutModel",
      "state": {}
     },
     "93082d6cbf0b430e86eaef2cf9cbf25c": {
      "model_module": "@jupyter-widgets/controls",
      "model_module_version": "1.5.0",
      "model_name": "DropdownModel",
      "state": {
       "_options_labels": [
        "tanh",
        "atan",
        "simple"
       ],
       "description": "Compression Function:",
       "index": 0,
       "layout": "IPY_MODEL_971986412e7948b9879766f06a4be3fe",
       "style": "IPY_MODEL_fede1c6753f844bc9223b0489f9696b7"
      }
     },
     "9327f1cfec4643a68a9368ac96557e69": {
      "model_module": "@jupyter-widgets/base",
      "model_module_version": "1.2.0",
      "model_name": "LayoutModel",
      "state": {}
     },
     "9342d417823448a291775d7b8ed6c1d5": {
      "model_module": "jupyter-matplotlib",
      "model_module_version": "^0.7.2",
      "model_name": "ToolbarModel",
      "state": {
       "layout": "IPY_MODEL_d807699322c74b3b9dea672da41a38bd",
       "toolitems": [
        [
         "Home",
         "Reset original view",
         "home",
         "home"
        ],
        [
         "Back",
         "Back to previous view",
         "arrow-left",
         "back"
        ],
        [
         "Forward",
         "Forward to next view",
         "arrow-right",
         "forward"
        ],
        [
         "Pan",
         "Pan axes with left mouse, zoom with right",
         "arrows",
         "pan"
        ],
        [
         "Zoom",
         "Zoom to rectangle",
         "square-o",
         "zoom"
        ],
        [
         "Download",
         "Download plot",
         "floppy-o",
         "save_figure"
        ]
       ]
      }
     },
     "935290dca88c498c8edba18975561632": {
      "model_module": "@jupyter-widgets/base",
      "model_module_version": "1.2.0",
      "model_name": "LayoutModel",
      "state": {}
     },
     "9368a5f9edba496fa12d6060651dd878": {
      "model_module": "@jupyter-widgets/base",
      "model_module_version": "1.2.0",
      "model_name": "LayoutModel",
      "state": {}
     },
     "938ff8cf2ff240978284be678b669ede": {
      "model_module": "@jupyter-widgets/controls",
      "model_module_version": "1.5.0",
      "model_name": "SliderStyleModel",
      "state": {
       "description_width": ""
      }
     },
     "93b80dbe9f5a4b5a8db9a1d920a1802d": {
      "model_module": "@jupyter-widgets/base",
      "model_module_version": "1.2.0",
      "model_name": "LayoutModel",
      "state": {}
     },
     "93b8b1de14204e8a87a6639fa63873dd": {
      "model_module": "@jupyter-widgets/controls",
      "model_module_version": "1.5.0",
      "model_name": "FloatSliderModel",
      "state": {
       "description": "45°",
       "layout": "IPY_MODEL_f60dc32201b2485483ec6494ca534c95",
       "max": 1,
       "min": -1,
       "step": 0.01,
       "style": "IPY_MODEL_7e87a6394ec04cf58a787920c232cc72"
      }
     },
     "93d7ca93cd53444cac68843a8217baae": {
      "model_module": "@jupyter-widgets/base",
      "model_module_version": "1.2.0",
      "model_name": "LayoutModel",
      "state": {}
     },
     "93f61f95ddbc45068be3e7847378e7ba": {
      "model_module": "@jupyter-widgets/base",
      "model_module_version": "1.2.0",
      "model_name": "LayoutModel",
      "state": {
       "border": "solid 4px #222",
       "margin": "4px",
       "padding": "0"
      }
     },
     "9404346a35dc4ea5a91c4c14495bae4f": {
      "model_module": "@jupyter-widgets/controls",
      "model_module_version": "1.5.0",
      "model_name": "ButtonStyleModel",
      "state": {}
     },
     "9407c988d12a4b64bf11f1762a876b58": {
      "model_module": "@jupyter-widgets/controls",
      "model_module_version": "1.5.0",
      "model_name": "FloatSliderModel",
      "state": {
       "description": "Exposure",
       "layout": "IPY_MODEL_a63f89681fda45778e9c4008e8d952f4",
       "max": 8,
       "min": -8,
       "step": 0.1,
       "style": "IPY_MODEL_c8578c8cbf4c4cc4b55d1e561f1e031f"
      }
     },
     "940f7e43757441d7bfb2a4c23caad1f9": {
      "model_module": "@jupyter-widgets/controls",
      "model_module_version": "1.5.0",
      "model_name": "FloatSliderModel",
      "state": {
       "description": "180°",
       "layout": "IPY_MODEL_7476aff3ae3a41b79fe66da8ace4256b",
       "max": 1,
       "min": -1,
       "step": 0.01,
       "style": "IPY_MODEL_da2565f4acb744aab501d9e7aa565996"
      }
     },
     "94112aaa912f4fd3b090df6ad8c2352a": {
      "model_module": "@jupyter-widgets/base",
      "model_module_version": "1.2.0",
      "model_name": "LayoutModel",
      "state": {}
     },
     "94579fba421745f38fcfe28c48fd1118": {
      "model_module": "@jupyter-widgets/controls",
      "model_module_version": "1.5.0",
      "model_name": "ButtonModel",
      "state": {
       "description": "Reset Protected Area",
       "layout": "IPY_MODEL_ebb1d5293d644b3dbb5c12a7251a58c6",
       "style": "IPY_MODEL_7d422cd9ef6a481f9decaf6e06a41032"
      }
     },
     "946b5aa170e94382b26fb00408ff7730": {
      "model_module": "@jupyter-widgets/controls",
      "model_module_version": "1.5.0",
      "model_name": "ButtonModel",
      "state": {
       "description": "Reset Exposure",
       "layout": "IPY_MODEL_6a20144a51d94a63ba53802be46fc15d",
       "style": "IPY_MODEL_418d8392718949e08664bf15cba9b1a4"
      }
     },
     "94739ca1d86c4aaf834665a314cc780b": {
      "model_module": "@jupyter-widgets/output",
      "model_module_version": "1.0.0",
      "model_name": "OutputModel",
      "state": {
       "layout": "IPY_MODEL_3cc2de26f4d74f3b9b178e5252f33b0b",
       "outputs": [
        {
         "data": {
          "application/vnd.jupyter.widget-view+json": {
           "model_id": "b6877557bcb746fd88a29bbee5b854b6",
           "version_major": 2,
           "version_minor": 0
          },
          "text/plain": "Canvas(toolbar=Toolbar(toolitems=[('Home', 'Reset original view', 'home', 'home'), ('Back', 'Back to previous …"
         },
         "metadata": {},
         "output_type": "display_data"
        }
       ]
      }
     },
     "9496eb68b63d412bb1a302c8c7ec54da": {
      "model_module": "@jupyter-widgets/controls",
      "model_module_version": "1.5.0",
      "model_name": "SliderStyleModel",
      "state": {
       "description_width": ""
      }
     },
     "9498523a6acd40ecb24e48f87996394c": {
      "model_module": "@jupyter-widgets/controls",
      "model_module_version": "1.5.0",
      "model_name": "FloatSliderModel",
      "state": {
       "description": "45°",
       "layout": "IPY_MODEL_91a12d91cd2b405ba321cd401eee4409",
       "max": 1,
       "min": -1,
       "step": 0.01,
       "style": "IPY_MODEL_de0dafc51aff4991b0f74d74df613ba8"
      }
     },
     "94a363dd1f3b4d31ba412800e5441a7f": {
      "model_module": "@jupyter-widgets/controls",
      "model_module_version": "1.5.0",
      "model_name": "ButtonModel",
      "state": {
       "description": "Reset Saturation Controls",
       "layout": "IPY_MODEL_227fb8a412d440d391180f3379b6acd9",
       "style": "IPY_MODEL_f556b8879b7f4938a005b4242be475f4"
      }
     },
     "94ced25a44b749b1b1cca6d2244c03ca": {
      "model_module": "@jupyter-widgets/controls",
      "model_module_version": "1.5.0",
      "model_name": "FloatSliderModel",
      "state": {
       "description": "Protected Area Threshold",
       "layout": "IPY_MODEL_f27dd8cc48b34a93a637f96dd14aa6d4",
       "max": 1,
       "step": 0.01,
       "style": "IPY_MODEL_31b31052cecf43d494ec776badd2d4e1",
       "value": 0.7
      }
     },
     "950a117e75e0468b816eef705f335970": {
      "model_module": "@jupyter-widgets/base",
      "model_module_version": "1.2.0",
      "model_name": "LayoutModel",
      "state": {}
     },
     "9531a8a31d8d4aba8dd1a6a63d2229e3": {
      "model_module": "@jupyter-widgets/controls",
      "model_module_version": "1.5.0",
      "model_name": "FloatSliderModel",
      "state": {
       "description": "Protected Area Threshold",
       "layout": "IPY_MODEL_24e5c636f51045a1844c1c7d939a9ba7",
       "max": 1,
       "step": 0.01,
       "style": "IPY_MODEL_a1a459d34ad04a75988771e209f81b9a",
       "value": 0.5
      }
     },
     "956bca6cf0354437a1752432831d137e": {
      "model_module": "@jupyter-widgets/controls",
      "model_module_version": "1.5.0",
      "model_name": "FloatSliderModel",
      "state": {
       "description": "45°",
       "layout": "IPY_MODEL_a842e6ada2344c7c91f2e0c2b2189908",
       "max": 1,
       "min": -1,
       "step": 0.01,
       "style": "IPY_MODEL_5a24043152b44da5980495fc692de522"
      }
     },
     "957698ee4f8a4725bc9c30d9111eebc4": {
      "model_module": "@jupyter-widgets/controls",
      "model_module_version": "1.5.0",
      "model_name": "SliderStyleModel",
      "state": {
       "description_width": ""
      }
     },
     "957981cb7ac547a1b163a89968ffd4eb": {
      "model_module": "@jupyter-widgets/controls",
      "model_module_version": "1.5.0",
      "model_name": "SliderStyleModel",
      "state": {
       "description_width": ""
      }
     },
     "95e59bc81291424e8f7a3e3c851b7767": {
      "model_module": "@jupyter-widgets/controls",
      "model_module_version": "1.5.0",
      "model_name": "SliderStyleModel",
      "state": {
       "description_width": ""
      }
     },
     "95f216872b5f40aabbe1924e264c7e07": {
      "model_module": "@jupyter-widgets/controls",
      "model_module_version": "1.5.0",
      "model_name": "FloatSliderModel",
      "state": {
       "description": "0°",
       "layout": "IPY_MODEL_84a31a35019741919550dfb5836a120f",
       "max": 1,
       "min": -1,
       "step": 0.01,
       "style": "IPY_MODEL_a7dfab68a6e5434d831ac1da72c61b72"
      }
     },
     "95fcd9b8f52945a981b3876b1f7455e7": {
      "model_module": "@jupyter-widgets/base",
      "model_module_version": "1.2.0",
      "model_name": "LayoutModel",
      "state": {
       "border": "solid 4px #222",
       "margin": "4px",
       "padding": "0"
      }
     },
     "96846e26b56f4c8a8cc9401012ccf996": {
      "model_module": "@jupyter-widgets/controls",
      "model_module_version": "1.5.0",
      "model_name": "VBoxModel",
      "state": {
       "children": [
        "IPY_MODEL_f90b7a5262c4484ebf7aefb2fa276bbd",
        "IPY_MODEL_956bca6cf0354437a1752432831d137e",
        "IPY_MODEL_3d15ffe2bbd847e7813cbb8481ce5a88"
       ],
       "layout": "IPY_MODEL_d03dfd4b14d94144b44a7f2f787f7a3d"
      }
     },
     "96973c7cc4d747ccb637ad0675df185a": {
      "model_module": "@jupyter-widgets/base",
      "model_module_version": "1.2.0",
      "model_name": "LayoutModel",
      "state": {}
     },
     "96aa3b38845e4073abe3f654e1de010e": {
      "model_module": "@jupyter-widgets/base",
      "model_module_version": "1.2.0",
      "model_name": "LayoutModel",
      "state": {}
     },
     "96d2c91166f24ce4ae14b6b70d726ab5": {
      "model_module": "@jupyter-widgets/controls",
      "model_module_version": "1.5.0",
      "model_name": "VBoxModel",
      "state": {
       "children": [
        "IPY_MODEL_5e59f48faa6c46c6b03db3abd1af6c51",
        "IPY_MODEL_295a2578a7dc4b4291731e91bcf53a8d"
       ],
       "layout": "IPY_MODEL_b0f521962b6049479037a686d9fc24f9"
      }
     },
     "96ff9a028b344aa5bca488252c75922f": {
      "model_module": "@jupyter-widgets/base",
      "model_module_version": "1.2.0",
      "model_name": "LayoutModel",
      "state": {}
     },
     "971986412e7948b9879766f06a4be3fe": {
      "model_module": "@jupyter-widgets/base",
      "model_module_version": "1.2.0",
      "model_name": "LayoutModel",
      "state": {}
     },
     "9738780a6bbe45bf9b4c9536b057315f": {
      "model_module": "@jupyter-widgets/base",
      "model_module_version": "1.2.0",
      "model_name": "LayoutModel",
      "state": {}
     },
     "973a53f57a9943f48896ec4990426d3d": {
      "model_module": "@jupyter-widgets/controls",
      "model_module_version": "1.5.0",
      "model_name": "ButtonModel",
      "state": {
       "description": "Export Image",
       "layout": "IPY_MODEL_cb72d69c4f8a4d3ea888ec6cdb337e92",
       "style": "IPY_MODEL_ee62bdd7de6f4195aac2fca44f4b9410"
      }
     },
     "97589dd0920a4946807485e93cb69cc8": {
      "model_module": "@jupyter-widgets/controls",
      "model_module_version": "1.5.0",
      "model_name": "TabModel",
      "state": {
       "_titles": {
        "0": "Global Controls",
        "1": "Compression Controls"
       },
       "children": [
        "IPY_MODEL_5ccbe4854a654b4facc9170bf33eeb03",
        "IPY_MODEL_819f5f31882b4f8e91736f4e248a80a8"
       ],
       "layout": "IPY_MODEL_c228e4e677cf407cb1a394766d3f9dbc"
      }
     },
     "975cce8e0465461da28b0d37e6a36322": {
      "model_module": "@jupyter-widgets/controls",
      "model_module_version": "1.5.0",
      "model_name": "ButtonModel",
      "state": {
       "description": "Reset Hue Controls",
       "layout": "IPY_MODEL_67f9fb4f76734185a50ec09b66968b6f",
       "style": "IPY_MODEL_b9e22cceb01541f3a13bd15f476ad86d"
      }
     },
     "97766ad7cc2740da9ca50cb789cc16c2": {
      "model_module": "jupyter-matplotlib",
      "model_module_version": "^0.7.2",
      "model_name": "MPLCanvasModel",
      "state": {
       "_figure_label": "Figure 20",
       "_height": 550,
       "_width": 1100,
       "header_visible": false,
       "layout": "IPY_MODEL_5a5c7cfd7b3a45248747cc06c3397c0b",
       "resizable": false,
       "toolbar": "IPY_MODEL_cc45e84cdd314b62a9046fd2bd5d7f74",
       "toolbar_position": "left",
       "toolbar_visible": false
      }
     },
     "97c0d898146d467bbbd2a0c8bcab2f74": {
      "model_module": "@jupyter-widgets/controls",
      "model_module_version": "1.5.0",
      "model_name": "FloatSliderModel",
      "state": {
       "description": "270°",
       "layout": "IPY_MODEL_cdeeb2a07083490babb14b1633d51824",
       "max": 1,
       "min": -1,
       "step": 0.01,
       "style": "IPY_MODEL_28b89b95722443b7b8f529553df1c7be"
      }
     },
     "984653b356dd494991894d68c295e8cc": {
      "model_module": "@jupyter-widgets/controls",
      "model_module_version": "1.5.0",
      "model_name": "ButtonModel",
      "state": {
       "description": "Export Image",
       "layout": "IPY_MODEL_c7ecf988773c48238bc015d64b7d9dd3",
       "style": "IPY_MODEL_82777adc333f4b88bee94813d9db943c"
      }
     },
     "9859573295d64d828ced32c6f7077636": {
      "model_module": "@jupyter-widgets/base",
      "model_module_version": "1.2.0",
      "model_name": "LayoutModel",
      "state": {}
     },
     "9875c703ab6f4e4c94d52f8eaf8b6715": {
      "model_module": "@jupyter-widgets/controls",
      "model_module_version": "1.5.0",
      "model_name": "TabModel",
      "state": {
       "_titles": {
        "0": "Global Controls",
        "1": "Protected Area Controls",
        "2": "Saturation Controls",
        "3": "Hue Controls"
       },
       "children": [
        "IPY_MODEL_517a243ade89484e8d52fa4a0ba3ea58",
        "IPY_MODEL_4cb70ee897504c18bb4fa1d6d2ae7ff9",
        "IPY_MODEL_4821e4cc275049729a67b2c8e0d2ff62",
        "IPY_MODEL_da99206559fd45dc83de0eb4054ac407"
       ],
       "layout": "IPY_MODEL_8594f71e53fa49b2ad31d226b195534a"
      }
     },
     "98799259c66141c0a3082d1273bd5026": {
      "model_module": "@jupyter-widgets/controls",
      "model_module_version": "1.5.0",
      "model_name": "SliderStyleModel",
      "state": {
       "description_width": ""
      }
     },
     "98e31ae471cd48ed9ac69c74acf080bd": {
      "model_module": "@jupyter-widgets/controls",
      "model_module_version": "1.5.0",
      "model_name": "DescriptionStyleModel",
      "state": {
       "description_width": ""
      }
     },
     "98ecc222139847f3ab55d35830d723dd": {
      "model_module": "@jupyter-widgets/base",
      "model_module_version": "1.2.0",
      "model_name": "LayoutModel",
      "state": {}
     },
     "991f4ab3e6e64240af9c5a51644f7b04": {
      "model_module": "@jupyter-widgets/base",
      "model_module_version": "1.2.0",
      "model_name": "LayoutModel",
      "state": {}
     },
     "99452d52336d4dd395bf4ae14689d840": {
      "model_module": "@jupyter-widgets/controls",
      "model_module_version": "1.5.0",
      "model_name": "ButtonStyleModel",
      "state": {}
     },
     "9947d55fbf7246ec8e728a920a08a4ce": {
      "model_module": "@jupyter-widgets/base",
      "model_module_version": "1.2.0",
      "model_name": "LayoutModel",
      "state": {}
     },
     "9986592f8503478ab47ab2c137cad818": {
      "model_module": "@jupyter-widgets/base",
      "model_module_version": "1.2.0",
      "model_name": "LayoutModel",
      "state": {}
     },
     "9986835999514575ae467210bf18fb44": {
      "model_module": "@jupyter-widgets/controls",
      "model_module_version": "1.5.0",
      "model_name": "ButtonStyleModel",
      "state": {}
     },
     "999bdcf721a643e2b28c0ce93dabe5ea": {
      "model_module": "@jupyter-widgets/base",
      "model_module_version": "1.2.0",
      "model_name": "LayoutModel",
      "state": {
       "align_items": "stretch",
       "display": "flex",
       "flex_flow": "column",
       "width": "1128px"
      }
     },
     "99ac378370814ddfac4bae8c62251879": {
      "model_module": "@jupyter-widgets/controls",
      "model_module_version": "1.5.0",
      "model_name": "ButtonModel",
      "state": {
       "description": "Reset Exposure",
       "layout": "IPY_MODEL_410677b0937744e6990897534185595c",
       "style": "IPY_MODEL_0b0a48d20caa484cbb01f44412f3d345"
      }
     },
     "9a28ce3b904a47b1b8b2a5d1e1cd01fa": {
      "model_module": "@jupyter-widgets/controls",
      "model_module_version": "1.5.0",
      "model_name": "ButtonStyleModel",
      "state": {}
     },
     "9a32f38d20e4490798fb92e2faa8aa43": {
      "model_module": "@jupyter-widgets/controls",
      "model_module_version": "1.5.0",
      "model_name": "ButtonStyleModel",
      "state": {}
     },
     "9a4270d04de54abead82e25152af8012": {
      "model_module": "@jupyter-widgets/controls",
      "model_module_version": "1.5.0",
      "model_name": "FloatSliderModel",
      "state": {
       "description": "45°",
       "layout": "IPY_MODEL_910092ba720a4f8b8a0950a8faff106b",
       "max": 1,
       "min": -1,
       "step": 0.01,
       "style": "IPY_MODEL_64a7ec8c03ce42408d267db69798391e"
      }
     },
     "9a481e1d6f9a47c4beff9a48ceaef4e5": {
      "model_module": "@jupyter-widgets/controls",
      "model_module_version": "1.5.0",
      "model_name": "FloatSliderModel",
      "state": {
       "description": "Exposure",
       "layout": "IPY_MODEL_2bdb2dff9a8847c4b14161f8cbfd5148",
       "max": 8,
       "min": -8,
       "step": 0.1,
       "style": "IPY_MODEL_24d312690e5547edbb372009267c2e40"
      }
     },
     "9a8953065ca54b86aae858e042c16442": {
      "model_module": "@jupyter-widgets/base",
      "model_module_version": "1.2.0",
      "model_name": "LayoutModel",
      "state": {}
     },
     "9a909e3eaeee4ef59911d906a9db671d": {
      "model_module": "@jupyter-widgets/base",
      "model_module_version": "1.2.0",
      "model_name": "LayoutModel",
      "state": {}
     },
     "9aa46bf8626b47ed983de247ac2ddee8": {
      "model_module": "@jupyter-widgets/base",
      "model_module_version": "1.2.0",
      "model_name": "LayoutModel",
      "state": {}
     },
     "9ab5a2f97adf4ce69922f49fdee68192": {
      "model_module": "@jupyter-widgets/controls",
      "model_module_version": "1.5.0",
      "model_name": "ButtonModel",
      "state": {
       "description": "Save Figure",
       "layout": "IPY_MODEL_009e69fb07494b1e8019a6c55064d889",
       "style": "IPY_MODEL_7a6d607e3f6a41579afce37fedbbf018"
      }
     },
     "9b20e2cefbf945a7a149e4b03b53b096": {
      "model_module": "@jupyter-widgets/base",
      "model_module_version": "1.2.0",
      "model_name": "LayoutModel",
      "state": {}
     },
     "9b2e42eb2199447f90cca3da7ec3f05e": {
      "model_module": "@jupyter-widgets/controls",
      "model_module_version": "1.5.0",
      "model_name": "DescriptionStyleModel",
      "state": {
       "description_width": ""
      }
     },
     "9b64ee3c4ca54cd1855ce6c0ae6c9ee3": {
      "model_module": "@jupyter-widgets/base",
      "model_module_version": "1.2.0",
      "model_name": "LayoutModel",
      "state": {}
     },
     "9ba153485a1342d283bc2ed01c3379b1": {
      "model_module": "@jupyter-widgets/base",
      "model_module_version": "1.2.0",
      "model_name": "LayoutModel",
      "state": {}
     },
     "9bb81122cfb74a4597a0e06fae0a9ad6": {
      "model_module": "@jupyter-widgets/controls",
      "model_module_version": "1.5.0",
      "model_name": "ButtonModel",
      "state": {
       "description": "Save Figure",
       "layout": "IPY_MODEL_17399cb19d3345e58c0f511949abe555",
       "style": "IPY_MODEL_1dd27341b6a34fd285b95fb07037d32c"
      }
     },
     "9bcff217c04d47f68f559fa09d8be2c3": {
      "model_module": "@jupyter-widgets/base",
      "model_module_version": "1.2.0",
      "model_name": "LayoutModel",
      "state": {}
     },
     "9c00a5e8e2dc4dcc8faa7d18366afbe8": {
      "model_module": "@jupyter-widgets/controls",
      "model_module_version": "1.5.0",
      "model_name": "ButtonStyleModel",
      "state": {}
     },
     "9c8d1dce5366436883faf88617ba27d3": {
      "model_module": "@jupyter-widgets/base",
      "model_module_version": "1.2.0",
      "model_name": "LayoutModel",
      "state": {}
     },
     "9c9857638cf843ad90da5601c520bb7b": {
      "model_module": "@jupyter-widgets/controls",
      "model_module_version": "1.5.0",
      "model_name": "SliderStyleModel",
      "state": {
       "description_width": ""
      }
     },
     "9c9cf9afccd0454092ef0f708043725a": {
      "model_module": "@jupyter-widgets/base",
      "model_module_version": "1.2.0",
      "model_name": "LayoutModel",
      "state": {}
     },
     "9ca0016fe12447b48e5da09a1578b058": {
      "model_module": "@jupyter-widgets/controls",
      "model_module_version": "1.5.0",
      "model_name": "SliderStyleModel",
      "state": {
       "description_width": ""
      }
     },
     "9cfffee0d8d54abc94b66dbf65bae2b8": {
      "model_module": "@jupyter-widgets/output",
      "model_module_version": "1.0.0",
      "model_name": "OutputModel",
      "state": {
       "layout": "IPY_MODEL_c7ee8bb1bb904abeb2f9b3b0b554d6b9",
       "outputs": [
        {
         "data": {
          "application/vnd.jupyter.widget-view+json": {
           "model_id": "9eb7ef9249d84273b6a2b3777dd93cff",
           "version_major": 2,
           "version_minor": 0
          },
          "text/plain": "Canvas(toolbar=Toolbar(toolitems=[('Home', 'Reset original view', 'home', 'home'), ('Back', 'Back to previous …"
         },
         "metadata": {},
         "output_type": "display_data"
        }
       ]
      }
     },
     "9d5e4d3d0118451692a886169c41706b": {
      "model_module": "@jupyter-widgets/base",
      "model_module_version": "1.2.0",
      "model_name": "LayoutModel",
      "state": {}
     },
     "9d5f214a98a4445abe96722c1c3a8b58": {
      "model_module": "@jupyter-widgets/controls",
      "model_module_version": "1.5.0",
      "model_name": "ButtonStyleModel",
      "state": {}
     },
     "9d933018d3774ebc8c3af49cbdc6c322": {
      "model_module": "@jupyter-widgets/base",
      "model_module_version": "1.2.0",
      "model_name": "LayoutModel",
      "state": {
       "border": "solid 4px #222",
       "margin": "4px",
       "padding": "0"
      }
     },
     "9da5891fb75f42f4aa845c48da1cd3ce": {
      "model_module": "@jupyter-widgets/controls",
      "model_module_version": "1.5.0",
      "model_name": "SliderStyleModel",
      "state": {
       "description_width": ""
      }
     },
     "9dc8eacc18a04674902ec1b173eb5a98": {
      "model_module": "@jupyter-widgets/controls",
      "model_module_version": "1.5.0",
      "model_name": "ButtonModel",
      "state": {
       "description": "Reset Exposure",
       "layout": "IPY_MODEL_abcc4fc9f75c4515a3aaae280ddf6e85",
       "style": "IPY_MODEL_35659a416dbd402e935d9bb1bf52bdc1"
      }
     },
     "9dd0905ec68f431e92428563f69982b4": {
      "model_module": "@jupyter-widgets/base",
      "model_module_version": "1.2.0",
      "model_name": "LayoutModel",
      "state": {}
     },
     "9e0eff3604934319a50f079f8422ed57": {
      "model_module": "@jupyter-widgets/controls",
      "model_module_version": "1.5.0",
      "model_name": "FloatSliderModel",
      "state": {
       "description": "180°",
       "layout": "IPY_MODEL_d2db08661c174bd79533202bae60942f",
       "max": 1,
       "min": -1,
       "step": 0.01,
       "style": "IPY_MODEL_a1a8e8e9bc764665ab5882babc28d3f8"
      }
     },
     "9e17ad40ef95404bac000765a2ff31f6": {
      "model_module": "@jupyter-widgets/base",
      "model_module_version": "1.2.0",
      "model_name": "LayoutModel",
      "state": {}
     },
     "9e1887a2db2b4b4992218d995e08193a": {
      "model_module": "@jupyter-widgets/base",
      "model_module_version": "1.2.0",
      "model_name": "LayoutModel",
      "state": {}
     },
     "9e2ad85d2c3c475d88626c1f7449d104": {
      "model_module": "@jupyter-widgets/base",
      "model_module_version": "1.2.0",
      "model_name": "LayoutModel",
      "state": {
       "align_items": "stretch",
       "display": "flex",
       "flex_flow": "column",
       "width": "1128px"
      }
     },
     "9eb1a1535e1145cf9985f00a3cc5d348": {
      "model_module": "@jupyter-widgets/base",
      "model_module_version": "1.2.0",
      "model_name": "LayoutModel",
      "state": {}
     },
     "9eb7ef9249d84273b6a2b3777dd93cff": {
      "model_module": "jupyter-matplotlib",
      "model_module_version": "^0.7.2",
      "model_name": "MPLCanvasModel",
      "state": {
       "_figure_label": "Figure 13",
       "_height": 396,
       "_width": 1100,
       "header_visible": false,
       "layout": "IPY_MODEL_d9b836d4a588442f8979d669e759ee9f",
       "resizable": false,
       "toolbar": "IPY_MODEL_61a6f80dbb4144e4a3d83e15596a5e94",
       "toolbar_position": "left",
       "toolbar_visible": false
      }
     },
     "9ee45f98dbcb49288cf838bc9a091575": {
      "model_module": "@jupyter-widgets/controls",
      "model_module_version": "1.5.0",
      "model_name": "FloatSliderModel",
      "state": {
       "description": "315°",
       "layout": "IPY_MODEL_717b3e187e46490fa00013ffc702d46f",
       "max": 1,
       "min": -1,
       "step": 0.01,
       "style": "IPY_MODEL_cceeab0972714f3f84af4b723a61e8d0"
      }
     },
     "9f648468d5014467b07559fc0103905e": {
      "model_module": "@jupyter-widgets/base",
      "model_module_version": "1.2.0",
      "model_name": "LayoutModel",
      "state": {}
     },
     "9f6697bf1d78414dbf5f5871c9f48bfc": {
      "model_module": "@jupyter-widgets/base",
      "model_module_version": "1.2.0",
      "model_name": "LayoutModel",
      "state": {}
     },
     "9f6fee89aa4944faa97f321c35b04d4f": {
      "model_module": "@jupyter-widgets/controls",
      "model_module_version": "1.5.0",
      "model_name": "ButtonModel",
      "state": {
       "description": "Save Figure",
       "layout": "IPY_MODEL_3fb92a55d2c14473aa80053026cee23d",
       "style": "IPY_MODEL_5e983a67c100426783af15860d21bed4"
      }
     },
     "9f78e4695c124faeaf6e237bd535cbac": {
      "model_module": "@jupyter-widgets/controls",
      "model_module_version": "1.5.0",
      "model_name": "ButtonStyleModel",
      "state": {}
     },
     "9f9a84de10ac4311a8bdcd3538640573": {
      "model_module": "@jupyter-widgets/base",
      "model_module_version": "1.2.0",
      "model_name": "LayoutModel",
      "state": {}
     },
     "9f9c64ed0b53470eb3e1b6ff4a3732a1": {
      "model_module": "@jupyter-widgets/controls",
      "model_module_version": "1.5.0",
      "model_name": "ButtonModel",
      "state": {
       "description": "Reset Protected Area",
       "layout": "IPY_MODEL_e330da5b9e6a49d0bda6ad67f78f9a14",
       "style": "IPY_MODEL_0722b668a933404589845937bbaffe5c"
      }
     },
     "9fbb232b223b4100be9057d5ef1ed7e5": {
      "model_module": "jupyter-matplotlib",
      "model_module_version": "^0.7.2",
      "model_name": "MPLCanvasModel",
      "state": {
       "_figure_label": "Figure 17",
       "_height": 430,
       "_image_mode": "diff",
       "_message": "x= y= [1, 0.563, 0.523]",
       "_width": 1099,
       "header_visible": false,
       "layout": "IPY_MODEL_e299190590084ec4bda4eeed292a3277",
       "resizable": false,
       "toolbar": "IPY_MODEL_dd4e9205f4cb43a7a28a870f38f9c3ae",
       "toolbar_position": "left",
       "toolbar_visible": false
      }
     },
     "9fccc64405c24e98afda2921b5f763ae": {
      "model_module": "@jupyter-widgets/base",
      "model_module_version": "1.2.0",
      "model_name": "LayoutModel",
      "state": {}
     },
     "9fe65db5b06044b9a1ccff5370674985": {
      "model_module": "@jupyter-widgets/base",
      "model_module_version": "1.2.0",
      "model_name": "LayoutModel",
      "state": {}
     },
     "a01f045708fe41bd99add05a5b4015b1": {
      "model_module": "@jupyter-widgets/controls",
      "model_module_version": "1.5.0",
      "model_name": "ButtonModel",
      "state": {
       "description": "Save Figure",
       "layout": "IPY_MODEL_782d96e5981f4de1842b20e0b62fe0c9",
       "style": "IPY_MODEL_ce84ac88caed4dbd981513cffd638561"
      }
     },
     "a0cbe1f2b92648f09bda6b6508e1b51a": {
      "model_module": "@jupyter-widgets/base",
      "model_module_version": "1.2.0",
      "model_name": "LayoutModel",
      "state": {}
     },
     "a133615197914370b0ebeb9e424db76e": {
      "model_module": "@jupyter-widgets/base",
      "model_module_version": "1.2.0",
      "model_name": "LayoutModel",
      "state": {}
     },
     "a1350696ba6145208dbb746a924fa837": {
      "model_module": "@jupyter-widgets/controls",
      "model_module_version": "1.5.0",
      "model_name": "ButtonStyleModel",
      "state": {}
     },
     "a1364c18e18548e5be6832c48472d3fc": {
      "model_module": "@jupyter-widgets/output",
      "model_module_version": "1.0.0",
      "model_name": "OutputModel",
      "state": {
       "layout": "IPY_MODEL_20f2ea82c8e74b768ef4405baa77080a",
       "outputs": [
        {
         "data": {
          "application/vnd.jupyter.widget-view+json": {
           "model_id": "d68ea7ca87d9415fb09718ebee187050",
           "version_major": 2,
           "version_minor": 0
          },
          "text/plain": "Canvas(toolbar=Toolbar(toolitems=[('Home', 'Reset original view', 'home', 'home'), ('Back', 'Back to previous …"
         },
         "metadata": {},
         "output_type": "display_data"
        }
       ]
      }
     },
     "a1968505b3274419a354bf3e91d33667": {
      "model_module": "@jupyter-widgets/controls",
      "model_module_version": "1.5.0",
      "model_name": "FloatSliderModel",
      "state": {
       "description": "Protected Area Threshold",
       "layout": "IPY_MODEL_4d454d8662b24d2aa2f051536944d0f1",
       "max": 1,
       "step": 0.01,
       "style": "IPY_MODEL_c4a23e2adab241d3a3c9df21e421d911",
       "value": 0.7
      }
     },
     "a1a459d34ad04a75988771e209f81b9a": {
      "model_module": "@jupyter-widgets/controls",
      "model_module_version": "1.5.0",
      "model_name": "SliderStyleModel",
      "state": {
       "description_width": ""
      }
     },
     "a1a8e8e9bc764665ab5882babc28d3f8": {
      "model_module": "@jupyter-widgets/controls",
      "model_module_version": "1.5.0",
      "model_name": "SliderStyleModel",
      "state": {
       "description_width": ""
      }
     },
     "a1f4f35906ed43798b6493115556d0c3": {
      "model_module": "@jupyter-widgets/controls",
      "model_module_version": "1.5.0",
      "model_name": "ButtonModel",
      "state": {
       "description": "Reset Hue Controls",
       "layout": "IPY_MODEL_91e45017163b40a08c9edc634cb5a1f4",
       "style": "IPY_MODEL_7e4ae1c8016844e4b0a9ec7b880cda13"
      }
     },
     "a236e9d5feaa43aa983f7a4d3d25efcc": {
      "model_module": "@jupyter-widgets/base",
      "model_module_version": "1.2.0",
      "model_name": "LayoutModel",
      "state": {}
     },
     "a27c19b82afa4183a098af2c9b14fe3c": {
      "model_module": "@jupyter-widgets/controls",
      "model_module_version": "1.5.0",
      "model_name": "DescriptionStyleModel",
      "state": {
       "description_width": ""
      }
     },
     "a28cdd73da3e402681d625b31c96676b": {
      "model_module": "@jupyter-widgets/controls",
      "model_module_version": "1.5.0",
      "model_name": "ButtonStyleModel",
      "state": {}
     },
     "a3004c700f3f43c0927927f855304017": {
      "model_module": "@jupyter-widgets/controls",
      "model_module_version": "1.5.0",
      "model_name": "ButtonModel",
      "state": {
       "description": "Export Image",
       "layout": "IPY_MODEL_c831984aee504f27a7278b323413fca1",
       "style": "IPY_MODEL_a4f198a510d447e6ab63c85e3ae6ab63"
      }
     },
     "a33350db28944bdca5c50eda8472c652": {
      "model_module": "@jupyter-widgets/controls",
      "model_module_version": "1.5.0",
      "model_name": "BoxModel",
      "state": {
       "children": [
        "IPY_MODEL_5c05fb2b5a9c4d4184421c90d03bb9a2",
        "IPY_MODEL_34ee87ab3351497ba5aa31437cc5bf9f"
       ],
       "layout": "IPY_MODEL_816cfab6a78249d287ec0ee2a9158091"
      }
     },
     "a3abed608441495e90692e7253280c6b": {
      "model_module": "@jupyter-widgets/controls",
      "model_module_version": "1.5.0",
      "model_name": "HBoxModel",
      "state": {
       "children": [
        "IPY_MODEL_c8525df8d1044dcda3da2146afe3565a",
        "IPY_MODEL_3a06c53fb00d456d9e64047508d54c24",
        "IPY_MODEL_8798e0f1cc504c6c8398f19ecbd225b6",
        "IPY_MODEL_ef3e2429af524b2ea19e707e74ad505c"
       ],
       "layout": "IPY_MODEL_159958177a004b3ea2c80b4a4bfa7297"
      }
     },
     "a3d184cae30246a9a29423b6f33ffb70": {
      "model_module": "@jupyter-widgets/base",
      "model_module_version": "1.2.0",
      "model_name": "LayoutModel",
      "state": {
       "border": "solid 4px #222",
       "margin": "4px",
       "padding": "0"
      }
     },
     "a4192cc47d8c4fea97fe678ccd24f8e4": {
      "model_module": "@jupyter-widgets/controls",
      "model_module_version": "1.5.0",
      "model_name": "ButtonStyleModel",
      "state": {}
     },
     "a4294ad0689c4bd1960fea4adf08cac1": {
      "model_module": "@jupyter-widgets/controls",
      "model_module_version": "1.5.0",
      "model_name": "FloatSliderModel",
      "state": {
       "description": "135°",
       "layout": "IPY_MODEL_09358a2ad9f345f2bd1f2a4a24429ab7",
       "max": 1,
       "min": -1,
       "step": 0.01,
       "style": "IPY_MODEL_ec62eed250a9467187e94a5644d5af0b"
      }
     },
     "a42dba7254be465ca32c7e57846a8404": {
      "model_module": "@jupyter-widgets/base",
      "model_module_version": "1.2.0",
      "model_name": "LayoutModel",
      "state": {
       "border": "solid 4px #222",
       "margin": "4px",
       "padding": "0"
      }
     },
     "a44e70e392cf49f8ad4cf97bee659310": {
      "model_module": "@jupyter-widgets/base",
      "model_module_version": "1.2.0",
      "model_name": "LayoutModel",
      "state": {}
     },
     "a450bb9168bc427da86f0e72a4bf6c29": {
      "model_module": "@jupyter-widgets/base",
      "model_module_version": "1.2.0",
      "model_name": "LayoutModel",
      "state": {}
     },
     "a45ac53677a64d03a2ac6af5607ef9f6": {
      "model_module": "@jupyter-widgets/controls",
      "model_module_version": "1.5.0",
      "model_name": "ButtonStyleModel",
      "state": {}
     },
     "a4843fe0575944c99bec8b90c7943987": {
      "model_module": "@jupyter-widgets/controls",
      "model_module_version": "1.5.0",
      "model_name": "FloatSliderModel",
      "state": {
       "description": "270°",
       "layout": "IPY_MODEL_c3b4a1dedd934c88a1419dfaec38eecf",
       "max": 1,
       "min": -1,
       "step": 0.01,
       "style": "IPY_MODEL_37e4b287cbeb47f1b9c937bed6cea0a3"
      }
     },
     "a4a766ba08fb4c4db1e0c6ea5522e12a": {
      "model_module": "@jupyter-widgets/controls",
      "model_module_version": "1.5.0",
      "model_name": "HBoxModel",
      "state": {
       "children": [
        "IPY_MODEL_f85d4d62e85e4b7fa3bdb8fa291f40cc",
        "IPY_MODEL_c420a00285784fdc9620d6bd15e74f28",
        "IPY_MODEL_bdecf0adbbce498ea38cf221fe6af027",
        "IPY_MODEL_dc620b73b115469b89cef1f27903c00e"
       ],
       "layout": "IPY_MODEL_9fe65db5b06044b9a1ccff5370674985"
      }
     },
     "a4f198a510d447e6ab63c85e3ae6ab63": {
      "model_module": "@jupyter-widgets/controls",
      "model_module_version": "1.5.0",
      "model_name": "ButtonStyleModel",
      "state": {}
     },
     "a52fee2f0ea047a189f3e2d41edbe8e4": {
      "model_module": "@jupyter-widgets/base",
      "model_module_version": "1.2.0",
      "model_name": "LayoutModel",
      "state": {}
     },
     "a55e465d5ba1460daf57088dfbe9a444": {
      "model_module": "@jupyter-widgets/controls",
      "model_module_version": "1.5.0",
      "model_name": "ButtonStyleModel",
      "state": {}
     },
     "a58d5327c17f418aab80c1f86dfbc667": {
      "model_module": "@jupyter-widgets/base",
      "model_module_version": "1.2.0",
      "model_name": "LayoutModel",
      "state": {}
     },
     "a5b7308280bc42a281db1b89f37d817d": {
      "model_module": "@jupyter-widgets/controls",
      "model_module_version": "1.5.0",
      "model_name": "ButtonStyleModel",
      "state": {}
     },
     "a5c30613636c45e7bea9993137b6ce82": {
      "model_module": "@jupyter-widgets/base",
      "model_module_version": "1.2.0",
      "model_name": "LayoutModel",
      "state": {}
     },
     "a63f89681fda45778e9c4008e8d952f4": {
      "model_module": "@jupyter-widgets/base",
      "model_module_version": "1.2.0",
      "model_name": "LayoutModel",
      "state": {}
     },
     "a6622f6a615142ed93fd9651878afb29": {
      "model_module": "@jupyter-widgets/base",
      "model_module_version": "1.2.0",
      "model_name": "LayoutModel",
      "state": {}
     },
     "a69c01bb2f8c4b6083d09534cfe7fdf5": {
      "model_module": "@jupyter-widgets/controls",
      "model_module_version": "1.5.0",
      "model_name": "HBoxModel",
      "state": {
       "children": [
        "IPY_MODEL_276144f0abd648369efa9c505b9d905d",
        "IPY_MODEL_e571789973fe46b3958a51b19dfc43b2",
        "IPY_MODEL_e39392ce75be4a058b6da1491a2f4870",
        "IPY_MODEL_d886e1ece1e842888a78b2fca6eed6b8"
       ],
       "layout": "IPY_MODEL_d508c420402241d988dbe36bcb1df413"
      }
     },
     "a71dd1f6701f41ce89575f9856b9c552": {
      "model_module": "@jupyter-widgets/base",
      "model_module_version": "1.2.0",
      "model_name": "LayoutModel",
      "state": {}
     },
     "a7269b2bfe6f4337a9f992d010e725a3": {
      "model_module": "@jupyter-widgets/controls",
      "model_module_version": "1.5.0",
      "model_name": "HBoxModel",
      "state": {
       "children": [
        "IPY_MODEL_fb32c9023b814b9bb98bf62c2efb805d",
        "IPY_MODEL_26fc3dff296f4d57ba94645f3f46bfe6",
        "IPY_MODEL_0fff7a3d1bf64899b98016460e3cd819",
        "IPY_MODEL_1d09a3a87cd7441a8f0a106618cdaddf"
       ],
       "layout": "IPY_MODEL_187f100d8cd84a41af51ffb7f414d13c"
      }
     },
     "a741e43af23940a2843818bb9fc427b8": {
      "model_module": "@jupyter-widgets/controls",
      "model_module_version": "1.5.0",
      "model_name": "DescriptionStyleModel",
      "state": {
       "description_width": ""
      }
     },
     "a75414c1cfdd413abc725249fa97dcb2": {
      "model_module": "@jupyter-widgets/base",
      "model_module_version": "1.2.0",
      "model_name": "LayoutModel",
      "state": {}
     },
     "a76f9cdbe3f94f759f040f6e8bcf327c": {
      "model_module": "@jupyter-widgets/base",
      "model_module_version": "1.2.0",
      "model_name": "LayoutModel",
      "state": {}
     },
     "a785bfa1f32f43639a895f48d9530e90": {
      "model_module": "@jupyter-widgets/output",
      "model_module_version": "1.0.0",
      "model_name": "OutputModel",
      "state": {
       "layout": "IPY_MODEL_304b288b95644a2886817f5eb1acadd4",
       "outputs": [
        {
         "data": {
          "application/vnd.jupyter.widget-view+json": {
           "model_id": "e8f50d1788b5475f96cf3d78c6c5dd6f",
           "version_major": 2,
           "version_minor": 0
          },
          "text/plain": "Canvas(toolbar=Toolbar(toolitems=[('Home', 'Reset original view', 'home', 'home'), ('Back', 'Back to previous …"
         },
         "metadata": {},
         "output_type": "display_data"
        }
       ]
      }
     },
     "a79bb5bfe35947cdb21458f57c652d85": {
      "model_module": "@jupyter-widgets/base",
      "model_module_version": "1.2.0",
      "model_name": "LayoutModel",
      "state": {}
     },
     "a79fdc81dfca40819f611aa98a565e71": {
      "model_module": "@jupyter-widgets/controls",
      "model_module_version": "1.5.0",
      "model_name": "HBoxModel",
      "state": {
       "children": [
        "IPY_MODEL_542655f49f5c4c28b558236f4cb51ad8",
        "IPY_MODEL_4f452c982d1e4d6888685d45b08e2adc",
        "IPY_MODEL_88162cad1ffd4fdaa93e403b0aecc121",
        "IPY_MODEL_13658d2bacff433d9e136b3508f1fcca"
       ],
       "layout": "IPY_MODEL_6cac0f23256548228bef21312b174fd9"
      }
     },
     "a7cba84c2273440c96fb17d239c16593": {
      "model_module": "@jupyter-widgets/base",
      "model_module_version": "1.2.0",
      "model_name": "LayoutModel",
      "state": {}
     },
     "a7dfab68a6e5434d831ac1da72c61b72": {
      "model_module": "@jupyter-widgets/controls",
      "model_module_version": "1.5.0",
      "model_name": "SliderStyleModel",
      "state": {
       "description_width": ""
      }
     },
     "a7f9c942d2bd45d7b0b6a7695bfc95eb": {
      "model_module": "@jupyter-widgets/controls",
      "model_module_version": "1.5.0",
      "model_name": "FloatSliderModel",
      "state": {
       "description": "90°",
       "layout": "IPY_MODEL_1e51e11e0595465bb43b8b332d00bcdf",
       "max": 1,
       "min": -1,
       "step": 0.01,
       "style": "IPY_MODEL_dc48ed26093846c69997df1e47e78869"
      }
     },
     "a7fb12341967460bbce42712c72f468c": {
      "model_module": "@jupyter-widgets/controls",
      "model_module_version": "1.5.0",
      "model_name": "ButtonModel",
      "state": {
       "description": "Export Image",
       "layout": "IPY_MODEL_6030ec2993d44c9f89d90a0e0a3c307f",
       "style": "IPY_MODEL_7482d65e07bd482990dd3fb045cad4d9"
      }
     },
     "a83b3c2ddf80478188a4046031caa381": {
      "model_module": "@jupyter-widgets/base",
      "model_module_version": "1.2.0",
      "model_name": "LayoutModel",
      "state": {}
     },
     "a842e6ada2344c7c91f2e0c2b2189908": {
      "model_module": "@jupyter-widgets/base",
      "model_module_version": "1.2.0",
      "model_name": "LayoutModel",
      "state": {}
     },
     "a85f54370ab94f90a12b9ec183b52114": {
      "model_module": "@jupyter-widgets/base",
      "model_module_version": "1.2.0",
      "model_name": "LayoutModel",
      "state": {}
     },
     "a913d8dcd3d74cc99b0459b4bcc5734a": {
      "model_module": "@jupyter-widgets/base",
      "model_module_version": "1.2.0",
      "model_name": "LayoutModel",
      "state": {}
     },
     "a92cc66cf3d546e99e446e2a2b261e3a": {
      "model_module": "@jupyter-widgets/base",
      "model_module_version": "1.2.0",
      "model_name": "LayoutModel",
      "state": {}
     },
     "a96d187b96a746b393b8ebb4c5a177ec": {
      "model_module": "@jupyter-widgets/base",
      "model_module_version": "1.2.0",
      "model_name": "LayoutModel",
      "state": {}
     },
     "a9e095b56d144fecbf917f6021cea745": {
      "model_module": "@jupyter-widgets/base",
      "model_module_version": "1.2.0",
      "model_name": "LayoutModel",
      "state": {}
     },
     "a9f2a89f7e0d4db191e1cfe9441901a8": {
      "model_module": "@jupyter-widgets/controls",
      "model_module_version": "1.5.0",
      "model_name": "ButtonStyleModel",
      "state": {}
     },
     "aa25e7b30a424d4399bbb734b3ed90b6": {
      "model_module": "@jupyter-widgets/base",
      "model_module_version": "1.2.0",
      "model_name": "LayoutModel",
      "state": {}
     },
     "aa492f0c9eb740629e316d544ad0b45e": {
      "model_module": "@jupyter-widgets/controls",
      "model_module_version": "1.5.0",
      "model_name": "ButtonModel",
      "state": {
       "description": "Export Image",
       "layout": "IPY_MODEL_9dd0905ec68f431e92428563f69982b4",
       "style": "IPY_MODEL_238bea891cb1402e8a5a2f3f41ea29c6"
      }
     },
     "aa504a7188ce459085ce4e38a828585d": {
      "model_module": "@jupyter-widgets/controls",
      "model_module_version": "1.5.0",
      "model_name": "SliderStyleModel",
      "state": {
       "description_width": ""
      }
     },
     "aa8af10bfb4f42b2a04f3bcea7c1c4a3": {
      "model_module": "@jupyter-widgets/controls",
      "model_module_version": "1.5.0",
      "model_name": "SliderStyleModel",
      "state": {
       "description_width": ""
      }
     },
     "aaafde9b0a85449d8306848029239949": {
      "model_module": "@jupyter-widgets/output",
      "model_module_version": "1.0.0",
      "model_name": "OutputModel",
      "state": {
       "layout": "IPY_MODEL_cb8d1b5905fc441bb8006d36259a8850",
       "outputs": [
        {
         "data": {
          "application/vnd.jupyter.widget-view+json": {
           "model_id": "824c7845a9b4495a9af032a9c91c7c0d",
           "version_major": 2,
           "version_minor": 0
          },
          "text/plain": "Canvas(toolbar=Toolbar(toolitems=[('Home', 'Reset original view', 'home', 'home'), ('Back', 'Back to previous …"
         },
         "metadata": {},
         "output_type": "display_data"
        }
       ]
      }
     },
     "ab7a27acecdf4c4ba0c198c6500313db": {
      "model_module": "@jupyter-widgets/controls",
      "model_module_version": "1.5.0",
      "model_name": "ButtonStyleModel",
      "state": {}
     },
     "ab8c2a1beb3f4447b10a11a885d76919": {
      "model_module": "@jupyter-widgets/controls",
      "model_module_version": "1.5.0",
      "model_name": "HBoxModel",
      "state": {
       "children": [
        "IPY_MODEL_7059c01683084c00817e33faa4dab6e1",
        "IPY_MODEL_d6ac32a7694641509f68746ad1e42edc",
        "IPY_MODEL_9ab5a2f97adf4ce69922f49fdee68192",
        "IPY_MODEL_578bd7cc0075400d9c4c9232bf48b746",
        "IPY_MODEL_f3b361ceed3a49abbd9ea9bad0a7d741"
       ],
       "layout": "IPY_MODEL_16b90ee404104744aa9230664d4cbd02"
      }
     },
     "abbb15e8b87d4799b4dedfc9a566f430": {
      "model_module": "@jupyter-widgets/controls",
      "model_module_version": "1.5.0",
      "model_name": "DescriptionStyleModel",
      "state": {
       "description_width": ""
      }
     },
     "abcc4fc9f75c4515a3aaae280ddf6e85": {
      "model_module": "@jupyter-widgets/base",
      "model_module_version": "1.2.0",
      "model_name": "LayoutModel",
      "state": {}
     },
     "ac088c508a2a43a1866db7eeab5808c2": {
      "model_module": "@jupyter-widgets/controls",
      "model_module_version": "1.5.0",
      "model_name": "FloatSliderModel",
      "state": {
       "description": "225°",
       "layout": "IPY_MODEL_37e10deafed4401297fb5ea9f5158d52",
       "max": 1,
       "min": -1,
       "step": 0.01,
       "style": "IPY_MODEL_b0c67864fca84e74aab77bd8fc9dde2c"
      }
     },
     "ac167f205a2e41fea0487ccce708ab5d": {
      "model_module": "@jupyter-widgets/controls",
      "model_module_version": "1.5.0",
      "model_name": "ButtonStyleModel",
      "state": {}
     },
     "ac367b2c405042959e592aae9b0b0fa4": {
      "model_module": "@jupyter-widgets/controls",
      "model_module_version": "1.5.0",
      "model_name": "SliderStyleModel",
      "state": {
       "description_width": ""
      }
     },
     "ac4f0d4e967f461b931e244484d1a069": {
      "model_module": "@jupyter-widgets/controls",
      "model_module_version": "1.5.0",
      "model_name": "ButtonStyleModel",
      "state": {}
     },
     "ac6c7453ae124741b9d203e76901b23b": {
      "model_module": "@jupyter-widgets/base",
      "model_module_version": "1.2.0",
      "model_name": "LayoutModel",
      "state": {
       "align_items": "stretch",
       "display": "flex",
       "flex_flow": "column",
       "width": "1128px"
      }
     },
     "ac978c77abcc430785ded63e5b7a6c26": {
      "model_module": "@jupyter-widgets/controls",
      "model_module_version": "1.5.0",
      "model_name": "CheckboxModel",
      "state": {
       "description": "Disable Medicina",
       "disabled": false,
       "layout": "IPY_MODEL_e56a1880b7ed4738a39cd1682baf0549",
       "style": "IPY_MODEL_ebdb4c9e86da48e5beda45aa2db1e884",
       "value": false
      }
     },
     "aca4cba5cd794da19f6e38116710da7a": {
      "model_module": "@jupyter-widgets/base",
      "model_module_version": "1.2.0",
      "model_name": "LayoutModel",
      "state": {}
     },
     "acc2b885d7494b2090bba55f2bf875c4": {
      "model_module": "@jupyter-widgets/controls",
      "model_module_version": "1.5.0",
      "model_name": "DescriptionStyleModel",
      "state": {
       "description_width": ""
      }
     },
     "accc4125f9194a40919ebfd97af58aa1": {
      "model_module": "@jupyter-widgets/controls",
      "model_module_version": "1.5.0",
      "model_name": "ButtonStyleModel",
      "state": {}
     },
     "acf237c387c54b3da65ecd116da296d7": {
      "model_module": "@jupyter-widgets/controls",
      "model_module_version": "1.5.0",
      "model_name": "HBoxModel",
      "state": {
       "children": [
        "IPY_MODEL_ad1dc4f2f384410fb430867fb3c302b6",
        "IPY_MODEL_0d4e3ebf8df64a8889e4c2094ec7cbe1",
        "IPY_MODEL_6830747a59cc4a209cecdb650c8fbae6",
        "IPY_MODEL_f16cd6b317b34394a5aa4a9fcde52d4b",
        "IPY_MODEL_382d0461759849dbaa4b1281a829d623"
       ],
       "layout": "IPY_MODEL_f9f3a32b09254772895e41e36326169a"
      }
     },
     "ad1dc4f2f384410fb430867fb3c302b6": {
      "model_module": "@jupyter-widgets/controls",
      "model_module_version": "1.5.0",
      "model_name": "CheckboxModel",
      "state": {
       "description": "Disable Medicina",
       "disabled": false,
       "layout": "IPY_MODEL_6c707766a4a8486c8db7615a0ebd680b",
       "style": "IPY_MODEL_1c273b33fd134300892e424f4cc88285",
       "value": false
      }
     },
     "ad50192481d2495a816e7c406ee5bdab": {
      "model_module": "@jupyter-widgets/base",
      "model_module_version": "1.2.0",
      "model_name": "LayoutModel",
      "state": {}
     },
     "ad582766eb0a4cfba7499987f5c46b98": {
      "model_module": "@jupyter-widgets/controls",
      "model_module_version": "1.5.0",
      "model_name": "ButtonStyleModel",
      "state": {}
     },
     "ad89ed9ba8224f6c9b16a60c05a8f963": {
      "model_module": "@jupyter-widgets/controls",
      "model_module_version": "1.5.0",
      "model_name": "FloatSliderModel",
      "state": {
       "description": "90°",
       "layout": "IPY_MODEL_c8c60eac48984d13ac969abb8e27882d",
       "max": 1,
       "min": -1,
       "step": 0.01,
       "style": "IPY_MODEL_5426d8c7af7d4067be173dd35d52d839"
      }
     },
     "adc3453c098c4d29a1795211ad4889a0": {
      "model_module": "@jupyter-widgets/controls",
      "model_module_version": "1.5.0",
      "model_name": "ButtonStyleModel",
      "state": {}
     },
     "adc8bba289d64f6c8b6bfca8502edec2": {
      "model_module": "@jupyter-widgets/base",
      "model_module_version": "1.2.0",
      "model_name": "LayoutModel",
      "state": {}
     },
     "ae289ee56300482ea77d28a47cd0dc3b": {
      "model_module": "@jupyter-widgets/base",
      "model_module_version": "1.2.0",
      "model_name": "LayoutModel",
      "state": {}
     },
     "ae404c0aa5094db4b3fe31b93cb46c09": {
      "model_module": "@jupyter-widgets/base",
      "model_module_version": "1.2.0",
      "model_name": "LayoutModel",
      "state": {}
     },
     "ae5fcfb6be1743e199e14aa8d4eee031": {
      "model_module": "@jupyter-widgets/base",
      "model_module_version": "1.2.0",
      "model_name": "LayoutModel",
      "state": {}
     },
     "ae85a559a2254336b26f965f03aa4ad6": {
      "model_module": "@jupyter-widgets/base",
      "model_module_version": "1.2.0",
      "model_name": "LayoutModel",
      "state": {}
     },
     "ae9fa58ff607415a9b02b04aa52a427c": {
      "model_module": "@jupyter-widgets/controls",
      "model_module_version": "1.5.0",
      "model_name": "ButtonModel",
      "state": {
       "description": "Reset Protected Area",
       "layout": "IPY_MODEL_8da89d1f607f49238ddb13e0cf54327e",
       "style": "IPY_MODEL_126c9918fff94b9c90df38f81b1fedaf"
      }
     },
     "aec5020d9b8b417e86cc446698cc1c9f": {
      "model_module": "@jupyter-widgets/controls",
      "model_module_version": "1.5.0",
      "model_name": "SliderStyleModel",
      "state": {
       "description_width": ""
      }
     },
     "af0ce1a65df545cc9afb1cf5deeb53e2": {
      "model_module": "@jupyter-widgets/controls",
      "model_module_version": "1.5.0",
      "model_name": "ButtonModel",
      "state": {
       "description": "Export Image",
       "layout": "IPY_MODEL_9368a5f9edba496fa12d6060651dd878",
       "style": "IPY_MODEL_234b78ed39a14c5fa2f6877724188658"
      }
     },
     "af4997782544472989ebbdfae77bbb5b": {
      "model_module": "@jupyter-widgets/controls",
      "model_module_version": "1.5.0",
      "model_name": "BoxModel",
      "state": {
       "children": [
        "IPY_MODEL_c3364721176a461d9347f721949f0c58",
        "IPY_MODEL_42b43186121448b3abc42b4fe364bc40"
       ],
       "layout": "IPY_MODEL_c98fc85b26be4e6b96df69060155527d"
      }
     },
     "afc92565b97c4f14bfc348b895cc44b7": {
      "model_module": "@jupyter-widgets/base",
      "model_module_version": "1.2.0",
      "model_name": "LayoutModel",
      "state": {}
     },
     "afdbfa498a9b460aa4cff63b302fcba8": {
      "model_module": "@jupyter-widgets/base",
      "model_module_version": "1.2.0",
      "model_name": "LayoutModel",
      "state": {}
     },
     "afddfed9d96e44398f3f6dfa73d77ae4": {
      "model_module": "@jupyter-widgets/base",
      "model_module_version": "1.2.0",
      "model_name": "LayoutModel",
      "state": {}
     },
     "b0376dff1d1f4e749857ddf3dd70d9eb": {
      "model_module": "@jupyter-widgets/controls",
      "model_module_version": "1.5.0",
      "model_name": "CheckboxModel",
      "state": {
       "description": "Disable Medicina",
       "disabled": false,
       "layout": "IPY_MODEL_dac002b66453455c8c384addd45af161",
       "style": "IPY_MODEL_816d044f902e424aa8fae770b771b91f",
       "value": false
      }
     },
     "b07348c17049412a93af0fee7eaea158": {
      "model_module": "jupyter-matplotlib",
      "model_module_version": "^0.7.2",
      "model_name": "ToolbarModel",
      "state": {
       "layout": "IPY_MODEL_0593c41adcb64f789e92a9b4ff450af1",
       "toolitems": [
        [
         "Home",
         "Reset original view",
         "home",
         "home"
        ],
        [
         "Back",
         "Back to previous view",
         "arrow-left",
         "back"
        ],
        [
         "Forward",
         "Forward to next view",
         "arrow-right",
         "forward"
        ],
        [
         "Pan",
         "Pan axes with left mouse, zoom with right",
         "arrows",
         "pan"
        ],
        [
         "Zoom",
         "Zoom to rectangle",
         "square-o",
         "zoom"
        ],
        [
         "Download",
         "Download plot",
         "floppy-o",
         "save_figure"
        ]
       ]
      }
     },
     "b08a5dbeacc949b28f6765cc47b9bb1a": {
      "model_module": "@jupyter-widgets/controls",
      "model_module_version": "1.5.0",
      "model_name": "HBoxModel",
      "state": {
       "children": [
        "IPY_MODEL_2c6934570c7948258a3d2dd07a49bba0",
        "IPY_MODEL_400a7d3d1b44487185c8045877263246"
       ],
       "layout": "IPY_MODEL_3560b58a6af24145a2c510f82e9d14e2"
      }
     },
     "b0a078379cb54d8284c5b587654f5996": {
      "model_module": "@jupyter-widgets/base",
      "model_module_version": "1.2.0",
      "model_name": "LayoutModel",
      "state": {}
     },
     "b0c67864fca84e74aab77bd8fc9dde2c": {
      "model_module": "@jupyter-widgets/controls",
      "model_module_version": "1.5.0",
      "model_name": "SliderStyleModel",
      "state": {
       "description_width": ""
      }
     },
     "b0d1e83972694e2d8701365d8fb595fa": {
      "model_module": "@jupyter-widgets/controls",
      "model_module_version": "1.5.0",
      "model_name": "VBoxModel",
      "state": {
       "children": [
        "IPY_MODEL_2802f55b04564eefa07a83c34fb4f29d",
        "IPY_MODEL_e946bb368f18421b87c78db3952d4015"
       ],
       "layout": "IPY_MODEL_dc54af42affe4d4caa4791221b2bcc17"
      }
     },
     "b0d5bc76e9e1452f860c0e64833f5b5b": {
      "model_module": "@jupyter-widgets/base",
      "model_module_version": "1.2.0",
      "model_name": "LayoutModel",
      "state": {
       "align_items": "stretch",
       "display": "flex",
       "flex_flow": "column",
       "width": "1128px"
      }
     },
     "b0df5323a7d24a0785db5f615cdd1389": {
      "model_module": "@jupyter-widgets/base",
      "model_module_version": "1.2.0",
      "model_name": "LayoutModel",
      "state": {}
     },
     "b0eaadfd6a0d4ddf88575f2fce3a61ef": {
      "model_module": "@jupyter-widgets/base",
      "model_module_version": "1.2.0",
      "model_name": "LayoutModel",
      "state": {}
     },
     "b0ed8eb5c7294bd8981dfea6953c338a": {
      "model_module": "@jupyter-widgets/controls",
      "model_module_version": "1.5.0",
      "model_name": "VBoxModel",
      "state": {
       "children": [
        "IPY_MODEL_3dcaf55fd2b748efa032048b55f8d8e4",
        "IPY_MODEL_17e7c8ff86a24439b8c43328b20d9ee8",
        "IPY_MODEL_2781abb4bc0347cdbeee50cdb60af562"
       ],
       "layout": "IPY_MODEL_bc890b86580c4292a7125c7e875af674"
      }
     },
     "b0f521962b6049479037a686d9fc24f9": {
      "model_module": "@jupyter-widgets/base",
      "model_module_version": "1.2.0",
      "model_name": "LayoutModel",
      "state": {}
     },
     "b1348a9c6b484b74a2bf72ed48b62586": {
      "model_module": "@jupyter-widgets/controls",
      "model_module_version": "1.5.0",
      "model_name": "SliderStyleModel",
      "state": {
       "description_width": ""
      }
     },
     "b143876078004679b493aa200f6ebc4e": {
      "model_module": "@jupyter-widgets/base",
      "model_module_version": "1.2.0",
      "model_name": "LayoutModel",
      "state": {}
     },
     "b19b3a4095ad4921976213e3a4edc4be": {
      "model_module": "@jupyter-widgets/base",
      "model_module_version": "1.2.0",
      "model_name": "LayoutModel",
      "state": {}
     },
     "b1e2cab7094d4eca81a081ae80fda9d4": {
      "model_module": "@jupyter-widgets/controls",
      "model_module_version": "1.5.0",
      "model_name": "SliderStyleModel",
      "state": {
       "description_width": ""
      }
     },
     "b215fef18a84430c8df4251a81d41495": {
      "model_module": "@jupyter-widgets/base",
      "model_module_version": "1.2.0",
      "model_name": "LayoutModel",
      "state": {}
     },
     "b23ef1d8306d4ee7b6d10e5603539b81": {
      "model_module": "@jupyter-widgets/controls",
      "model_module_version": "1.5.0",
      "model_name": "ButtonStyleModel",
      "state": {}
     },
     "b25e043c9a3f4bf2a99a9f2f1f0ae0bc": {
      "model_module": "@jupyter-widgets/controls",
      "model_module_version": "1.5.0",
      "model_name": "HBoxModel",
      "state": {
       "children": [
        "IPY_MODEL_b0376dff1d1f4e749857ddf3dd70d9eb",
        "IPY_MODEL_70081e9c962b4b9eb59ab668726e870f",
        "IPY_MODEL_ca8bbcdee66044f493c39fcbaf4cfc19",
        "IPY_MODEL_9dc8eacc18a04674902ec1b173eb5a98",
        "IPY_MODEL_7b0781fd16a9462f95ccf102d432dbf5"
       ],
       "layout": "IPY_MODEL_e61ff241db6744ceb834fe958e18a455"
      }
     },
     "b28557a3f6ca405c91173a2edf60b364": {
      "model_module": "@jupyter-widgets/base",
      "model_module_version": "1.2.0",
      "model_name": "LayoutModel",
      "state": {}
     },
     "b28a5c64550041ceb5daff6842ca09dc": {
      "model_module": "@jupyter-widgets/controls",
      "model_module_version": "1.5.0",
      "model_name": "ButtonModel",
      "state": {
       "description": "Reset Saturation Controls",
       "layout": "IPY_MODEL_e2b120fe0f644045976c7dd2dd2614d8",
       "style": "IPY_MODEL_784fffe5ad704bfe91dab4cd0692f9c0"
      }
     },
     "b2b1f17f7d82428c8f6ace5eb086765a": {
      "model_module": "@jupyter-widgets/base",
      "model_module_version": "1.2.0",
      "model_name": "LayoutModel",
      "state": {}
     },
     "b30cbb7c95234071935a2ce3e1b8b28d": {
      "model_module": "@jupyter-widgets/controls",
      "model_module_version": "1.5.0",
      "model_name": "ButtonModel",
      "state": {
       "description": "Reset Protected Area",
       "layout": "IPY_MODEL_1ea13fae6ca64d84b9cb3ab84d7ba9d0",
       "style": "IPY_MODEL_d34e8d8b2cbd431c9a39ba61b330243e"
      }
     },
     "b3df8b4ed9584a55a9d5e3b7856df4d9": {
      "model_module": "@jupyter-widgets/controls",
      "model_module_version": "1.5.0",
      "model_name": "CheckboxModel",
      "state": {
       "description": "Disable Medicina",
       "disabled": false,
       "layout": "IPY_MODEL_a6622f6a615142ed93fd9651878afb29",
       "style": "IPY_MODEL_dd3106e6abe04ce1be981bcdc2bd1c9b",
       "value": false
      }
     },
     "b3f886bd2dc94161b7318a4f5b936925": {
      "model_module": "@jupyter-widgets/controls",
      "model_module_version": "1.5.0",
      "model_name": "FloatSliderModel",
      "state": {
       "description": "Exposure",
       "layout": "IPY_MODEL_0b0b241729514c6ab38991a07073922b",
       "max": 8,
       "min": -8,
       "step": 0.1,
       "style": "IPY_MODEL_08aa81d335134ebdbf258a08c46a0a1c"
      }
     },
     "b400fd78177c4110ae224abff5564105": {
      "model_module": "@jupyter-widgets/controls",
      "model_module_version": "1.5.0",
      "model_name": "BoxModel",
      "state": {
       "children": [
        "IPY_MODEL_a1364c18e18548e5be6832c48472d3fc",
        "IPY_MODEL_b7dc5a84723a48519d303610ad16d1dc"
       ],
       "layout": "IPY_MODEL_b0d5bc76e9e1452f860c0e64833f5b5b"
      }
     },
     "b41496b66dcf47cf93996a7417cbe36b": {
      "model_module": "@jupyter-widgets/controls",
      "model_module_version": "1.5.0",
      "model_name": "VBoxModel",
      "state": {
       "children": [
        "IPY_MODEL_c245096ac2134c60b4ffb7482172d181",
        "IPY_MODEL_dc40f57df2be41848a28260f0bbd0a10",
        "IPY_MODEL_bb8d10b2c4a24d5a9094bf628823b582"
       ],
       "layout": "IPY_MODEL_ef0f4821bcbc4e5f85dbc512fe546d3d"
      }
     },
     "b43c4c9e1ce94c6194cf197689b0680f": {
      "model_module": "@jupyter-widgets/controls",
      "model_module_version": "1.5.0",
      "model_name": "HBoxModel",
      "state": {
       "children": [
        "IPY_MODEL_9f9c64ed0b53470eb3e1b6ff4a3732a1",
        "IPY_MODEL_7cab7e78673b41a598a2317ba120f7d6"
       ],
       "layout": "IPY_MODEL_ead6ce640948492190885387edd57abb"
      }
     },
     "b449f0c16d6f428ea81735a874599ae3": {
      "model_module": "@jupyter-widgets/controls",
      "model_module_version": "1.5.0",
      "model_name": "FloatSliderModel",
      "state": {
       "description": "90°",
       "layout": "IPY_MODEL_71af2af58ee64a0684be1e254b82cffb",
       "max": 1,
       "min": -1,
       "step": 0.01,
       "style": "IPY_MODEL_bca0b532dcc74a4bb1f908e7d86f35e0"
      }
     },
     "b4c0f7ab544245acbde233cef0f2b0f1": {
      "model_module": "@jupyter-widgets/controls",
      "model_module_version": "1.5.0",
      "model_name": "FloatSliderModel",
      "state": {
       "description": "Compression Threshold",
       "layout": "IPY_MODEL_509c292b43b941c48fa36545516b8d1d",
       "max": 1,
       "step": 0.01,
       "style": "IPY_MODEL_673316cc6b1a4ddf808b08ae3c62f808",
       "value": 0.8
      }
     },
     "b601303f2f7a477e9a15100bf782183a": {
      "model_module": "@jupyter-widgets/base",
      "model_module_version": "1.2.0",
      "model_name": "LayoutModel",
      "state": {}
     },
     "b6034314684f43d6adf71edf46ea6078": {
      "model_module": "@jupyter-widgets/output",
      "model_module_version": "1.0.0",
      "model_name": "OutputModel",
      "state": {
       "layout": "IPY_MODEL_4479dc772fca44f9b4f4f3b8baadcd4a",
       "outputs": [
        {
         "data": {
          "application/vnd.jupyter.widget-view+json": {
           "model_id": "54cbd708d0a34139a23929a5234104cd",
           "version_major": 2,
           "version_minor": 0
          },
          "text/plain": "Canvas(toolbar=Toolbar(toolitems=[('Home', 'Reset original view', 'home', 'home'), ('Back', 'Back to previous …"
         },
         "metadata": {},
         "output_type": "display_data"
        }
       ]
      }
     },
     "b6083199dd3d4f05806844977fedc0cc": {
      "model_module": "@jupyter-widgets/base",
      "model_module_version": "1.2.0",
      "model_name": "LayoutModel",
      "state": {}
     },
     "b6448a1abfb64ff09405aaf29c99c2a6": {
      "model_module": "@jupyter-widgets/controls",
      "model_module_version": "1.5.0",
      "model_name": "FloatSliderModel",
      "state": {
       "description": "Protected Area Threshold",
       "layout": "IPY_MODEL_30b094a909d640a8b71ceb90580f95dc",
       "max": 1,
       "step": 0.01,
       "style": "IPY_MODEL_d455b4da853149e3ad3c68228e6c0359",
       "value": 0.7
      }
     },
     "b65c7d6ca849482aa83e971059055eae": {
      "model_module": "@jupyter-widgets/base",
      "model_module_version": "1.2.0",
      "model_name": "LayoutModel",
      "state": {}
     },
     "b65f0f76332547b1a29220c439ca3d60": {
      "model_module": "@jupyter-widgets/controls",
      "model_module_version": "1.5.0",
      "model_name": "SliderStyleModel",
      "state": {
       "description_width": ""
      }
     },
     "b67bf1d9f5e84e1fa9ce5c2579683833": {
      "model_module": "@jupyter-widgets/controls",
      "model_module_version": "1.5.0",
      "model_name": "TabModel",
      "state": {
       "_titles": {
        "0": "Global Controls",
        "1": "Protected Area Controls",
        "2": "Saturation Controls",
        "3": "Hue Controls"
       },
       "children": [
        "IPY_MODEL_8128a8d07a9c4f98acb0e4102ec664d5",
        "IPY_MODEL_747b08b41f50441091328079fc088bf8",
        "IPY_MODEL_725396e8772747088709bae9bd699bd5",
        "IPY_MODEL_7e7dc62d22bb4edbb5a6f1e99a88efc5"
       ],
       "layout": "IPY_MODEL_86f68c9e1ec94585adfc4ad2bacdb3a8"
      }
     },
     "b67d6fea19bf4987941b6cdc844c5638": {
      "model_module": "@jupyter-widgets/controls",
      "model_module_version": "1.5.0",
      "model_name": "SliderStyleModel",
      "state": {
       "description_width": ""
      }
     },
     "b6877557bcb746fd88a29bbee5b854b6": {
      "model_module": "jupyter-matplotlib",
      "model_module_version": "^0.7.2",
      "model_name": "MPLCanvasModel",
      "state": {
       "_figure_label": "Figure 6",
       "_height": 508,
       "_width": 1100,
       "header_visible": false,
       "layout": "IPY_MODEL_45b9f50562f44216ad624b9763610cf2",
       "resizable": false,
       "toolbar": "IPY_MODEL_6ce5bfde262d4673a96b3e2f71e1c3df",
       "toolbar_position": "left",
       "toolbar_visible": false
      }
     },
     "b6af628c82cb433a833d8d54e79db060": {
      "model_module": "@jupyter-widgets/controls",
      "model_module_version": "1.5.0",
      "model_name": "ButtonModel",
      "state": {
       "description": "Reset Hue Controls",
       "layout": "IPY_MODEL_6f8e66a7ad7f498da58cd7a333d8f93f",
       "style": "IPY_MODEL_4da8806190964196a84bee2be8680b3f"
      }
     },
     "b6d045d991644ff584853ba1d49de887": {
      "model_module": "@jupyter-widgets/controls",
      "model_module_version": "1.5.0",
      "model_name": "VBoxModel",
      "state": {
       "children": [
        "IPY_MODEL_3a9b92bac319469b8ab8c0c708f5467b",
        "IPY_MODEL_499fcb4698c34c4cba05d36d04c9e2d8",
        "IPY_MODEL_54f78e7230e94feda396183e8fd450de"
       ],
       "layout": "IPY_MODEL_448072675da34d0da6f88b2f51997b98"
      }
     },
     "b6f36551551049879bc55e9212586f24": {
      "model_module": "@jupyter-widgets/base",
      "model_module_version": "1.2.0",
      "model_name": "LayoutModel",
      "state": {
       "border": "solid 4px #222",
       "margin": "4px",
       "padding": "0"
      }
     },
     "b6fc3978915a4f418303d75aca6050f8": {
      "model_module": "@jupyter-widgets/base",
      "model_module_version": "1.2.0",
      "model_name": "LayoutModel",
      "state": {}
     },
     "b705757a37964d40baa2f3abc4f552e2": {
      "model_module": "@jupyter-widgets/base",
      "model_module_version": "1.2.0",
      "model_name": "LayoutModel",
      "state": {}
     },
     "b76042800e4041f0aa69e58d1c93d95f": {
      "model_module": "@jupyter-widgets/base",
      "model_module_version": "1.2.0",
      "model_name": "LayoutModel",
      "state": {}
     },
     "b761fe55de3f4748bd9784bd20bce3b0": {
      "model_module": "@jupyter-widgets/base",
      "model_module_version": "1.2.0",
      "model_name": "LayoutModel",
      "state": {}
     },
     "b7aec0b2551549c29112408d711e4176": {
      "model_module": "@jupyter-widgets/output",
      "model_module_version": "1.0.0",
      "model_name": "OutputModel",
      "state": {
       "layout": "IPY_MODEL_0de6ae216c5a46a58c8de38970ab6797",
       "outputs": [
        {
         "data": {
          "application/vnd.jupyter.widget-view+json": {
           "model_id": "6cfd613e45cd4d409fde42c78eb78158",
           "version_major": 2,
           "version_minor": 0
          },
          "text/plain": "Canvas(toolbar=Toolbar(toolitems=[('Home', 'Reset original view', 'home', 'home'), ('Back', 'Back to previous …"
         },
         "metadata": {},
         "output_type": "display_data"
        }
       ]
      }
     },
     "b7c448eb5be6451fa32aabe56d345003": {
      "model_module": "@jupyter-widgets/controls",
      "model_module_version": "1.5.0",
      "model_name": "TabModel",
      "state": {
       "_titles": {
        "0": "Global Controls",
        "1": "Protected Area Controls",
        "2": "Saturation Controls",
        "3": "Hue Controls"
       },
       "children": [
        "IPY_MODEL_297b70d233a645f686fba23043b41362",
        "IPY_MODEL_25b638a1cb6c427197c6bc38bc634cd0",
        "IPY_MODEL_44d5262f86d94d3dac758d643f5c50af",
        "IPY_MODEL_a7269b2bfe6f4337a9f992d010e725a3"
       ],
       "layout": "IPY_MODEL_64e387aff36448579c1554e14d3a68e1"
      }
     },
     "b7dc5a84723a48519d303610ad16d1dc": {
      "model_module": "@jupyter-widgets/controls",
      "model_module_version": "1.5.0",
      "model_name": "TabModel",
      "state": {
       "_titles": {
        "0": "Global Controls"
       },
       "children": [
        "IPY_MODEL_3c3abda90b844fd9b2cb3e5f8cc36025"
       ],
       "layout": "IPY_MODEL_3804fcfa390b4a1eba3f7476c14262cc"
      }
     },
     "b7f068f4e9cb407c982b4dfdfc283b34": {
      "model_module": "@jupyter-widgets/base",
      "model_module_version": "1.2.0",
      "model_name": "LayoutModel",
      "state": {}
     },
     "b815529207bb40808e5fd56a549c18ed": {
      "model_module": "@jupyter-widgets/controls",
      "model_module_version": "1.5.0",
      "model_name": "BoxModel",
      "state": {
       "children": [
        "IPY_MODEL_71ea7211b6964a899d76883ff9cb0cc4",
        "IPY_MODEL_1e333efb6a7d41b1a93d381e0ebf10c6"
       ],
       "layout": "IPY_MODEL_3768dfce609f437eb81ce8d499d0811c"
      }
     },
     "b889f9c49d6a4ccf8affebb081d5d055": {
      "model_module": "@jupyter-widgets/controls",
      "model_module_version": "1.5.0",
      "model_name": "CheckboxModel",
      "state": {
       "description": "Disable Medicina",
       "disabled": false,
       "layout": "IPY_MODEL_3805c07a2a9e49488381cd913873cce7",
       "style": "IPY_MODEL_5d269309452e40d68f8c7ab78403ec47",
       "value": false
      }
     },
     "b8b5d9b763bd423eb1dba47ff540a11f": {
      "model_module": "@jupyter-widgets/controls",
      "model_module_version": "1.5.0",
      "model_name": "VBoxModel",
      "state": {
       "children": [
        "IPY_MODEL_20de5337d37f4fe6a90adbdb25698796"
       ],
       "layout": "IPY_MODEL_6e04a3fa8ccd4b8490645cb32196b88e"
      }
     },
     "b8ebf54353e94910b8e2ff803a5a4c1d": {
      "model_module": "@jupyter-widgets/controls",
      "model_module_version": "1.5.0",
      "model_name": "HBoxModel",
      "state": {
       "children": [
        "IPY_MODEL_3b4778e9825a42208d0d246d06967610",
        "IPY_MODEL_58fea07ad22c4c849873bddfe6c94559",
        "IPY_MODEL_d51716a78f67483ca62768839725bf5d",
        "IPY_MODEL_0fc20e4ffd324131b88fd971136b1ec8",
        "IPY_MODEL_e51a293d71a9418d865c042d5b891f21"
       ],
       "layout": "IPY_MODEL_123cfd52805f486b86616b1318485164"
      }
     },
     "b917856c406544609ff0ad8f1d9c020e": {
      "model_module": "@jupyter-widgets/base",
      "model_module_version": "1.2.0",
      "model_name": "LayoutModel",
      "state": {}
     },
     "b92ea867d86241b9a913a6df2c8d83aa": {
      "model_module": "@jupyter-widgets/controls",
      "model_module_version": "1.5.0",
      "model_name": "CheckboxModel",
      "state": {
       "description": "Disable Medicina",
       "disabled": false,
       "layout": "IPY_MODEL_67e66b8104cf405eb5174f1e759cb983",
       "style": "IPY_MODEL_741ec066be8746d6843ba494be5c16e1",
       "value": false
      }
     },
     "b94e2a3072a94c0284e0070c8a5771b7": {
      "model_module": "@jupyter-widgets/base",
      "model_module_version": "1.2.0",
      "model_name": "LayoutModel",
      "state": {}
     },
     "b9750f9849f04b55a1acf4c49a322c97": {
      "model_module": "@jupyter-widgets/base",
      "model_module_version": "1.2.0",
      "model_name": "LayoutModel",
      "state": {}
     },
     "b9999bfa810f425e873929b834597e42": {
      "model_module": "jupyter-matplotlib",
      "model_module_version": "^0.7.2",
      "model_name": "ToolbarModel",
      "state": {
       "layout": "IPY_MODEL_1e66dc18b57b4c24bd77bb0fcc457265",
       "toolitems": [
        [
         "Home",
         "Reset original view",
         "home",
         "home"
        ],
        [
         "Back",
         "Back to previous view",
         "arrow-left",
         "back"
        ],
        [
         "Forward",
         "Forward to next view",
         "arrow-right",
         "forward"
        ],
        [
         "Pan",
         "Pan axes with left mouse, zoom with right",
         "arrows",
         "pan"
        ],
        [
         "Zoom",
         "Zoom to rectangle",
         "square-o",
         "zoom"
        ],
        [
         "Download",
         "Download plot",
         "floppy-o",
         "save_figure"
        ]
       ]
      }
     },
     "b9c2ec1c596e4bfa9cd425390ac99179": {
      "model_module": "@jupyter-widgets/controls",
      "model_module_version": "1.5.0",
      "model_name": "FloatSliderModel",
      "state": {
       "description": "90°",
       "layout": "IPY_MODEL_527cb86580eb4d1d876244afa29449a8",
       "max": 1,
       "min": -1,
       "step": 0.01,
       "style": "IPY_MODEL_fe647b7c6c0049faaf174ad39a20c56c"
      }
     },
     "b9c6e48abc2f46d191356c38c159c06a": {
      "model_module": "@jupyter-widgets/base",
      "model_module_version": "1.2.0",
      "model_name": "LayoutModel",
      "state": {}
     },
     "b9d8fc2619f94b83ba6dd1bb9a2f020b": {
      "model_module": "@jupyter-widgets/base",
      "model_module_version": "1.2.0",
      "model_name": "LayoutModel",
      "state": {}
     },
     "b9e22cceb01541f3a13bd15f476ad86d": {
      "model_module": "@jupyter-widgets/controls",
      "model_module_version": "1.5.0",
      "model_name": "ButtonStyleModel",
      "state": {}
     },
     "ba0829d6e6d7421ab284fb5ddccea482": {
      "model_module": "@jupyter-widgets/base",
      "model_module_version": "1.2.0",
      "model_name": "LayoutModel",
      "state": {}
     },
     "ba32d74c6b544c6893add072e4f83178": {
      "model_module": "@jupyter-widgets/base",
      "model_module_version": "1.2.0",
      "model_name": "LayoutModel",
      "state": {}
     },
     "ba6d3928c4c847a2801ee80edd409aa3": {
      "model_module": "@jupyter-widgets/output",
      "model_module_version": "1.0.0",
      "model_name": "OutputModel",
      "state": {
       "layout": "IPY_MODEL_bcb38e88ca874a7c8535baf6cd224095",
       "outputs": [
        {
         "data": {
          "application/vnd.jupyter.widget-view+json": {
           "model_id": "97766ad7cc2740da9ca50cb789cc16c2",
           "version_major": 2,
           "version_minor": 0
          },
          "text/plain": "Canvas(toolbar=Toolbar(toolitems=[('Home', 'Reset original view', 'home', 'home'), ('Back', 'Back to previous …"
         },
         "metadata": {},
         "output_type": "display_data"
        }
       ]
      }
     },
     "ba7aa6e77cb94efea3db905f59d5c4a1": {
      "model_module": "@jupyter-widgets/base",
      "model_module_version": "1.2.0",
      "model_name": "LayoutModel",
      "state": {}
     },
     "baa06845e4f2400ab9094462046a88bb": {
      "model_module": "@jupyter-widgets/controls",
      "model_module_version": "1.5.0",
      "model_name": "HBoxModel",
      "state": {
       "children": [
        "IPY_MODEL_174c49a150594c8988fdc5f25c83edff",
        "IPY_MODEL_a3004c700f3f43c0927927f855304017",
        "IPY_MODEL_2c1b7b7a3b1e4f6c9d328513a3e54f9b",
        "IPY_MODEL_ca6695d7298e4d0cbb2330fe1ffdc66e",
        "IPY_MODEL_56387873b0bd424f919821ad9d74b36b"
       ],
       "layout": "IPY_MODEL_e8e7141270f54dc3ab5ce837b8d27381"
      }
     },
     "baa2c79fa84147bc83b7686e34194762": {
      "model_module": "@jupyter-widgets/controls",
      "model_module_version": "1.5.0",
      "model_name": "SliderStyleModel",
      "state": {
       "description_width": ""
      }
     },
     "bb46ddacb45447b8b1111a9129d4813c": {
      "model_module": "@jupyter-widgets/controls",
      "model_module_version": "1.5.0",
      "model_name": "FloatSliderModel",
      "state": {
       "description": "90°",
       "layout": "IPY_MODEL_1162596d650e4e2b85586e795282ee51",
       "max": 1,
       "min": -1,
       "step": 0.01,
       "style": "IPY_MODEL_16e617d0a63642ec836a8ffa07bf174d"
      }
     },
     "bb63c1c662f54ecdbec710d86f0b42d4": {
      "model_module": "@jupyter-widgets/base",
      "model_module_version": "1.2.0",
      "model_name": "LayoutModel",
      "state": {}
     },
     "bb82c593e4df47dd91777199a09eb2f4": {
      "model_module": "@jupyter-widgets/base",
      "model_module_version": "1.2.0",
      "model_name": "LayoutModel",
      "state": {
       "border": "solid 4px #222",
       "margin": "4px",
       "padding": "0"
      }
     },
     "bb8d10b2c4a24d5a9094bf628823b582": {
      "model_module": "@jupyter-widgets/controls",
      "model_module_version": "1.5.0",
      "model_name": "FloatSliderModel",
      "state": {
       "description": "225°",
       "layout": "IPY_MODEL_f4c9a570c5b046c2ac50ed0b658522ac",
       "max": 1,
       "min": -1,
       "step": 0.01,
       "style": "IPY_MODEL_7de44cfbc6c040ab984d1c3a650f907b"
      }
     },
     "bb8ed89c728c4e9bae2f89c35fbe0324": {
      "model_module": "@jupyter-widgets/controls",
      "model_module_version": "1.5.0",
      "model_name": "SliderStyleModel",
      "state": {
       "description_width": ""
      }
     },
     "bbbfa685e02a40e0bc92febf1701c0b6": {
      "model_module": "@jupyter-widgets/base",
      "model_module_version": "1.2.0",
      "model_name": "LayoutModel",
      "state": {}
     },
     "bbd2e891bf6a4ae3aacd7853a3f6a5c2": {
      "model_module": "@jupyter-widgets/controls",
      "model_module_version": "1.5.0",
      "model_name": "VBoxModel",
      "state": {
       "children": [
        "IPY_MODEL_2931082ee12d46a6895e2bdc7cf91741",
        "IPY_MODEL_61c0836561634e69933c95f16dae9df0"
       ],
       "layout": "IPY_MODEL_806934d63dbe4da4a2da178ae2091f4d"
      }
     },
     "bc0cde461909470d9f590287c5a9cba3": {
      "model_module": "@jupyter-widgets/base",
      "model_module_version": "1.2.0",
      "model_name": "LayoutModel",
      "state": {}
     },
     "bc1432b72b124bfc8ebd76fbf546f351": {
      "model_module": "@jupyter-widgets/base",
      "model_module_version": "1.2.0",
      "model_name": "LayoutModel",
      "state": {}
     },
     "bc298b9b88c4432c864b7af1c3cf07f1": {
      "model_module": "@jupyter-widgets/controls",
      "model_module_version": "1.5.0",
      "model_name": "FloatSliderModel",
      "state": {
       "description": "Protected Area Threshold",
       "layout": "IPY_MODEL_49543965d8d945788eafe3eccae285b5",
       "max": 1,
       "step": 0.01,
       "style": "IPY_MODEL_9da5891fb75f42f4aa845c48da1cd3ce",
       "value": 0.7
      }
     },
     "bc36d14996394fc39adf43508dbe2829": {
      "model_module": "@jupyter-widgets/base",
      "model_module_version": "1.2.0",
      "model_name": "LayoutModel",
      "state": {}
     },
     "bc46e2327c124f9db217346824992583": {
      "model_module": "@jupyter-widgets/controls",
      "model_module_version": "1.5.0",
      "model_name": "SliderStyleModel",
      "state": {
       "description_width": ""
      }
     },
     "bc6e15f0bc524badbb7d5f43cb31ec03": {
      "model_module": "@jupyter-widgets/base",
      "model_module_version": "1.2.0",
      "model_name": "LayoutModel",
      "state": {}
     },
     "bc890b86580c4292a7125c7e875af674": {
      "model_module": "@jupyter-widgets/base",
      "model_module_version": "1.2.0",
      "model_name": "LayoutModel",
      "state": {}
     },
     "bca0b532dcc74a4bb1f908e7d86f35e0": {
      "model_module": "@jupyter-widgets/controls",
      "model_module_version": "1.5.0",
      "model_name": "SliderStyleModel",
      "state": {
       "description_width": ""
      }
     },
     "bcb38e88ca874a7c8535baf6cd224095": {
      "model_module": "@jupyter-widgets/base",
      "model_module_version": "1.2.0",
      "model_name": "LayoutModel",
      "state": {
       "border": "solid 4px #222",
       "margin": "4px",
       "padding": "0"
      }
     },
     "bcec48a561f74dfbb8316bb7abb44c9c": {
      "model_module": "@jupyter-widgets/base",
      "model_module_version": "1.2.0",
      "model_name": "LayoutModel",
      "state": {}
     },
     "bcf5ffdf797a4ff986f83fbe90b65532": {
      "model_module": "@jupyter-widgets/base",
      "model_module_version": "1.2.0",
      "model_name": "LayoutModel",
      "state": {}
     },
     "bd0991095efb4055ab77c4ba585892ba": {
      "model_module": "@jupyter-widgets/base",
      "model_module_version": "1.2.0",
      "model_name": "LayoutModel",
      "state": {}
     },
     "bd2d5e48fd1a4b4899acbd3d505217f0": {
      "model_module": "@jupyter-widgets/controls",
      "model_module_version": "1.5.0",
      "model_name": "SliderStyleModel",
      "state": {
       "description_width": ""
      }
     },
     "bd456699dae44b1faa921ad702187312": {
      "model_module": "@jupyter-widgets/controls",
      "model_module_version": "1.5.0",
      "model_name": "ButtonStyleModel",
      "state": {}
     },
     "bd51ca024c434c60ba26fcd412061691": {
      "model_module": "@jupyter-widgets/base",
      "model_module_version": "1.2.0",
      "model_name": "LayoutModel",
      "state": {}
     },
     "bdbd2371d0bd416897caf5a0747f97de": {
      "model_module": "@jupyter-widgets/controls",
      "model_module_version": "1.5.0",
      "model_name": "SliderStyleModel",
      "state": {
       "description_width": ""
      }
     },
     "bdc3eb5e84fd4b288716bf24a93fbbdc": {
      "model_module": "@jupyter-widgets/base",
      "model_module_version": "1.2.0",
      "model_name": "LayoutModel",
      "state": {}
     },
     "bde9a21455f641a1ab360d900456fa8f": {
      "model_module": "@jupyter-widgets/base",
      "model_module_version": "1.2.0",
      "model_name": "LayoutModel",
      "state": {}
     },
     "bdec413fbae64b31b0c94ad2c7c24bb2": {
      "model_module": "@jupyter-widgets/base",
      "model_module_version": "1.2.0",
      "model_name": "LayoutModel",
      "state": {}
     },
     "bdecf0adbbce498ea38cf221fe6af027": {
      "model_module": "@jupyter-widgets/controls",
      "model_module_version": "1.5.0",
      "model_name": "VBoxModel",
      "state": {
       "children": [
        "IPY_MODEL_c3490cd7cd704c468f8c3192db90400e",
        "IPY_MODEL_cff6ee552baa4acfb9463c9f6c52d10c",
        "IPY_MODEL_7f773e871f2840858d9c545981283c07"
       ],
       "layout": "IPY_MODEL_097a4b26e99c4a84985097b4316f4db1"
      }
     },
     "be026b95cc0842a9b20c6d0f5c3395e4": {
      "model_module": "@jupyter-widgets/controls",
      "model_module_version": "1.5.0",
      "model_name": "ButtonModel",
      "state": {
       "description": "Export Image",
       "layout": "IPY_MODEL_ba0829d6e6d7421ab284fb5ddccea482",
       "style": "IPY_MODEL_2ca1c82441264c0b8b3d3fb0ae7d52b2"
      }
     },
     "be2e9882800848aa88b30621c30b8179": {
      "model_module": "@jupyter-widgets/controls",
      "model_module_version": "1.5.0",
      "model_name": "ButtonModel",
      "state": {
       "description": "Save Figure",
       "layout": "IPY_MODEL_aa25e7b30a424d4399bbb734b3ed90b6",
       "style": "IPY_MODEL_c64d5dc569d1448fa4f2cf7816a45530"
      }
     },
     "be4f71ec8cff4406a7d7f234046c742f": {
      "model_module": "@jupyter-widgets/controls",
      "model_module_version": "1.5.0",
      "model_name": "ButtonModel",
      "state": {
       "description": "Reset Hue Controls",
       "layout": "IPY_MODEL_3117e05ea2df445c91d52aa69b6297d6",
       "style": "IPY_MODEL_6a9df71e910d40ffb1da190c22497b5f"
      }
     },
     "bf18fc16e36948978d7b98fe9842d340": {
      "model_module": "@jupyter-widgets/controls",
      "model_module_version": "1.5.0",
      "model_name": "FloatSliderModel",
      "state": {
       "description": "225°",
       "layout": "IPY_MODEL_5f61a16e2e5a4486b91f195e7d02e508",
       "max": 1,
       "min": -1,
       "step": 0.01,
       "style": "IPY_MODEL_3e4a8f8f38db40d1be886f7e03f9eb41"
      }
     },
     "bf3798feca574ff6827dafabf81f5fdd": {
      "model_module": "@jupyter-widgets/controls",
      "model_module_version": "1.5.0",
      "model_name": "ButtonStyleModel",
      "state": {}
     },
     "bf7e4813e4be42679092dcd0e6dfbc14": {
      "model_module": "@jupyter-widgets/controls",
      "model_module_version": "1.5.0",
      "model_name": "CheckboxModel",
      "state": {
       "description": "Disable Medicina",
       "disabled": false,
       "layout": "IPY_MODEL_e0d01d03c0ad43c4980bce9d5b5c131e",
       "style": "IPY_MODEL_1d039e77b57c4bb68c108a42d8e4712a",
       "value": false
      }
     },
     "bf8106616f094c73875ec33ff0722b2c": {
      "model_module": "@jupyter-widgets/controls",
      "model_module_version": "1.5.0",
      "model_name": "SliderStyleModel",
      "state": {
       "description_width": ""
      }
     },
     "bf945b8583dd41d09786ad322896c4f5": {
      "model_module": "@jupyter-widgets/base",
      "model_module_version": "1.2.0",
      "model_name": "LayoutModel",
      "state": {}
     },
     "bfae9c5855764364b6863acf500a71ec": {
      "model_module": "@jupyter-widgets/controls",
      "model_module_version": "1.5.0",
      "model_name": "SliderStyleModel",
      "state": {
       "description_width": ""
      }
     },
     "bfca2263f5734403bdbca586a9e2fc94": {
      "model_module": "@jupyter-widgets/base",
      "model_module_version": "1.2.0",
      "model_name": "LayoutModel",
      "state": {}
     },
     "bfcaaaa699324cb683d15ef96b17189a": {
      "model_module": "@jupyter-widgets/output",
      "model_module_version": "1.0.0",
      "model_name": "OutputModel",
      "state": {
       "layout": "IPY_MODEL_80fa64aa56b24dfdac75c5feda917e2c",
       "outputs": [
        {
         "data": {
          "application/vnd.jupyter.widget-view+json": {
           "model_id": "e2131ac1786845f8997aff7c4e7d8801",
           "version_major": 2,
           "version_minor": 0
          },
          "text/plain": "Canvas(toolbar=Toolbar(toolitems=[('Home', 'Reset original view', 'home', 'home'), ('Back', 'Back to previous …"
         },
         "metadata": {},
         "output_type": "display_data"
        }
       ]
      }
     },
     "bfe9671600cc4617a0ab2f5908914a25": {
      "model_module": "@jupyter-widgets/base",
      "model_module_version": "1.2.0",
      "model_name": "LayoutModel",
      "state": {}
     },
     "bfee3e3a840841c4b03ec8de37a91bf1": {
      "model_module": "@jupyter-widgets/controls",
      "model_module_version": "1.5.0",
      "model_name": "ButtonStyleModel",
      "state": {}
     },
     "bffda807c8294e1299bdef2bf6c14f97": {
      "model_module": "@jupyter-widgets/controls",
      "model_module_version": "1.5.0",
      "model_name": "ButtonModel",
      "state": {
       "description": "Save Figure",
       "layout": "IPY_MODEL_c3751edc0d5c494ba59a98ac34f0a445",
       "style": "IPY_MODEL_8e084e5ab3f04ef49683d7064a3caafb"
      }
     },
     "c016c1a4ee8c4150835a917a5bf44107": {
      "model_module": "@jupyter-widgets/base",
      "model_module_version": "1.2.0",
      "model_name": "LayoutModel",
      "state": {}
     },
     "c02ddf3bd33243399f104169418d3429": {
      "model_module": "@jupyter-widgets/base",
      "model_module_version": "1.2.0",
      "model_name": "LayoutModel",
      "state": {}
     },
     "c058c1c99d164ed3b486afdb42686784": {
      "model_module": "@jupyter-widgets/base",
      "model_module_version": "1.2.0",
      "model_name": "LayoutModel",
      "state": {}
     },
     "c0a5d1cd4b854883a8800070915dad82": {
      "model_module": "@jupyter-widgets/base",
      "model_module_version": "1.2.0",
      "model_name": "LayoutModel",
      "state": {}
     },
     "c0e8f6848e31403cb6c1c6a268051085": {
      "model_module": "@jupyter-widgets/base",
      "model_module_version": "1.2.0",
      "model_name": "LayoutModel",
      "state": {}
     },
     "c12f3275ed0140fbb5bb9ac529aad82c": {
      "model_module": "@jupyter-widgets/controls",
      "model_module_version": "1.5.0",
      "model_name": "HBoxModel",
      "state": {
       "children": [
        "IPY_MODEL_01faf97042334b268b575da126e17b45",
        "IPY_MODEL_712c070ebd5a4ca7981cde14a7f186c1",
        "IPY_MODEL_b0ed8eb5c7294bd8981dfea6953c338a",
        "IPY_MODEL_7b5cfe3802f14d3ea98977ea98cbf963"
       ],
       "layout": "IPY_MODEL_9b64ee3c4ca54cd1855ce6c0ae6c9ee3"
      }
     },
     "c1a4be1711524027a179590b4163e7b5": {
      "model_module": "@jupyter-widgets/controls",
      "model_module_version": "1.5.0",
      "model_name": "ButtonStyleModel",
      "state": {}
     },
     "c1bca042327846d6acfbee7782b2c5ac": {
      "model_module": "@jupyter-widgets/controls",
      "model_module_version": "1.5.0",
      "model_name": "SliderStyleModel",
      "state": {
       "description_width": ""
      }
     },
     "c1e61107ae024c34b086d907c85c08c6": {
      "model_module": "@jupyter-widgets/base",
      "model_module_version": "1.2.0",
      "model_name": "LayoutModel",
      "state": {}
     },
     "c21658bc1af44b05a9cc01fa2cef69dd": {
      "model_module": "@jupyter-widgets/controls",
      "model_module_version": "1.5.0",
      "model_name": "DescriptionStyleModel",
      "state": {
       "description_width": ""
      }
     },
     "c21bde48ac3f4d4b90c0c5fecb193ad2": {
      "model_module": "@jupyter-widgets/controls",
      "model_module_version": "1.5.0",
      "model_name": "DescriptionStyleModel",
      "state": {
       "description_width": ""
      }
     },
     "c228e4e677cf407cb1a394766d3f9dbc": {
      "model_module": "@jupyter-widgets/base",
      "model_module_version": "1.2.0",
      "model_name": "LayoutModel",
      "state": {
       "border": "solid 4px #222",
       "margin": "4px",
       "padding": "0"
      }
     },
     "c245096ac2134c60b4ffb7482172d181": {
      "model_module": "@jupyter-widgets/controls",
      "model_module_version": "1.5.0",
      "model_name": "FloatSliderModel",
      "state": {
       "description": "135°",
       "layout": "IPY_MODEL_9a909e3eaeee4ef59911d906a9db671d",
       "max": 1,
       "min": -1,
       "step": 0.01,
       "style": "IPY_MODEL_c1bca042327846d6acfbee7782b2c5ac"
      }
     },
     "c26a4cef027347329a3b3c37f6fc3fca": {
      "model_module": "@jupyter-widgets/controls",
      "model_module_version": "1.5.0",
      "model_name": "VBoxModel",
      "state": {
       "children": [
        "IPY_MODEL_4b85fae831c34d6b9fe44739807a3602",
        "IPY_MODEL_940f7e43757441d7bfb2a4c23caad1f9",
        "IPY_MODEL_3c2c9e6f18c14fc09c24438c62b351fb"
       ],
       "layout": "IPY_MODEL_90b44d2f255840c6802ceb0093b48d78"
      }
     },
     "c280475ae7d643dd8fa8b0fe81d1fb05": {
      "model_module": "@jupyter-widgets/controls",
      "model_module_version": "1.5.0",
      "model_name": "SliderStyleModel",
      "state": {
       "description_width": ""
      }
     },
     "c2966231140b4150a1026daaf9e8cc80": {
      "model_module": "@jupyter-widgets/output",
      "model_module_version": "1.0.0",
      "model_name": "OutputModel",
      "state": {
       "layout": "IPY_MODEL_e6d9192cd5a04503b6b861eef2f90a3c",
       "outputs": [
        {
         "data": {
          "application/vnd.jupyter.widget-view+json": {
           "model_id": "1e2d65a0231d444b834c74a3bf8b1351",
           "version_major": 2,
           "version_minor": 0
          },
          "text/plain": "Canvas(toolbar=Toolbar(toolitems=[('Home', 'Reset original view', 'home', 'home'), ('Back', 'Back to previous …"
         },
         "metadata": {},
         "output_type": "display_data"
        }
       ]
      }
     },
     "c2d1f88886ee4b19a68e6bbc6ff232fd": {
      "model_module": "@jupyter-widgets/controls",
      "model_module_version": "1.5.0",
      "model_name": "TabModel",
      "state": {
       "_titles": {
        "0": "Global Controls",
        "1": "Compression Controls"
       },
       "children": [
        "IPY_MODEL_6927e8cefb5046d0968c1c9a42e5e54f",
        "IPY_MODEL_e35208b8de9f41ba8c9216ad0ecd629d"
       ],
       "layout": "IPY_MODEL_e09f307096514d15856c4047df7e45b6"
      }
     },
     "c3364721176a461d9347f721949f0c58": {
      "model_module": "@jupyter-widgets/output",
      "model_module_version": "1.0.0",
      "model_name": "OutputModel",
      "state": {
       "layout": "IPY_MODEL_b6f36551551049879bc55e9212586f24",
       "outputs": [
        {
         "data": {
          "application/vnd.jupyter.widget-view+json": {
           "model_id": "e18944d96b6e455291d1ff28aaeab27d",
           "version_major": 2,
           "version_minor": 0
          },
          "text/plain": "Canvas(toolbar=Toolbar(toolitems=[('Home', 'Reset original view', 'home', 'home'), ('Back', 'Back to previous …"
         },
         "metadata": {},
         "output_type": "display_data"
        }
       ]
      }
     },
     "c3490cd7cd704c468f8c3192db90400e": {
      "model_module": "@jupyter-widgets/controls",
      "model_module_version": "1.5.0",
      "model_name": "FloatSliderModel",
      "state": {
       "description": "135°",
       "layout": "IPY_MODEL_706569879fb14489ba1ecf08cc54cfcd",
       "max": 1,
       "min": -1,
       "step": 0.01,
       "style": "IPY_MODEL_ce6dcbac6ccd48858f09c37bb98ce73c"
      }
     },
     "c3751edc0d5c494ba59a98ac34f0a445": {
      "model_module": "@jupyter-widgets/base",
      "model_module_version": "1.2.0",
      "model_name": "LayoutModel",
      "state": {}
     },
     "c3a7cda9769240958ff10d3ab5e5161a": {
      "model_module": "@jupyter-widgets/base",
      "model_module_version": "1.2.0",
      "model_name": "LayoutModel",
      "state": {}
     },
     "c3b4a1dedd934c88a1419dfaec38eecf": {
      "model_module": "@jupyter-widgets/base",
      "model_module_version": "1.2.0",
      "model_name": "LayoutModel",
      "state": {}
     },
     "c3b6fab530b640679c50dcdefe232006": {
      "model_module": "@jupyter-widgets/base",
      "model_module_version": "1.2.0",
      "model_name": "LayoutModel",
      "state": {}
     },
     "c415e981c63f450c95db834fcf579d23": {
      "model_module": "@jupyter-widgets/controls",
      "model_module_version": "1.5.0",
      "model_name": "ButtonModel",
      "state": {
       "description": "Save Figure",
       "layout": "IPY_MODEL_b761fe55de3f4748bd9784bd20bce3b0",
       "style": "IPY_MODEL_f84a7a345f1f4e18a1826f5fcf3f2ff9"
      }
     },
     "c418342058194d79a731ead90d76c4dd": {
      "model_module": "@jupyter-widgets/base",
      "model_module_version": "1.2.0",
      "model_name": "LayoutModel",
      "state": {}
     },
     "c420a00285784fdc9620d6bd15e74f28": {
      "model_module": "@jupyter-widgets/controls",
      "model_module_version": "1.5.0",
      "model_name": "VBoxModel",
      "state": {
       "children": [
        "IPY_MODEL_03db2b4d051845d693fbefe10e5e7eae",
        "IPY_MODEL_6db24db30553468c8526ad6404419e33",
        "IPY_MODEL_ce21d0fb13714017a5a94adbba860948"
       ],
       "layout": "IPY_MODEL_b7f068f4e9cb407c982b4dfdfc283b34"
      }
     },
     "c43d111ea8794f84a424ee3f4689c8e4": {
      "model_module": "@jupyter-widgets/base",
      "model_module_version": "1.2.0",
      "model_name": "LayoutModel",
      "state": {}
     },
     "c447b52f1a4b4f1ebbf05e3e602877e9": {
      "model_module": "@jupyter-widgets/output",
      "model_module_version": "1.0.0",
      "model_name": "OutputModel",
      "state": {
       "layout": "IPY_MODEL_35c7d01703d240ec8818ac3f22f9b6d6",
       "outputs": [
        {
         "data": {
          "application/vnd.jupyter.widget-view+json": {
           "model_id": "9fbb232b223b4100be9057d5ef1ed7e5",
           "version_major": 2,
           "version_minor": 0
          },
          "text/plain": "Canvas(toolbar=Toolbar(toolitems=[('Home', 'Reset original view', 'home', 'home'), ('Back', 'Back to previous …"
         },
         "metadata": {},
         "output_type": "display_data"
        }
       ]
      }
     },
     "c4a23e2adab241d3a3c9df21e421d911": {
      "model_module": "@jupyter-widgets/controls",
      "model_module_version": "1.5.0",
      "model_name": "SliderStyleModel",
      "state": {
       "description_width": ""
      }
     },
     "c4ee7076f6bf4fa590ce5bac6defe727": {
      "model_module": "jupyter-matplotlib",
      "model_module_version": "^0.7.2",
      "model_name": "ToolbarModel",
      "state": {
       "layout": "IPY_MODEL_5d97adae356d4a08925784b270df3a87",
       "toolitems": [
        [
         "Home",
         "Reset original view",
         "home",
         "home"
        ],
        [
         "Back",
         "Back to previous view",
         "arrow-left",
         "back"
        ],
        [
         "Forward",
         "Forward to next view",
         "arrow-right",
         "forward"
        ],
        [
         "Pan",
         "Pan axes with left mouse, zoom with right",
         "arrows",
         "pan"
        ],
        [
         "Zoom",
         "Zoom to rectangle",
         "square-o",
         "zoom"
        ],
        [
         "Download",
         "Download plot",
         "floppy-o",
         "save_figure"
        ]
       ]
      }
     },
     "c642d57aa32d4b12bd1fcf52aa3aa9a9": {
      "model_module": "@jupyter-widgets/base",
      "model_module_version": "1.2.0",
      "model_name": "LayoutModel",
      "state": {}
     },
     "c64d5dc569d1448fa4f2cf7816a45530": {
      "model_module": "@jupyter-widgets/controls",
      "model_module_version": "1.5.0",
      "model_name": "ButtonStyleModel",
      "state": {}
     },
     "c69d2b6420684e2287f9fbd4064bc1cc": {
      "model_module": "@jupyter-widgets/base",
      "model_module_version": "1.2.0",
      "model_name": "LayoutModel",
      "state": {}
     },
     "c6aaf0c122f8413ba9f9334668512b00": {
      "model_module": "@jupyter-widgets/controls",
      "model_module_version": "1.5.0",
      "model_name": "SliderStyleModel",
      "state": {
       "description_width": ""
      }
     },
     "c6cb94134692455e9b083b69094ddf9c": {
      "model_module": "@jupyter-widgets/controls",
      "model_module_version": "1.5.0",
      "model_name": "ButtonModel",
      "state": {
       "description": "Reset Exposure",
       "layout": "IPY_MODEL_fcd349a7fd494fdab3e8a319451116c3",
       "style": "IPY_MODEL_a45ac53677a64d03a2ac6af5607ef9f6"
      }
     },
     "c6d9609dc3654a62b4f6c16a00249b1e": {
      "model_module": "@jupyter-widgets/controls",
      "model_module_version": "1.5.0",
      "model_name": "FloatSliderModel",
      "state": {
       "description": "Compression Threshold",
       "layout": "IPY_MODEL_11106bfda9954ca394bd04c1103858c5",
       "max": 1,
       "step": 0.01,
       "style": "IPY_MODEL_8e0a0f27ee57438daf6cc7cc861d819b",
       "value": 0.8
      }
     },
     "c6ddc68f95c54bd3b3904d4d97872f39": {
      "model_module": "@jupyter-widgets/controls",
      "model_module_version": "1.5.0",
      "model_name": "ButtonStyleModel",
      "state": {}
     },
     "c6e7bd9436434fd9a81b037fc0dd3f87": {
      "model_module": "@jupyter-widgets/base",
      "model_module_version": "1.2.0",
      "model_name": "LayoutModel",
      "state": {}
     },
     "c6fac4f72a474730be7f90ea53177f2c": {
      "model_module": "@jupyter-widgets/base",
      "model_module_version": "1.2.0",
      "model_name": "LayoutModel",
      "state": {}
     },
     "c709d395bb6748b28f51cb8f511b4a47": {
      "model_module": "@jupyter-widgets/base",
      "model_module_version": "1.2.0",
      "model_name": "LayoutModel",
      "state": {}
     },
     "c73c412b3b6e4f75acec4854784b6661": {
      "model_module": "@jupyter-widgets/controls",
      "model_module_version": "1.5.0",
      "model_name": "SliderStyleModel",
      "state": {
       "description_width": ""
      }
     },
     "c766bb1e399c495d85ba906d5ae4cb0a": {
      "model_module": "@jupyter-widgets/controls",
      "model_module_version": "1.5.0",
      "model_name": "FloatSliderModel",
      "state": {
       "description": "0°",
       "layout": "IPY_MODEL_9c8d1dce5366436883faf88617ba27d3",
       "max": 1,
       "min": -1,
       "step": 0.01,
       "style": "IPY_MODEL_d28e272a66584f6aa93a9e0dcb2d656e"
      }
     },
     "c779e97cc6114f8cbf227ba63819a3c7": {
      "model_module": "@jupyter-widgets/base",
      "model_module_version": "1.2.0",
      "model_name": "LayoutModel",
      "state": {}
     },
     "c77e87e5a07d47e693e63de05ebaabb2": {
      "model_module": "@jupyter-widgets/controls",
      "model_module_version": "1.5.0",
      "model_name": "SliderStyleModel",
      "state": {
       "description_width": ""
      }
     },
     "c7bfc441e95442e7b9340a09a542a4d0": {
      "model_module": "@jupyter-widgets/controls",
      "model_module_version": "1.5.0",
      "model_name": "ButtonStyleModel",
      "state": {}
     },
     "c7c579846e93438c8d8d3c9631c9553f": {
      "model_module": "@jupyter-widgets/base",
      "model_module_version": "1.2.0",
      "model_name": "LayoutModel",
      "state": {}
     },
     "c7deed24dc2540ef92ab436e14b87bd4": {
      "model_module": "@jupyter-widgets/base",
      "model_module_version": "1.2.0",
      "model_name": "LayoutModel",
      "state": {}
     },
     "c7ecf988773c48238bc015d64b7d9dd3": {
      "model_module": "@jupyter-widgets/base",
      "model_module_version": "1.2.0",
      "model_name": "LayoutModel",
      "state": {}
     },
     "c7ee8bb1bb904abeb2f9b3b0b554d6b9": {
      "model_module": "@jupyter-widgets/base",
      "model_module_version": "1.2.0",
      "model_name": "LayoutModel",
      "state": {
       "border": "solid 4px #222",
       "margin": "4px",
       "padding": "0"
      }
     },
     "c80cbcb6457b4e18a962d576f34c69f4": {
      "model_module": "@jupyter-widgets/controls",
      "model_module_version": "1.5.0",
      "model_name": "CheckboxModel",
      "state": {
       "description": "Disable Medicina",
       "disabled": false,
       "layout": "IPY_MODEL_ee0aa899e54248a5881c0adbc7073db2",
       "style": "IPY_MODEL_a741e43af23940a2843818bb9fc427b8",
       "value": false
      }
     },
     "c814eb17874b4c0d8a8c4e755b51742a": {
      "model_module": "@jupyter-widgets/base",
      "model_module_version": "1.2.0",
      "model_name": "LayoutModel",
      "state": {}
     },
     "c831984aee504f27a7278b323413fca1": {
      "model_module": "@jupyter-widgets/base",
      "model_module_version": "1.2.0",
      "model_name": "LayoutModel",
      "state": {}
     },
     "c84fd1c46be04fd19770b32263e9c7f4": {
      "model_module": "@jupyter-widgets/controls",
      "model_module_version": "1.5.0",
      "model_name": "VBoxModel",
      "state": {
       "children": [
        "IPY_MODEL_0361fb5fb4944dc6a935d0770aea9703",
        "IPY_MODEL_93b8b1de14204e8a87a6639fa63873dd",
        "IPY_MODEL_a7f9c942d2bd45d7b0b6a7695bfc95eb"
       ],
       "layout": "IPY_MODEL_4326cd3c6927499c8f301f63b55e9a9a"
      }
     },
     "c850cb7b5b1a4772966dca8d75432344": {
      "model_module": "@jupyter-widgets/controls",
      "model_module_version": "1.5.0",
      "model_name": "HBoxModel",
      "state": {
       "children": [
        "IPY_MODEL_4a8c8b524e41473c8b6b9fabcbd0c876",
        "IPY_MODEL_2afc4de631ae42008d16cbb49382ba32",
        "IPY_MODEL_dfd5b3086f484e49a8561aeac701e158"
       ],
       "layout": "IPY_MODEL_7105475218764e2d8d76c8a818a6b8a2"
      }
     },
     "c8512762191344dda49af32cc6bf60e6": {
      "model_module": "@jupyter-widgets/controls",
      "model_module_version": "1.5.0",
      "model_name": "CheckboxModel",
      "state": {
       "description": "Disable Medicina",
       "disabled": false,
       "layout": "IPY_MODEL_bdc3eb5e84fd4b288716bf24a93fbbdc",
       "style": "IPY_MODEL_98e31ae471cd48ed9ac69c74acf080bd",
       "value": false
      }
     },
     "c8525df8d1044dcda3da2146afe3565a": {
      "model_module": "@jupyter-widgets/controls",
      "model_module_version": "1.5.0",
      "model_name": "VBoxModel",
      "state": {
       "children": [
        "IPY_MODEL_4d3f7b42cc014edbb154d56584c86a38"
       ],
       "layout": "IPY_MODEL_3b2b1f79b69b4fe0b555f17880382848"
      }
     },
     "c8578c8cbf4c4cc4b55d1e561f1e031f": {
      "model_module": "@jupyter-widgets/controls",
      "model_module_version": "1.5.0",
      "model_name": "SliderStyleModel",
      "state": {
       "description_width": ""
      }
     },
     "c870d00c6d6e4d6f894ee634cedb6ee1": {
      "model_module": "@jupyter-widgets/controls",
      "model_module_version": "1.5.0",
      "model_name": "FloatSliderModel",
      "state": {
       "description": "0°",
       "layout": "IPY_MODEL_d538efffb9d846be8731c62fddaeb2b3",
       "max": 1,
       "min": -1,
       "step": 0.01,
       "style": "IPY_MODEL_5a7cd48f1a584c3697881ed9833b75ff"
      }
     },
     "c87e1876b7664775ba8d3e1e135e9e84": {
      "model_module": "@jupyter-widgets/base",
      "model_module_version": "1.2.0",
      "model_name": "LayoutModel",
      "state": {}
     },
     "c8c60eac48984d13ac969abb8e27882d": {
      "model_module": "@jupyter-widgets/base",
      "model_module_version": "1.2.0",
      "model_name": "LayoutModel",
      "state": {}
     },
     "c8e42fc85b97440f9b117d3378f002ec": {
      "model_module": "@jupyter-widgets/base",
      "model_module_version": "1.2.0",
      "model_name": "LayoutModel",
      "state": {}
     },
     "c93f659f631643a8852082cdbb30a13b": {
      "model_module": "@jupyter-widgets/controls",
      "model_module_version": "1.5.0",
      "model_name": "DescriptionStyleModel",
      "state": {
       "description_width": ""
      }
     },
     "c943543140d54b90bd0be7285ec11865": {
      "model_module": "@jupyter-widgets/base",
      "model_module_version": "1.2.0",
      "model_name": "LayoutModel",
      "state": {}
     },
     "c94c0d8c35314a74a631b7c947b1e60b": {
      "model_module": "@jupyter-widgets/base",
      "model_module_version": "1.2.0",
      "model_name": "LayoutModel",
      "state": {}
     },
     "c98fc85b26be4e6b96df69060155527d": {
      "model_module": "@jupyter-widgets/base",
      "model_module_version": "1.2.0",
      "model_name": "LayoutModel",
      "state": {
       "align_items": "stretch",
       "display": "flex",
       "flex_flow": "column",
       "width": "1128px"
      }
     },
     "c9c267e3369c49ea9058cf77ccae8900": {
      "model_module": "@jupyter-widgets/base",
      "model_module_version": "1.2.0",
      "model_name": "LayoutModel",
      "state": {
       "border": "solid 4px #222",
       "margin": "4px",
       "padding": "0"
      }
     },
     "c9effafb523a4d449b5058f72c8365d5": {
      "model_module": "@jupyter-widgets/controls",
      "model_module_version": "1.5.0",
      "model_name": "HBoxModel",
      "state": {
       "children": [
        "IPY_MODEL_3b2dcd602d9b43969f3c7acd0bb03536",
        "IPY_MODEL_59a5d7aaf5e7420e80adff8ef14c926f"
       ],
       "layout": "IPY_MODEL_269e3787129c4238b1c4e81675c53645"
      }
     },
     "c9fd6cadd5074a3b9efed9e53f42f48c": {
      "model_module": "@jupyter-widgets/base",
      "model_module_version": "1.2.0",
      "model_name": "LayoutModel",
      "state": {}
     },
     "ca4d3c7f3ced4e868570928a3d022d9c": {
      "model_module": "@jupyter-widgets/controls",
      "model_module_version": "1.5.0",
      "model_name": "ButtonModel",
      "state": {
       "description": "Reset Hue Controls",
       "layout": "IPY_MODEL_d1af1108286b47fe9cfe26a2c81fd275",
       "style": "IPY_MODEL_43e8156d5cf74b3fb9853bc9fcc265fd"
      }
     },
     "ca6695d7298e4d0cbb2330fe1ffdc66e": {
      "model_module": "@jupyter-widgets/controls",
      "model_module_version": "1.5.0",
      "model_name": "ButtonModel",
      "state": {
       "description": "Reset Exposure",
       "layout": "IPY_MODEL_765f9d4c0e4d4498ac954cbc16e1da24",
       "style": "IPY_MODEL_cd7038fe126a4aec89c0102419934b04"
      }
     },
     "ca7ff77a0ef8471da8c5cf4e60392d60": {
      "model_module": "@jupyter-widgets/controls",
      "model_module_version": "1.5.0",
      "model_name": "CheckboxModel",
      "state": {
       "description": "Disable Medicina",
       "disabled": false,
       "layout": "IPY_MODEL_e0e912f117be4272bd0296a8e11ebd6b",
       "style": "IPY_MODEL_e1ece18dbdf04ad588486799a6ee8c6f",
       "value": false
      }
     },
     "ca8bbcdee66044f493c39fcbaf4cfc19": {
      "model_module": "@jupyter-widgets/controls",
      "model_module_version": "1.5.0",
      "model_name": "ButtonModel",
      "state": {
       "description": "Save Figure",
       "layout": "IPY_MODEL_b94e2a3072a94c0284e0070c8a5771b7",
       "style": "IPY_MODEL_66451717dc4046bbbbf21fb6ed11b8c0"
      }
     },
     "caabdccd6618492b8773e05719aee53e": {
      "model_module": "@jupyter-widgets/controls",
      "model_module_version": "1.5.0",
      "model_name": "DropdownModel",
      "state": {
       "_options_labels": [
        "tanh",
        "atan",
        "simple"
       ],
       "description": "Compression Function:",
       "index": 0,
       "layout": "IPY_MODEL_2e0015e7377c4e1498f2cc4ed1febd15",
       "style": "IPY_MODEL_0e1ce82b11a048f891f3680ace0ae72b"
      }
     },
     "cb44ee82cc2a4c5eabe47ddc1774166b": {
      "model_module": "@jupyter-widgets/base",
      "model_module_version": "1.2.0",
      "model_name": "LayoutModel",
      "state": {}
     },
     "cb619f4e56314b0ebd748e1a258b591f": {
      "model_module": "@jupyter-widgets/controls",
      "model_module_version": "1.5.0",
      "model_name": "ButtonStyleModel",
      "state": {}
     },
     "cb72d69c4f8a4d3ea888ec6cdb337e92": {
      "model_module": "@jupyter-widgets/base",
      "model_module_version": "1.2.0",
      "model_name": "LayoutModel",
      "state": {}
     },
     "cb8d1b5905fc441bb8006d36259a8850": {
      "model_module": "@jupyter-widgets/base",
      "model_module_version": "1.2.0",
      "model_name": "LayoutModel",
      "state": {
       "border": "solid 4px #222",
       "margin": "4px",
       "padding": "0"
      }
     },
     "cbb1285aeb1e46038882c7ffa7957406": {
      "model_module": "@jupyter-widgets/controls",
      "model_module_version": "1.5.0",
      "model_name": "HBoxModel",
      "state": {
       "children": [
        "IPY_MODEL_920b0198a7a14d7abb9938f30e359899",
        "IPY_MODEL_62b26d4cb8bc40298c1c84837f7e12d8",
        "IPY_MODEL_c26a4cef027347329a3b3c37f6fc3fca",
        "IPY_MODEL_d15b5504e9aa4c7bb2dc898577e88b19"
       ],
       "layout": "IPY_MODEL_442585a0d2074859b12a4277c096977d"
      }
     },
     "cbfb0216979d47e49c3964c58928c4e5": {
      "model_module": "@jupyter-widgets/base",
      "model_module_version": "1.2.0",
      "model_name": "LayoutModel",
      "state": {}
     },
     "cc120c2726f940cba24442548250e686": {
      "model_module": "@jupyter-widgets/controls",
      "model_module_version": "1.5.0",
      "model_name": "ButtonModel",
      "state": {
       "description": "Reset Compression Controls",
       "layout": "IPY_MODEL_9738780a6bbe45bf9b4c9536b057315f",
       "style": "IPY_MODEL_89706db0d45b4c288eab092c8ff9f63a"
      }
     },
     "cc45e84cdd314b62a9046fd2bd5d7f74": {
      "model_module": "jupyter-matplotlib",
      "model_module_version": "^0.7.2",
      "model_name": "ToolbarModel",
      "state": {
       "layout": "IPY_MODEL_bc6e15f0bc524badbb7d5f43cb31ec03",
       "toolitems": [
        [
         "Home",
         "Reset original view",
         "home",
         "home"
        ],
        [
         "Back",
         "Back to previous view",
         "arrow-left",
         "back"
        ],
        [
         "Forward",
         "Forward to next view",
         "arrow-right",
         "forward"
        ],
        [
         "Pan",
         "Pan axes with left mouse, zoom with right",
         "arrows",
         "pan"
        ],
        [
         "Zoom",
         "Zoom to rectangle",
         "square-o",
         "zoom"
        ],
        [
         "Download",
         "Download plot",
         "floppy-o",
         "save_figure"
        ]
       ]
      }
     },
     "cc500b4149074b60beea30740dd31666": {
      "model_module": "@jupyter-widgets/controls",
      "model_module_version": "1.5.0",
      "model_name": "HBoxModel",
      "state": {
       "children": [
        "IPY_MODEL_7a36a2081f79486ca1ebc73b33b6baa2",
        "IPY_MODEL_d4796588c20744d5b071bc44d41ff53d",
        "IPY_MODEL_fc0c79fd906e4e34b2ab4ad42eb6cfe0"
       ],
       "layout": "IPY_MODEL_3e5bf0e147e44a398177b72276c49f15"
      }
     },
     "cc57c775b2dd48d3893551b1233f9bd9": {
      "model_module": "@jupyter-widgets/controls",
      "model_module_version": "1.5.0",
      "model_name": "ButtonModel",
      "state": {
       "description": "Export Image",
       "layout": "IPY_MODEL_1581f6bcf25a4f3c806455f6ed873954",
       "style": "IPY_MODEL_ef987f865d124bc5aabeac6b9fb25506"
      }
     },
     "cc6a70596d434d57beed27250d547418": {
      "model_module": "@jupyter-widgets/base",
      "model_module_version": "1.2.0",
      "model_name": "LayoutModel",
      "state": {}
     },
     "cc8d0e88d1ff40258d7bac63e9337d77": {
      "model_module": "@jupyter-widgets/controls",
      "model_module_version": "1.5.0",
      "model_name": "DropdownModel",
      "state": {
       "_options_labels": [
        "tanh",
        "atan",
        "simple"
       ],
       "description": "Compression Function:",
       "index": 0,
       "layout": "IPY_MODEL_b0eaadfd6a0d4ddf88575f2fce3a61ef",
       "style": "IPY_MODEL_fe0130126c494ab495f4b22cfefba6d8"
      }
     },
     "cc8fbe61492044a29b1b6fddcb3248cc": {
      "model_module": "@jupyter-widgets/controls",
      "model_module_version": "1.5.0",
      "model_name": "TabModel",
      "state": {
       "_titles": {
        "0": "Global Controls"
       },
       "children": [
        "IPY_MODEL_7aca330b201543fdbe7876068b29bfa5"
       ],
       "layout": "IPY_MODEL_53aa330c8b99414294e703ee74cbbb48"
      }
     },
     "ccb779a325e8447ba3960ef67169fb72": {
      "model_module": "@jupyter-widgets/controls",
      "model_module_version": "1.5.0",
      "model_name": "ButtonModel",
      "state": {
       "description": "Export Image",
       "layout": "IPY_MODEL_658bfc2d50f849dbb0d091ba701c42f5",
       "style": "IPY_MODEL_ad582766eb0a4cfba7499987f5c46b98"
      }
     },
     "ccd4c89efa7c466facef0f3c86ef3e47": {
      "model_module": "@jupyter-widgets/controls",
      "model_module_version": "1.5.0",
      "model_name": "TabModel",
      "state": {
       "_titles": {
        "0": "Global Controls",
        "1": "Protected Area Controls",
        "2": "Saturation Controls",
        "3": "Hue Controls"
       },
       "children": [
        "IPY_MODEL_80bf489a0df943a88b40678526e87d73",
        "IPY_MODEL_b43c4c9e1ce94c6194cf197689b0680f",
        "IPY_MODEL_3f4ad3e2dbbd4b249e2d9cce48f6827b",
        "IPY_MODEL_a3abed608441495e90692e7253280c6b"
       ],
       "layout": "IPY_MODEL_93f61f95ddbc45068be3e7847378e7ba"
      }
     },
     "cce94668021149b58c69cd2bdab09cc0": {
      "model_module": "@jupyter-widgets/controls",
      "model_module_version": "1.5.0",
      "model_name": "SliderStyleModel",
      "state": {
       "description_width": ""
      }
     },
     "ccee527ccef44280ab4435dd7e93c4be": {
      "model_module": "@jupyter-widgets/controls",
      "model_module_version": "1.5.0",
      "model_name": "FloatSliderModel",
      "state": {
       "description": "90°",
       "layout": "IPY_MODEL_5757f80dbabf408f99851891f82bb7dd",
       "max": 1,
       "min": -1,
       "step": 0.01,
       "style": "IPY_MODEL_4fcf890ee73b4799beac7470eb6bfe78"
      }
     },
     "cceeab0972714f3f84af4b723a61e8d0": {
      "model_module": "@jupyter-widgets/controls",
      "model_module_version": "1.5.0",
      "model_name": "SliderStyleModel",
      "state": {
       "description_width": ""
      }
     },
     "cd1ae07c8ef04b1fb07abd8ad065923b": {
      "model_module": "@jupyter-widgets/controls",
      "model_module_version": "1.5.0",
      "model_name": "CheckboxModel",
      "state": {
       "description": "Disable Medicina",
       "disabled": false,
       "layout": "IPY_MODEL_9f648468d5014467b07559fc0103905e",
       "style": "IPY_MODEL_55f5ddda17c5489eae56a79cdd7fe9ee",
       "value": false
      }
     },
     "cd30633135a748439d3214b489dde5b0": {
      "model_module": "@jupyter-widgets/base",
      "model_module_version": "1.2.0",
      "model_name": "LayoutModel",
      "state": {}
     },
     "cd4a4d9f850243898307299915d5aeab": {
      "model_module": "@jupyter-widgets/controls",
      "model_module_version": "1.5.0",
      "model_name": "ButtonStyleModel",
      "state": {}
     },
     "cd5de9f01c8943e9bc1dc042d1f3f077": {
      "model_module": "@jupyter-widgets/controls",
      "model_module_version": "1.5.0",
      "model_name": "SliderStyleModel",
      "state": {
       "description_width": ""
      }
     },
     "cd7038fe126a4aec89c0102419934b04": {
      "model_module": "@jupyter-widgets/controls",
      "model_module_version": "1.5.0",
      "model_name": "ButtonStyleModel",
      "state": {}
     },
     "cd88e08ecbb242a997110949ecb6aa35": {
      "model_module": "@jupyter-widgets/base",
      "model_module_version": "1.2.0",
      "model_name": "LayoutModel",
      "state": {}
     },
     "cdec0215513242ebac3d899ebaebe44e": {
      "model_module": "@jupyter-widgets/controls",
      "model_module_version": "1.5.0",
      "model_name": "ButtonModel",
      "state": {
       "description": "Reset Hue Controls",
       "layout": "IPY_MODEL_195538fee4c5477f9bc6588cc836ee26",
       "style": "IPY_MODEL_a5b7308280bc42a281db1b89f37d817d"
      }
     },
     "cdeeb2a07083490babb14b1633d51824": {
      "model_module": "@jupyter-widgets/base",
      "model_module_version": "1.2.0",
      "model_name": "LayoutModel",
      "state": {}
     },
     "ce04068d01314a06b7736ee9942b24ea": {
      "model_module": "@jupyter-widgets/output",
      "model_module_version": "1.0.0",
      "model_name": "OutputModel",
      "state": {
       "layout": "IPY_MODEL_12532e42e5694461afed2bd40e1abe97",
       "outputs": [
        {
         "data": {
          "application/vnd.jupyter.widget-view+json": {
           "model_id": "fe7229ffab91493f8bd787c6ad471dff",
           "version_major": 2,
           "version_minor": 0
          },
          "text/plain": "Canvas(toolbar=Toolbar(toolitems=[('Home', 'Reset original view', 'home', 'home'), ('Back', 'Back to previous …"
         },
         "metadata": {},
         "output_type": "display_data"
        }
       ]
      }
     },
     "ce21d0fb13714017a5a94adbba860948": {
      "model_module": "@jupyter-widgets/controls",
      "model_module_version": "1.5.0",
      "model_name": "FloatSliderModel",
      "state": {
       "description": "90°",
       "layout": "IPY_MODEL_39a9352ca0c94cbaa27f6d9ea1c19d77",
       "max": 1,
       "min": -1,
       "step": 0.01,
       "style": "IPY_MODEL_8f627a44bba7458c818f964ed4c9b7a8"
      }
     },
     "ce3b44e4407640908e22da631ed3da93": {
      "model_module": "@jupyter-widgets/base",
      "model_module_version": "1.2.0",
      "model_name": "LayoutModel",
      "state": {}
     },
     "ce5cf844969a40ccaebdcd671ecb273c": {
      "model_module": "@jupyter-widgets/controls",
      "model_module_version": "1.5.0",
      "model_name": "HBoxModel",
      "state": {
       "children": [
        "IPY_MODEL_8bae3b253e064b71a221022b91511482",
        "IPY_MODEL_e816e8d762cb4a349dbdb5b206732f66",
        "IPY_MODEL_7b0e52a0179942959f0211a2e4c19811"
       ],
       "layout": "IPY_MODEL_190e94f056b94c63ab2c3adf2af48924"
      }
     },
     "ce6dcbac6ccd48858f09c37bb98ce73c": {
      "model_module": "@jupyter-widgets/controls",
      "model_module_version": "1.5.0",
      "model_name": "SliderStyleModel",
      "state": {
       "description_width": ""
      }
     },
     "ce84ac88caed4dbd981513cffd638561": {
      "model_module": "@jupyter-widgets/controls",
      "model_module_version": "1.5.0",
      "model_name": "ButtonStyleModel",
      "state": {}
     },
     "ce8775f717a648f082ac0c753c5b3119": {
      "model_module": "@jupyter-widgets/controls",
      "model_module_version": "1.5.0",
      "model_name": "ButtonModel",
      "state": {
       "description": "Reset Protected Area",
       "layout": "IPY_MODEL_d0c2ed56fc634d6586a19ce6d6ab9967",
       "style": "IPY_MODEL_d9d91a96827747919e328b661e12baca"
      }
     },
     "cea3d39a7fbd47289cd7fadce1dde8e5": {
      "model_module": "@jupyter-widgets/controls",
      "model_module_version": "1.5.0",
      "model_name": "BoxModel",
      "state": {
       "children": [
        "IPY_MODEL_c447b52f1a4b4f1ebbf05e3e602877e9",
        "IPY_MODEL_8699b2fa5bcb4201a0caaaa53e5aa84b"
       ],
       "layout": "IPY_MODEL_50cc90dc0d144cfe9e38938eaa3020c3"
      }
     },
     "ceeee07a632545d08b4afd1fa92acce2": {
      "model_module": "@jupyter-widgets/controls",
      "model_module_version": "1.5.0",
      "model_name": "TabModel",
      "state": {
       "_titles": {
        "0": "Global Controls"
       },
       "children": [
        "IPY_MODEL_7fa34f235de34e6f9cc2b8bda981e38e"
       ],
       "layout": "IPY_MODEL_2de7a5d83cec4d5e9f9fff0ef0a57d16"
      }
     },
     "cf0f152dc723459299a2f6e9f29eaccd": {
      "model_module": "@jupyter-widgets/controls",
      "model_module_version": "1.5.0",
      "model_name": "ButtonModel",
      "state": {
       "description": "Export Image",
       "layout": "IPY_MODEL_74b7e298c5df493c8ef9a906689e870d",
       "style": "IPY_MODEL_44512d64b3f34d00a6f3b076f8fa15e9"
      }
     },
     "cf2688d19aba431a98e8ee67ef97c94a": {
      "model_module": "@jupyter-widgets/base",
      "model_module_version": "1.2.0",
      "model_name": "LayoutModel",
      "state": {}
     },
     "cf2f0dd703d84f8ca9526da940a3876b": {
      "model_module": "@jupyter-widgets/base",
      "model_module_version": "1.2.0",
      "model_name": "LayoutModel",
      "state": {}
     },
     "cf4225b6c5104b5189c9c0e632f8d19f": {
      "model_module": "@jupyter-widgets/controls",
      "model_module_version": "1.5.0",
      "model_name": "HBoxModel",
      "state": {
       "children": [
        "IPY_MODEL_87668fdf0c444b219b5edf399472c09f",
        "IPY_MODEL_93082d6cbf0b430e86eaef2cf9cbf25c",
        "IPY_MODEL_d8ea6214023545359151d9b26f3d23db"
       ],
       "layout": "IPY_MODEL_bcec48a561f74dfbb8316bb7abb44c9c"
      }
     },
     "cf4ad8a26b3946a9a6c6480acae31d88": {
      "model_module": "@jupyter-widgets/base",
      "model_module_version": "1.2.0",
      "model_name": "LayoutModel",
      "state": {}
     },
     "cf524ebf75084e59a53df7573b5837e6": {
      "model_module": "@jupyter-widgets/base",
      "model_module_version": "1.2.0",
      "model_name": "LayoutModel",
      "state": {}
     },
     "cf9a9f37314d4bee9eeb48b4aabab7d7": {
      "model_module": "jupyter-matplotlib",
      "model_module_version": "^0.7.2",
      "model_name": "MPLCanvasModel",
      "state": {
       "_figure_label": "Figure 29",
       "_height": 550,
       "_image_mode": "diff",
       "_message": "x=603.999      y=57.1192      [1, 0.0918, 0.593]",
       "_width": 1100,
       "header_visible": false,
       "layout": "IPY_MODEL_ea2f51c0af474b67b6e2df3227491d3d",
       "resizable": false,
       "toolbar": "IPY_MODEL_608b49575a474897ba44313eae605538",
       "toolbar_position": "left",
       "toolbar_visible": false
      }
     },
     "cfc7f492caa140c39dcdc263cfbee40a": {
      "model_module": "@jupyter-widgets/controls",
      "model_module_version": "1.5.0",
      "model_name": "HBoxModel",
      "state": {
       "children": [
        "IPY_MODEL_564d56892093471bb95557a569d027a4",
        "IPY_MODEL_96846e26b56f4c8a8cc9401012ccf996",
        "IPY_MODEL_301a92d1f7eb4a6090efdb969b861b3a",
        "IPY_MODEL_b0d1e83972694e2d8701365d8fb595fa"
       ],
       "layout": "IPY_MODEL_ec15561a3e654e568d586d1539544864"
      }
     },
     "cfde347627bd4a2681e33dfba722ee6f": {
      "model_module": "@jupyter-widgets/base",
      "model_module_version": "1.2.0",
      "model_name": "LayoutModel",
      "state": {}
     },
     "cff6ee552baa4acfb9463c9f6c52d10c": {
      "model_module": "@jupyter-widgets/controls",
      "model_module_version": "1.5.0",
      "model_name": "FloatSliderModel",
      "state": {
       "description": "180°",
       "layout": "IPY_MODEL_b76042800e4041f0aa69e58d1c93d95f",
       "max": 1,
       "min": -1,
       "step": 0.01,
       "style": "IPY_MODEL_e9d09851f5804e23a33abfeb440275cf"
      }
     },
     "cffc4fa29065417da910511e797cb052": {
      "model_module": "@jupyter-widgets/controls",
      "model_module_version": "1.5.0",
      "model_name": "HBoxModel",
      "state": {
       "children": [
        "IPY_MODEL_7d68efa8faa94cef932cf59b78edfee6",
        "IPY_MODEL_34f8f421d1234530b2bd4242d94ab4e0",
        "IPY_MODEL_4c11b93aa018455db4de39afac30be1f"
       ],
       "layout": "IPY_MODEL_f33cdf9507fb44ff8c17efbb3d47b59c"
      }
     },
     "cffea07e08af4941a985799b2f90a384": {
      "model_module": "@jupyter-widgets/controls",
      "model_module_version": "1.5.0",
      "model_name": "FloatSliderModel",
      "state": {
       "description": "Exposure",
       "layout": "IPY_MODEL_37aecaf9259b46a5b089f83668019e20",
       "max": 8,
       "min": -8,
       "step": 0.1,
       "style": "IPY_MODEL_6fd480b5c301453b8101544031a4c4d9"
      }
     },
     "d03dfd4b14d94144b44a7f2f787f7a3d": {
      "model_module": "@jupyter-widgets/base",
      "model_module_version": "1.2.0",
      "model_name": "LayoutModel",
      "state": {}
     },
     "d0687c067a374926ac43d9c3b7be97b9": {
      "model_module": "@jupyter-widgets/controls",
      "model_module_version": "1.5.0",
      "model_name": "FloatSliderModel",
      "state": {
       "description": "Compression Threshold",
       "layout": "IPY_MODEL_184739d60f754799a6873181a8c6266f",
       "max": 1,
       "step": 0.01,
       "style": "IPY_MODEL_3c27ddef15cc450c88850df05bdecb7b",
       "value": 0.8
      }
     },
     "d098b4f5dd954725b75889c3cc103676": {
      "model_module": "@jupyter-widgets/controls",
      "model_module_version": "1.5.0",
      "model_name": "SliderStyleModel",
      "state": {
       "description_width": ""
      }
     },
     "d0c2ed56fc634d6586a19ce6d6ab9967": {
      "model_module": "@jupyter-widgets/base",
      "model_module_version": "1.2.0",
      "model_name": "LayoutModel",
      "state": {}
     },
     "d101805e73be4de9baa2a213f9dbbb5f": {
      "model_module": "@jupyter-widgets/controls",
      "model_module_version": "1.5.0",
      "model_name": "ButtonModel",
      "state": {
       "description": "Reset Hue Controls",
       "layout": "IPY_MODEL_64e7cdbd30444da789cb60e1151cc665",
       "style": "IPY_MODEL_db862ed57b6a47bc99a0426e18da43b1"
      }
     },
     "d11a015c19e245bf9c979ca67df8bad3": {
      "model_module": "@jupyter-widgets/base",
      "model_module_version": "1.2.0",
      "model_name": "LayoutModel",
      "state": {}
     },
     "d124e05106204c39b700956b2083fa21": {
      "model_module": "@jupyter-widgets/base",
      "model_module_version": "1.2.0",
      "model_name": "LayoutModel",
      "state": {}
     },
     "d15b5504e9aa4c7bb2dc898577e88b19": {
      "model_module": "@jupyter-widgets/controls",
      "model_module_version": "1.5.0",
      "model_name": "VBoxModel",
      "state": {
       "children": [
        "IPY_MODEL_db424ab904e0496eb0b8f057ed0d241f",
        "IPY_MODEL_2ebcd0f4431148bab3b71e692537d356"
       ],
       "layout": "IPY_MODEL_96ff9a028b344aa5bca488252c75922f"
      }
     },
     "d1666ff337124e27a9e6a3ab558683f3": {
      "model_module": "@jupyter-widgets/controls",
      "model_module_version": "1.5.0",
      "model_name": "FloatSliderModel",
      "state": {
       "description": "315°",
       "layout": "IPY_MODEL_551ac5f1507549cdb343eafeecdeba3d",
       "max": 1,
       "min": -1,
       "step": 0.01,
       "style": "IPY_MODEL_8607c94989924b1f844dab81130596cf"
      }
     },
     "d1771a359dd247c1a622c743ab08a8f4": {
      "model_module": "@jupyter-widgets/base",
      "model_module_version": "1.2.0",
      "model_name": "LayoutModel",
      "state": {}
     },
     "d1af1108286b47fe9cfe26a2c81fd275": {
      "model_module": "@jupyter-widgets/base",
      "model_module_version": "1.2.0",
      "model_name": "LayoutModel",
      "state": {}
     },
     "d1d89371e489437a8afde384209565d4": {
      "model_module": "@jupyter-widgets/controls",
      "model_module_version": "1.5.0",
      "model_name": "SliderStyleModel",
      "state": {
       "description_width": ""
      }
     },
     "d1df9cef5be34c159e28022b0426523d": {
      "model_module": "@jupyter-widgets/controls",
      "model_module_version": "1.5.0",
      "model_name": "ButtonModel",
      "state": {
       "description": "Save Figure",
       "layout": "IPY_MODEL_3fe3dd67af6c41d394cc611cedcddd87",
       "style": "IPY_MODEL_64c578d74b9341228fbd1a9588d2c9bb"
      }
     },
     "d235ae9e416a46a58af0f48e6cd8b073": {
      "model_module": "@jupyter-widgets/controls",
      "model_module_version": "1.5.0",
      "model_name": "FloatSliderModel",
      "state": {
       "description": "315°",
       "layout": "IPY_MODEL_c94c0d8c35314a74a631b7c947b1e60b",
       "max": 1,
       "min": -1,
       "step": 0.01,
       "style": "IPY_MODEL_b67d6fea19bf4987941b6cdc844c5638"
      }
     },
     "d2752483c9f04af98dca52ebacb99d64": {
      "model_module": "@jupyter-widgets/base",
      "model_module_version": "1.2.0",
      "model_name": "LayoutModel",
      "state": {}
     },
     "d2768e126a8840f39c0007d12dda4f07": {
      "model_module": "@jupyter-widgets/base",
      "model_module_version": "1.2.0",
      "model_name": "LayoutModel",
      "state": {}
     },
     "d287882620ea4db6853a59b6aaa8fe9e": {
      "model_module": "@jupyter-widgets/controls",
      "model_module_version": "1.5.0",
      "model_name": "SliderStyleModel",
      "state": {
       "description_width": ""
      }
     },
     "d28e272a66584f6aa93a9e0dcb2d656e": {
      "model_module": "@jupyter-widgets/controls",
      "model_module_version": "1.5.0",
      "model_name": "SliderStyleModel",
      "state": {
       "description_width": ""
      }
     },
     "d2c04f4dfdb345c297e8e7a9f142f2e9": {
      "model_module": "@jupyter-widgets/base",
      "model_module_version": "1.2.0",
      "model_name": "LayoutModel",
      "state": {}
     },
     "d2c23236969645948435e27cf91a60a1": {
      "model_module": "@jupyter-widgets/controls",
      "model_module_version": "1.5.0",
      "model_name": "ButtonModel",
      "state": {
       "description": "Save Figure",
       "layout": "IPY_MODEL_60e7c4e1d26f45cbb552f894e6e38540",
       "style": "IPY_MODEL_9d5f214a98a4445abe96722c1c3a8b58"
      }
     },
     "d2db08661c174bd79533202bae60942f": {
      "model_module": "@jupyter-widgets/base",
      "model_module_version": "1.2.0",
      "model_name": "LayoutModel",
      "state": {}
     },
     "d2e67eff320a43b4a7c438294093ff9b": {
      "model_module": "@jupyter-widgets/controls",
      "model_module_version": "1.5.0",
      "model_name": "DropdownModel",
      "state": {
       "_options_labels": [
        "tanh",
        "atan",
        "simple"
       ],
       "description": "Compression Function:",
       "index": 0,
       "layout": "IPY_MODEL_409e4a62e6cb4b3ca3aa286e1a44ed86",
       "style": "IPY_MODEL_04c307d2ea4d4269871c7d090a41ad00"
      }
     },
     "d307c09b0c93417787c91ada8f2bb8fd": {
      "model_module": "@jupyter-widgets/controls",
      "model_module_version": "1.5.0",
      "model_name": "TabModel",
      "state": {
       "_titles": {
        "0": "Global Controls"
       },
       "children": [
        "IPY_MODEL_b8ebf54353e94910b8e2ff803a5a4c1d"
       ],
       "layout": "IPY_MODEL_5fe60c45cb264e82964413007f42c5a2"
      }
     },
     "d32b30cab01641bf8ff8952952583cd4": {
      "model_module": "@jupyter-widgets/base",
      "model_module_version": "1.2.0",
      "model_name": "LayoutModel",
      "state": {}
     },
     "d34e8d8b2cbd431c9a39ba61b330243e": {
      "model_module": "@jupyter-widgets/controls",
      "model_module_version": "1.5.0",
      "model_name": "ButtonStyleModel",
      "state": {}
     },
     "d3f4c85566e24169a09b1119714bd359": {
      "model_module": "@jupyter-widgets/controls",
      "model_module_version": "1.5.0",
      "model_name": "FloatSliderModel",
      "state": {
       "description": "45°",
       "layout": "IPY_MODEL_f1548089001e41d3ba196c69e148b748",
       "max": 1,
       "min": -1,
       "step": 0.01,
       "style": "IPY_MODEL_252504d8259849e3a1eaf49d8d0dcf70"
      }
     },
     "d3ff83a1f18f4e699e1cceb86209c522": {
      "model_module": "@jupyter-widgets/base",
      "model_module_version": "1.2.0",
      "model_name": "LayoutModel",
      "state": {}
     },
     "d43f80e45ed548c5a4503b6aa7f59b8a": {
      "model_module": "@jupyter-widgets/controls",
      "model_module_version": "1.5.0",
      "model_name": "TabModel",
      "state": {
       "_titles": {
        "0": "Global Controls",
        "1": "Protected Area Controls",
        "2": "Saturation Controls",
        "3": "Hue Controls"
       },
       "children": [
        "IPY_MODEL_16112d217fd0402a879da4a7e72906c2",
        "IPY_MODEL_6804c6070ec745cc8bd094757691e1cc",
        "IPY_MODEL_3c6314b1e42641e99481a451428dc81a",
        "IPY_MODEL_09b549db28af4fe1bd8f0ea40238ae92"
       ],
       "layout": "IPY_MODEL_dc527077ecbe4619a4d9629b351453a6"
      }
     },
     "d449f9c9c07e45fc95a5b1c59ff230a7": {
      "model_module": "@jupyter-widgets/base",
      "model_module_version": "1.2.0",
      "model_name": "LayoutModel",
      "state": {}
     },
     "d44ba1435b62419bb5d2321ed428ed1f": {
      "model_module": "@jupyter-widgets/base",
      "model_module_version": "1.2.0",
      "model_name": "LayoutModel",
      "state": {}
     },
     "d455b4da853149e3ad3c68228e6c0359": {
      "model_module": "@jupyter-widgets/controls",
      "model_module_version": "1.5.0",
      "model_name": "SliderStyleModel",
      "state": {
       "description_width": ""
      }
     },
     "d45abce372e8477399e02443f444f0b9": {
      "model_module": "@jupyter-widgets/controls",
      "model_module_version": "1.5.0",
      "model_name": "FloatSliderModel",
      "state": {
       "description": "45°",
       "layout": "IPY_MODEL_3d6ef8051efd4ded9269a84d6aff1add",
       "max": 1,
       "min": -1,
       "step": 0.01,
       "style": "IPY_MODEL_453394fd949d4e12a76068f9729f581b"
      }
     },
     "d4796588c20744d5b071bc44d41ff53d": {
      "model_module": "@jupyter-widgets/controls",
      "model_module_version": "1.5.0",
      "model_name": "DropdownModel",
      "state": {
       "_options_labels": [
        "tanh",
        "atan",
        "simple"
       ],
       "description": "Compression Function:",
       "index": 0,
       "layout": "IPY_MODEL_e016811d660b41549f3e9d1c7f295fdc",
       "style": "IPY_MODEL_8f11b63eb83e4140b05f21afdb08205b"
      }
     },
     "d4d7b4280a944f0eb1c8061bce27f0b0": {
      "model_module": "@jupyter-widgets/base",
      "model_module_version": "1.2.0",
      "model_name": "LayoutModel",
      "state": {}
     },
     "d4e1fa08574647d8a5a489692200d6a2": {
      "model_module": "@jupyter-widgets/base",
      "model_module_version": "1.2.0",
      "model_name": "LayoutModel",
      "state": {}
     },
     "d508c420402241d988dbe36bcb1df413": {
      "model_module": "@jupyter-widgets/base",
      "model_module_version": "1.2.0",
      "model_name": "LayoutModel",
      "state": {}
     },
     "d51716a78f67483ca62768839725bf5d": {
      "model_module": "@jupyter-widgets/controls",
      "model_module_version": "1.5.0",
      "model_name": "ButtonModel",
      "state": {
       "description": "Save Figure",
       "layout": "IPY_MODEL_40fdcd31aef247d6af97dd3a1a595af7",
       "style": "IPY_MODEL_bfee3e3a840841c4b03ec8de37a91bf1"
      }
     },
     "d538efffb9d846be8731c62fddaeb2b3": {
      "model_module": "@jupyter-widgets/base",
      "model_module_version": "1.2.0",
      "model_name": "LayoutModel",
      "state": {}
     },
     "d53f06ebba484087bc635be27fafb791": {
      "model_module": "@jupyter-widgets/controls",
      "model_module_version": "1.5.0",
      "model_name": "BoxModel",
      "state": {
       "children": [
        "IPY_MODEL_51fdf14681384a6da522f9b9dd512d4b",
        "IPY_MODEL_cc8fbe61492044a29b1b6fddcb3248cc"
       ],
       "layout": "IPY_MODEL_e624910b54fa45a6b86ee79887ec99e2"
      }
     },
     "d55941f928f449a9bace775cf57f3a03": {
      "model_module": "@jupyter-widgets/controls",
      "model_module_version": "1.5.0",
      "model_name": "ButtonModel",
      "state": {
       "description": "Reset Exposure",
       "layout": "IPY_MODEL_825ee0cc9d2d4bddba75d116188badf1",
       "style": "IPY_MODEL_eadb17f0c1d34dafbb17d051ef3a1674"
      }
     },
     "d5779542c2624eb08435a33ee6f66180": {
      "model_module": "@jupyter-widgets/base",
      "model_module_version": "1.2.0",
      "model_name": "LayoutModel",
      "state": {}
     },
     "d586b08d6a5543ba8fe55c19ca0ac6e1": {
      "model_module": "@jupyter-widgets/controls",
      "model_module_version": "1.5.0",
      "model_name": "HBoxModel",
      "state": {
       "children": [
        "IPY_MODEL_cc120c2726f940cba24442548250e686",
        "IPY_MODEL_85f98a9110bb4f19899510a7ba68be8b",
        "IPY_MODEL_92c3061e281a49fca86728106d551842"
       ],
       "layout": "IPY_MODEL_3522fd6b2b4b4c01854b0631baa5f35e"
      }
     },
     "d59e7680c7bc4583a69504ac68a21746": {
      "model_module": "@jupyter-widgets/controls",
      "model_module_version": "1.5.0",
      "model_name": "ButtonStyleModel",
      "state": {}
     },
     "d62ba78dacf747cbac5c75e43b2fc22c": {
      "model_module": "@jupyter-widgets/controls",
      "model_module_version": "1.5.0",
      "model_name": "CheckboxModel",
      "state": {
       "description": "Disable Medicina",
       "disabled": false,
       "layout": "IPY_MODEL_b6fc3978915a4f418303d75aca6050f8",
       "style": "IPY_MODEL_6f3b5c92eb4547cdab38bf9f86b0d096",
       "value": false
      }
     },
     "d636eecd4bba475fba0807774228deb7": {
      "model_module": "@jupyter-widgets/controls",
      "model_module_version": "1.5.0",
      "model_name": "HBoxModel",
      "state": {
       "children": [
        "IPY_MODEL_bf7e4813e4be42679092dcd0e6dfbc14",
        "IPY_MODEL_973a53f57a9943f48896ec4990426d3d",
        "IPY_MODEL_2e93256dc8de4d5ab484e45a102cc211",
        "IPY_MODEL_57a006bd900a4d69b73b158240314e1c",
        "IPY_MODEL_1d9db280ac5243be9ab37443f24bc690"
       ],
       "layout": "IPY_MODEL_bc36d14996394fc39adf43508dbe2829"
      }
     },
     "d6539206b8bc4396a7b537ede8874642": {
      "model_module": "@jupyter-widgets/base",
      "model_module_version": "1.2.0",
      "model_name": "LayoutModel",
      "state": {}
     },
     "d661c91150484bb1a438a6877797a3f2": {
      "model_module": "@jupyter-widgets/base",
      "model_module_version": "1.2.0",
      "model_name": "LayoutModel",
      "state": {}
     },
     "d68ea7ca87d9415fb09718ebee187050": {
      "model_module": "jupyter-matplotlib",
      "model_module_version": "^0.7.2",
      "model_name": "MPLCanvasModel",
      "state": {
       "_figure_label": "Figure 3",
       "_height": 396,
       "_image_mode": "diff",
       "_width": 1100,
       "header_visible": false,
       "layout": "IPY_MODEL_cd30633135a748439d3214b489dde5b0",
       "resizable": false,
       "toolbar": "IPY_MODEL_026307bbb0a0412e8def5be62e31edce",
       "toolbar_position": "left",
       "toolbar_visible": false
      }
     },
     "d6ac32a7694641509f68746ad1e42edc": {
      "model_module": "@jupyter-widgets/controls",
      "model_module_version": "1.5.0",
      "model_name": "ButtonModel",
      "state": {
       "description": "Export Image",
       "layout": "IPY_MODEL_0b6f2ebc25c04bd48eba2cd9070d17ba",
       "style": "IPY_MODEL_accc4125f9194a40919ebfd97af58aa1"
      }
     },
     "d74747c6aa684e20ad16ad7d654ef9db": {
      "model_module": "@jupyter-widgets/base",
      "model_module_version": "1.2.0",
      "model_name": "LayoutModel",
      "state": {}
     },
     "d7831a65f8f44e95a391746a969d1fef": {
      "model_module": "@jupyter-widgets/base",
      "model_module_version": "1.2.0",
      "model_name": "LayoutModel",
      "state": {}
     },
     "d78695c41c7e402cbdb620be8395ca45": {
      "model_module": "@jupyter-widgets/controls",
      "model_module_version": "1.5.0",
      "model_name": "FloatSliderModel",
      "state": {
       "description": "225°",
       "layout": "IPY_MODEL_5898edc0f9594bf9b796a79cd6b1b1af",
       "max": 1,
       "min": -1,
       "step": 0.01,
       "style": "IPY_MODEL_ea3d35c426c74cf7999b65a2385d5e39"
      }
     },
     "d7a5bf58d6364dc9a6430110c5071200": {
      "model_module": "@jupyter-widgets/base",
      "model_module_version": "1.2.0",
      "model_name": "LayoutModel",
      "state": {}
     },
     "d807699322c74b3b9dea672da41a38bd": {
      "model_module": "@jupyter-widgets/base",
      "model_module_version": "1.2.0",
      "model_name": "LayoutModel",
      "state": {}
     },
     "d87b79cad1aa4a11a890b158ad1db1f9": {
      "model_module": "@jupyter-widgets/controls",
      "model_module_version": "1.5.0",
      "model_name": "DropdownModel",
      "state": {
       "_options_labels": [
        "tanh",
        "atan",
        "simple"
       ],
       "description": "Compression Function:",
       "index": 0,
       "layout": "IPY_MODEL_7b299760e38d48e29e59b1bb14613219",
       "style": "IPY_MODEL_acc2b885d7494b2090bba55f2bf875c4"
      }
     },
     "d886e1ece1e842888a78b2fca6eed6b8": {
      "model_module": "@jupyter-widgets/controls",
      "model_module_version": "1.5.0",
      "model_name": "VBoxModel",
      "state": {
       "children": [
        "IPY_MODEL_285c0ce6dea0428a8cc0f20606286ba7",
        "IPY_MODEL_3d8759474529445e84dd3647c1825cdc"
       ],
       "layout": "IPY_MODEL_afdbfa498a9b460aa4cff63b302fcba8"
      }
     },
     "d8bbaf66f3ac4eeea11b9f780158d3c3": {
      "model_module": "@jupyter-widgets/controls",
      "model_module_version": "1.5.0",
      "model_name": "FloatSliderModel",
      "state": {
       "description": "Compression Threshold",
       "layout": "IPY_MODEL_ae85a559a2254336b26f965f03aa4ad6",
       "max": 1,
       "step": 0.01,
       "style": "IPY_MODEL_435fcc875404497aacfa18cec1dd0b97",
       "value": 0.8
      }
     },
     "d8e10bea0cde4a0cb7c819216549b122": {
      "model_module": "@jupyter-widgets/controls",
      "model_module_version": "1.5.0",
      "model_name": "FloatSliderModel",
      "state": {
       "description": "Exposure",
       "layout": "IPY_MODEL_52d79279e59842a4b08895eb1748b2cf",
       "max": 8,
       "min": -8,
       "step": 0.1,
       "style": "IPY_MODEL_aa504a7188ce459085ce4e38a828585d"
      }
     },
     "d8ea6214023545359151d9b26f3d23db": {
      "model_module": "@jupyter-widgets/controls",
      "model_module_version": "1.5.0",
      "model_name": "FloatSliderModel",
      "state": {
       "description": "Compression Threshold",
       "layout": "IPY_MODEL_23189c7ab9b14521bb6fe69e3649c877",
       "max": 1,
       "step": 0.01,
       "style": "IPY_MODEL_d1d89371e489437a8afde384209565d4",
       "value": 0.5
      }
     },
     "d93287ed1a174a50b23d4d77beca1971": {
      "model_module": "@jupyter-widgets/controls",
      "model_module_version": "1.5.0",
      "model_name": "ButtonModel",
      "state": {
       "description": "Save Figure",
       "layout": "IPY_MODEL_c87e1876b7664775ba8d3e1e135e9e84",
       "style": "IPY_MODEL_9a32f38d20e4490798fb92e2faa8aa43"
      }
     },
     "d942a10dbccb4f3bb643399f8020f307": {
      "model_module": "@jupyter-widgets/base",
      "model_module_version": "1.2.0",
      "model_name": "LayoutModel",
      "state": {}
     },
     "d9719256b5164482b53c5d49fb39ad1e": {
      "model_module": "@jupyter-widgets/base",
      "model_module_version": "1.2.0",
      "model_name": "LayoutModel",
      "state": {}
     },
     "d97b0acc033b4b289f07295c2ba5ed6b": {
      "model_module": "@jupyter-widgets/controls",
      "model_module_version": "1.5.0",
      "model_name": "ButtonModel",
      "state": {
       "description": "Reset Protected Area",
       "layout": "IPY_MODEL_008ce48254544108b8fca59c17ede5f0",
       "style": "IPY_MODEL_c6ddc68f95c54bd3b3904d4d97872f39"
      }
     },
     "d9b4b62b2da74f108a448b684a2a956e": {
      "model_module": "@jupyter-widgets/controls",
      "model_module_version": "1.5.0",
      "model_name": "SliderStyleModel",
      "state": {
       "description_width": ""
      }
     },
     "d9b836d4a588442f8979d669e759ee9f": {
      "model_module": "@jupyter-widgets/base",
      "model_module_version": "1.2.0",
      "model_name": "LayoutModel",
      "state": {}
     },
     "d9d91a96827747919e328b661e12baca": {
      "model_module": "@jupyter-widgets/controls",
      "model_module_version": "1.5.0",
      "model_name": "ButtonStyleModel",
      "state": {}
     },
     "d9f83cb733614e4bbbc84f7c2c7f92ee": {
      "model_module": "@jupyter-widgets/base",
      "model_module_version": "1.2.0",
      "model_name": "LayoutModel",
      "state": {}
     },
     "da172fa354594a3095a817740387461c": {
      "model_module": "@jupyter-widgets/base",
      "model_module_version": "1.2.0",
      "model_name": "LayoutModel",
      "state": {}
     },
     "da1b838b3e7d46079e1a495edb39d094": {
      "model_module": "@jupyter-widgets/controls",
      "model_module_version": "1.5.0",
      "model_name": "ButtonStyleModel",
      "state": {}
     },
     "da2565f4acb744aab501d9e7aa565996": {
      "model_module": "@jupyter-widgets/controls",
      "model_module_version": "1.5.0",
      "model_name": "SliderStyleModel",
      "state": {
       "description_width": ""
      }
     },
     "da4379cc04eb4f9da351a2054ab81e72": {
      "model_module": "@jupyter-widgets/controls",
      "model_module_version": "1.5.0",
      "model_name": "CheckboxModel",
      "state": {
       "description": "Disable Medicina",
       "disabled": false,
       "layout": "IPY_MODEL_812e40cc047f4ef0bd84eefd72892afc",
       "style": "IPY_MODEL_5e990cafcb9f4a4fa4d11cc18f06b3fd",
       "value": false
      }
     },
     "da45e91591cc4704bdefe7517231d6df": {
      "model_module": "@jupyter-widgets/controls",
      "model_module_version": "1.5.0",
      "model_name": "HBoxModel",
      "state": {
       "children": [
        "IPY_MODEL_080eeaa0bc96401d828c9e3812115d35",
        "IPY_MODEL_e4662e433a054d9cb315a675155ddafa",
        "IPY_MODEL_3eb61538101f4f50a04c8b88ca24d18e",
        "IPY_MODEL_7189808e679b4bbbacc29d1814502909"
       ],
       "layout": "IPY_MODEL_aca4cba5cd794da19f6e38116710da7a"
      }
     },
     "da52b5f35b3c49a0807c0935e53baf94": {
      "model_module": "@jupyter-widgets/base",
      "model_module_version": "1.2.0",
      "model_name": "LayoutModel",
      "state": {}
     },
     "da6c424d0f97430fa8ecb505b788a307": {
      "model_module": "@jupyter-widgets/controls",
      "model_module_version": "1.5.0",
      "model_name": "SliderStyleModel",
      "state": {
       "description_width": ""
      }
     },
     "da739fea0dd146cc8796e8a3b0b32eaa": {
      "model_module": "@jupyter-widgets/base",
      "model_module_version": "1.2.0",
      "model_name": "LayoutModel",
      "state": {}
     },
     "da99206559fd45dc83de0eb4054ac407": {
      "model_module": "@jupyter-widgets/controls",
      "model_module_version": "1.5.0",
      "model_name": "HBoxModel",
      "state": {
       "children": [
        "IPY_MODEL_7c375005bff8484dbe4fe6973416e8fe",
        "IPY_MODEL_1ee738235f2f40d98ebe9091743d4d0c",
        "IPY_MODEL_746c314e5b5d4d218ba9db9dbc8f3319",
        "IPY_MODEL_1fe2d426046e4208b397fbc01ca001b6"
       ],
       "layout": "IPY_MODEL_1b0551d2dbe247dc99f6fcf0f5f7ad38"
      }
     },
     "daadbdf09f65450cb2d935c18cd5bd8e": {
      "model_module": "@jupyter-widgets/controls",
      "model_module_version": "1.5.0",
      "model_name": "VBoxModel",
      "state": {
       "children": [
        "IPY_MODEL_e302e5bd38874f35a411390a2b587981"
       ],
       "layout": "IPY_MODEL_725f0b24b2034519a9add81fe4ed7dbb"
      }
     },
     "dac002b66453455c8c384addd45af161": {
      "model_module": "@jupyter-widgets/base",
      "model_module_version": "1.2.0",
      "model_name": "LayoutModel",
      "state": {}
     },
     "db174a98aa5e4a41a98b755655d7ee7c": {
      "model_module": "@jupyter-widgets/base",
      "model_module_version": "1.2.0",
      "model_name": "LayoutModel",
      "state": {}
     },
     "db424ab904e0496eb0b8f057ed0d241f": {
      "model_module": "@jupyter-widgets/controls",
      "model_module_version": "1.5.0",
      "model_name": "FloatSliderModel",
      "state": {
       "description": "270°",
       "layout": "IPY_MODEL_3e41ee57279a4300ae752d696a0e455b",
       "max": 1,
       "min": -1,
       "step": 0.01,
       "style": "IPY_MODEL_10514fb2e4c649318fb87237b7a53fff"
      }
     },
     "db4a82cb5a06440d88f9565b71f503d5": {
      "model_module": "@jupyter-widgets/base",
      "model_module_version": "1.2.0",
      "model_name": "LayoutModel",
      "state": {}
     },
     "db862ed57b6a47bc99a0426e18da43b1": {
      "model_module": "@jupyter-widgets/controls",
      "model_module_version": "1.5.0",
      "model_name": "ButtonStyleModel",
      "state": {}
     },
     "db98ddb642c1495185b36a67cce5a35d": {
      "model_module": "@jupyter-widgets/base",
      "model_module_version": "1.2.0",
      "model_name": "LayoutModel",
      "state": {}
     },
     "dc3eb46ff0644027bd1c56ab9221a125": {
      "model_module": "@jupyter-widgets/controls",
      "model_module_version": "1.5.0",
      "model_name": "FloatSliderModel",
      "state": {
       "description": "0°",
       "layout": "IPY_MODEL_c058c1c99d164ed3b486afdb42686784",
       "max": 1,
       "min": -1,
       "step": 0.01,
       "style": "IPY_MODEL_baa2c79fa84147bc83b7686e34194762"
      }
     },
     "dc40f57df2be41848a28260f0bbd0a10": {
      "model_module": "@jupyter-widgets/controls",
      "model_module_version": "1.5.0",
      "model_name": "FloatSliderModel",
      "state": {
       "description": "180°",
       "layout": "IPY_MODEL_e72653473a0543a1b6e622a9f7f7bb6d",
       "max": 1,
       "min": -1,
       "step": 0.01,
       "style": "IPY_MODEL_639676aac0074efb9710d4835086931a"
      }
     },
     "dc48ed26093846c69997df1e47e78869": {
      "model_module": "@jupyter-widgets/controls",
      "model_module_version": "1.5.0",
      "model_name": "SliderStyleModel",
      "state": {
       "description_width": ""
      }
     },
     "dc527077ecbe4619a4d9629b351453a6": {
      "model_module": "@jupyter-widgets/base",
      "model_module_version": "1.2.0",
      "model_name": "LayoutModel",
      "state": {
       "border": "solid 4px #222",
       "margin": "4px",
       "padding": "0"
      }
     },
     "dc54af42affe4d4caa4791221b2bcc17": {
      "model_module": "@jupyter-widgets/base",
      "model_module_version": "1.2.0",
      "model_name": "LayoutModel",
      "state": {}
     },
     "dc620b73b115469b89cef1f27903c00e": {
      "model_module": "@jupyter-widgets/controls",
      "model_module_version": "1.5.0",
      "model_name": "VBoxModel",
      "state": {
       "children": [
        "IPY_MODEL_09c26ed9d441498aab49b3834cb1953e",
        "IPY_MODEL_09a4e98ac4ad4b9e89ab311645a4ce42"
       ],
       "layout": "IPY_MODEL_24e620bb64fe48788eaeed3e2e35c2d1"
      }
     },
     "dc8fdd34f67d460f8eeb8373b3322ecf": {
      "model_module": "@jupyter-widgets/controls",
      "model_module_version": "1.5.0",
      "model_name": "SliderStyleModel",
      "state": {
       "description_width": ""
      }
     },
     "dcd25efa996e4e07bd67bbaa8f607fc4": {
      "model_module": "@jupyter-widgets/base",
      "model_module_version": "1.2.0",
      "model_name": "LayoutModel",
      "state": {}
     },
     "dce4b1e3d5d04e2ab7dcd7a0e5b8cf58": {
      "model_module": "@jupyter-widgets/controls",
      "model_module_version": "1.5.0",
      "model_name": "ButtonStyleModel",
      "state": {}
     },
     "dce8df4c626c4faea20bf14ac3d91c3e": {
      "model_module": "@jupyter-widgets/controls",
      "model_module_version": "1.5.0",
      "model_name": "ButtonStyleModel",
      "state": {}
     },
     "dd3106e6abe04ce1be981bcdc2bd1c9b": {
      "model_module": "@jupyter-widgets/controls",
      "model_module_version": "1.5.0",
      "model_name": "DescriptionStyleModel",
      "state": {
       "description_width": ""
      }
     },
     "dd4e9205f4cb43a7a28a870f38f9c3ae": {
      "model_module": "jupyter-matplotlib",
      "model_module_version": "^0.7.2",
      "model_name": "ToolbarModel",
      "state": {
       "layout": "IPY_MODEL_e7b3b8db84244bb4a2331b5459f1c797",
       "toolitems": [
        [
         "Home",
         "Reset original view",
         "home",
         "home"
        ],
        [
         "Back",
         "Back to previous view",
         "arrow-left",
         "back"
        ],
        [
         "Forward",
         "Forward to next view",
         "arrow-right",
         "forward"
        ],
        [
         "Pan",
         "Pan axes with left mouse, zoom with right",
         "arrows",
         "pan"
        ],
        [
         "Zoom",
         "Zoom to rectangle",
         "square-o",
         "zoom"
        ],
        [
         "Download",
         "Download plot",
         "floppy-o",
         "save_figure"
        ]
       ]
      }
     },
     "dd9c0ee10ea049559d785061967574cd": {
      "model_module": "@jupyter-widgets/controls",
      "model_module_version": "1.5.0",
      "model_name": "DescriptionStyleModel",
      "state": {
       "description_width": ""
      }
     },
     "dde6ce441ca84675a5981d4592b6348f": {
      "model_module": "@jupyter-widgets/controls",
      "model_module_version": "1.5.0",
      "model_name": "DescriptionStyleModel",
      "state": {
       "description_width": ""
      }
     },
     "de0dafc51aff4991b0f74d74df613ba8": {
      "model_module": "@jupyter-widgets/controls",
      "model_module_version": "1.5.0",
      "model_name": "SliderStyleModel",
      "state": {
       "description_width": ""
      }
     },
     "de1ed5320b9b40c6a8b3c11cc9e2f4ca": {
      "model_module": "@jupyter-widgets/controls",
      "model_module_version": "1.5.0",
      "model_name": "SliderStyleModel",
      "state": {
       "description_width": ""
      }
     },
     "de285f9140f84576a5ffb2fcdd108963": {
      "model_module": "@jupyter-widgets/base",
      "model_module_version": "1.2.0",
      "model_name": "LayoutModel",
      "state": {}
     },
     "de7bac16bdac4deb818c7c8d96d68e85": {
      "model_module": "@jupyter-widgets/base",
      "model_module_version": "1.2.0",
      "model_name": "LayoutModel",
      "state": {}
     },
     "de7f5c86351e408a887a4eb333a305f7": {
      "model_module": "@jupyter-widgets/base",
      "model_module_version": "1.2.0",
      "model_name": "LayoutModel",
      "state": {}
     },
     "de8036371adf44b19ad363c5ba477ede": {
      "model_module": "@jupyter-widgets/controls",
      "model_module_version": "1.5.0",
      "model_name": "FloatSliderModel",
      "state": {
       "description": "Compression Threshold",
       "layout": "IPY_MODEL_14d5c367c64e4f8ea4b62a77914acdff",
       "max": 1,
       "step": 0.01,
       "style": "IPY_MODEL_09b2ac6451ba463f836c67e6359203c1",
       "value": 0.8
      }
     },
     "dec3d31e517044ccb02d618f72d869da": {
      "model_module": "@jupyter-widgets/base",
      "model_module_version": "1.2.0",
      "model_name": "LayoutModel",
      "state": {}
     },
     "df24012524b640fc8a834b4985b5394a": {
      "model_module": "@jupyter-widgets/base",
      "model_module_version": "1.2.0",
      "model_name": "LayoutModel",
      "state": {}
     },
     "df293e386a5f46389b7f8fc2bd5b7c6d": {
      "model_module": "jupyter-matplotlib",
      "model_module_version": "^0.7.2",
      "model_name": "MPLCanvasModel",
      "state": {
       "_figure_label": "Figure 4",
       "_height": 618,
       "_width": 1099,
       "header_visible": false,
       "layout": "IPY_MODEL_a5c30613636c45e7bea9993137b6ce82",
       "resizable": false,
       "toolbar": "IPY_MODEL_6d5c41b86aea47ec8b51573b1ad9ee06",
       "toolbar_position": "left",
       "toolbar_visible": false
      }
     },
     "df6c1fb550ce407491913577fd71527b": {
      "model_module": "@jupyter-widgets/controls",
      "model_module_version": "1.5.0",
      "model_name": "SliderStyleModel",
      "state": {
       "description_width": ""
      }
     },
     "df97448d59404e96914f44c83b0951f8": {
      "model_module": "@jupyter-widgets/controls",
      "model_module_version": "1.5.0",
      "model_name": "FloatSliderModel",
      "state": {
       "description": "0°",
       "layout": "IPY_MODEL_8a0647d27e6547b995f78ab3b56dfe3a",
       "max": 1,
       "min": -1,
       "step": 0.01,
       "style": "IPY_MODEL_ff7fb7a6682e49df9abd21c2d301ec8b"
      }
     },
     "df98a824d11f483cbc49972348ad9839": {
      "model_module": "@jupyter-widgets/base",
      "model_module_version": "1.2.0",
      "model_name": "LayoutModel",
      "state": {}
     },
     "dfd5b3086f484e49a8561aeac701e158": {
      "model_module": "@jupyter-widgets/controls",
      "model_module_version": "1.5.0",
      "model_name": "FloatSliderModel",
      "state": {
       "description": "Compression Threshold",
       "layout": "IPY_MODEL_280b54ced7d2447085d509f19ace987d",
       "max": 1,
       "step": 0.01,
       "style": "IPY_MODEL_0429aca543464066bb711b7db9f36fe7",
       "value": 0.8
      }
     },
     "dff469cf102c434694526ccecffefa14": {
      "model_module": "@jupyter-widgets/base",
      "model_module_version": "1.2.0",
      "model_name": "LayoutModel",
      "state": {}
     },
     "e015ed32f0884737a61ff285b365d5ed": {
      "model_module": "@jupyter-widgets/base",
      "model_module_version": "1.2.0",
      "model_name": "LayoutModel",
      "state": {
       "border": "solid 4px #222",
       "margin": "4px",
       "padding": "0"
      }
     },
     "e016811d660b41549f3e9d1c7f295fdc": {
      "model_module": "@jupyter-widgets/base",
      "model_module_version": "1.2.0",
      "model_name": "LayoutModel",
      "state": {}
     },
     "e0196f8cf3cd4b2dbf3bc562cf64a158": {
      "model_module": "@jupyter-widgets/controls",
      "model_module_version": "1.5.0",
      "model_name": "ButtonStyleModel",
      "state": {}
     },
     "e03302b8dc7041e88318cd4ee8908ae5": {
      "model_module": "@jupyter-widgets/controls",
      "model_module_version": "1.5.0",
      "model_name": "HBoxModel",
      "state": {
       "children": [
        "IPY_MODEL_b889f9c49d6a4ccf8affebb081d5d055",
        "IPY_MODEL_79cec509ab204e8e813f78762b317acb",
        "IPY_MODEL_be2e9882800848aa88b30621c30b8179",
        "IPY_MODEL_8a0897814cb64fd2837f7a9417b2b998",
        "IPY_MODEL_9a481e1d6f9a47c4beff9a48ceaef4e5"
       ],
       "layout": "IPY_MODEL_9fccc64405c24e98afda2921b5f763ae"
      }
     },
     "e0518e3eb312494fbb426bc45d4655e0": {
      "model_module": "@jupyter-widgets/controls",
      "model_module_version": "1.5.0",
      "model_name": "BoxModel",
      "state": {
       "children": [
        "IPY_MODEL_507426604db9417f95bc077069e7c691",
        "IPY_MODEL_8872d45553554a06ac6fb21c8cf9c53b"
       ],
       "layout": "IPY_MODEL_ee69916ce5994128b46a2c82804e2735"
      }
     },
     "e08dcaeaab69424fabad1fb7fafd82d5": {
      "model_module": "@jupyter-widgets/controls",
      "model_module_version": "1.5.0",
      "model_name": "SliderStyleModel",
      "state": {
       "description_width": ""
      }
     },
     "e09366655a734735a77ddcaa75b6e28f": {
      "model_module": "@jupyter-widgets/controls",
      "model_module_version": "1.5.0",
      "model_name": "FloatSliderModel",
      "state": {
       "description": "135°",
       "layout": "IPY_MODEL_4b928be5d99f418890afe9d4ef8e9ee0",
       "max": 1,
       "min": -1,
       "step": 0.01,
       "style": "IPY_MODEL_470c0f33411c4010b9cab14ad5eb6017"
      }
     },
     "e09f307096514d15856c4047df7e45b6": {
      "model_module": "@jupyter-widgets/base",
      "model_module_version": "1.2.0",
      "model_name": "LayoutModel",
      "state": {
       "border": "solid 4px #222",
       "margin": "4px",
       "padding": "0"
      }
     },
     "e0d01d03c0ad43c4980bce9d5b5c131e": {
      "model_module": "@jupyter-widgets/base",
      "model_module_version": "1.2.0",
      "model_name": "LayoutModel",
      "state": {}
     },
     "e0e912f117be4272bd0296a8e11ebd6b": {
      "model_module": "@jupyter-widgets/base",
      "model_module_version": "1.2.0",
      "model_name": "LayoutModel",
      "state": {}
     },
     "e0f522049fe24769bedd1750c0a71421": {
      "model_module": "@jupyter-widgets/controls",
      "model_module_version": "1.5.0",
      "model_name": "HBoxModel",
      "state": {
       "children": [
        "IPY_MODEL_f5267fcb897442999855cada9a488aeb",
        "IPY_MODEL_63ba30eb268a439b8e4545e6cf6ebfd0"
       ],
       "layout": "IPY_MODEL_1e208b7293974092bb9e70fe43f75b72"
      }
     },
     "e15355e9758746898f784248ae33857a": {
      "model_module": "@jupyter-widgets/base",
      "model_module_version": "1.2.0",
      "model_name": "LayoutModel",
      "state": {}
     },
     "e1669ae8d95b4c73b0b3b7e890d0a39b": {
      "model_module": "@jupyter-widgets/base",
      "model_module_version": "1.2.0",
      "model_name": "LayoutModel",
      "state": {}
     },
     "e187f3b02a7f4191bd7dbe480e215e68": {
      "model_module": "@jupyter-widgets/base",
      "model_module_version": "1.2.0",
      "model_name": "LayoutModel",
      "state": {}
     },
     "e18944d96b6e455291d1ff28aaeab27d": {
      "model_module": "jupyter-matplotlib",
      "model_module_version": "^0.7.2",
      "model_name": "MPLCanvasModel",
      "state": {
       "_figure_label": "Figure 15",
       "_height": 440,
       "_image_mode": "diff",
       "_message": "x= y=",
       "_width": 1100,
       "header_visible": false,
       "layout": "IPY_MODEL_ed595dbf89a945bca0e7a75d10d1f3a2",
       "resizable": false,
       "toolbar": "IPY_MODEL_5fb35736c2af46de91730374c6b553c0",
       "toolbar_position": "left",
       "toolbar_visible": false
      }
     },
     "e1a6f6d8c7ea4d7290192383ca05a456": {
      "model_module": "@jupyter-widgets/controls",
      "model_module_version": "1.5.0",
      "model_name": "ButtonStyleModel",
      "state": {}
     },
     "e1b399a70e5f4de18d8c5c23df5547de": {
      "model_module": "@jupyter-widgets/controls",
      "model_module_version": "1.5.0",
      "model_name": "ButtonModel",
      "state": {
       "description": "Save Figure",
       "layout": "IPY_MODEL_ee28955c8e434cd3919a7f6f4fdd327e",
       "style": "IPY_MODEL_889b8d6a1ea042ce8776f4d0fa70dd5f"
      }
     },
     "e1e8546d833c416e95c3d4722d8834a8": {
      "model_module": "@jupyter-widgets/controls",
      "model_module_version": "1.5.0",
      "model_name": "DropdownModel",
      "state": {
       "_options_labels": [
        "tanh",
        "atan",
        "simple"
       ],
       "description": "Compression Function:",
       "index": 0,
       "layout": "IPY_MODEL_77d66c1dbd574dd1adb705a483eebc25",
       "style": "IPY_MODEL_6548bdcd43c8427d92d7d61d15b6a4e5"
      }
     },
     "e1ecbc20c4834232b59dfae9eddc2e04": {
      "model_module": "@jupyter-widgets/base",
      "model_module_version": "1.2.0",
      "model_name": "LayoutModel",
      "state": {}
     },
     "e1ece18dbdf04ad588486799a6ee8c6f": {
      "model_module": "@jupyter-widgets/controls",
      "model_module_version": "1.5.0",
      "model_name": "DescriptionStyleModel",
      "state": {
       "description_width": ""
      }
     },
     "e2131ac1786845f8997aff7c4e7d8801": {
      "model_module": "jupyter-matplotlib",
      "model_module_version": "^0.7.2",
      "model_name": "MPLCanvasModel",
      "state": {
       "_figure_label": "Figure 19",
       "_height": 430,
       "_image_mode": "diff",
       "_message": "x= y= [0.901, 0, 1]",
       "_width": 1099,
       "header_visible": false,
       "layout": "IPY_MODEL_afc92565b97c4f14bfc348b895cc44b7",
       "resizable": false,
       "toolbar": "IPY_MODEL_6877dd071046499da014c0739db689eb",
       "toolbar_position": "left",
       "toolbar_visible": false
      }
     },
     "e232094c3f904c58a04fdf3e6b027fde": {
      "model_module": "@jupyter-widgets/base",
      "model_module_version": "1.2.0",
      "model_name": "LayoutModel",
      "state": {}
     },
     "e299190590084ec4bda4eeed292a3277": {
      "model_module": "@jupyter-widgets/base",
      "model_module_version": "1.2.0",
      "model_name": "LayoutModel",
      "state": {}
     },
     "e2b120fe0f644045976c7dd2dd2614d8": {
      "model_module": "@jupyter-widgets/base",
      "model_module_version": "1.2.0",
      "model_name": "LayoutModel",
      "state": {}
     },
     "e2e7857753e147bc802b4a3e9f432310": {
      "model_module": "@jupyter-widgets/controls",
      "model_module_version": "1.5.0",
      "model_name": "FloatSliderModel",
      "state": {
       "description": "225°",
       "layout": "IPY_MODEL_7653ce42df114f92a60261f6b46fd0cd",
       "max": 1,
       "min": -1,
       "step": 0.01,
       "style": "IPY_MODEL_71fd59d41d3b407a944075ed58087612"
      }
     },
     "e302e5bd38874f35a411390a2b587981": {
      "model_module": "@jupyter-widgets/controls",
      "model_module_version": "1.5.0",
      "model_name": "ButtonModel",
      "state": {
       "description": "Reset Hue Controls",
       "layout": "IPY_MODEL_0eb1ef28d99c4e05ad1a085f98e59f61",
       "style": "IPY_MODEL_73031f1c4ea8453fbb25d11675d0b059"
      }
     },
     "e3104d5c2ba64259b6b3c5676266e11d": {
      "model_module": "@jupyter-widgets/controls",
      "model_module_version": "1.5.0",
      "model_name": "FloatSliderModel",
      "state": {
       "description": "135°",
       "layout": "IPY_MODEL_711ddd488e0f4862aa939c7cd76e3f83",
       "max": 1,
       "min": -1,
       "step": 0.01,
       "style": "IPY_MODEL_36440683c9054a2cb467944d442d273b"
      }
     },
     "e330da5b9e6a49d0bda6ad67f78f9a14": {
      "model_module": "@jupyter-widgets/base",
      "model_module_version": "1.2.0",
      "model_name": "LayoutModel",
      "state": {}
     },
     "e342f3e4abbf489e8044a5525d11b84b": {
      "model_module": "@jupyter-widgets/controls",
      "model_module_version": "1.5.0",
      "model_name": "ButtonStyleModel",
      "state": {}
     },
     "e349d5bb0d0840ba9212114f86055b5b": {
      "model_module": "@jupyter-widgets/controls",
      "model_module_version": "1.5.0",
      "model_name": "SliderStyleModel",
      "state": {
       "description_width": ""
      }
     },
     "e35208b8de9f41ba8c9216ad0ecd629d": {
      "model_module": "@jupyter-widgets/controls",
      "model_module_version": "1.5.0",
      "model_name": "HBoxModel",
      "state": {
       "children": [
        "IPY_MODEL_8aa255390ffc4c1cbb3b4f53e2910025",
        "IPY_MODEL_10563c70fd7341da84c9c83ead85049a",
        "IPY_MODEL_08bddb0e5d104490b083f321ba872840"
       ],
       "layout": "IPY_MODEL_2ac068ae1fe54b55884f63585e27cf1f"
      }
     },
     "e35fc8422b8445f682100b2ea1d6bf18": {
      "model_module": "@jupyter-widgets/base",
      "model_module_version": "1.2.0",
      "model_name": "LayoutModel",
      "state": {}
     },
     "e36dc25b2bae4ef8a7c8cb7f7db24f19": {
      "model_module": "@jupyter-widgets/controls",
      "model_module_version": "1.5.0",
      "model_name": "SliderStyleModel",
      "state": {
       "description_width": ""
      }
     },
     "e37ac491166f4791aa7175f2c701c068": {
      "model_module": "jupyter-matplotlib",
      "model_module_version": "^0.7.2",
      "model_name": "MPLCanvasModel",
      "state": {
       "_figure_label": "Figure 16",
       "_height": 430,
       "_width": 1099,
       "header_visible": false,
       "layout": "IPY_MODEL_64f1b5cd093b43979a0c93ed9dbaa327",
       "resizable": false,
       "toolbar": "IPY_MODEL_9342d417823448a291775d7b8ed6c1d5",
       "toolbar_position": "left",
       "toolbar_visible": false
      }
     },
     "e39392ce75be4a058b6da1491a2f4870": {
      "model_module": "@jupyter-widgets/controls",
      "model_module_version": "1.5.0",
      "model_name": "VBoxModel",
      "state": {
       "children": [
        "IPY_MODEL_78e8340eb91c49b9bb2fb884d0a61e91",
        "IPY_MODEL_0b130a4ecbb0431aa1efd5739ca892f6",
        "IPY_MODEL_ac088c508a2a43a1866db7eeab5808c2"
       ],
       "layout": "IPY_MODEL_04af89ebe72c4bbc8144b47f7ae6720a"
      }
     },
     "e3ff44d8167e46dbb61b732932fc03e5": {
      "model_module": "@jupyter-widgets/controls",
      "model_module_version": "1.5.0",
      "model_name": "SliderStyleModel",
      "state": {
       "description_width": ""
      }
     },
     "e40d0073c9584c8f89dcdf66cd76c02a": {
      "model_module": "@jupyter-widgets/controls",
      "model_module_version": "1.5.0",
      "model_name": "ButtonModel",
      "state": {
       "description": "Export Image",
       "layout": "IPY_MODEL_5be6b69fa41a4b6093cdaf47cf8a902d",
       "style": "IPY_MODEL_01a3dc009dc14dc6bf5b76e4237472bb"
      }
     },
     "e4662e433a054d9cb315a675155ddafa": {
      "model_module": "@jupyter-widgets/controls",
      "model_module_version": "1.5.0",
      "model_name": "VBoxModel",
      "state": {
       "children": [
        "IPY_MODEL_3f027f763b344ff1a968e24db0e3844e",
        "IPY_MODEL_ef2b8862c037459a8af09a33396bfcce",
        "IPY_MODEL_ad89ed9ba8224f6c9b16a60c05a8f963"
       ],
       "layout": "IPY_MODEL_41b50a6ec97046b281cdd79fb8c1e1fe"
      }
     },
     "e5038122cba241f49973c4f29eafaa45": {
      "model_module": "@jupyter-widgets/controls",
      "model_module_version": "1.5.0",
      "model_name": "SliderStyleModel",
      "state": {
       "description_width": ""
      }
     },
     "e51677f65e8845bbb58b6667f224dfdd": {
      "model_module": "@jupyter-widgets/controls",
      "model_module_version": "1.5.0",
      "model_name": "FloatSliderModel",
      "state": {
       "description": "315°",
       "layout": "IPY_MODEL_c9fd6cadd5074a3b9efed9e53f42f48c",
       "max": 1,
       "min": -1,
       "step": 0.01,
       "style": "IPY_MODEL_e349d5bb0d0840ba9212114f86055b5b"
      }
     },
     "e51a293d71a9418d865c042d5b891f21": {
      "model_module": "@jupyter-widgets/controls",
      "model_module_version": "1.5.0",
      "model_name": "FloatSliderModel",
      "state": {
       "description": "Exposure",
       "layout": "IPY_MODEL_89894e6b183e4b7eb92c6ad962a89d23",
       "max": 8,
       "min": -8,
       "step": 0.1,
       "style": "IPY_MODEL_bdbd2371d0bd416897caf5a0747f97de"
      }
     },
     "e52c0f7b1ca1414aa1265ee6c1f6a5dc": {
      "model_module": "@jupyter-widgets/controls",
      "model_module_version": "1.5.0",
      "model_name": "SliderStyleModel",
      "state": {
       "description_width": ""
      }
     },
     "e56a1880b7ed4738a39cd1682baf0549": {
      "model_module": "@jupyter-widgets/base",
      "model_module_version": "1.2.0",
      "model_name": "LayoutModel",
      "state": {}
     },
     "e571789973fe46b3958a51b19dfc43b2": {
      "model_module": "@jupyter-widgets/controls",
      "model_module_version": "1.5.0",
      "model_name": "VBoxModel",
      "state": {
       "children": [
        "IPY_MODEL_7cb4fc1ef4b44532a9bd2002167c3ec0",
        "IPY_MODEL_9a4270d04de54abead82e25152af8012",
        "IPY_MODEL_5359c9fae27c41729e3d592289ebc767"
       ],
       "layout": "IPY_MODEL_440646fba29442bc8cd042e4f8b22923"
      }
     },
     "e61ff241db6744ceb834fe958e18a455": {
      "model_module": "@jupyter-widgets/base",
      "model_module_version": "1.2.0",
      "model_name": "LayoutModel",
      "state": {}
     },
     "e624910b54fa45a6b86ee79887ec99e2": {
      "model_module": "@jupyter-widgets/base",
      "model_module_version": "1.2.0",
      "model_name": "LayoutModel",
      "state": {
       "align_items": "stretch",
       "display": "flex",
       "flex_flow": "column",
       "width": "1128px"
      }
     },
     "e6462055acb84dc9b51ab61259df3c31": {
      "model_module": "@jupyter-widgets/base",
      "model_module_version": "1.2.0",
      "model_name": "LayoutModel",
      "state": {}
     },
     "e6c03830cfb042f5881afb09e8bea8b8": {
      "model_module": "@jupyter-widgets/base",
      "model_module_version": "1.2.0",
      "model_name": "LayoutModel",
      "state": {}
     },
     "e6d9192cd5a04503b6b861eef2f90a3c": {
      "model_module": "@jupyter-widgets/base",
      "model_module_version": "1.2.0",
      "model_name": "LayoutModel",
      "state": {
       "border": "solid 4px #222",
       "margin": "4px",
       "padding": "0"
      }
     },
     "e71722aaee1141a19bd544f4ad9e0f72": {
      "model_module": "@jupyter-widgets/controls",
      "model_module_version": "1.5.0",
      "model_name": "ButtonStyleModel",
      "state": {}
     },
     "e72653473a0543a1b6e622a9f7f7bb6d": {
      "model_module": "@jupyter-widgets/base",
      "model_module_version": "1.2.0",
      "model_name": "LayoutModel",
      "state": {}
     },
     "e7784908710d4ae7b11799c0aedc3516": {
      "model_module": "@jupyter-widgets/base",
      "model_module_version": "1.2.0",
      "model_name": "LayoutModel",
      "state": {}
     },
     "e7b3b8db84244bb4a2331b5459f1c797": {
      "model_module": "@jupyter-widgets/base",
      "model_module_version": "1.2.0",
      "model_name": "LayoutModel",
      "state": {}
     },
     "e816e8d762cb4a349dbdb5b206732f66": {
      "model_module": "@jupyter-widgets/controls",
      "model_module_version": "1.5.0",
      "model_name": "DropdownModel",
      "state": {
       "_options_labels": [
        "tanh",
        "atan",
        "simple"
       ],
       "description": "Compression Function:",
       "index": 0,
       "layout": "IPY_MODEL_240bae6bb57d40fe8a44bc6b4dd9b959",
       "style": "IPY_MODEL_fcfdd6d820444dadad0c1ba8889ea0d9"
      }
     },
     "e8302b9b7a084889b6cd2a4d08642cf1": {
      "model_module": "@jupyter-widgets/base",
      "model_module_version": "1.2.0",
      "model_name": "LayoutModel",
      "state": {}
     },
     "e83d851116004443990f8fb8dd8910c3": {
      "model_module": "@jupyter-widgets/controls",
      "model_module_version": "1.5.0",
      "model_name": "HBoxModel",
      "state": {
       "children": [
        "IPY_MODEL_ce8775f717a648f082ac0c753c5b3119",
        "IPY_MODEL_6f6ec0ed466044e09883d5c43d02f8b4"
       ],
       "layout": "IPY_MODEL_ce3b44e4407640908e22da631ed3da93"
      }
     },
     "e8e7141270f54dc3ab5ce837b8d27381": {
      "model_module": "@jupyter-widgets/base",
      "model_module_version": "1.2.0",
      "model_name": "LayoutModel",
      "state": {}
     },
     "e8f50d1788b5475f96cf3d78c6c5dd6f": {
      "model_module": "jupyter-matplotlib",
      "model_module_version": "^0.7.2",
      "model_name": "MPLCanvasModel",
      "state": {
       "_figure_label": "Figure 12",
       "_height": 396,
       "_width": 1100,
       "header_visible": false,
       "layout": "IPY_MODEL_f403998acdc64908a01250ada2b8e192",
       "resizable": false,
       "toolbar": "IPY_MODEL_74d2a9ff4e35482ebe1f185fc5be8dfd",
       "toolbar_position": "left",
       "toolbar_visible": false
      }
     },
     "e946bb368f18421b87c78db3952d4015": {
      "model_module": "@jupyter-widgets/controls",
      "model_module_version": "1.5.0",
      "model_name": "FloatSliderModel",
      "state": {
       "description": "315°",
       "layout": "IPY_MODEL_fcd6390bde6a4433a78fd7fc94850c36",
       "max": 1,
       "min": -1,
       "step": 0.01,
       "style": "IPY_MODEL_957981cb7ac547a1b163a89968ffd4eb"
      }
     },
     "e989a310ceee441db93a429a1e3b14ca": {
      "model_module": "@jupyter-widgets/controls",
      "model_module_version": "1.5.0",
      "model_name": "ButtonStyleModel",
      "state": {}
     },
     "e9abc6e4659340d69672c2c918e2386d": {
      "model_module": "@jupyter-widgets/controls",
      "model_module_version": "1.5.0",
      "model_name": "ButtonModel",
      "state": {
       "description": "Save Figure",
       "layout": "IPY_MODEL_a75414c1cfdd413abc725249fa97dcb2",
       "style": "IPY_MODEL_cd4a4d9f850243898307299915d5aeab"
      }
     },
     "e9d09851f5804e23a33abfeb440275cf": {
      "model_module": "@jupyter-widgets/controls",
      "model_module_version": "1.5.0",
      "model_name": "SliderStyleModel",
      "state": {
       "description_width": ""
      }
     },
     "ea2704af35f943b8bb35d930cd3b63dd": {
      "model_module": "jupyter-matplotlib",
      "model_module_version": "^0.7.2",
      "model_name": "ToolbarModel",
      "state": {
       "layout": "IPY_MODEL_628e670f92074433afc8c179b9c79f32",
       "toolitems": [
        [
         "Home",
         "Reset original view",
         "home",
         "home"
        ],
        [
         "Back",
         "Back to previous view",
         "arrow-left",
         "back"
        ],
        [
         "Forward",
         "Forward to next view",
         "arrow-right",
         "forward"
        ],
        [
         "Pan",
         "Pan axes with left mouse, zoom with right",
         "arrows",
         "pan"
        ],
        [
         "Zoom",
         "Zoom to rectangle",
         "square-o",
         "zoom"
        ],
        [
         "Download",
         "Download plot",
         "floppy-o",
         "save_figure"
        ]
       ]
      }
     },
     "ea2f51c0af474b67b6e2df3227491d3d": {
      "model_module": "@jupyter-widgets/base",
      "model_module_version": "1.2.0",
      "model_name": "LayoutModel",
      "state": {}
     },
     "ea3d35c426c74cf7999b65a2385d5e39": {
      "model_module": "@jupyter-widgets/controls",
      "model_module_version": "1.5.0",
      "model_name": "SliderStyleModel",
      "state": {
       "description_width": ""
      }
     },
     "ea72c85f8a3649d9afcdada271b07730": {
      "model_module": "@jupyter-widgets/base",
      "model_module_version": "1.2.0",
      "model_name": "LayoutModel",
      "state": {}
     },
     "ea92e04ecad64ec49d57bc1bfb3fdf32": {
      "model_module": "@jupyter-widgets/controls",
      "model_module_version": "1.5.0",
      "model_name": "FloatSliderModel",
      "state": {
       "description": "225°",
       "layout": "IPY_MODEL_cf2f0dd703d84f8ca9526da940a3876b",
       "max": 1,
       "min": -1,
       "step": 0.01,
       "style": "IPY_MODEL_b65f0f76332547b1a29220c439ca3d60"
      }
     },
     "eabe295166f74fba93e8bf542b49e781": {
      "model_module": "@jupyter-widgets/controls",
      "model_module_version": "1.5.0",
      "model_name": "ButtonStyleModel",
      "state": {}
     },
     "ead6ce640948492190885387edd57abb": {
      "model_module": "@jupyter-widgets/base",
      "model_module_version": "1.2.0",
      "model_name": "LayoutModel",
      "state": {}
     },
     "eadb17f0c1d34dafbb17d051ef3a1674": {
      "model_module": "@jupyter-widgets/controls",
      "model_module_version": "1.5.0",
      "model_name": "ButtonStyleModel",
      "state": {}
     },
     "eae5d54d9cd2443d95a199111da51ba5": {
      "model_module": "@jupyter-widgets/controls",
      "model_module_version": "1.5.0",
      "model_name": "ButtonModel",
      "state": {
       "description": "Reset Hue Controls",
       "layout": "IPY_MODEL_f077cf98aa41448da2e063531f0437c8",
       "style": "IPY_MODEL_0e8bbb7021314f2595a1246ff0f107d2"
      }
     },
     "eb16050e6079433db052dc7ab670efe8": {
      "model_module": "@jupyter-widgets/controls",
      "model_module_version": "1.5.0",
      "model_name": "SliderStyleModel",
      "state": {
       "description_width": ""
      }
     },
     "eb527ae6d2f64680b2af9dca859bbe04": {
      "model_module": "@jupyter-widgets/base",
      "model_module_version": "1.2.0",
      "model_name": "LayoutModel",
      "state": {}
     },
     "ebb1d5293d644b3dbb5c12a7251a58c6": {
      "model_module": "@jupyter-widgets/base",
      "model_module_version": "1.2.0",
      "model_name": "LayoutModel",
      "state": {}
     },
     "ebdb4c9e86da48e5beda45aa2db1e884": {
      "model_module": "@jupyter-widgets/controls",
      "model_module_version": "1.5.0",
      "model_name": "DescriptionStyleModel",
      "state": {
       "description_width": ""
      }
     },
     "ebe0311c6f6a455192e9c144f4207aa2": {
      "model_module": "@jupyter-widgets/base",
      "model_module_version": "1.2.0",
      "model_name": "LayoutModel",
      "state": {}
     },
     "ec0f4c6d1738453eade493251c8f2439": {
      "model_module": "@jupyter-widgets/controls",
      "model_module_version": "1.5.0",
      "model_name": "DescriptionStyleModel",
      "state": {
       "description_width": ""
      }
     },
     "ec15561a3e654e568d586d1539544864": {
      "model_module": "@jupyter-widgets/base",
      "model_module_version": "1.2.0",
      "model_name": "LayoutModel",
      "state": {}
     },
     "ec62eed250a9467187e94a5644d5af0b": {
      "model_module": "@jupyter-widgets/controls",
      "model_module_version": "1.5.0",
      "model_name": "SliderStyleModel",
      "state": {
       "description_width": ""
      }
     },
     "ec8f1328cccb4fa3841e1be063930c11": {
      "model_module": "@jupyter-widgets/controls",
      "model_module_version": "1.5.0",
      "model_name": "FloatSliderModel",
      "state": {
       "description": "Compression Threshold",
       "layout": "IPY_MODEL_7cf817c8995d45de8b891b0ed3e6f6b9",
       "max": 1,
       "step": 0.01,
       "style": "IPY_MODEL_f3bb16a31c424b9fb678ed21ed492ec5",
       "value": 0.8
      }
     },
     "eca969868dcc497aa41c3242dd1b2f96": {
      "model_module": "@jupyter-widgets/controls",
      "model_module_version": "1.5.0",
      "model_name": "FloatSliderModel",
      "state": {
       "description": "Exposure",
       "layout": "IPY_MODEL_c6fac4f72a474730be7f90ea53177f2c",
       "max": 8,
       "min": -8,
       "step": 0.1,
       "style": "IPY_MODEL_df6c1fb550ce407491913577fd71527b"
      }
     },
     "ed04d6438d064d6cbd1ac6b8d69e68a3": {
      "model_module": "@jupyter-widgets/base",
      "model_module_version": "1.2.0",
      "model_name": "LayoutModel",
      "state": {}
     },
     "ed591d2ae4ec487f8c80f39d876deb4e": {
      "model_module": "@jupyter-widgets/base",
      "model_module_version": "1.2.0",
      "model_name": "LayoutModel",
      "state": {}
     },
     "ed595dbf89a945bca0e7a75d10d1f3a2": {
      "model_module": "@jupyter-widgets/base",
      "model_module_version": "1.2.0",
      "model_name": "LayoutModel",
      "state": {}
     },
     "ede2f0dbaf774ed2846e3736eb2d99e4": {
      "model_module": "@jupyter-widgets/controls",
      "model_module_version": "1.5.0",
      "model_name": "ButtonModel",
      "state": {
       "description": "Reset Exposure",
       "layout": "IPY_MODEL_bbbfa685e02a40e0bc92febf1701c0b6",
       "style": "IPY_MODEL_33d98c57ff424d62b08950934bce135d"
      }
     },
     "edef7e9844224f84b86993a7c78016fb": {
      "model_module": "@jupyter-widgets/controls",
      "model_module_version": "1.5.0",
      "model_name": "ButtonModel",
      "state": {
       "description": "Reset Protected Area",
       "layout": "IPY_MODEL_469fdd6982f24b1aba410928a35794fd",
       "style": "IPY_MODEL_81fb2ed1917b4c27bac897f794d0818b"
      }
     },
     "ee0aa899e54248a5881c0adbc7073db2": {
      "model_module": "@jupyter-widgets/base",
      "model_module_version": "1.2.0",
      "model_name": "LayoutModel",
      "state": {}
     },
     "ee28955c8e434cd3919a7f6f4fdd327e": {
      "model_module": "@jupyter-widgets/base",
      "model_module_version": "1.2.0",
      "model_name": "LayoutModel",
      "state": {}
     },
     "ee62bdd7de6f4195aac2fca44f4b9410": {
      "model_module": "@jupyter-widgets/controls",
      "model_module_version": "1.5.0",
      "model_name": "ButtonStyleModel",
      "state": {}
     },
     "ee69916ce5994128b46a2c82804e2735": {
      "model_module": "@jupyter-widgets/base",
      "model_module_version": "1.2.0",
      "model_name": "LayoutModel",
      "state": {
       "align_items": "stretch",
       "display": "flex",
       "flex_flow": "column",
       "width": "1128px"
      }
     },
     "ee7b2cda43be4f6c87e1586176b4acfb": {
      "model_module": "@jupyter-widgets/base",
      "model_module_version": "1.2.0",
      "model_name": "LayoutModel",
      "state": {}
     },
     "ee7c132965fc4a6ea7705a44181ab8df": {
      "model_module": "@jupyter-widgets/controls",
      "model_module_version": "1.5.0",
      "model_name": "HBoxModel",
      "state": {
       "children": [
        "IPY_MODEL_d97b0acc033b4b289f07295c2ba5ed6b",
        "IPY_MODEL_9531a8a31d8d4aba8dd1a6a63d2229e3"
       ],
       "layout": "IPY_MODEL_2af041df0193408f9962e08eb8dc1356"
      }
     },
     "ee85a7972f4d440d979dc7e6be68ba5e": {
      "model_module": "@jupyter-widgets/base",
      "model_module_version": "1.2.0",
      "model_name": "LayoutModel",
      "state": {}
     },
     "ee8d2a0185b44ea6adca781687ce34ed": {
      "model_module": "@jupyter-widgets/controls",
      "model_module_version": "1.5.0",
      "model_name": "ButtonStyleModel",
      "state": {}
     },
     "ef0f4821bcbc4e5f85dbc512fe546d3d": {
      "model_module": "@jupyter-widgets/base",
      "model_module_version": "1.2.0",
      "model_name": "LayoutModel",
      "state": {}
     },
     "ef2b8862c037459a8af09a33396bfcce": {
      "model_module": "@jupyter-widgets/controls",
      "model_module_version": "1.5.0",
      "model_name": "FloatSliderModel",
      "state": {
       "description": "45°",
       "layout": "IPY_MODEL_9ba153485a1342d283bc2ed01c3379b1",
       "max": 1,
       "min": -1,
       "step": 0.01,
       "style": "IPY_MODEL_80c3bd972f4c4b318cbe614e1584f3ee"
      }
     },
     "ef2e93acd7094ade9f558e9320dfd3c7": {
      "model_module": "@jupyter-widgets/base",
      "model_module_version": "1.2.0",
      "model_name": "LayoutModel",
      "state": {}
     },
     "ef35375b01c346fb9a8918dbc05698cd": {
      "model_module": "@jupyter-widgets/controls",
      "model_module_version": "1.5.0",
      "model_name": "FloatSliderModel",
      "state": {
       "description": "Exposure",
       "layout": "IPY_MODEL_5101c555f3ec4944b49da60f0a68b758",
       "max": 8,
       "min": -8,
       "step": 0.1,
       "style": "IPY_MODEL_c280475ae7d643dd8fa8b0fe81d1fb05"
      }
     },
     "ef3e2429af524b2ea19e707e74ad505c": {
      "model_module": "@jupyter-widgets/controls",
      "model_module_version": "1.5.0",
      "model_name": "VBoxModel",
      "state": {
       "children": [
        "IPY_MODEL_592f0c5a1a7c478f90621791f10a8b55",
        "IPY_MODEL_91e5f985932d46d29bdf498d09211f7c"
       ],
       "layout": "IPY_MODEL_3ad9b2d6b27e4a908898c76d0d44a5ed"
      }
     },
     "ef50a35f848247879f29915a7d255dbf": {
      "model_module": "@jupyter-widgets/controls",
      "model_module_version": "1.5.0",
      "model_name": "SliderStyleModel",
      "state": {
       "description_width": ""
      }
     },
     "ef520ced47134a178c0b75834d186ad9": {
      "model_module": "@jupyter-widgets/base",
      "model_module_version": "1.2.0",
      "model_name": "LayoutModel",
      "state": {
       "border": "solid 4px #222",
       "margin": "4px",
       "padding": "0"
      }
     },
     "ef987f865d124bc5aabeac6b9fb25506": {
      "model_module": "@jupyter-widgets/controls",
      "model_module_version": "1.5.0",
      "model_name": "ButtonStyleModel",
      "state": {}
     },
     "efc0a7b307044492a74ad09664c1344d": {
      "model_module": "@jupyter-widgets/base",
      "model_module_version": "1.2.0",
      "model_name": "LayoutModel",
      "state": {}
     },
     "f04472d5095f47c891265fb95a5f68c4": {
      "model_module": "@jupyter-widgets/base",
      "model_module_version": "1.2.0",
      "model_name": "LayoutModel",
      "state": {}
     },
     "f077cf98aa41448da2e063531f0437c8": {
      "model_module": "@jupyter-widgets/base",
      "model_module_version": "1.2.0",
      "model_name": "LayoutModel",
      "state": {}
     },
     "f077ff21b9324e03830afc664593f9b7": {
      "model_module": "@jupyter-widgets/controls",
      "model_module_version": "1.5.0",
      "model_name": "ButtonStyleModel",
      "state": {}
     },
     "f0d5f25f5a4d4d9fa927a724e23b310c": {
      "model_module": "@jupyter-widgets/base",
      "model_module_version": "1.2.0",
      "model_name": "LayoutModel",
      "state": {}
     },
     "f0d64583038c450d90724e5f2875f4d8": {
      "model_module": "@jupyter-widgets/base",
      "model_module_version": "1.2.0",
      "model_name": "LayoutModel",
      "state": {}
     },
     "f1548089001e41d3ba196c69e148b748": {
      "model_module": "@jupyter-widgets/base",
      "model_module_version": "1.2.0",
      "model_name": "LayoutModel",
      "state": {}
     },
     "f16cd6b317b34394a5aa4a9fcde52d4b": {
      "model_module": "@jupyter-widgets/controls",
      "model_module_version": "1.5.0",
      "model_name": "ButtonModel",
      "state": {
       "description": "Reset Exposure",
       "layout": "IPY_MODEL_d32b30cab01641bf8ff8952952583cd4",
       "style": "IPY_MODEL_3d434fab3a8b49a79d3f67bbbdd7f9ec"
      }
     },
     "f17bf20aca9f4c48bb94f2a02cccc3ce": {
      "model_module": "@jupyter-widgets/controls",
      "model_module_version": "1.5.0",
      "model_name": "ButtonModel",
      "state": {
       "description": "Reset Saturation Controls",
       "layout": "IPY_MODEL_a96d187b96a746b393b8ebb4c5a177ec",
       "style": "IPY_MODEL_5483720e26b7430dba73430cbbb81b04"
      }
     },
     "f215a8d0940046e2ba2be41810f47129": {
      "model_module": "@jupyter-widgets/base",
      "model_module_version": "1.2.0",
      "model_name": "LayoutModel",
      "state": {}
     },
     "f24428763af748e7a7d79221cb04eb32": {
      "model_module": "@jupyter-widgets/controls",
      "model_module_version": "1.5.0",
      "model_name": "ButtonModel",
      "state": {
       "description": "Reset Exposure",
       "layout": "IPY_MODEL_714c31c0752d4a15844b305fcbf83590",
       "style": "IPY_MODEL_9190ba07b53241b89410be4a32f2e0eb"
      }
     },
     "f24c7159e30743b0850aa02154337b6b": {
      "model_module": "@jupyter-widgets/base",
      "model_module_version": "1.2.0",
      "model_name": "LayoutModel",
      "state": {}
     },
     "f26504a816fe4e149801084b78c1a4c4": {
      "model_module": "@jupyter-widgets/controls",
      "model_module_version": "1.5.0",
      "model_name": "HBoxModel",
      "state": {
       "children": [
        "IPY_MODEL_0faf874091fc4abc9635cb3dccf5c286",
        "IPY_MODEL_70f3ac21b0a74b42bd4a528cc499e08d",
        "IPY_MODEL_ec8f1328cccb4fa3841e1be063930c11"
       ],
       "layout": "IPY_MODEL_f4b6bedbc56e4db88a15fb90ab9cbbe3"
      }
     },
     "f27dd8cc48b34a93a637f96dd14aa6d4": {
      "model_module": "@jupyter-widgets/base",
      "model_module_version": "1.2.0",
      "model_name": "LayoutModel",
      "state": {}
     },
     "f2b63e8e48014bf9acc26b9b9c45020a": {
      "model_module": "@jupyter-widgets/controls",
      "model_module_version": "1.5.0",
      "model_name": "SliderStyleModel",
      "state": {
       "description_width": ""
      }
     },
     "f2bd1fb37a654ea98d0435999793ae3e": {
      "model_module": "@jupyter-widgets/controls",
      "model_module_version": "1.5.0",
      "model_name": "SliderStyleModel",
      "state": {
       "description_width": ""
      }
     },
     "f2d7d0146dc34e35a6e53c4c2d8e08bd": {
      "model_module": "@jupyter-widgets/base",
      "model_module_version": "1.2.0",
      "model_name": "LayoutModel",
      "state": {}
     },
     "f33cdf9507fb44ff8c17efbb3d47b59c": {
      "model_module": "@jupyter-widgets/base",
      "model_module_version": "1.2.0",
      "model_name": "LayoutModel",
      "state": {}
     },
     "f356e696e9e645248755726b694831c5": {
      "model_module": "@jupyter-widgets/base",
      "model_module_version": "1.2.0",
      "model_name": "LayoutModel",
      "state": {}
     },
     "f3b361ceed3a49abbd9ea9bad0a7d741": {
      "model_module": "@jupyter-widgets/controls",
      "model_module_version": "1.5.0",
      "model_name": "FloatSliderModel",
      "state": {
       "description": "Exposure",
       "layout": "IPY_MODEL_bc1432b72b124bfc8ebd76fbf546f351",
       "max": 8,
       "min": -8,
       "step": 0.1,
       "style": "IPY_MODEL_f2b63e8e48014bf9acc26b9b9c45020a"
      }
     },
     "f3b6dbc45278435680371854371c909a": {
      "model_module": "@jupyter-widgets/controls",
      "model_module_version": "1.5.0",
      "model_name": "FloatSliderModel",
      "state": {
       "description": "315°",
       "layout": "IPY_MODEL_268bae093ef64a78be03a71bec9aae6f",
       "max": 1,
       "min": -1,
       "step": 0.01,
       "style": "IPY_MODEL_3ae95bb627f4472caaee9767a76ab204"
      }
     },
     "f3bb16a31c424b9fb678ed21ed492ec5": {
      "model_module": "@jupyter-widgets/controls",
      "model_module_version": "1.5.0",
      "model_name": "SliderStyleModel",
      "state": {
       "description_width": ""
      }
     },
     "f3bc7779d88646be920ce9f275d5ab64": {
      "model_module": "@jupyter-widgets/base",
      "model_module_version": "1.2.0",
      "model_name": "LayoutModel",
      "state": {}
     },
     "f403998acdc64908a01250ada2b8e192": {
      "model_module": "@jupyter-widgets/base",
      "model_module_version": "1.2.0",
      "model_name": "LayoutModel",
      "state": {}
     },
     "f4267a66765b4cb2964332b81723a8ec": {
      "model_module": "@jupyter-widgets/output",
      "model_module_version": "1.0.0",
      "model_name": "OutputModel",
      "state": {
       "layout": "IPY_MODEL_65327949250141cba506626f6b89e863",
       "outputs": [
        {
         "data": {
          "application/vnd.jupyter.widget-view+json": {
           "model_id": "fffae0da1f9746e48d517d2248feb7cd",
           "version_major": 2,
           "version_minor": 0
          },
          "text/plain": "Canvas(toolbar=Toolbar(toolitems=[('Home', 'Reset original view', 'home', 'home'), ('Back', 'Back to previous …"
         },
         "metadata": {},
         "output_type": "display_data"
        }
       ]
      }
     },
     "f44bfb9543aa4493b7e9dd53df7f3cf6": {
      "model_module": "@jupyter-widgets/controls",
      "model_module_version": "1.5.0",
      "model_name": "SliderStyleModel",
      "state": {
       "description_width": ""
      }
     },
     "f467ae805e464d0ca4b841ba9c50e08f": {
      "model_module": "@jupyter-widgets/base",
      "model_module_version": "1.2.0",
      "model_name": "LayoutModel",
      "state": {}
     },
     "f4b6bedbc56e4db88a15fb90ab9cbbe3": {
      "model_module": "@jupyter-widgets/base",
      "model_module_version": "1.2.0",
      "model_name": "LayoutModel",
      "state": {}
     },
     "f4c9a570c5b046c2ac50ed0b658522ac": {
      "model_module": "@jupyter-widgets/base",
      "model_module_version": "1.2.0",
      "model_name": "LayoutModel",
      "state": {}
     },
     "f5267fcb897442999855cada9a488aeb": {
      "model_module": "@jupyter-widgets/controls",
      "model_module_version": "1.5.0",
      "model_name": "ButtonModel",
      "state": {
       "description": "Reset Protected Area",
       "layout": "IPY_MODEL_2d38afa6dba24d64a66488fad5cab001",
       "style": "IPY_MODEL_e989a310ceee441db93a429a1e3b14ca"
      }
     },
     "f530685bfac94a69ae8019d470504c16": {
      "model_module": "@jupyter-widgets/controls",
      "model_module_version": "1.5.0",
      "model_name": "FloatSliderModel",
      "state": {
       "description": "135°",
       "layout": "IPY_MODEL_2dd167cbb8644c1a8f8efde6501a3064",
       "max": 1,
       "min": -1,
       "step": 0.01,
       "style": "IPY_MODEL_097d4b082fba477f8c19f50792d43a30"
      }
     },
     "f556b8879b7f4938a005b4242be475f4": {
      "model_module": "@jupyter-widgets/controls",
      "model_module_version": "1.5.0",
      "model_name": "ButtonStyleModel",
      "state": {}
     },
     "f56a415ddfba4f9c8349e65a3758e124": {
      "model_module": "@jupyter-widgets/controls",
      "model_module_version": "1.5.0",
      "model_name": "ButtonModel",
      "state": {
       "description": "Save Figure",
       "layout": "IPY_MODEL_6938ac52926247e38936411d51fb9318",
       "style": "IPY_MODEL_da1b838b3e7d46079e1a495edb39d094"
      }
     },
     "f587579305b849bdb0c240c6d607cc1a": {
      "model_module": "@jupyter-widgets/controls",
      "model_module_version": "1.5.0",
      "model_name": "FloatSliderModel",
      "state": {
       "description": "270°",
       "layout": "IPY_MODEL_9eb1a1535e1145cf9985f00a3cc5d348",
       "max": 1,
       "min": -1,
       "step": 0.01,
       "style": "IPY_MODEL_2bd9e515d25f4eac8236b7248d120fa9"
      }
     },
     "f5998cfa2a05463ca72762aacc054d0a": {
      "model_module": "@jupyter-widgets/controls",
      "model_module_version": "1.5.0",
      "model_name": "FloatSliderModel",
      "state": {
       "description": "135°",
       "layout": "IPY_MODEL_c3a7cda9769240958ff10d3ab5e5161a",
       "max": 1,
       "min": -1,
       "step": 0.01,
       "style": "IPY_MODEL_64d4bd61c1154020baef7e45a2ddfa00"
      }
     },
     "f5b71200b7aa4782978b857e9263d08b": {
      "model_module": "@jupyter-widgets/controls",
      "model_module_version": "1.5.0",
      "model_name": "FloatSliderModel",
      "state": {
       "description": "Compression Threshold",
       "layout": "IPY_MODEL_8f6b70e1671d41f180ce32b8ae5f4031",
       "max": 1,
       "step": 0.01,
       "style": "IPY_MODEL_d9b4b62b2da74f108a448b684a2a956e",
       "value": 0.5
      }
     },
     "f5e9ba429996484bbfcc5012a669021c": {
      "model_module": "@jupyter-widgets/base",
      "model_module_version": "1.2.0",
      "model_name": "LayoutModel",
      "state": {}
     },
     "f6036e39df844a338c328e872e0b93da": {
      "model_module": "@jupyter-widgets/base",
      "model_module_version": "1.2.0",
      "model_name": "LayoutModel",
      "state": {}
     },
     "f6041f575c2a4657b178c6898beb57d8": {
      "model_module": "jupyter-matplotlib",
      "model_module_version": "^0.7.2",
      "model_name": "MPLCanvasModel",
      "state": {
       "_figure_label": "Figure 14",
       "_height": 440,
       "_width": 1100,
       "header_visible": false,
       "layout": "IPY_MODEL_de7f5c86351e408a887a4eb333a305f7",
       "resizable": false,
       "toolbar": "IPY_MODEL_c4ee7076f6bf4fa590ce5bac6defe727",
       "toolbar_position": "left",
       "toolbar_visible": false
      }
     },
     "f60dc32201b2485483ec6494ca534c95": {
      "model_module": "@jupyter-widgets/base",
      "model_module_version": "1.2.0",
      "model_name": "LayoutModel",
      "state": {}
     },
     "f6238d00445a43b6a146b16b48f35b71": {
      "model_module": "@jupyter-widgets/base",
      "model_module_version": "1.2.0",
      "model_name": "LayoutModel",
      "state": {}
     },
     "f6625c2908394d1eb073f3db4d74fad3": {
      "model_module": "@jupyter-widgets/controls",
      "model_module_version": "1.5.0",
      "model_name": "SliderStyleModel",
      "state": {
       "description_width": ""
      }
     },
     "f66407b231fc48e79c9df18a54b72141": {
      "model_module": "@jupyter-widgets/base",
      "model_module_version": "1.2.0",
      "model_name": "LayoutModel",
      "state": {}
     },
     "f67e69ae6ae3423499568ac9c9e4958b": {
      "model_module": "@jupyter-widgets/output",
      "model_module_version": "1.0.0",
      "model_name": "OutputModel",
      "state": {
       "layout": "IPY_MODEL_9d933018d3774ebc8c3af49cbdc6c322",
       "outputs": [
        {
         "data": {
          "application/vnd.jupyter.widget-view+json": {
           "model_id": "fabf0081bdea40989fb34794a7a27a2b",
           "version_major": 2,
           "version_minor": 0
          },
          "text/plain": "Canvas(toolbar=Toolbar(toolitems=[('Home', 'Reset original view', 'home', 'home'), ('Back', 'Back to previous …"
         },
         "metadata": {},
         "output_type": "display_data"
        }
       ]
      }
     },
     "f6e2a8926cf546f5bf6c524de1dfd4b5": {
      "model_module": "@jupyter-widgets/controls",
      "model_module_version": "1.5.0",
      "model_name": "ButtonStyleModel",
      "state": {}
     },
     "f6f5c4b7882b4c5b8e5bb7d410aa8d65": {
      "model_module": "@jupyter-widgets/controls",
      "model_module_version": "1.5.0",
      "model_name": "SliderStyleModel",
      "state": {
       "description_width": ""
      }
     },
     "f7835cdb8d0848cfbd5a6379533f5dae": {
      "model_module": "@jupyter-widgets/controls",
      "model_module_version": "1.5.0",
      "model_name": "CheckboxModel",
      "state": {
       "description": "Disable Medicina",
       "disabled": false,
       "layout": "IPY_MODEL_ba7aa6e77cb94efea3db905f59d5c4a1",
       "style": "IPY_MODEL_581f4672219d49629d4b33ca3c51eec3",
       "value": false
      }
     },
     "f797a2c04d914bcc9ab5401c6d6d6d39": {
      "model_module": "@jupyter-widgets/base",
      "model_module_version": "1.2.0",
      "model_name": "LayoutModel",
      "state": {
       "border": "solid 4px #222",
       "margin": "4px",
       "padding": "0"
      }
     },
     "f7a12f1f5b2446c3a89fc91c101e27bc": {
      "model_module": "@jupyter-widgets/controls",
      "model_module_version": "1.5.0",
      "model_name": "ButtonStyleModel",
      "state": {}
     },
     "f84a7a345f1f4e18a1826f5fcf3f2ff9": {
      "model_module": "@jupyter-widgets/controls",
      "model_module_version": "1.5.0",
      "model_name": "ButtonStyleModel",
      "state": {}
     },
     "f85d4d62e85e4b7fa3bdb8fa291f40cc": {
      "model_module": "@jupyter-widgets/controls",
      "model_module_version": "1.5.0",
      "model_name": "VBoxModel",
      "state": {
       "children": [
        "IPY_MODEL_ca4d3c7f3ced4e868570928a3d022d9c"
       ],
       "layout": "IPY_MODEL_d44ba1435b62419bb5d2321ed428ed1f"
      }
     },
     "f8ad250ecfbd4eecbf8c2830e80881e9": {
      "model_module": "@jupyter-widgets/base",
      "model_module_version": "1.2.0",
      "model_name": "LayoutModel",
      "state": {}
     },
     "f90b7a5262c4484ebf7aefb2fa276bbd": {
      "model_module": "@jupyter-widgets/controls",
      "model_module_version": "1.5.0",
      "model_name": "FloatSliderModel",
      "state": {
       "description": "0°",
       "layout": "IPY_MODEL_79d681c7906a4589a5e9455762847011",
       "max": 1,
       "min": -1,
       "step": 0.01,
       "style": "IPY_MODEL_498c41342d9b4870a68092830f5aa307"
      }
     },
     "f928c73b485b42528103240f40c2e328": {
      "model_module": "@jupyter-widgets/base",
      "model_module_version": "1.2.0",
      "model_name": "LayoutModel",
      "state": {}
     },
     "f9d1e0f85f244028a9210cbc03f13a42": {
      "model_module": "@jupyter-widgets/controls",
      "model_module_version": "1.5.0",
      "model_name": "SliderStyleModel",
      "state": {
       "description_width": ""
      }
     },
     "f9f3a32b09254772895e41e36326169a": {
      "model_module": "@jupyter-widgets/base",
      "model_module_version": "1.2.0",
      "model_name": "LayoutModel",
      "state": {}
     },
     "fa09101383a74bd498ec8b25470452a7": {
      "model_module": "@jupyter-widgets/output",
      "model_module_version": "1.0.0",
      "model_name": "OutputModel",
      "state": {
       "layout": "IPY_MODEL_79125a9b41e34cd2af19f42967d65755",
       "outputs": [
        {
         "data": {
          "application/vnd.jupyter.widget-view+json": {
           "model_id": "f6041f575c2a4657b178c6898beb57d8",
           "version_major": 2,
           "version_minor": 0
          },
          "text/plain": "Canvas(toolbar=Toolbar(toolitems=[('Home', 'Reset original view', 'home', 'home'), ('Back', 'Back to previous …"
         },
         "metadata": {},
         "output_type": "display_data"
        }
       ]
      }
     },
     "fa663a2018d34b059d30f6c75c586550": {
      "model_module": "@jupyter-widgets/controls",
      "model_module_version": "1.5.0",
      "model_name": "VBoxModel",
      "state": {
       "children": [
        "IPY_MODEL_8762f0d6cc83450299f5f7a1524916cd",
        "IPY_MODEL_3dab9de37b5a4db8a8548849c821409b",
        "IPY_MODEL_b449f0c16d6f428ea81735a874599ae3"
       ],
       "layout": "IPY_MODEL_dcd25efa996e4e07bd67bbaa8f607fc4"
      }
     },
     "fa7c2133e6124e9db3228a15af62f6b9": {
      "model_module": "@jupyter-widgets/base",
      "model_module_version": "1.2.0",
      "model_name": "LayoutModel",
      "state": {}
     },
     "fa8f57f488bf473584dea6a5cae11377": {
      "model_module": "@jupyter-widgets/base",
      "model_module_version": "1.2.0",
      "model_name": "LayoutModel",
      "state": {}
     },
     "fabf0081bdea40989fb34794a7a27a2b": {
      "model_module": "jupyter-matplotlib",
      "model_module_version": "^0.7.2",
      "model_name": "MPLCanvasModel",
      "state": {
       "_figure_label": "Figure 22",
       "_height": 396,
       "_width": 1100,
       "header_visible": false,
       "layout": "IPY_MODEL_7a77787e29a84a358ba11fed55d1f0fe",
       "resizable": false,
       "toolbar": "IPY_MODEL_0de57dd7a1cf422e995821edb2c67ef1",
       "toolbar_position": "left",
       "toolbar_visible": false
      }
     },
     "fade0cdc75bb44749ca5eed7b179a813": {
      "model_module": "@jupyter-widgets/controls",
      "model_module_version": "1.5.0",
      "model_name": "ButtonModel",
      "state": {
       "description": "Reset Exposure",
       "layout": "IPY_MODEL_4e2206f63cd9479ab300ef4e9905d5a0",
       "style": "IPY_MODEL_7db181794d964c87bc54e87a79ab8ad2"
      }
     },
     "faee377a21ce4cd0873abce14ae315d3": {
      "model_module": "@jupyter-widgets/base",
      "model_module_version": "1.2.0",
      "model_name": "LayoutModel",
      "state": {}
     },
     "faf7df5322824bb6b92c91ea5aa4b997": {
      "model_module": "@jupyter-widgets/controls",
      "model_module_version": "1.5.0",
      "model_name": "FloatSliderModel",
      "state": {
       "description": "Compression Threshold",
       "layout": "IPY_MODEL_e6462055acb84dc9b51ab61259df3c31",
       "max": 1,
       "step": 0.01,
       "style": "IPY_MODEL_b1348a9c6b484b74a2bf72ed48b62586",
       "value": 0.8
      }
     },
     "fafb6eb1fa5b478fb3b1898bce63f1cd": {
      "model_module": "@jupyter-widgets/base",
      "model_module_version": "1.2.0",
      "model_name": "LayoutModel",
      "state": {}
     },
     "fb1633826fc64563aeabd35ef936ea92": {
      "model_module": "@jupyter-widgets/controls",
      "model_module_version": "1.5.0",
      "model_name": "ButtonStyleModel",
      "state": {}
     },
     "fb2b72d08d32415cadb316105a551a94": {
      "model_module": "@jupyter-widgets/controls",
      "model_module_version": "1.5.0",
      "model_name": "FloatSliderModel",
      "state": {
       "description": "180°",
       "layout": "IPY_MODEL_55579b70be9a40d1a7d12a18c4f0ee9b",
       "max": 1,
       "min": -1,
       "step": 0.01,
       "style": "IPY_MODEL_0ca1a1fdcec74d9c92a9a239f4f00ce6"
      }
     },
     "fb32c9023b814b9bb98bf62c2efb805d": {
      "model_module": "@jupyter-widgets/controls",
      "model_module_version": "1.5.0",
      "model_name": "VBoxModel",
      "state": {
       "children": [
        "IPY_MODEL_b6af628c82cb433a833d8d54e79db060"
       ],
       "layout": "IPY_MODEL_a44e70e392cf49f8ad4cf97bee659310"
      }
     },
     "fb57f712a9e5453ebbb2908a6ad41cbd": {
      "model_module": "@jupyter-widgets/controls",
      "model_module_version": "1.5.0",
      "model_name": "DescriptionStyleModel",
      "state": {
       "description_width": ""
      }
     },
     "fb92c4a05d6c4e3a968fbb5ee8172a52": {
      "model_module": "@jupyter-widgets/base",
      "model_module_version": "1.2.0",
      "model_name": "LayoutModel",
      "state": {}
     },
     "fba044ac7b6b475da0977db700e20c34": {
      "model_module": "jupyter-matplotlib",
      "model_module_version": "^0.7.2",
      "model_name": "ToolbarModel",
      "state": {
       "layout": "IPY_MODEL_d11a015c19e245bf9c979ca67df8bad3",
       "toolitems": [
        [
         "Home",
         "Reset original view",
         "home",
         "home"
        ],
        [
         "Back",
         "Back to previous view",
         "arrow-left",
         "back"
        ],
        [
         "Forward",
         "Forward to next view",
         "arrow-right",
         "forward"
        ],
        [
         "Pan",
         "Pan axes with left mouse, zoom with right",
         "arrows",
         "pan"
        ],
        [
         "Zoom",
         "Zoom to rectangle",
         "square-o",
         "zoom"
        ],
        [
         "Download",
         "Download plot",
         "floppy-o",
         "save_figure"
        ]
       ]
      }
     },
     "fbd143d8a5df4ea98f8123763df45425": {
      "model_module": "@jupyter-widgets/base",
      "model_module_version": "1.2.0",
      "model_name": "LayoutModel",
      "state": {}
     },
     "fc0c79fd906e4e34b2ab4ad42eb6cfe0": {
      "model_module": "@jupyter-widgets/controls",
      "model_module_version": "1.5.0",
      "model_name": "FloatSliderModel",
      "state": {
       "description": "Compression Threshold",
       "layout": "IPY_MODEL_ea72c85f8a3649d9afcdada271b07730",
       "max": 1,
       "step": 0.01,
       "style": "IPY_MODEL_f6625c2908394d1eb073f3db4d74fad3",
       "value": 0.8
      }
     },
     "fc7720e7de5f4350b607749dc5b932e5": {
      "model_module": "@jupyter-widgets/controls",
      "model_module_version": "1.5.0",
      "model_name": "DropdownModel",
      "state": {
       "_options_labels": [
        "tanh",
        "atan",
        "simple"
       ],
       "description": "Compression Function:",
       "index": 0,
       "layout": "IPY_MODEL_bdec413fbae64b31b0c94ad2c7c24bb2",
       "style": "IPY_MODEL_2a98b08f7a74461a9535e3e399ec1450"
      }
     },
     "fca0985ff91e45baa6b50bf44d7c3571": {
      "model_module": "@jupyter-widgets/base",
      "model_module_version": "1.2.0",
      "model_name": "LayoutModel",
      "state": {}
     },
     "fcd349a7fd494fdab3e8a319451116c3": {
      "model_module": "@jupyter-widgets/base",
      "model_module_version": "1.2.0",
      "model_name": "LayoutModel",
      "state": {}
     },
     "fcd6390bde6a4433a78fd7fc94850c36": {
      "model_module": "@jupyter-widgets/base",
      "model_module_version": "1.2.0",
      "model_name": "LayoutModel",
      "state": {}
     },
     "fcd7be4d46bd479f9f0e98546a072c15": {
      "model_module": "@jupyter-widgets/controls",
      "model_module_version": "1.5.0",
      "model_name": "CheckboxModel",
      "state": {
       "description": "Disable Medicina",
       "disabled": false,
       "layout": "IPY_MODEL_425593177e8f40d3b6e362522721b079",
       "style": "IPY_MODEL_0b8e078ec260424a8747ec4158029576",
       "value": false
      }
     },
     "fcfdd6d820444dadad0c1ba8889ea0d9": {
      "model_module": "@jupyter-widgets/controls",
      "model_module_version": "1.5.0",
      "model_name": "DescriptionStyleModel",
      "state": {
       "description_width": ""
      }
     },
     "fd6fbb68859a4cdea8e0fe83002a1426": {
      "model_module": "@jupyter-widgets/base",
      "model_module_version": "1.2.0",
      "model_name": "LayoutModel",
      "state": {}
     },
     "fd78a7c5c8074388a816b3b939a1f56d": {
      "model_module": "@jupyter-widgets/controls",
      "model_module_version": "1.5.0",
      "model_name": "TabModel",
      "state": {
       "_titles": {
        "0": "Global Controls",
        "1": "Compression Controls"
       },
       "children": [
        "IPY_MODEL_07c37bccf97b4dbeb2b883715884ebab",
        "IPY_MODEL_3557811fb38846138196de13f732e17d"
       ],
       "layout": "IPY_MODEL_95fcd9b8f52945a981b3876b1f7455e7"
      }
     },
     "fd84641af1f2418ebec3c47d51c3e2db": {
      "model_module": "@jupyter-widgets/controls",
      "model_module_version": "1.5.0",
      "model_name": "SliderStyleModel",
      "state": {
       "description_width": ""
      }
     },
     "fdaaba0fa8014c4e9097a21f9c4ce0fc": {
      "model_module": "@jupyter-widgets/base",
      "model_module_version": "1.2.0",
      "model_name": "LayoutModel",
      "state": {}
     },
     "fdb832c0d95e4d5695722db3397b3f59": {
      "model_module": "@jupyter-widgets/controls",
      "model_module_version": "1.5.0",
      "model_name": "ButtonModel",
      "state": {
       "description": "Reset Exposure",
       "layout": "IPY_MODEL_4d0b4549565d464cbd1f2f37327fcf80",
       "style": "IPY_MODEL_3dfbc0d0b3034ed6a4d7811f545e6035"
      }
     },
     "fe0130126c494ab495f4b22cfefba6d8": {
      "model_module": "@jupyter-widgets/controls",
      "model_module_version": "1.5.0",
      "model_name": "DescriptionStyleModel",
      "state": {
       "description_width": ""
      }
     },
     "fe1753976de4408f9e811ef20089e538": {
      "model_module": "@jupyter-widgets/controls",
      "model_module_version": "1.5.0",
      "model_name": "CheckboxModel",
      "state": {
       "description": "Disable Medicina",
       "disabled": false,
       "layout": "IPY_MODEL_ae5fcfb6be1743e199e14aa8d4eee031",
       "style": "IPY_MODEL_190a57afe87d4a66b9073a5735e3f936",
       "value": false
      }
     },
     "fe223eec9813464c873d472fff2c4fe3": {
      "model_module": "@jupyter-widgets/base",
      "model_module_version": "1.2.0",
      "model_name": "LayoutModel",
      "state": {}
     },
     "fe647b7c6c0049faaf174ad39a20c56c": {
      "model_module": "@jupyter-widgets/controls",
      "model_module_version": "1.5.0",
      "model_name": "SliderStyleModel",
      "state": {
       "description_width": ""
      }
     },
     "fe6fe15e10984102b66c8fe12aeb25f4": {
      "model_module": "@jupyter-widgets/base",
      "model_module_version": "1.2.0",
      "model_name": "LayoutModel",
      "state": {}
     },
     "fe7229ffab91493f8bd787c6ad471dff": {
      "model_module": "jupyter-matplotlib",
      "model_module_version": "^0.7.2",
      "model_name": "MPLCanvasModel",
      "state": {
       "_figure_label": "Figure 18",
       "_height": 430,
       "_width": 1099,
       "header_visible": false,
       "layout": "IPY_MODEL_6a93a879395144aea7f56e038c4c2dfb",
       "resizable": false,
       "toolbar": "IPY_MODEL_3abd3e2a540f4bdd8b05ae750d25c642",
       "toolbar_position": "left",
       "toolbar_visible": false
      }
     },
     "fe7e8f072c834d6db4c6e67457e0fd15": {
      "model_module": "@jupyter-widgets/base",
      "model_module_version": "1.2.0",
      "model_name": "LayoutModel",
      "state": {}
     },
     "fede1c6753f844bc9223b0489f9696b7": {
      "model_module": "@jupyter-widgets/controls",
      "model_module_version": "1.5.0",
      "model_name": "DescriptionStyleModel",
      "state": {
       "description_width": ""
      }
     },
     "feed89818abb45faa3a16016cd711662": {
      "model_module": "@jupyter-widgets/base",
      "model_module_version": "1.2.0",
      "model_name": "LayoutModel",
      "state": {}
     },
     "ff6552e8f0414dc0b666af107f448c8a": {
      "model_module": "@jupyter-widgets/controls",
      "model_module_version": "1.5.0",
      "model_name": "SliderStyleModel",
      "state": {
       "description_width": ""
      }
     },
     "ff7fb7a6682e49df9abd21c2d301ec8b": {
      "model_module": "@jupyter-widgets/controls",
      "model_module_version": "1.5.0",
      "model_name": "SliderStyleModel",
      "state": {
       "description_width": ""
      }
     },
     "fffae0da1f9746e48d517d2248feb7cd": {
      "model_module": "jupyter-matplotlib",
      "model_module_version": "^0.7.2",
      "model_name": "MPLCanvasModel",
      "state": {
       "_figure_label": "Figure 26",
       "_height": 550,
       "_width": 1100,
       "header_visible": false,
       "layout": "IPY_MODEL_6c1831f32cea4fbeb6645e66c867f8bf",
       "resizable": false,
       "toolbar": "IPY_MODEL_5594dff09c40492c809e191a46f0e9a6",
       "toolbar_position": "left",
       "toolbar_visible": false
      }
     },
     "fffae0f88444479eb71c844220fdaee3": {
      "model_module": "@jupyter-widgets/controls",
      "model_module_version": "1.5.0",
      "model_name": "SliderStyleModel",
      "state": {
       "description_width": ""
      }
     }
    },
    "version_major": 2,
    "version_minor": 0
   }
  }
 },
 "nbformat": 4,
 "nbformat_minor": 4
}
